{
  "nbformat": 4,
  "nbformat_minor": 0,
  "metadata": {
    "colab": {
      "provenance": [],
      "gpuType": "T4",
      "include_colab_link": true
    },
    "kernelspec": {
      "name": "python3",
      "display_name": "Python 3"
    },
    "language_info": {
      "name": "python"
    },
    "accelerator": "GPU"
  },
  "cells": [
    {
      "cell_type": "markdown",
      "metadata": {
        "id": "view-in-github",
        "colab_type": "text"
      },
      "source": [
        "<a href=\"https://colab.research.google.com/github/JAYANTHNITW/MultiTask_NLP_Project/blob/main/MultichannelCNNArchitecture.ipynb\" target=\"_parent\"><img src=\"https://colab.research.google.com/assets/colab-badge.svg\" alt=\"Open In Colab\"/></a>"
      ]
    },
    {
      "cell_type": "code",
      "execution_count": 2,
      "metadata": {
        "id": "r-MknRbkBBeF"
      },
      "outputs": [],
      "source": [
        "from tensorflow import keras\n",
        "from keras.models import Model\n",
        "from keras.layers import Dense,Embedding,Dropout,LSTM,GRU,Flatten,Conv1D,Input,GlobalMaxPool1D,Concatenate"
      ]
    },
    {
      "cell_type": "code",
      "source": [
        "import pandas as pd\n",
        "import numpy as np"
      ],
      "metadata": {
        "id": "XtK7FGwJifln"
      },
      "execution_count": 3,
      "outputs": []
    },
    {
      "cell_type": "code",
      "source": [
        "df_train = pd.read_csv(\"Dataset-Multitask1.csv\")\n",
        "df_train.tail()"
      ],
      "metadata": {
        "colab": {
          "base_uri": "https://localhost:8080/",
          "height": 206
        },
        "id": "WzHzBs8bikkk",
        "outputId": "8e654392-2615-4b1e-c34d-c01a9c007b86"
      },
      "execution_count": 4,
      "outputs": [
        {
          "output_type": "execute_result",
          "data": {
            "text/plain": [
              "      Unnamed: 0                                               Text  Sarcasm  \\\n",
              "7284        1150  @AngelLamuno @lunarossa Relax mate, we have a ...        0   \n",
              "7285        1151  This doesn't mean that you relax on COVID 19, ...        0   \n",
              "7286        1152  Melbourne to relax third lockdown as no new CO...        0   \n",
              "7287        1153  JUST IN: Mayors vote 9-8 to put Metro Manila u...        0   \n",
              "7288        1154  You can return to your social apps and news, b...        1   \n",
              "\n",
              "      Stress  \n",
              "7284       0  \n",
              "7285       0  \n",
              "7286       0  \n",
              "7287       0  \n",
              "7288       0  "
            ],
            "text/html": [
              "\n",
              "  <div id=\"df-a9472dde-fad4-413b-adbe-c56765aba565\" class=\"colab-df-container\">\n",
              "    <div>\n",
              "<style scoped>\n",
              "    .dataframe tbody tr th:only-of-type {\n",
              "        vertical-align: middle;\n",
              "    }\n",
              "\n",
              "    .dataframe tbody tr th {\n",
              "        vertical-align: top;\n",
              "    }\n",
              "\n",
              "    .dataframe thead th {\n",
              "        text-align: right;\n",
              "    }\n",
              "</style>\n",
              "<table border=\"1\" class=\"dataframe\">\n",
              "  <thead>\n",
              "    <tr style=\"text-align: right;\">\n",
              "      <th></th>\n",
              "      <th>Unnamed: 0</th>\n",
              "      <th>Text</th>\n",
              "      <th>Sarcasm</th>\n",
              "      <th>Stress</th>\n",
              "    </tr>\n",
              "  </thead>\n",
              "  <tbody>\n",
              "    <tr>\n",
              "      <th>7284</th>\n",
              "      <td>1150</td>\n",
              "      <td>@AngelLamuno @lunarossa Relax mate, we have a ...</td>\n",
              "      <td>0</td>\n",
              "      <td>0</td>\n",
              "    </tr>\n",
              "    <tr>\n",
              "      <th>7285</th>\n",
              "      <td>1151</td>\n",
              "      <td>This doesn't mean that you relax on COVID 19, ...</td>\n",
              "      <td>0</td>\n",
              "      <td>0</td>\n",
              "    </tr>\n",
              "    <tr>\n",
              "      <th>7286</th>\n",
              "      <td>1152</td>\n",
              "      <td>Melbourne to relax third lockdown as no new CO...</td>\n",
              "      <td>0</td>\n",
              "      <td>0</td>\n",
              "    </tr>\n",
              "    <tr>\n",
              "      <th>7287</th>\n",
              "      <td>1153</td>\n",
              "      <td>JUST IN: Mayors vote 9-8 to put Metro Manila u...</td>\n",
              "      <td>0</td>\n",
              "      <td>0</td>\n",
              "    </tr>\n",
              "    <tr>\n",
              "      <th>7288</th>\n",
              "      <td>1154</td>\n",
              "      <td>You can return to your social apps and news, b...</td>\n",
              "      <td>1</td>\n",
              "      <td>0</td>\n",
              "    </tr>\n",
              "  </tbody>\n",
              "</table>\n",
              "</div>\n",
              "    <div class=\"colab-df-buttons\">\n",
              "\n",
              "  <div class=\"colab-df-container\">\n",
              "    <button class=\"colab-df-convert\" onclick=\"convertToInteractive('df-a9472dde-fad4-413b-adbe-c56765aba565')\"\n",
              "            title=\"Convert this dataframe to an interactive table.\"\n",
              "            style=\"display:none;\">\n",
              "\n",
              "  <svg xmlns=\"http://www.w3.org/2000/svg\" height=\"24px\" viewBox=\"0 -960 960 960\">\n",
              "    <path d=\"M120-120v-720h720v720H120Zm60-500h600v-160H180v160Zm220 220h160v-160H400v160Zm0 220h160v-160H400v160ZM180-400h160v-160H180v160Zm440 0h160v-160H620v160ZM180-180h160v-160H180v160Zm440 0h160v-160H620v160Z\"/>\n",
              "  </svg>\n",
              "    </button>\n",
              "\n",
              "  <style>\n",
              "    .colab-df-container {\n",
              "      display:flex;\n",
              "      gap: 12px;\n",
              "    }\n",
              "\n",
              "    .colab-df-convert {\n",
              "      background-color: #E8F0FE;\n",
              "      border: none;\n",
              "      border-radius: 50%;\n",
              "      cursor: pointer;\n",
              "      display: none;\n",
              "      fill: #1967D2;\n",
              "      height: 32px;\n",
              "      padding: 0 0 0 0;\n",
              "      width: 32px;\n",
              "    }\n",
              "\n",
              "    .colab-df-convert:hover {\n",
              "      background-color: #E2EBFA;\n",
              "      box-shadow: 0px 1px 2px rgba(60, 64, 67, 0.3), 0px 1px 3px 1px rgba(60, 64, 67, 0.15);\n",
              "      fill: #174EA6;\n",
              "    }\n",
              "\n",
              "    .colab-df-buttons div {\n",
              "      margin-bottom: 4px;\n",
              "    }\n",
              "\n",
              "    [theme=dark] .colab-df-convert {\n",
              "      background-color: #3B4455;\n",
              "      fill: #D2E3FC;\n",
              "    }\n",
              "\n",
              "    [theme=dark] .colab-df-convert:hover {\n",
              "      background-color: #434B5C;\n",
              "      box-shadow: 0px 1px 3px 1px rgba(0, 0, 0, 0.15);\n",
              "      filter: drop-shadow(0px 1px 2px rgba(0, 0, 0, 0.3));\n",
              "      fill: #FFFFFF;\n",
              "    }\n",
              "  </style>\n",
              "\n",
              "    <script>\n",
              "      const buttonEl =\n",
              "        document.querySelector('#df-a9472dde-fad4-413b-adbe-c56765aba565 button.colab-df-convert');\n",
              "      buttonEl.style.display =\n",
              "        google.colab.kernel.accessAllowed ? 'block' : 'none';\n",
              "\n",
              "      async function convertToInteractive(key) {\n",
              "        const element = document.querySelector('#df-a9472dde-fad4-413b-adbe-c56765aba565');\n",
              "        const dataTable =\n",
              "          await google.colab.kernel.invokeFunction('convertToInteractive',\n",
              "                                                    [key], {});\n",
              "        if (!dataTable) return;\n",
              "\n",
              "        const docLinkHtml = 'Like what you see? Visit the ' +\n",
              "          '<a target=\"_blank\" href=https://colab.research.google.com/notebooks/data_table.ipynb>data table notebook</a>'\n",
              "          + ' to learn more about interactive tables.';\n",
              "        element.innerHTML = '';\n",
              "        dataTable['output_type'] = 'display_data';\n",
              "        await google.colab.output.renderOutput(dataTable, element);\n",
              "        const docLink = document.createElement('div');\n",
              "        docLink.innerHTML = docLinkHtml;\n",
              "        element.appendChild(docLink);\n",
              "      }\n",
              "    </script>\n",
              "  </div>\n",
              "\n",
              "\n",
              "<div id=\"df-d261836f-acaa-424e-a956-8a75fe18d2d8\">\n",
              "  <button class=\"colab-df-quickchart\" onclick=\"quickchart('df-d261836f-acaa-424e-a956-8a75fe18d2d8')\"\n",
              "            title=\"Suggest charts\"\n",
              "            style=\"display:none;\">\n",
              "\n",
              "<svg xmlns=\"http://www.w3.org/2000/svg\" height=\"24px\"viewBox=\"0 0 24 24\"\n",
              "     width=\"24px\">\n",
              "    <g>\n",
              "        <path d=\"M19 3H5c-1.1 0-2 .9-2 2v14c0 1.1.9 2 2 2h14c1.1 0 2-.9 2-2V5c0-1.1-.9-2-2-2zM9 17H7v-7h2v7zm4 0h-2V7h2v10zm4 0h-2v-4h2v4z\"/>\n",
              "    </g>\n",
              "</svg>\n",
              "  </button>\n",
              "\n",
              "<style>\n",
              "  .colab-df-quickchart {\n",
              "      --bg-color: #E8F0FE;\n",
              "      --fill-color: #1967D2;\n",
              "      --hover-bg-color: #E2EBFA;\n",
              "      --hover-fill-color: #174EA6;\n",
              "      --disabled-fill-color: #AAA;\n",
              "      --disabled-bg-color: #DDD;\n",
              "  }\n",
              "\n",
              "  [theme=dark] .colab-df-quickchart {\n",
              "      --bg-color: #3B4455;\n",
              "      --fill-color: #D2E3FC;\n",
              "      --hover-bg-color: #434B5C;\n",
              "      --hover-fill-color: #FFFFFF;\n",
              "      --disabled-bg-color: #3B4455;\n",
              "      --disabled-fill-color: #666;\n",
              "  }\n",
              "\n",
              "  .colab-df-quickchart {\n",
              "    background-color: var(--bg-color);\n",
              "    border: none;\n",
              "    border-radius: 50%;\n",
              "    cursor: pointer;\n",
              "    display: none;\n",
              "    fill: var(--fill-color);\n",
              "    height: 32px;\n",
              "    padding: 0;\n",
              "    width: 32px;\n",
              "  }\n",
              "\n",
              "  .colab-df-quickchart:hover {\n",
              "    background-color: var(--hover-bg-color);\n",
              "    box-shadow: 0 1px 2px rgba(60, 64, 67, 0.3), 0 1px 3px 1px rgba(60, 64, 67, 0.15);\n",
              "    fill: var(--button-hover-fill-color);\n",
              "  }\n",
              "\n",
              "  .colab-df-quickchart-complete:disabled,\n",
              "  .colab-df-quickchart-complete:disabled:hover {\n",
              "    background-color: var(--disabled-bg-color);\n",
              "    fill: var(--disabled-fill-color);\n",
              "    box-shadow: none;\n",
              "  }\n",
              "\n",
              "  .colab-df-spinner {\n",
              "    border: 2px solid var(--fill-color);\n",
              "    border-color: transparent;\n",
              "    border-bottom-color: var(--fill-color);\n",
              "    animation:\n",
              "      spin 1s steps(1) infinite;\n",
              "  }\n",
              "\n",
              "  @keyframes spin {\n",
              "    0% {\n",
              "      border-color: transparent;\n",
              "      border-bottom-color: var(--fill-color);\n",
              "      border-left-color: var(--fill-color);\n",
              "    }\n",
              "    20% {\n",
              "      border-color: transparent;\n",
              "      border-left-color: var(--fill-color);\n",
              "      border-top-color: var(--fill-color);\n",
              "    }\n",
              "    30% {\n",
              "      border-color: transparent;\n",
              "      border-left-color: var(--fill-color);\n",
              "      border-top-color: var(--fill-color);\n",
              "      border-right-color: var(--fill-color);\n",
              "    }\n",
              "    40% {\n",
              "      border-color: transparent;\n",
              "      border-right-color: var(--fill-color);\n",
              "      border-top-color: var(--fill-color);\n",
              "    }\n",
              "    60% {\n",
              "      border-color: transparent;\n",
              "      border-right-color: var(--fill-color);\n",
              "    }\n",
              "    80% {\n",
              "      border-color: transparent;\n",
              "      border-right-color: var(--fill-color);\n",
              "      border-bottom-color: var(--fill-color);\n",
              "    }\n",
              "    90% {\n",
              "      border-color: transparent;\n",
              "      border-bottom-color: var(--fill-color);\n",
              "    }\n",
              "  }\n",
              "</style>\n",
              "\n",
              "  <script>\n",
              "    async function quickchart(key) {\n",
              "      const quickchartButtonEl =\n",
              "        document.querySelector('#' + key + ' button');\n",
              "      quickchartButtonEl.disabled = true;  // To prevent multiple clicks.\n",
              "      quickchartButtonEl.classList.add('colab-df-spinner');\n",
              "      try {\n",
              "        const charts = await google.colab.kernel.invokeFunction(\n",
              "            'suggestCharts', [key], {});\n",
              "      } catch (error) {\n",
              "        console.error('Error during call to suggestCharts:', error);\n",
              "      }\n",
              "      quickchartButtonEl.classList.remove('colab-df-spinner');\n",
              "      quickchartButtonEl.classList.add('colab-df-quickchart-complete');\n",
              "    }\n",
              "    (() => {\n",
              "      let quickchartButtonEl =\n",
              "        document.querySelector('#df-d261836f-acaa-424e-a956-8a75fe18d2d8 button');\n",
              "      quickchartButtonEl.style.display =\n",
              "        google.colab.kernel.accessAllowed ? 'block' : 'none';\n",
              "    })();\n",
              "  </script>\n",
              "</div>\n",
              "\n",
              "    </div>\n",
              "  </div>\n"
            ],
            "application/vnd.google.colaboratory.intrinsic+json": {
              "type": "dataframe",
              "summary": "{\n  \"name\": \"df_train\",\n  \"rows\": 5,\n  \"fields\": [\n    {\n      \"column\": \"Unnamed: 0\",\n      \"properties\": {\n        \"dtype\": \"number\",\n        \"std\": 1,\n        \"min\": 1150,\n        \"max\": 1154,\n        \"num_unique_values\": 5,\n        \"samples\": [\n          1151,\n          1154,\n          1152\n        ],\n        \"semantic_type\": \"\",\n        \"description\": \"\"\n      }\n    },\n    {\n      \"column\": \"Text\",\n      \"properties\": {\n        \"dtype\": \"string\",\n        \"num_unique_values\": 5,\n        \"samples\": [\n          \"This doesn't mean that you relax on COVID 19, its still here with us too, #WearAMask\",\n          \"You can return to your social apps and news, but first, make time for yourself to not be available online. Go offli\\u2026 https://t.co/6nzOjEX4w5\",\n          \"Melbourne to relax third lockdown as no new COVID-19 cases reported in past 24 hours https://t.co/3J0IJapG4Y via @YahooIndia\"\n        ],\n        \"semantic_type\": \"\",\n        \"description\": \"\"\n      }\n    },\n    {\n      \"column\": \"Sarcasm\",\n      \"properties\": {\n        \"dtype\": \"number\",\n        \"std\": 0,\n        \"min\": 0,\n        \"max\": 1,\n        \"num_unique_values\": 2,\n        \"samples\": [\n          1,\n          0\n        ],\n        \"semantic_type\": \"\",\n        \"description\": \"\"\n      }\n    },\n    {\n      \"column\": \"Stress\",\n      \"properties\": {\n        \"dtype\": \"number\",\n        \"std\": 0,\n        \"min\": 0,\n        \"max\": 0,\n        \"num_unique_values\": 1,\n        \"samples\": [\n          0\n        ],\n        \"semantic_type\": \"\",\n        \"description\": \"\"\n      }\n    }\n  ]\n}"
            }
          },
          "metadata": {},
          "execution_count": 4
        }
      ]
    },
    {
      "cell_type": "code",
      "source": [
        "df1 = pd.read_csv(\"Dataset-Multitask1.csv\")\n",
        "df1.shape"
      ],
      "metadata": {
        "colab": {
          "base_uri": "https://localhost:8080/"
        },
        "id": "U8mg-ylFIH5E",
        "outputId": "9c99a659-37a0-4a2a-d836-12333458c538"
      },
      "execution_count": 5,
      "outputs": [
        {
          "output_type": "execute_result",
          "data": {
            "text/plain": [
              "(7289, 4)"
            ]
          },
          "metadata": {},
          "execution_count": 5
        }
      ]
    },
    {
      "cell_type": "code",
      "source": [
        "df2 = pd.read_csv(\"Dataset-Multitask2.csv\")\n",
        "df2.shape"
      ],
      "metadata": {
        "colab": {
          "base_uri": "https://localhost:8080/"
        },
        "id": "C2lfksrNIY8F",
        "outputId": "4180a3cc-901c-44db-9a39-5d1f99db5914"
      },
      "execution_count": 6,
      "outputs": [
        {
          "output_type": "execute_result",
          "data": {
            "text/plain": [
              "(16532, 4)"
            ]
          },
          "metadata": {},
          "execution_count": 6
        }
      ]
    },
    {
      "cell_type": "code",
      "source": [
        "df3 = pd.read_csv(\"Dataset-Multitask3.csv\")\n",
        "df3.shape"
      ],
      "metadata": {
        "id": "QzQUQqe6IdzX",
        "outputId": "68102a4b-5906-4d09-bd94-a073c0992777",
        "colab": {
          "base_uri": "https://localhost:8080/"
        }
      },
      "execution_count": 7,
      "outputs": [
        {
          "output_type": "execute_result",
          "data": {
            "text/plain": [
              "(4062, 4)"
            ]
          },
          "metadata": {},
          "execution_count": 7
        }
      ]
    },
    {
      "cell_type": "code",
      "source": [
        "df4 = pd.read_csv(\"Dataset-Multitask4.csv\")\n",
        "df4.shape"
      ],
      "metadata": {
        "id": "AN-jqRpDIk6B",
        "outputId": "0b189831-9e04-4db0-dbd9-f728a1754fc5",
        "colab": {
          "base_uri": "https://localhost:8080/"
        }
      },
      "execution_count": 8,
      "outputs": [
        {
          "output_type": "execute_result",
          "data": {
            "text/plain": [
              "(7209, 4)"
            ]
          },
          "metadata": {},
          "execution_count": 8
        }
      ]
    },
    {
      "cell_type": "code",
      "source": [
        "#how to join 4 csv data sets?\n",
        "import pandas as pd\n",
        "\n",
        "# Assuming your CSV files are named 'Dataset-Multitask1.csv', 'Dataset-Multitask2.csv', etc.\n",
        "df1 = pd.read_csv(\"Dataset-Multitask1.csv\")\n",
        "df2 = pd.read_csv(\"Dataset-Multitask2.csv\")\n",
        "df3 = pd.read_csv(\"Dataset-Multitask3.csv\")\n",
        "df4 = pd.read_csv(\"Dataset-Multitask4.csv\")\n",
        "\n",
        "# Concatenate the DataFrames vertically (along rows)\n",
        "combined_df = pd.concat([df1, df2, df3, df4], axis=0, ignore_index=True)\n",
        "\n",
        "# Now, 'combined_df' contains the data from all 4 CSV files.\n",
        "# You can further process or save this combined DataFrame as needed."
      ],
      "metadata": {
        "id": "pYl5jERDPnRH"
      },
      "execution_count": 85,
      "outputs": []
    },
    {
      "cell_type": "code",
      "source": [
        "combined_df.shape"
      ],
      "metadata": {
        "id": "eely9XaIRvKw",
        "outputId": "27d9e476-ff14-4a8d-fcae-d7b3e087e29d",
        "colab": {
          "base_uri": "https://localhost:8080/"
        }
      },
      "execution_count": 86,
      "outputs": [
        {
          "output_type": "execute_result",
          "data": {
            "text/plain": [
              "(35092, 4)"
            ]
          },
          "metadata": {},
          "execution_count": 86
        }
      ]
    },
    {
      "cell_type": "code",
      "source": [
        "df_train = combined_df"
      ],
      "metadata": {
        "id": "H2bks7u8R7Sv"
      },
      "execution_count": 87,
      "outputs": []
    },
    {
      "cell_type": "code",
      "source": [
        "# df_test = pd.read_csv(\"Dataset-Multitask1.csv\")\n",
        "# df_test.tail()"
      ],
      "metadata": {
        "id": "MnX995G-ilGT"
      },
      "execution_count": 9,
      "outputs": []
    },
    {
      "cell_type": "code",
      "source": [
        "df_train = df_train.drop(['Unnamed: 0'],axis=1)\n",
        "# df_test = df_test.drop(['Unnamed: 0'],axis=1)"
      ],
      "metadata": {
        "id": "W6Di0qLxiukF"
      },
      "execution_count": 88,
      "outputs": []
    },
    {
      "cell_type": "code",
      "source": [
        "#df_train = pd.concat([df_train,df_test],axis=0)"
      ],
      "metadata": {
        "id": "J6lmVDh6iwY5"
      },
      "execution_count": 11,
      "outputs": []
    },
    {
      "cell_type": "code",
      "source": [
        "df_train.shape"
      ],
      "metadata": {
        "colab": {
          "base_uri": "https://localhost:8080/"
        },
        "id": "7UC28nU4iw1c",
        "outputId": "c9961bce-d795-40fe-ce24-d9c355738c7e"
      },
      "execution_count": 89,
      "outputs": [
        {
          "output_type": "execute_result",
          "data": {
            "text/plain": [
              "(35092, 3)"
            ]
          },
          "metadata": {},
          "execution_count": 89
        }
      ]
    },
    {
      "cell_type": "code",
      "source": [
        "df_train.head()"
      ],
      "metadata": {
        "id": "BK5aqlJ5SAa0",
        "outputId": "89190286-8efe-434e-ed74-a0ec9b922e40",
        "colab": {
          "base_uri": "https://localhost:8080/",
          "height": 206
        }
      },
      "execution_count": 90,
      "outputs": [
        {
          "output_type": "execute_result",
          "data": {
            "text/plain": [
              "                                                Text  Sarcasm  Stress\n",
              "0  Peer-reviewed article that systematically deco...        0       1\n",
              "1  Dealing with stress for children and youth liv...        0       1\n",
              "2  Pandemic living is stressful for everyone, eve...        0       1\n",
              "3  Stress leave, tears and insomnia: Greater Vict...        0       1\n",
              "4  Stress leave, tears and insomnia: Greater Vict...        0       1"
            ],
            "text/html": [
              "\n",
              "  <div id=\"df-47871f49-9b16-4b31-89fe-e8a5b9b1e225\" class=\"colab-df-container\">\n",
              "    <div>\n",
              "<style scoped>\n",
              "    .dataframe tbody tr th:only-of-type {\n",
              "        vertical-align: middle;\n",
              "    }\n",
              "\n",
              "    .dataframe tbody tr th {\n",
              "        vertical-align: top;\n",
              "    }\n",
              "\n",
              "    .dataframe thead th {\n",
              "        text-align: right;\n",
              "    }\n",
              "</style>\n",
              "<table border=\"1\" class=\"dataframe\">\n",
              "  <thead>\n",
              "    <tr style=\"text-align: right;\">\n",
              "      <th></th>\n",
              "      <th>Text</th>\n",
              "      <th>Sarcasm</th>\n",
              "      <th>Stress</th>\n",
              "    </tr>\n",
              "  </thead>\n",
              "  <tbody>\n",
              "    <tr>\n",
              "      <th>0</th>\n",
              "      <td>Peer-reviewed article that systematically deco...</td>\n",
              "      <td>0</td>\n",
              "      <td>1</td>\n",
              "    </tr>\n",
              "    <tr>\n",
              "      <th>1</th>\n",
              "      <td>Dealing with stress for children and youth liv...</td>\n",
              "      <td>0</td>\n",
              "      <td>1</td>\n",
              "    </tr>\n",
              "    <tr>\n",
              "      <th>2</th>\n",
              "      <td>Pandemic living is stressful for everyone, eve...</td>\n",
              "      <td>0</td>\n",
              "      <td>1</td>\n",
              "    </tr>\n",
              "    <tr>\n",
              "      <th>3</th>\n",
              "      <td>Stress leave, tears and insomnia: Greater Vict...</td>\n",
              "      <td>0</td>\n",
              "      <td>1</td>\n",
              "    </tr>\n",
              "    <tr>\n",
              "      <th>4</th>\n",
              "      <td>Stress leave, tears and insomnia: Greater Vict...</td>\n",
              "      <td>0</td>\n",
              "      <td>1</td>\n",
              "    </tr>\n",
              "  </tbody>\n",
              "</table>\n",
              "</div>\n",
              "    <div class=\"colab-df-buttons\">\n",
              "\n",
              "  <div class=\"colab-df-container\">\n",
              "    <button class=\"colab-df-convert\" onclick=\"convertToInteractive('df-47871f49-9b16-4b31-89fe-e8a5b9b1e225')\"\n",
              "            title=\"Convert this dataframe to an interactive table.\"\n",
              "            style=\"display:none;\">\n",
              "\n",
              "  <svg xmlns=\"http://www.w3.org/2000/svg\" height=\"24px\" viewBox=\"0 -960 960 960\">\n",
              "    <path d=\"M120-120v-720h720v720H120Zm60-500h600v-160H180v160Zm220 220h160v-160H400v160Zm0 220h160v-160H400v160ZM180-400h160v-160H180v160Zm440 0h160v-160H620v160ZM180-180h160v-160H180v160Zm440 0h160v-160H620v160Z\"/>\n",
              "  </svg>\n",
              "    </button>\n",
              "\n",
              "  <style>\n",
              "    .colab-df-container {\n",
              "      display:flex;\n",
              "      gap: 12px;\n",
              "    }\n",
              "\n",
              "    .colab-df-convert {\n",
              "      background-color: #E8F0FE;\n",
              "      border: none;\n",
              "      border-radius: 50%;\n",
              "      cursor: pointer;\n",
              "      display: none;\n",
              "      fill: #1967D2;\n",
              "      height: 32px;\n",
              "      padding: 0 0 0 0;\n",
              "      width: 32px;\n",
              "    }\n",
              "\n",
              "    .colab-df-convert:hover {\n",
              "      background-color: #E2EBFA;\n",
              "      box-shadow: 0px 1px 2px rgba(60, 64, 67, 0.3), 0px 1px 3px 1px rgba(60, 64, 67, 0.15);\n",
              "      fill: #174EA6;\n",
              "    }\n",
              "\n",
              "    .colab-df-buttons div {\n",
              "      margin-bottom: 4px;\n",
              "    }\n",
              "\n",
              "    [theme=dark] .colab-df-convert {\n",
              "      background-color: #3B4455;\n",
              "      fill: #D2E3FC;\n",
              "    }\n",
              "\n",
              "    [theme=dark] .colab-df-convert:hover {\n",
              "      background-color: #434B5C;\n",
              "      box-shadow: 0px 1px 3px 1px rgba(0, 0, 0, 0.15);\n",
              "      filter: drop-shadow(0px 1px 2px rgba(0, 0, 0, 0.3));\n",
              "      fill: #FFFFFF;\n",
              "    }\n",
              "  </style>\n",
              "\n",
              "    <script>\n",
              "      const buttonEl =\n",
              "        document.querySelector('#df-47871f49-9b16-4b31-89fe-e8a5b9b1e225 button.colab-df-convert');\n",
              "      buttonEl.style.display =\n",
              "        google.colab.kernel.accessAllowed ? 'block' : 'none';\n",
              "\n",
              "      async function convertToInteractive(key) {\n",
              "        const element = document.querySelector('#df-47871f49-9b16-4b31-89fe-e8a5b9b1e225');\n",
              "        const dataTable =\n",
              "          await google.colab.kernel.invokeFunction('convertToInteractive',\n",
              "                                                    [key], {});\n",
              "        if (!dataTable) return;\n",
              "\n",
              "        const docLinkHtml = 'Like what you see? Visit the ' +\n",
              "          '<a target=\"_blank\" href=https://colab.research.google.com/notebooks/data_table.ipynb>data table notebook</a>'\n",
              "          + ' to learn more about interactive tables.';\n",
              "        element.innerHTML = '';\n",
              "        dataTable['output_type'] = 'display_data';\n",
              "        await google.colab.output.renderOutput(dataTable, element);\n",
              "        const docLink = document.createElement('div');\n",
              "        docLink.innerHTML = docLinkHtml;\n",
              "        element.appendChild(docLink);\n",
              "      }\n",
              "    </script>\n",
              "  </div>\n",
              "\n",
              "\n",
              "<div id=\"df-f46845bd-8916-4d22-94aa-d3c2d1af793d\">\n",
              "  <button class=\"colab-df-quickchart\" onclick=\"quickchart('df-f46845bd-8916-4d22-94aa-d3c2d1af793d')\"\n",
              "            title=\"Suggest charts\"\n",
              "            style=\"display:none;\">\n",
              "\n",
              "<svg xmlns=\"http://www.w3.org/2000/svg\" height=\"24px\"viewBox=\"0 0 24 24\"\n",
              "     width=\"24px\">\n",
              "    <g>\n",
              "        <path d=\"M19 3H5c-1.1 0-2 .9-2 2v14c0 1.1.9 2 2 2h14c1.1 0 2-.9 2-2V5c0-1.1-.9-2-2-2zM9 17H7v-7h2v7zm4 0h-2V7h2v10zm4 0h-2v-4h2v4z\"/>\n",
              "    </g>\n",
              "</svg>\n",
              "  </button>\n",
              "\n",
              "<style>\n",
              "  .colab-df-quickchart {\n",
              "      --bg-color: #E8F0FE;\n",
              "      --fill-color: #1967D2;\n",
              "      --hover-bg-color: #E2EBFA;\n",
              "      --hover-fill-color: #174EA6;\n",
              "      --disabled-fill-color: #AAA;\n",
              "      --disabled-bg-color: #DDD;\n",
              "  }\n",
              "\n",
              "  [theme=dark] .colab-df-quickchart {\n",
              "      --bg-color: #3B4455;\n",
              "      --fill-color: #D2E3FC;\n",
              "      --hover-bg-color: #434B5C;\n",
              "      --hover-fill-color: #FFFFFF;\n",
              "      --disabled-bg-color: #3B4455;\n",
              "      --disabled-fill-color: #666;\n",
              "  }\n",
              "\n",
              "  .colab-df-quickchart {\n",
              "    background-color: var(--bg-color);\n",
              "    border: none;\n",
              "    border-radius: 50%;\n",
              "    cursor: pointer;\n",
              "    display: none;\n",
              "    fill: var(--fill-color);\n",
              "    height: 32px;\n",
              "    padding: 0;\n",
              "    width: 32px;\n",
              "  }\n",
              "\n",
              "  .colab-df-quickchart:hover {\n",
              "    background-color: var(--hover-bg-color);\n",
              "    box-shadow: 0 1px 2px rgba(60, 64, 67, 0.3), 0 1px 3px 1px rgba(60, 64, 67, 0.15);\n",
              "    fill: var(--button-hover-fill-color);\n",
              "  }\n",
              "\n",
              "  .colab-df-quickchart-complete:disabled,\n",
              "  .colab-df-quickchart-complete:disabled:hover {\n",
              "    background-color: var(--disabled-bg-color);\n",
              "    fill: var(--disabled-fill-color);\n",
              "    box-shadow: none;\n",
              "  }\n",
              "\n",
              "  .colab-df-spinner {\n",
              "    border: 2px solid var(--fill-color);\n",
              "    border-color: transparent;\n",
              "    border-bottom-color: var(--fill-color);\n",
              "    animation:\n",
              "      spin 1s steps(1) infinite;\n",
              "  }\n",
              "\n",
              "  @keyframes spin {\n",
              "    0% {\n",
              "      border-color: transparent;\n",
              "      border-bottom-color: var(--fill-color);\n",
              "      border-left-color: var(--fill-color);\n",
              "    }\n",
              "    20% {\n",
              "      border-color: transparent;\n",
              "      border-left-color: var(--fill-color);\n",
              "      border-top-color: var(--fill-color);\n",
              "    }\n",
              "    30% {\n",
              "      border-color: transparent;\n",
              "      border-left-color: var(--fill-color);\n",
              "      border-top-color: var(--fill-color);\n",
              "      border-right-color: var(--fill-color);\n",
              "    }\n",
              "    40% {\n",
              "      border-color: transparent;\n",
              "      border-right-color: var(--fill-color);\n",
              "      border-top-color: var(--fill-color);\n",
              "    }\n",
              "    60% {\n",
              "      border-color: transparent;\n",
              "      border-right-color: var(--fill-color);\n",
              "    }\n",
              "    80% {\n",
              "      border-color: transparent;\n",
              "      border-right-color: var(--fill-color);\n",
              "      border-bottom-color: var(--fill-color);\n",
              "    }\n",
              "    90% {\n",
              "      border-color: transparent;\n",
              "      border-bottom-color: var(--fill-color);\n",
              "    }\n",
              "  }\n",
              "</style>\n",
              "\n",
              "  <script>\n",
              "    async function quickchart(key) {\n",
              "      const quickchartButtonEl =\n",
              "        document.querySelector('#' + key + ' button');\n",
              "      quickchartButtonEl.disabled = true;  // To prevent multiple clicks.\n",
              "      quickchartButtonEl.classList.add('colab-df-spinner');\n",
              "      try {\n",
              "        const charts = await google.colab.kernel.invokeFunction(\n",
              "            'suggestCharts', [key], {});\n",
              "      } catch (error) {\n",
              "        console.error('Error during call to suggestCharts:', error);\n",
              "      }\n",
              "      quickchartButtonEl.classList.remove('colab-df-spinner');\n",
              "      quickchartButtonEl.classList.add('colab-df-quickchart-complete');\n",
              "    }\n",
              "    (() => {\n",
              "      let quickchartButtonEl =\n",
              "        document.querySelector('#df-f46845bd-8916-4d22-94aa-d3c2d1af793d button');\n",
              "      quickchartButtonEl.style.display =\n",
              "        google.colab.kernel.accessAllowed ? 'block' : 'none';\n",
              "    })();\n",
              "  </script>\n",
              "</div>\n",
              "\n",
              "    </div>\n",
              "  </div>\n"
            ],
            "application/vnd.google.colaboratory.intrinsic+json": {
              "type": "dataframe",
              "variable_name": "df_train",
              "summary": "{\n  \"name\": \"df_train\",\n  \"rows\": 35092,\n  \"fields\": [\n    {\n      \"column\": \"Text\",\n      \"properties\": {\n        \"dtype\": \"category\",\n        \"num_unique_values\": 9951,\n        \"samples\": [\n          \"and got a cold shoulder from there onwards and I let it die a natural death. It has never happened that when he cal\\u2026 https://t.co/NKQ5iJmuUS\",\n          \"@MassGovernor This is not the time to relax mask mandates: https://t.co/mGIWVsmuKQ\",\n          \"Self talk to reduce stress. A simple, low effort strategy from research to help children manage their own recovery\\u2026 https://t.co/J9C2ReJTGl\"\n        ],\n        \"semantic_type\": \"\",\n        \"description\": \"\"\n      }\n    },\n    {\n      \"column\": \"Sarcasm\",\n      \"properties\": {\n        \"dtype\": \"number\",\n        \"std\": 0,\n        \"min\": 0,\n        \"max\": 1,\n        \"num_unique_values\": 2,\n        \"samples\": [\n          1,\n          0\n        ],\n        \"semantic_type\": \"\",\n        \"description\": \"\"\n      }\n    },\n    {\n      \"column\": \"Stress\",\n      \"properties\": {\n        \"dtype\": \"number\",\n        \"std\": 0,\n        \"min\": 0,\n        \"max\": 1,\n        \"num_unique_values\": 2,\n        \"samples\": [\n          0,\n          1\n        ],\n        \"semantic_type\": \"\",\n        \"description\": \"\"\n      }\n    }\n  ]\n}"
            }
          },
          "metadata": {},
          "execution_count": 90
        }
      ]
    },
    {
      "cell_type": "markdown",
      "source": [
        "# TEXT Preprocessing"
      ],
      "metadata": {
        "id": "l8aLnsLzj3T6"
      }
    },
    {
      "cell_type": "markdown",
      "source": [
        "## 1. Lower Casing"
      ],
      "metadata": {
        "id": "_m5y7rzBkLvH"
      }
    },
    {
      "cell_type": "code",
      "source": [
        "df_train['Text'] = df_train['Text'].str.lower()"
      ],
      "metadata": {
        "id": "_lUCoyGOi9se"
      },
      "execution_count": 91,
      "outputs": []
    },
    {
      "cell_type": "markdown",
      "source": [
        "## 2. HTML Tags"
      ],
      "metadata": {
        "id": "zXtPt581kT2Z"
      }
    },
    {
      "cell_type": "code",
      "source": [
        "import re\n",
        "def remove_html_tags(text):\n",
        "  pattern = re.compile('<.*?>')\n",
        "  return pattern.sub(r'',text)"
      ],
      "metadata": {
        "id": "HctmC0vei-a5"
      },
      "execution_count": 92,
      "outputs": []
    },
    {
      "cell_type": "code",
      "source": [
        "df_train['Text'] = df_train['Text'].apply(remove_html_tags)"
      ],
      "metadata": {
        "id": "xM-9s2rYi-Yk"
      },
      "execution_count": 93,
      "outputs": []
    },
    {
      "cell_type": "markdown",
      "source": [
        "## Removing URL's in Text"
      ],
      "metadata": {
        "id": "ny5qXVGKkfVe"
      }
    },
    {
      "cell_type": "code",
      "source": [
        "def remove_url(text):\n",
        "  pattern = re.compile(r'https?://\\S+|www\\.\\/S+')\n",
        "  return pattern.sub(r'',text)"
      ],
      "metadata": {
        "id": "97oji2iii-WG"
      },
      "execution_count": 94,
      "outputs": []
    },
    {
      "cell_type": "code",
      "source": [
        "df_train['Text'] = df_train['Text'].apply(remove_url)"
      ],
      "metadata": {
        "id": "bJcAzHVoi-Ts"
      },
      "execution_count": 95,
      "outputs": []
    },
    {
      "cell_type": "markdown",
      "source": [
        "## Removing Punctuations"
      ],
      "metadata": {
        "id": "heKI9jnCklE1"
      }
    },
    {
      "cell_type": "code",
      "source": [
        "import string\n",
        "string.punctuation"
      ],
      "metadata": {
        "colab": {
          "base_uri": "https://localhost:8080/",
          "height": 35
        },
        "id": "I7Ds76tYi-Q5",
        "outputId": "34cdcf7c-8f6e-4332-a4f9-5928bfd98258"
      },
      "execution_count": 96,
      "outputs": [
        {
          "output_type": "execute_result",
          "data": {
            "text/plain": [
              "'!\"#$%&\\'()*+,-./:;<=>?@[\\\\]^_`{|}~'"
            ],
            "application/vnd.google.colaboratory.intrinsic+json": {
              "type": "string"
            }
          },
          "metadata": {},
          "execution_count": 96
        }
      ]
    },
    {
      "cell_type": "code",
      "source": [
        "exclude = string.punctuation"
      ],
      "metadata": {
        "id": "snVPYX9ki-NZ"
      },
      "execution_count": 97,
      "outputs": []
    },
    {
      "cell_type": "code",
      "source": [
        "def remove_punc(text):\n",
        "  return text.translate(str.maketrans('','',exclude))"
      ],
      "metadata": {
        "id": "G4WdIvg7jjJy"
      },
      "execution_count": 98,
      "outputs": []
    },
    {
      "cell_type": "code",
      "source": [
        "df_train['Text'] = df_train['Text'].apply(remove_punc)"
      ],
      "metadata": {
        "id": "SBPtzTY5jlb6"
      },
      "execution_count": 99,
      "outputs": []
    },
    {
      "cell_type": "markdown",
      "source": [
        "## 5. Spelling Corrections"
      ],
      "metadata": {
        "id": "UKY1d81Yktih"
      }
    },
    {
      "cell_type": "code",
      "source": [
        "from textblob import TextBlob"
      ],
      "metadata": {
        "id": "CgJJCWYUjmDr"
      },
      "execution_count": 100,
      "outputs": []
    },
    {
      "cell_type": "code",
      "source": [
        "def correct_spelling(text):\n",
        "  blob = TextBlob(text)\n",
        "  corrected_text = blob.correct()\n",
        "  return str(corrected_text)"
      ],
      "metadata": {
        "id": "AAQxpktpjmBS"
      },
      "execution_count": 101,
      "outputs": []
    },
    {
      "cell_type": "markdown",
      "source": [
        "## 6. Stemming"
      ],
      "metadata": {
        "id": "Xffaint_jl-q"
      }
    },
    {
      "cell_type": "code",
      "source": [
        "from nltk import PorterStemmer"
      ],
      "metadata": {
        "id": "kKa69qvVk87C"
      },
      "execution_count": 102,
      "outputs": []
    },
    {
      "cell_type": "code",
      "source": [
        "stemmer = PorterStemmer()"
      ],
      "metadata": {
        "id": "7PaTwcsHk83C"
      },
      "execution_count": 103,
      "outputs": []
    },
    {
      "cell_type": "code",
      "source": [
        "df_train['Text'] = df_train['Text'].apply(lambda x:stemmer.stem(x))"
      ],
      "metadata": {
        "id": "azjczFEllBFm"
      },
      "execution_count": 104,
      "outputs": []
    },
    {
      "cell_type": "markdown",
      "source": [
        "## 7. Removing Stopwords"
      ],
      "metadata": {
        "id": "068i6-kJlEW0"
      }
    },
    {
      "cell_type": "code",
      "source": [
        "import nltk\n",
        "nltk.download('stopwords')"
      ],
      "metadata": {
        "colab": {
          "base_uri": "https://localhost:8080/"
        },
        "id": "-S9cUP5YlO92",
        "outputId": "284a53e2-15ac-4f37-ec10-f25c52e4c5ba"
      },
      "execution_count": 105,
      "outputs": [
        {
          "output_type": "stream",
          "name": "stderr",
          "text": [
            "[nltk_data] Downloading package stopwords to /root/nltk_data...\n",
            "[nltk_data]   Package stopwords is already up-to-date!\n"
          ]
        },
        {
          "output_type": "execute_result",
          "data": {
            "text/plain": [
              "True"
            ]
          },
          "metadata": {},
          "execution_count": 105
        }
      ]
    },
    {
      "cell_type": "code",
      "source": [
        "from nltk.corpus import stopwords\n",
        "sw_list = stopwords.words('english')\n",
        "\n",
        "df_train['Text'].apply(lambda x:[item for item in x.split() if item not in sw_list]).apply(lambda x:\" \".join(x))"
      ],
      "metadata": {
        "colab": {
          "base_uri": "https://localhost:8080/",
          "height": 458
        },
        "id": "iAGdhKnulRE4",
        "outputId": "09298158-d76f-4476-deba-a4cc0eaf8f69"
      },
      "execution_count": 106,
      "outputs": [
        {
          "output_type": "execute_result",
          "data": {
            "text/plain": [
              "0        peerreviewed article systematically deconstruc...\n",
              "1        dealing stress children youth living diabetes ...\n",
              "2        pandemic living stressful everyone even who’ve...\n",
              "3        stress leave tears insomnia greater victoria t...\n",
              "4        stress leave tears insomnia greater victoria t...\n",
              "                               ...                        \n",
              "35087    malaysia relax covid19 testing rules certain t...\n",
              "35088    🇦🇪 united arab emirates authorities relax covi...\n",
              "35089    fresh active cases covid19 decreasing relax wa...\n",
              "35090    covidupdates delhi relax since covid19 restric...\n",
              "35091    keep seeing headlines saying shit like “as cov...\n",
              "Name: Text, Length: 35092, dtype: object"
            ],
            "text/html": [
              "<div>\n",
              "<style scoped>\n",
              "    .dataframe tbody tr th:only-of-type {\n",
              "        vertical-align: middle;\n",
              "    }\n",
              "\n",
              "    .dataframe tbody tr th {\n",
              "        vertical-align: top;\n",
              "    }\n",
              "\n",
              "    .dataframe thead th {\n",
              "        text-align: right;\n",
              "    }\n",
              "</style>\n",
              "<table border=\"1\" class=\"dataframe\">\n",
              "  <thead>\n",
              "    <tr style=\"text-align: right;\">\n",
              "      <th></th>\n",
              "      <th>Text</th>\n",
              "    </tr>\n",
              "  </thead>\n",
              "  <tbody>\n",
              "    <tr>\n",
              "      <th>0</th>\n",
              "      <td>peerreviewed article systematically deconstruc...</td>\n",
              "    </tr>\n",
              "    <tr>\n",
              "      <th>1</th>\n",
              "      <td>dealing stress children youth living diabetes ...</td>\n",
              "    </tr>\n",
              "    <tr>\n",
              "      <th>2</th>\n",
              "      <td>pandemic living stressful everyone even who’ve...</td>\n",
              "    </tr>\n",
              "    <tr>\n",
              "      <th>3</th>\n",
              "      <td>stress leave tears insomnia greater victoria t...</td>\n",
              "    </tr>\n",
              "    <tr>\n",
              "      <th>4</th>\n",
              "      <td>stress leave tears insomnia greater victoria t...</td>\n",
              "    </tr>\n",
              "    <tr>\n",
              "      <th>...</th>\n",
              "      <td>...</td>\n",
              "    </tr>\n",
              "    <tr>\n",
              "      <th>35087</th>\n",
              "      <td>malaysia relax covid19 testing rules certain t...</td>\n",
              "    </tr>\n",
              "    <tr>\n",
              "      <th>35088</th>\n",
              "      <td>🇦🇪 united arab emirates authorities relax covi...</td>\n",
              "    </tr>\n",
              "    <tr>\n",
              "      <th>35089</th>\n",
              "      <td>fresh active cases covid19 decreasing relax wa...</td>\n",
              "    </tr>\n",
              "    <tr>\n",
              "      <th>35090</th>\n",
              "      <td>covidupdates delhi relax since covid19 restric...</td>\n",
              "    </tr>\n",
              "    <tr>\n",
              "      <th>35091</th>\n",
              "      <td>keep seeing headlines saying shit like “as cov...</td>\n",
              "    </tr>\n",
              "  </tbody>\n",
              "</table>\n",
              "<p>35092 rows × 1 columns</p>\n",
              "</div><br><label><b>dtype:</b> object</label>"
            ]
          },
          "metadata": {},
          "execution_count": 106
        }
      ]
    },
    {
      "cell_type": "markdown",
      "source": [
        "## 8. Tokenization"
      ],
      "metadata": {
        "id": "BkmQR4AslToH"
      }
    },
    {
      "cell_type": "code",
      "source": [
        "import nltk\n",
        "nltk.download('punkt')"
      ],
      "metadata": {
        "colab": {
          "base_uri": "https://localhost:8080/"
        },
        "id": "hBV6Rhzplh3i",
        "outputId": "b4eb3486-c4c3-43a0-d96b-3ca9a88d6c52"
      },
      "execution_count": 107,
      "outputs": [
        {
          "output_type": "stream",
          "name": "stderr",
          "text": [
            "[nltk_data] Downloading package punkt to /root/nltk_data...\n",
            "[nltk_data]   Package punkt is already up-to-date!\n"
          ]
        },
        {
          "output_type": "execute_result",
          "data": {
            "text/plain": [
              "True"
            ]
          },
          "metadata": {},
          "execution_count": 107
        }
      ]
    },
    {
      "source": [
        "import nltk\n",
        "nltk.download('punkt_tab')"
      ],
      "cell_type": "code",
      "metadata": {
        "id": "V3Wru_vsb7Hv",
        "outputId": "17056b8d-f5d2-41f0-cfef-904241e16d72",
        "colab": {
          "base_uri": "https://localhost:8080/"
        }
      },
      "execution_count": 108,
      "outputs": [
        {
          "output_type": "stream",
          "name": "stderr",
          "text": [
            "[nltk_data] Downloading package punkt_tab to /root/nltk_data...\n",
            "[nltk_data]   Package punkt_tab is already up-to-date!\n"
          ]
        },
        {
          "output_type": "execute_result",
          "data": {
            "text/plain": [
              "True"
            ]
          },
          "metadata": {},
          "execution_count": 108
        }
      ]
    },
    {
      "cell_type": "code",
      "source": [
        "import nltk\n",
        "from nltk import word_tokenize"
      ],
      "metadata": {
        "id": "5lLjxsC_lgmR"
      },
      "execution_count": 109,
      "outputs": []
    },
    {
      "cell_type": "code",
      "source": [
        "df_train['Text'].apply(lambda x:word_tokenize(x))"
      ],
      "metadata": {
        "colab": {
          "base_uri": "https://localhost:8080/",
          "height": 458
        },
        "id": "oFVhPJGwljN9",
        "outputId": "5bfc3c89-0ffb-47ff-b848-7485dca966e5"
      },
      "execution_count": 111,
      "outputs": [
        {
          "output_type": "execute_result",
          "data": {
            "text/plain": [
              "0        [peerreviewed, article, that, systematically, ...\n",
              "1        [dealing, with, stress, for, children, and, yo...\n",
              "2        [pandemic, living, is, stressful, for, everyon...\n",
              "3        [stress, leave, tears, and, insomnia, greater,...\n",
              "4        [stress, leave, tears, and, insomnia, greater,...\n",
              "                               ...                        \n",
              "35087    [malaysia, to, relax, covid19, testing, rules,...\n",
              "35088    [🇦🇪, united, arab, emirates, authorities, rela...\n",
              "35089    [fresh, and, active, cases, of, covid19, are, ...\n",
              "35090    [covidupdates, delhi, can, relax, since, all, ...\n",
              "35091    [i, keep, seeing, headlines, saying, shit, lik...\n",
              "Name: Text, Length: 35092, dtype: object"
            ],
            "text/html": [
              "<div>\n",
              "<style scoped>\n",
              "    .dataframe tbody tr th:only-of-type {\n",
              "        vertical-align: middle;\n",
              "    }\n",
              "\n",
              "    .dataframe tbody tr th {\n",
              "        vertical-align: top;\n",
              "    }\n",
              "\n",
              "    .dataframe thead th {\n",
              "        text-align: right;\n",
              "    }\n",
              "</style>\n",
              "<table border=\"1\" class=\"dataframe\">\n",
              "  <thead>\n",
              "    <tr style=\"text-align: right;\">\n",
              "      <th></th>\n",
              "      <th>Text</th>\n",
              "    </tr>\n",
              "  </thead>\n",
              "  <tbody>\n",
              "    <tr>\n",
              "      <th>0</th>\n",
              "      <td>[peerreviewed, article, that, systematically, ...</td>\n",
              "    </tr>\n",
              "    <tr>\n",
              "      <th>1</th>\n",
              "      <td>[dealing, with, stress, for, children, and, yo...</td>\n",
              "    </tr>\n",
              "    <tr>\n",
              "      <th>2</th>\n",
              "      <td>[pandemic, living, is, stressful, for, everyon...</td>\n",
              "    </tr>\n",
              "    <tr>\n",
              "      <th>3</th>\n",
              "      <td>[stress, leave, tears, and, insomnia, greater,...</td>\n",
              "    </tr>\n",
              "    <tr>\n",
              "      <th>4</th>\n",
              "      <td>[stress, leave, tears, and, insomnia, greater,...</td>\n",
              "    </tr>\n",
              "    <tr>\n",
              "      <th>...</th>\n",
              "      <td>...</td>\n",
              "    </tr>\n",
              "    <tr>\n",
              "      <th>35087</th>\n",
              "      <td>[malaysia, to, relax, covid19, testing, rules,...</td>\n",
              "    </tr>\n",
              "    <tr>\n",
              "      <th>35088</th>\n",
              "      <td>[🇦🇪, united, arab, emirates, authorities, rela...</td>\n",
              "    </tr>\n",
              "    <tr>\n",
              "      <th>35089</th>\n",
              "      <td>[fresh, and, active, cases, of, covid19, are, ...</td>\n",
              "    </tr>\n",
              "    <tr>\n",
              "      <th>35090</th>\n",
              "      <td>[covidupdates, delhi, can, relax, since, all, ...</td>\n",
              "    </tr>\n",
              "    <tr>\n",
              "      <th>35091</th>\n",
              "      <td>[i, keep, seeing, headlines, saying, shit, lik...</td>\n",
              "    </tr>\n",
              "  </tbody>\n",
              "</table>\n",
              "<p>35092 rows × 1 columns</p>\n",
              "</div><br><label><b>dtype:</b> object</label>"
            ]
          },
          "metadata": {},
          "execution_count": 111
        }
      ]
    },
    {
      "cell_type": "code",
      "source": [
        "df_train['Text'] = df_train['Text'].apply(lambda x:word_tokenize(x))"
      ],
      "metadata": {
        "id": "rDkNPnoGllMo"
      },
      "execution_count": 112,
      "outputs": []
    },
    {
      "cell_type": "code",
      "source": [
        "from tensorflow.keras.preprocessing.text import Tokenizer\n",
        "tokenizer = Tokenizer()\n",
        "tokenizer.fit_on_texts(df_train['Text'])"
      ],
      "metadata": {
        "id": "hwR6UekAlpTa"
      },
      "execution_count": 113,
      "outputs": []
    },
    {
      "cell_type": "code",
      "source": [
        "x = tokenizer.texts_to_sequences(df_train['Text'])"
      ],
      "metadata": {
        "id": "iNUc9Mzmlsfd"
      },
      "execution_count": 114,
      "outputs": []
    },
    {
      "cell_type": "code",
      "source": [
        "# x\n",
        "max([len(i) for i in x])"
      ],
      "metadata": {
        "collapsed": true,
        "id": "ewzdLp5adnJR",
        "outputId": "db0da6a3-4b0f-40b6-de78-08c8e690180c",
        "colab": {
          "base_uri": "https://localhost:8080/"
        }
      },
      "execution_count": 115,
      "outputs": [
        {
          "output_type": "execute_result",
          "data": {
            "text/plain": [
              "33"
            ]
          },
          "metadata": {},
          "execution_count": 115
        }
      ]
    },
    {
      "cell_type": "code",
      "source": [
        "df_train['Text'].shape"
      ],
      "metadata": {
        "id": "Dlj-6UtQlt49",
        "colab": {
          "base_uri": "https://localhost:8080/"
        },
        "outputId": "717adf6b-6b66-427e-9b15-dd9ec383a68f"
      },
      "execution_count": 116,
      "outputs": [
        {
          "output_type": "execute_result",
          "data": {
            "text/plain": [
              "(35092,)"
            ]
          },
          "metadata": {},
          "execution_count": 116
        }
      ]
    },
    {
      "cell_type": "code",
      "source": [
        "# Vocabulary based on tokenization\n",
        "vocabulary = tokenizer.word_index\n",
        "print(len(vocabulary))"
      ],
      "metadata": {
        "colab": {
          "base_uri": "https://localhost:8080/"
        },
        "id": "_-CC0IEYlxCl",
        "outputId": "1199361a-a7b7-4d3d-a0f4-ff5e033005b8"
      },
      "execution_count": 117,
      "outputs": [
        {
          "output_type": "stream",
          "name": "stdout",
          "text": [
            "16949\n"
          ]
        }
      ]
    },
    {
      "cell_type": "code",
      "source": [
        "import gensim"
      ],
      "metadata": {
        "id": "f37QK77pl3AP"
      },
      "execution_count": 39,
      "outputs": []
    },
    {
      "cell_type": "code",
      "source": [
        "!wget nlp.stanford.edu/data/glove.6B.zip"
      ],
      "metadata": {
        "colab": {
          "base_uri": "https://localhost:8080/"
        },
        "id": "k3tXc7SCl3gw",
        "outputId": "2df71aaf-19f1-4219-c905-0e4aa08dcfcc"
      },
      "execution_count": 40,
      "outputs": [
        {
          "output_type": "stream",
          "name": "stdout",
          "text": [
            "--2024-12-19 09:20:54--  http://nlp.stanford.edu/data/glove.6B.zip\n",
            "Resolving nlp.stanford.edu (nlp.stanford.edu)... 171.64.67.140\n",
            "Connecting to nlp.stanford.edu (nlp.stanford.edu)|171.64.67.140|:80... connected.\n",
            "HTTP request sent, awaiting response... 302 Found\n",
            "Location: https://nlp.stanford.edu/data/glove.6B.zip [following]\n",
            "--2024-12-19 09:20:55--  https://nlp.stanford.edu/data/glove.6B.zip\n",
            "Connecting to nlp.stanford.edu (nlp.stanford.edu)|171.64.67.140|:443... connected.\n",
            "HTTP request sent, awaiting response... 301 Moved Permanently\n",
            "Location: https://downloads.cs.stanford.edu/nlp/data/glove.6B.zip [following]\n",
            "--2024-12-19 09:20:55--  https://downloads.cs.stanford.edu/nlp/data/glove.6B.zip\n",
            "Resolving downloads.cs.stanford.edu (downloads.cs.stanford.edu)... 171.64.64.22\n",
            "Connecting to downloads.cs.stanford.edu (downloads.cs.stanford.edu)|171.64.64.22|:443... connected.\n",
            "HTTP request sent, awaiting response... 200 OK\n",
            "Length: 862182613 (822M) [application/zip]\n",
            "Saving to: ‘glove.6B.zip’\n",
            "\n",
            "glove.6B.zip        100%[===================>] 822.24M  5.10MB/s    in 3m 10s  \n",
            "\n",
            "2024-12-19 09:24:05 (4.33 MB/s) - ‘glove.6B.zip’ saved [862182613/862182613]\n",
            "\n"
          ]
        }
      ]
    },
    {
      "cell_type": "code",
      "source": [
        "!unzip glove*.zip"
      ],
      "metadata": {
        "colab": {
          "base_uri": "https://localhost:8080/"
        },
        "id": "YcCURQxOl5Hj",
        "outputId": "4f05b74d-c640-4966-b397-b2103484c88e"
      },
      "execution_count": 41,
      "outputs": [
        {
          "output_type": "stream",
          "name": "stdout",
          "text": [
            "Archive:  glove.6B.zip\n",
            "  inflating: glove.6B.50d.txt        \n",
            "  inflating: glove.6B.100d.txt       \n",
            "  inflating: glove.6B.200d.txt       \n",
            "  inflating: glove.6B.300d.txt       \n"
          ]
        }
      ]
    },
    {
      "cell_type": "code",
      "source": [
        "from gensim.scripts.glove2word2vec import glove2word2vec"
      ],
      "metadata": {
        "id": "VtsnbHqCl6ks"
      },
      "execution_count": 42,
      "outputs": []
    },
    {
      "cell_type": "code",
      "source": [
        "glove_input_file = \"glove.6B.100d.txt\""
      ],
      "metadata": {
        "id": "SHx1KkJzl8R9"
      },
      "execution_count": 43,
      "outputs": []
    },
    {
      "cell_type": "code",
      "source": [
        "glove_output_file = \"word2vec.txt\""
      ],
      "metadata": {
        "id": "tFIpYNbOl9mT"
      },
      "execution_count": 44,
      "outputs": []
    },
    {
      "cell_type": "code",
      "source": [
        "glove2word2vec(glove_input_file,glove_output_file)"
      ],
      "metadata": {
        "colab": {
          "base_uri": "https://localhost:8080/"
        },
        "id": "ZwTAVYoEl-8i",
        "outputId": "3d44bd7d-173b-43b8-83a4-36f3455826ab"
      },
      "execution_count": 45,
      "outputs": [
        {
          "output_type": "stream",
          "name": "stderr",
          "text": [
            "<ipython-input-45-13f14740c424>:1: DeprecationWarning: Call to deprecated `glove2word2vec` (KeyedVectors.load_word2vec_format(.., binary=False, no_header=True) loads GLoVE text vectors.).\n",
            "  glove2word2vec(glove_input_file,glove_output_file)\n"
          ]
        },
        {
          "output_type": "execute_result",
          "data": {
            "text/plain": [
              "(400000, 100)"
            ]
          },
          "metadata": {},
          "execution_count": 45
        }
      ]
    },
    {
      "cell_type": "code",
      "source": [
        "maxlen = 25\n",
        "from keras.utils import pad_sequences\n",
        "lines_paded = pad_sequences(x,maxlen=maxlen,padding='post')"
      ],
      "metadata": {
        "id": "f5IwyEz6mEa3"
      },
      "execution_count": 118,
      "outputs": []
    },
    {
      "cell_type": "code",
      "source": [
        "# lines_paded[:30]"
      ],
      "metadata": {
        "id": "LCaYTDnLd9Gd"
      },
      "execution_count": 47,
      "outputs": []
    },
    {
      "cell_type": "code",
      "source": [
        "y1 = np.array(df_train['Sarcasm'])\n",
        "y2 = np.array(df_train['Stress'])"
      ],
      "metadata": {
        "id": "rbEi3M3AmFYe"
      },
      "execution_count": 119,
      "outputs": []
    },
    {
      "cell_type": "code",
      "source": [
        "from sklearn.model_selection import train_test_split\n",
        "X_train, X_val, y_train_task1, y_val_task1, y_train_task2, y_val_task2 = train_test_split(\n",
        "    lines_paded, y1, y2, test_size=0.2, random_state=42)"
      ],
      "metadata": {
        "id": "KWt51VHVmJDU"
      },
      "execution_count": 120,
      "outputs": []
    },
    {
      "cell_type": "code",
      "source": [
        "print(f\"x_train shape {X_train.shape}\")\n",
        "print(f\"x_val shape {X_val.shape}\")\n",
        "print(f\"y_train_task1 shape {y_train_task1.shape}\")\n",
        "print(f\"y_train_task2 shape {y_train_task2.shape}\")\n",
        "print(f\"y_val_task1 shape {y_val_task1.shape}\")\n",
        "print(f\"y_val_task2 shape {y_val_task2.shape}\")"
      ],
      "metadata": {
        "colab": {
          "base_uri": "https://localhost:8080/"
        },
        "id": "5mTNyCTsmL-f",
        "outputId": "a2ec7c66-4878-47e4-f143-4eb24ea7695a"
      },
      "execution_count": 121,
      "outputs": [
        {
          "output_type": "stream",
          "name": "stdout",
          "text": [
            "x_train shape (28073, 25)\n",
            "x_val shape (7019, 25)\n",
            "y_train_task1 shape (28073,)\n",
            "y_train_task2 shape (28073,)\n",
            "y_val_task1 shape (7019,)\n",
            "y_val_task2 shape (7019,)\n"
          ]
        }
      ]
    },
    {
      "cell_type": "code",
      "source": [
        "X_train"
      ],
      "metadata": {
        "id": "aL14gihqk2KF",
        "outputId": "f5af9698-4543-4b79-b00f-d6aca10e4012",
        "colab": {
          "base_uri": "https://localhost:8080/"
        }
      },
      "execution_count": 122,
      "outputs": [
        {
          "output_type": "execute_result",
          "data": {
            "text/plain": [
              "array([[  80,   48,  396, ..., 2441,   11, 1918],\n",
              "       [1418,    3,  550, ...,    0,    0,    0],\n",
              "       [ 445,  383,  771, ...,    0,    0,    0],\n",
              "       ...,\n",
              "       [   4,    6,   35, ...,    0,    0,    0],\n",
              "       [   2,   71,   12, ...,    0,    0,    0],\n",
              "       [   1,  152,    5, ...,    0,    0,    0]], dtype=int32)"
            ]
          },
          "metadata": {},
          "execution_count": 122
        }
      ]
    },
    {
      "cell_type": "code",
      "source": [
        "import numpy as np\n",
        "from tensorflow import keras\n",
        "from tensorflow.keras.preprocessing.text import Tokenizer\n",
        "from tensorflow.keras.preprocessing.sequence import pad_sequences\n",
        "from keras.models import Sequential\n",
        "from keras.layers import Embedding, LSTM, Dense\n",
        "from gensim.models import KeyedVectors\n",
        "\n",
        "glove_model = KeyedVectors.load_word2vec_format(glove_output_file, binary=False)\n",
        "\n",
        "vocab_size = len(vocabulary) + 1  # Add 1 for unknown words\n",
        "\n",
        "embedding_dim = 100  # Adjust the embedding dimension based on your GloVe model\n",
        "max_length = 22\n",
        "embedding_matrix = np.zeros((vocab_size, embedding_dim))\n",
        "\n",
        "for word, i in vocabulary.items():\n",
        "    if word in glove_model:\n",
        "        embedding_matrix[i] = glove_model[word]"
      ],
      "metadata": {
        "id": "JbxkwP6ZmMxl"
      },
      "execution_count": 123,
      "outputs": []
    },
    {
      "cell_type": "code",
      "source": [
        "# vocabulary"
      ],
      "metadata": {
        "collapsed": true,
        "id": "6mCCfkeleyzQ"
      },
      "execution_count": 124,
      "outputs": []
    },
    {
      "cell_type": "code",
      "source": [
        "embedding_matrix.shape"
      ],
      "metadata": {
        "id": "tgYxF4Ftc8Pr",
        "outputId": "0dc9e60b-c9a7-4632-84ba-8ac3006b2c7d",
        "colab": {
          "base_uri": "https://localhost:8080/"
        }
      },
      "execution_count": 125,
      "outputs": [
        {
          "output_type": "execute_result",
          "data": {
            "text/plain": [
              "(16950, 100)"
            ]
          },
          "metadata": {},
          "execution_count": 125
        }
      ]
    },
    {
      "cell_type": "markdown",
      "source": [
        "## Multitask CNN architecutre"
      ],
      "metadata": {
        "id": "RywgsbUf649_"
      }
    },
    {
      "cell_type": "code",
      "source": [
        "from sklearn.metrics import f1_score,precision_score,confusion_matrix,accuracy_score,recall_score"
      ],
      "metadata": {
        "id": "Af7KP9Jy53yP"
      },
      "execution_count": 126,
      "outputs": []
    },
    {
      "cell_type": "code",
      "source": [
        "from keras.optimizers import Adam\n",
        "sequence_len= 25\n",
        "embedding_dim= 100\n",
        "input_shape = (sequence_len,)\n",
        "input_layer = Input(shape=input_shape)\n",
        "embedding_layer = Embedding(input_dim=vocab_size,\n",
        "                            output_dim=embedding_dim,\n",
        "                            weights=[embedding_matrix],\n",
        "                            trainable=False)(input_layer)\n"
      ],
      "metadata": {
        "id": "5uDA_Kko2TSB"
      },
      "execution_count": 127,
      "outputs": []
    },
    {
      "cell_type": "code",
      "source": [
        "# channel 1\n",
        "dropout_1 = Dropout(0.5)(embedding_layer)\n",
        "conv_1d_1 = Conv1D(64,5,activation='relu')(dropout_1)\n",
        "dropout_2 = Dropout(0.3)(conv_1d_1)\n",
        "gmp1d_1 = GlobalMaxPool1D()(dropout_2)\n",
        "dense_control_1 = Dense(64,activation='relu')(gmp1d_1)\n",
        "\n",
        "dense1 = Dense(64,activation='relu')(gmp1d_1)\n",
        "output_stress = Dense(1,activation='sigmoid',name='output_stress')(dense1)\n",
        "\n",
        "model1 = Model(inputs=input_layer,outputs=[output_stress])\n",
        "high_learning_rate = 0.001\n",
        "\n",
        "model1.compile(loss='binary_crossentropy',optimizer=Adam(learning_rate=high_learning_rate),metrics=['accuracy'])\n",
        "model1.summary()"
      ],
      "metadata": {
        "id": "Oscs-2v1oc7c",
        "outputId": "97560ce5-3e5f-48c8-8539-9c95fe098c75",
        "colab": {
          "base_uri": "https://localhost:8080/",
          "height": 401
        }
      },
      "execution_count": 129,
      "outputs": [
        {
          "output_type": "display_data",
          "data": {
            "text/plain": [
              "\u001b[1mModel: \"functional_4\"\u001b[0m\n"
            ],
            "text/html": [
              "<pre style=\"white-space:pre;overflow-x:auto;line-height:normal;font-family:Menlo,'DejaVu Sans Mono',consolas,'Courier New',monospace\"><span style=\"font-weight: bold\">Model: \"functional_4\"</span>\n",
              "</pre>\n"
            ]
          },
          "metadata": {}
        },
        {
          "output_type": "display_data",
          "data": {
            "text/plain": [
              "┏━━━━━━━━━━━━━━━━━━━━━━━━━━━━━━━━━━━━━━┳━━━━━━━━━━━━━━━━━━━━━━━━━━━━━┳━━━━━━━━━━━━━━━━━┓\n",
              "┃\u001b[1m \u001b[0m\u001b[1mLayer (type)                        \u001b[0m\u001b[1m \u001b[0m┃\u001b[1m \u001b[0m\u001b[1mOutput Shape               \u001b[0m\u001b[1m \u001b[0m┃\u001b[1m \u001b[0m\u001b[1m        Param #\u001b[0m\u001b[1m \u001b[0m┃\n",
              "┡━━━━━━━━━━━━━━━━━━━━━━━━━━━━━━━━━━━━━━╇━━━━━━━━━━━━━━━━━━━━━━━━━━━━━╇━━━━━━━━━━━━━━━━━┩\n",
              "│ input_layer_3 (\u001b[38;5;33mInputLayer\u001b[0m)           │ (\u001b[38;5;45mNone\u001b[0m, \u001b[38;5;34m25\u001b[0m)                  │               \u001b[38;5;34m0\u001b[0m │\n",
              "├──────────────────────────────────────┼─────────────────────────────┼─────────────────┤\n",
              "│ embedding_3 (\u001b[38;5;33mEmbedding\u001b[0m)              │ (\u001b[38;5;45mNone\u001b[0m, \u001b[38;5;34m25\u001b[0m, \u001b[38;5;34m100\u001b[0m)             │       \u001b[38;5;34m1,695,000\u001b[0m │\n",
              "├──────────────────────────────────────┼─────────────────────────────┼─────────────────┤\n",
              "│ dropout_4 (\u001b[38;5;33mDropout\u001b[0m)                  │ (\u001b[38;5;45mNone\u001b[0m, \u001b[38;5;34m25\u001b[0m, \u001b[38;5;34m100\u001b[0m)             │               \u001b[38;5;34m0\u001b[0m │\n",
              "├──────────────────────────────────────┼─────────────────────────────┼─────────────────┤\n",
              "│ conv1d_2 (\u001b[38;5;33mConv1D\u001b[0m)                    │ (\u001b[38;5;45mNone\u001b[0m, \u001b[38;5;34m21\u001b[0m, \u001b[38;5;34m64\u001b[0m)              │          \u001b[38;5;34m32,064\u001b[0m │\n",
              "├──────────────────────────────────────┼─────────────────────────────┼─────────────────┤\n",
              "│ dropout_5 (\u001b[38;5;33mDropout\u001b[0m)                  │ (\u001b[38;5;45mNone\u001b[0m, \u001b[38;5;34m21\u001b[0m, \u001b[38;5;34m64\u001b[0m)              │               \u001b[38;5;34m0\u001b[0m │\n",
              "├──────────────────────────────────────┼─────────────────────────────┼─────────────────┤\n",
              "│ global_max_pooling1d_4               │ (\u001b[38;5;45mNone\u001b[0m, \u001b[38;5;34m64\u001b[0m)                  │               \u001b[38;5;34m0\u001b[0m │\n",
              "│ (\u001b[38;5;33mGlobalMaxPooling1D\u001b[0m)                 │                             │                 │\n",
              "├──────────────────────────────────────┼─────────────────────────────┼─────────────────┤\n",
              "│ dense_7 (\u001b[38;5;33mDense\u001b[0m)                      │ (\u001b[38;5;45mNone\u001b[0m, \u001b[38;5;34m64\u001b[0m)                  │           \u001b[38;5;34m4,160\u001b[0m │\n",
              "├──────────────────────────────────────┼─────────────────────────────┼─────────────────┤\n",
              "│ output_stress (\u001b[38;5;33mDense\u001b[0m)                │ (\u001b[38;5;45mNone\u001b[0m, \u001b[38;5;34m1\u001b[0m)                   │              \u001b[38;5;34m65\u001b[0m │\n",
              "└──────────────────────────────────────┴─────────────────────────────┴─────────────────┘\n"
            ],
            "text/html": [
              "<pre style=\"white-space:pre;overflow-x:auto;line-height:normal;font-family:Menlo,'DejaVu Sans Mono',consolas,'Courier New',monospace\">┏━━━━━━━━━━━━━━━━━━━━━━━━━━━━━━━━━━━━━━┳━━━━━━━━━━━━━━━━━━━━━━━━━━━━━┳━━━━━━━━━━━━━━━━━┓\n",
              "┃<span style=\"font-weight: bold\"> Layer (type)                         </span>┃<span style=\"font-weight: bold\"> Output Shape                </span>┃<span style=\"font-weight: bold\">         Param # </span>┃\n",
              "┡━━━━━━━━━━━━━━━━━━━━━━━━━━━━━━━━━━━━━━╇━━━━━━━━━━━━━━━━━━━━━━━━━━━━━╇━━━━━━━━━━━━━━━━━┩\n",
              "│ input_layer_3 (<span style=\"color: #0087ff; text-decoration-color: #0087ff\">InputLayer</span>)           │ (<span style=\"color: #00d7ff; text-decoration-color: #00d7ff\">None</span>, <span style=\"color: #00af00; text-decoration-color: #00af00\">25</span>)                  │               <span style=\"color: #00af00; text-decoration-color: #00af00\">0</span> │\n",
              "├──────────────────────────────────────┼─────────────────────────────┼─────────────────┤\n",
              "│ embedding_3 (<span style=\"color: #0087ff; text-decoration-color: #0087ff\">Embedding</span>)              │ (<span style=\"color: #00d7ff; text-decoration-color: #00d7ff\">None</span>, <span style=\"color: #00af00; text-decoration-color: #00af00\">25</span>, <span style=\"color: #00af00; text-decoration-color: #00af00\">100</span>)             │       <span style=\"color: #00af00; text-decoration-color: #00af00\">1,695,000</span> │\n",
              "├──────────────────────────────────────┼─────────────────────────────┼─────────────────┤\n",
              "│ dropout_4 (<span style=\"color: #0087ff; text-decoration-color: #0087ff\">Dropout</span>)                  │ (<span style=\"color: #00d7ff; text-decoration-color: #00d7ff\">None</span>, <span style=\"color: #00af00; text-decoration-color: #00af00\">25</span>, <span style=\"color: #00af00; text-decoration-color: #00af00\">100</span>)             │               <span style=\"color: #00af00; text-decoration-color: #00af00\">0</span> │\n",
              "├──────────────────────────────────────┼─────────────────────────────┼─────────────────┤\n",
              "│ conv1d_2 (<span style=\"color: #0087ff; text-decoration-color: #0087ff\">Conv1D</span>)                    │ (<span style=\"color: #00d7ff; text-decoration-color: #00d7ff\">None</span>, <span style=\"color: #00af00; text-decoration-color: #00af00\">21</span>, <span style=\"color: #00af00; text-decoration-color: #00af00\">64</span>)              │          <span style=\"color: #00af00; text-decoration-color: #00af00\">32,064</span> │\n",
              "├──────────────────────────────────────┼─────────────────────────────┼─────────────────┤\n",
              "│ dropout_5 (<span style=\"color: #0087ff; text-decoration-color: #0087ff\">Dropout</span>)                  │ (<span style=\"color: #00d7ff; text-decoration-color: #00d7ff\">None</span>, <span style=\"color: #00af00; text-decoration-color: #00af00\">21</span>, <span style=\"color: #00af00; text-decoration-color: #00af00\">64</span>)              │               <span style=\"color: #00af00; text-decoration-color: #00af00\">0</span> │\n",
              "├──────────────────────────────────────┼─────────────────────────────┼─────────────────┤\n",
              "│ global_max_pooling1d_4               │ (<span style=\"color: #00d7ff; text-decoration-color: #00d7ff\">None</span>, <span style=\"color: #00af00; text-decoration-color: #00af00\">64</span>)                  │               <span style=\"color: #00af00; text-decoration-color: #00af00\">0</span> │\n",
              "│ (<span style=\"color: #0087ff; text-decoration-color: #0087ff\">GlobalMaxPooling1D</span>)                 │                             │                 │\n",
              "├──────────────────────────────────────┼─────────────────────────────┼─────────────────┤\n",
              "│ dense_7 (<span style=\"color: #0087ff; text-decoration-color: #0087ff\">Dense</span>)                      │ (<span style=\"color: #00d7ff; text-decoration-color: #00d7ff\">None</span>, <span style=\"color: #00af00; text-decoration-color: #00af00\">64</span>)                  │           <span style=\"color: #00af00; text-decoration-color: #00af00\">4,160</span> │\n",
              "├──────────────────────────────────────┼─────────────────────────────┼─────────────────┤\n",
              "│ output_stress (<span style=\"color: #0087ff; text-decoration-color: #0087ff\">Dense</span>)                │ (<span style=\"color: #00d7ff; text-decoration-color: #00d7ff\">None</span>, <span style=\"color: #00af00; text-decoration-color: #00af00\">1</span>)                   │              <span style=\"color: #00af00; text-decoration-color: #00af00\">65</span> │\n",
              "└──────────────────────────────────────┴─────────────────────────────┴─────────────────┘\n",
              "</pre>\n"
            ]
          },
          "metadata": {}
        },
        {
          "output_type": "display_data",
          "data": {
            "text/plain": [
              "\u001b[1m Total params: \u001b[0m\u001b[38;5;34m1,731,289\u001b[0m (6.60 MB)\n"
            ],
            "text/html": [
              "<pre style=\"white-space:pre;overflow-x:auto;line-height:normal;font-family:Menlo,'DejaVu Sans Mono',consolas,'Courier New',monospace\"><span style=\"font-weight: bold\"> Total params: </span><span style=\"color: #00af00; text-decoration-color: #00af00\">1,731,289</span> (6.60 MB)\n",
              "</pre>\n"
            ]
          },
          "metadata": {}
        },
        {
          "output_type": "display_data",
          "data": {
            "text/plain": [
              "\u001b[1m Trainable params: \u001b[0m\u001b[38;5;34m36,289\u001b[0m (141.75 KB)\n"
            ],
            "text/html": [
              "<pre style=\"white-space:pre;overflow-x:auto;line-height:normal;font-family:Menlo,'DejaVu Sans Mono',consolas,'Courier New',monospace\"><span style=\"font-weight: bold\"> Trainable params: </span><span style=\"color: #00af00; text-decoration-color: #00af00\">36,289</span> (141.75 KB)\n",
              "</pre>\n"
            ]
          },
          "metadata": {}
        },
        {
          "output_type": "display_data",
          "data": {
            "text/plain": [
              "\u001b[1m Non-trainable params: \u001b[0m\u001b[38;5;34m1,695,000\u001b[0m (6.47 MB)\n"
            ],
            "text/html": [
              "<pre style=\"white-space:pre;overflow-x:auto;line-height:normal;font-family:Menlo,'DejaVu Sans Mono',consolas,'Courier New',monospace\"><span style=\"font-weight: bold\"> Non-trainable params: </span><span style=\"color: #00af00; text-decoration-color: #00af00\">1,695,000</span> (6.47 MB)\n",
              "</pre>\n"
            ]
          },
          "metadata": {}
        }
      ]
    },
    {
      "cell_type": "code",
      "source": [
        "history = model1.fit(X_train,[y_train_task2],validation_data=(X_val,[y_val_task2]),epochs=15,batch_size=32)"
      ],
      "metadata": {
        "collapsed": true,
        "id": "_SEhk-erozKC",
        "outputId": "9e073219-3441-4198-a7dc-0dac05afdc8c",
        "colab": {
          "base_uri": "https://localhost:8080/"
        }
      },
      "execution_count": 131,
      "outputs": [
        {
          "output_type": "stream",
          "name": "stdout",
          "text": [
            "Epoch 1/15\n",
            "\u001b[1m878/878\u001b[0m \u001b[32m━━━━━━━━━━━━━━━━━━━━\u001b[0m\u001b[37m\u001b[0m \u001b[1m14s\u001b[0m 15ms/step - accuracy: 0.9384 - loss: 0.1596 - val_accuracy: 0.9544 - val_loss: 0.1489\n",
            "Epoch 2/15\n",
            "\u001b[1m878/878\u001b[0m \u001b[32m━━━━━━━━━━━━━━━━━━━━\u001b[0m\u001b[37m\u001b[0m \u001b[1m17s\u001b[0m 12ms/step - accuracy: 0.9417 - loss: 0.1500 - val_accuracy: 0.9665 - val_loss: 0.1120\n",
            "Epoch 3/15\n",
            "\u001b[1m878/878\u001b[0m \u001b[32m━━━━━━━━━━━━━━━━━━━━\u001b[0m\u001b[37m\u001b[0m \u001b[1m22s\u001b[0m 13ms/step - accuracy: 0.9433 - loss: 0.1394 - val_accuracy: 0.9651 - val_loss: 0.1033\n",
            "Epoch 4/15\n",
            "\u001b[1m878/878\u001b[0m \u001b[32m━━━━━━━━━━━━━━━━━━━━\u001b[0m\u001b[37m\u001b[0m \u001b[1m7s\u001b[0m 8ms/step - accuracy: 0.9474 - loss: 0.1344 - val_accuracy: 0.9716 - val_loss: 0.0979\n",
            "Epoch 5/15\n",
            "\u001b[1m878/878\u001b[0m \u001b[32m━━━━━━━━━━━━━━━━━━━━\u001b[0m\u001b[37m\u001b[0m \u001b[1m9s\u001b[0m 10ms/step - accuracy: 0.9554 - loss: 0.1196 - val_accuracy: 0.9695 - val_loss: 0.0877\n",
            "Epoch 6/15\n",
            "\u001b[1m878/878\u001b[0m \u001b[32m━━━━━━━━━━━━━━━━━━━━\u001b[0m\u001b[37m\u001b[0m \u001b[1m12s\u001b[0m 12ms/step - accuracy: 0.9571 - loss: 0.1136 - val_accuracy: 0.9746 - val_loss: 0.0874\n",
            "Epoch 7/15\n",
            "\u001b[1m878/878\u001b[0m \u001b[32m━━━━━━━━━━━━━━━━━━━━\u001b[0m\u001b[37m\u001b[0m \u001b[1m21s\u001b[0m 13ms/step - accuracy: 0.9587 - loss: 0.1100 - val_accuracy: 0.9758 - val_loss: 0.0836\n",
            "Epoch 8/15\n",
            "\u001b[1m878/878\u001b[0m \u001b[32m━━━━━━━━━━━━━━━━━━━━\u001b[0m\u001b[37m\u001b[0m \u001b[1m18s\u001b[0m 10ms/step - accuracy: 0.9547 - loss: 0.1163 - val_accuracy: 0.9759 - val_loss: 0.0788\n",
            "Epoch 9/15\n",
            "\u001b[1m878/878\u001b[0m \u001b[32m━━━━━━━━━━━━━━━━━━━━\u001b[0m\u001b[37m\u001b[0m \u001b[1m12s\u001b[0m 12ms/step - accuracy: 0.9594 - loss: 0.1078 - val_accuracy: 0.9773 - val_loss: 0.0790\n",
            "Epoch 10/15\n",
            "\u001b[1m878/878\u001b[0m \u001b[32m━━━━━━━━━━━━━━━━━━━━\u001b[0m\u001b[37m\u001b[0m \u001b[1m21s\u001b[0m 13ms/step - accuracy: 0.9594 - loss: 0.1082 - val_accuracy: 0.9759 - val_loss: 0.0714\n",
            "Epoch 11/15\n",
            "\u001b[1m878/878\u001b[0m \u001b[32m━━━━━━━━━━━━━━━━━━━━\u001b[0m\u001b[37m\u001b[0m \u001b[1m18s\u001b[0m 10ms/step - accuracy: 0.9628 - loss: 0.0955 - val_accuracy: 0.9795 - val_loss: 0.0661\n",
            "Epoch 12/15\n",
            "\u001b[1m878/878\u001b[0m \u001b[32m━━━━━━━━━━━━━━━━━━━━\u001b[0m\u001b[37m\u001b[0m \u001b[1m13s\u001b[0m 15ms/step - accuracy: 0.9593 - loss: 0.1054 - val_accuracy: 0.9808 - val_loss: 0.0715\n",
            "Epoch 13/15\n",
            "\u001b[1m878/878\u001b[0m \u001b[32m━━━━━━━━━━━━━━━━━━━━\u001b[0m\u001b[37m\u001b[0m \u001b[1m12s\u001b[0m 14ms/step - accuracy: 0.9634 - loss: 0.0965 - val_accuracy: 0.9786 - val_loss: 0.0683\n",
            "Epoch 14/15\n",
            "\u001b[1m878/878\u001b[0m \u001b[32m━━━━━━━━━━━━━━━━━━━━\u001b[0m\u001b[37m\u001b[0m \u001b[1m17s\u001b[0m 9ms/step - accuracy: 0.9628 - loss: 0.0956 - val_accuracy: 0.9798 - val_loss: 0.0690\n",
            "Epoch 15/15\n",
            "\u001b[1m878/878\u001b[0m \u001b[32m━━━━━━━━━━━━━━━━━━━━\u001b[0m\u001b[37m\u001b[0m \u001b[1m11s\u001b[0m 10ms/step - accuracy: 0.9634 - loss: 0.0971 - val_accuracy: 0.9799 - val_loss: 0.0678\n"
          ]
        }
      ]
    },
    {
      "cell_type": "code",
      "source": [
        "X_val.shape"
      ],
      "metadata": {
        "id": "IqLAfGm5p4S4",
        "outputId": "e057e84f-6738-477f-d6cf-54b4332a540c",
        "colab": {
          "base_uri": "https://localhost:8080/"
        }
      },
      "execution_count": 132,
      "outputs": [
        {
          "output_type": "execute_result",
          "data": {
            "text/plain": [
              "(7019, 25)"
            ]
          },
          "metadata": {},
          "execution_count": 132
        }
      ]
    },
    {
      "cell_type": "code",
      "source": [
        "list(y_val_task2).count(1)"
      ],
      "metadata": {
        "id": "Nv-e2JALrIrr",
        "outputId": "95b47ead-0752-4688-cc30-be28463a7e1d",
        "colab": {
          "base_uri": "https://localhost:8080/"
        }
      },
      "execution_count": 133,
      "outputs": [
        {
          "output_type": "execute_result",
          "data": {
            "text/plain": [
              "5503"
            ]
          },
          "metadata": {},
          "execution_count": 133
        }
      ]
    },
    {
      "cell_type": "code",
      "source": [
        "y_pred_task2 = model1.predict(X_val)"
      ],
      "metadata": {
        "id": "Wslq_mNkpN_g",
        "outputId": "5614d792-dad0-44c7-c8a2-61a75544f52e",
        "colab": {
          "base_uri": "https://localhost:8080/"
        }
      },
      "execution_count": 134,
      "outputs": [
        {
          "output_type": "stream",
          "name": "stdout",
          "text": [
            "\u001b[1m220/220\u001b[0m \u001b[32m━━━━━━━━━━━━━━━━━━━━\u001b[0m\u001b[37m\u001b[0m \u001b[1m1s\u001b[0m 5ms/step\n"
          ]
        }
      ]
    },
    {
      "cell_type": "code",
      "source": [
        "threshold=0.5\n",
        "# y_pred_binary1 = np.where(y_pred_task1>=threshold ,1,0)\n",
        "y_pred_binary2 = np.where(y_pred_task2>=threshold ,1,0)"
      ],
      "metadata": {
        "id": "sBQguue_pc3K"
      },
      "execution_count": 135,
      "outputs": []
    },
    {
      "cell_type": "code",
      "source": [
        "confusion_matrix(y_val_task2,y_pred_binary2)"
      ],
      "metadata": {
        "id": "zUGwCu0ZwoMy",
        "outputId": "4c4aeb87-0959-4572-a591-b6552516f817",
        "colab": {
          "base_uri": "https://localhost:8080/"
        }
      },
      "execution_count": 136,
      "outputs": [
        {
          "output_type": "execute_result",
          "data": {
            "text/plain": [
              "array([[1426,   90],\n",
              "       [  51, 5452]])"
            ]
          },
          "metadata": {},
          "execution_count": 136
        }
      ]
    },
    {
      "cell_type": "code",
      "source": [
        "list(y_pred_binary2).count(1)"
      ],
      "metadata": {
        "id": "-vF-vjB9pRyP",
        "outputId": "da6578d8-c405-4fbb-cb49-4ea6ebac31a0",
        "colab": {
          "base_uri": "https://localhost:8080/"
        }
      },
      "execution_count": 137,
      "outputs": [
        {
          "output_type": "execute_result",
          "data": {
            "text/plain": [
              "5542"
            ]
          },
          "metadata": {},
          "execution_count": 137
        }
      ]
    },
    {
      "cell_type": "code",
      "source": [
        "accuracy_score(y_val_task2,y_pred_binary2)"
      ],
      "metadata": {
        "id": "1kFV_RDnqTq6",
        "outputId": "4829733b-dc6a-45be-eadd-a27b653455ba",
        "colab": {
          "base_uri": "https://localhost:8080/"
        }
      },
      "execution_count": 138,
      "outputs": [
        {
          "output_type": "execute_result",
          "data": {
            "text/plain": [
              "0.9799116683288218"
            ]
          },
          "metadata": {},
          "execution_count": 138
        }
      ]
    },
    {
      "cell_type": "code",
      "source": [
        "f1_score_Stress = f1_score(y_val_task2,y_pred_binary2)\n",
        "print(f1_score_Stress)"
      ],
      "metadata": {
        "id": "vdzywJKppnJu",
        "outputId": "4d8c4fe9-1bf2-4628-da9e-5756e9b97ae7",
        "colab": {
          "base_uri": "https://localhost:8080/"
        }
      },
      "execution_count": 139,
      "outputs": [
        {
          "output_type": "stream",
          "name": "stdout",
          "text": [
            "0.9872340425531915\n"
          ]
        }
      ]
    },
    {
      "cell_type": "code",
      "source": [
        "recall_score(y_val_task2,y_pred_binary2)"
      ],
      "metadata": {
        "id": "FvUFGjw4XHTV",
        "outputId": "d8ff4e7b-4a52-4d35-910c-8396e4f85b95",
        "colab": {
          "base_uri": "https://localhost:8080/"
        }
      },
      "execution_count": 140,
      "outputs": [
        {
          "output_type": "execute_result",
          "data": {
            "text/plain": [
              "0.9907323278211885"
            ]
          },
          "metadata": {},
          "execution_count": 140
        }
      ]
    },
    {
      "cell_type": "code",
      "source": [
        "precision_score(y_val_task2,y_pred_binary2,average=None)"
      ],
      "metadata": {
        "id": "X54BtpWxXMTH",
        "outputId": "af50af8f-f187-4133-f518-83126f48fb80",
        "colab": {
          "base_uri": "https://localhost:8080/"
        }
      },
      "execution_count": 143,
      "outputs": [
        {
          "output_type": "execute_result",
          "data": {
            "text/plain": [
              "array([0.96547055, 0.98376038])"
            ]
          },
          "metadata": {},
          "execution_count": 143
        }
      ]
    },
    {
      "cell_type": "code",
      "source": [
        "from keras import backend as K\n",
        "\n",
        "def f1_score_metric(y_true, y_pred):\n",
        "    y_pred = K.round(y_pred)  # Convert probabilities to 0 or 1\n",
        "    tp = K.sum(K.cast(y_true * y_pred, 'float'), axis=0)  # True positives\n",
        "    fp = K.sum(K.cast((1 - y_true) * y_pred, 'float'), axis=0)  # False positives\n",
        "    fn = K.sum(K.cast(y_true * (1 - y_pred), 'float'), axis=0)  # False negatives\n",
        "\n",
        "    precision = tp / (tp + fp + K.epsilon())  # Precision\n",
        "    recall = tp / (tp + fn + K.epsilon())  # Recall\n",
        "\n",
        "    f1 = 2 * (precision * recall) / (precision + recall + K.epsilon())  # F1 Score\n",
        "    return K.mean(f1)  # Average F1 score across batches\n"
      ],
      "metadata": {
        "id": "hsvSke2vuklf"
      },
      "execution_count": 173,
      "outputs": []
    },
    {
      "cell_type": "code",
      "source": [
        "# channel 1\n",
        "dropout_1 = Dropout(0.5)(embedding_layer)\n",
        "conv_1d_1 = Conv1D(64,5,activation='relu')(dropout_1)\n",
        "dropout_2 = Dropout(0.3)(conv_1d_1)\n",
        "gmp1d_1 = GlobalMaxPool1D()(dropout_2)\n",
        "dense_control_1 = Dense(64,activation='relu')(gmp1d_1)\n",
        "\n",
        "# Channel 2\n",
        "dropout_3 = Dropout(0.5)(embedding_layer)\n",
        "conv_1d_2 = Conv1D(64,5,activation='relu')(dropout_3)\n",
        "dropout_4 = Dropout(0.3)(conv_1d_2)\n",
        "gmp1d_2 = GlobalMaxPool1D()(dropout_4)\n",
        "\n",
        "merged = Concatenate(axis=-1)([gmp1d_1,gmp1d_2])\n",
        "\n",
        "dense1 = Dense(64,activation='relu')(merged)\n",
        "output_sarcasm = Dense(1,activation='sigmoid',name='output_sarcasm')(dense1)\n",
        "output_stress = Dense(1,activation='sigmoid',name='output_stress')(dense1)\n",
        "\n",
        "model = Model(inputs=input_layer,outputs=[output_sarcasm,output_stress])\n",
        "# high_learning_rate = 0.1\n",
        "\n",
        "# model.compile(loss='binary_crossentropy',optimizer=Adam(learning_rate=high_learning_rate),metrics=['accuracy','accuracy'])\n",
        "model.compile(\n",
        "    loss={'output_sarcasm': 'binary_crossentropy', 'output_stress': 'binary_crossentropy'},\n",
        "    loss_weights={'output_sarcasm': 1.0, 'output_stress': 1.0},  # Adjust these weights\n",
        "    optimizer=Adam(learning_rate=0.001),\n",
        "    metrics=['accuracy','accuracy']\n",
        ")\n",
        "\n",
        "model.summary()"
      ],
      "metadata": {
        "id": "s5h441j4BR2o",
        "colab": {
          "base_uri": "https://localhost:8080/",
          "height": 641
        },
        "outputId": "1e89f900-eb2c-4cab-f320-38249c184f7f",
        "collapsed": true
      },
      "execution_count": 174,
      "outputs": [
        {
          "output_type": "display_data",
          "data": {
            "text/plain": [
              "\u001b[1mModel: \"functional_9\"\u001b[0m\n"
            ],
            "text/html": [
              "<pre style=\"white-space:pre;overflow-x:auto;line-height:normal;font-family:Menlo,'DejaVu Sans Mono',consolas,'Courier New',monospace\"><span style=\"font-weight: bold\">Model: \"functional_9\"</span>\n",
              "</pre>\n"
            ]
          },
          "metadata": {}
        },
        {
          "output_type": "display_data",
          "data": {
            "text/plain": [
              "┏━━━━━━━━━━━━━━━━━━━━━━━━━━━┳━━━━━━━━━━━━━━━━━━━━━━━━┳━━━━━━━━━━━━━━━━┳━━━━━━━━━━━━━━━━━━━━━━━━┓\n",
              "┃\u001b[1m \u001b[0m\u001b[1mLayer (type)             \u001b[0m\u001b[1m \u001b[0m┃\u001b[1m \u001b[0m\u001b[1mOutput Shape          \u001b[0m\u001b[1m \u001b[0m┃\u001b[1m \u001b[0m\u001b[1m       Param #\u001b[0m\u001b[1m \u001b[0m┃\u001b[1m \u001b[0m\u001b[1mConnected to          \u001b[0m\u001b[1m \u001b[0m┃\n",
              "┡━━━━━━━━━━━━━━━━━━━━━━━━━━━╇━━━━━━━━━━━━━━━━━━━━━━━━╇━━━━━━━━━━━━━━━━╇━━━━━━━━━━━━━━━━━━━━━━━━┩\n",
              "│ input_layer_5             │ (\u001b[38;5;45mNone\u001b[0m, \u001b[38;5;34m22\u001b[0m)             │              \u001b[38;5;34m0\u001b[0m │ -                      │\n",
              "│ (\u001b[38;5;33mInputLayer\u001b[0m)              │                        │                │                        │\n",
              "├───────────────────────────┼────────────────────────┼────────────────┼────────────────────────┤\n",
              "│ embedding_4 (\u001b[38;5;33mEmbedding\u001b[0m)   │ (\u001b[38;5;45mNone\u001b[0m, \u001b[38;5;34m22\u001b[0m, \u001b[38;5;34m100\u001b[0m)        │        \u001b[38;5;34m508,300\u001b[0m │ input_layer_5[\u001b[38;5;34m0\u001b[0m][\u001b[38;5;34m0\u001b[0m]    │\n",
              "├───────────────────────────┼────────────────────────┼────────────────┼────────────────────────┤\n",
              "│ dropout_22 (\u001b[38;5;33mDropout\u001b[0m)      │ (\u001b[38;5;45mNone\u001b[0m, \u001b[38;5;34m22\u001b[0m, \u001b[38;5;34m100\u001b[0m)        │              \u001b[38;5;34m0\u001b[0m │ embedding_4[\u001b[38;5;34m0\u001b[0m][\u001b[38;5;34m0\u001b[0m]      │\n",
              "├───────────────────────────┼────────────────────────┼────────────────┼────────────────────────┤\n",
              "│ dropout_24 (\u001b[38;5;33mDropout\u001b[0m)      │ (\u001b[38;5;45mNone\u001b[0m, \u001b[38;5;34m22\u001b[0m, \u001b[38;5;34m100\u001b[0m)        │              \u001b[38;5;34m0\u001b[0m │ embedding_4[\u001b[38;5;34m0\u001b[0m][\u001b[38;5;34m0\u001b[0m]      │\n",
              "├───────────────────────────┼────────────────────────┼────────────────┼────────────────────────┤\n",
              "│ conv1d_12 (\u001b[38;5;33mConv1D\u001b[0m)        │ (\u001b[38;5;45mNone\u001b[0m, \u001b[38;5;34m18\u001b[0m, \u001b[38;5;34m64\u001b[0m)         │         \u001b[38;5;34m32,064\u001b[0m │ dropout_22[\u001b[38;5;34m0\u001b[0m][\u001b[38;5;34m0\u001b[0m]       │\n",
              "├───────────────────────────┼────────────────────────┼────────────────┼────────────────────────┤\n",
              "│ conv1d_13 (\u001b[38;5;33mConv1D\u001b[0m)        │ (\u001b[38;5;45mNone\u001b[0m, \u001b[38;5;34m18\u001b[0m, \u001b[38;5;34m64\u001b[0m)         │         \u001b[38;5;34m32,064\u001b[0m │ dropout_24[\u001b[38;5;34m0\u001b[0m][\u001b[38;5;34m0\u001b[0m]       │\n",
              "├───────────────────────────┼────────────────────────┼────────────────┼────────────────────────┤\n",
              "│ dropout_23 (\u001b[38;5;33mDropout\u001b[0m)      │ (\u001b[38;5;45mNone\u001b[0m, \u001b[38;5;34m18\u001b[0m, \u001b[38;5;34m64\u001b[0m)         │              \u001b[38;5;34m0\u001b[0m │ conv1d_12[\u001b[38;5;34m0\u001b[0m][\u001b[38;5;34m0\u001b[0m]        │\n",
              "├───────────────────────────┼────────────────────────┼────────────────┼────────────────────────┤\n",
              "│ dropout_25 (\u001b[38;5;33mDropout\u001b[0m)      │ (\u001b[38;5;45mNone\u001b[0m, \u001b[38;5;34m18\u001b[0m, \u001b[38;5;34m64\u001b[0m)         │              \u001b[38;5;34m0\u001b[0m │ conv1d_13[\u001b[38;5;34m0\u001b[0m][\u001b[38;5;34m0\u001b[0m]        │\n",
              "├───────────────────────────┼────────────────────────┼────────────────┼────────────────────────┤\n",
              "│ global_max_pooling1d_16   │ (\u001b[38;5;45mNone\u001b[0m, \u001b[38;5;34m64\u001b[0m)             │              \u001b[38;5;34m0\u001b[0m │ dropout_23[\u001b[38;5;34m0\u001b[0m][\u001b[38;5;34m0\u001b[0m]       │\n",
              "│ (\u001b[38;5;33mGlobalMaxPooling1D\u001b[0m)      │                        │                │                        │\n",
              "├───────────────────────────┼────────────────────────┼────────────────┼────────────────────────┤\n",
              "│ global_max_pooling1d_17   │ (\u001b[38;5;45mNone\u001b[0m, \u001b[38;5;34m64\u001b[0m)             │              \u001b[38;5;34m0\u001b[0m │ dropout_25[\u001b[38;5;34m0\u001b[0m][\u001b[38;5;34m0\u001b[0m]       │\n",
              "│ (\u001b[38;5;33mGlobalMaxPooling1D\u001b[0m)      │                        │                │                        │\n",
              "├───────────────────────────┼────────────────────────┼────────────────┼────────────────────────┤\n",
              "│ concatenate_11            │ (\u001b[38;5;45mNone\u001b[0m, \u001b[38;5;34m128\u001b[0m)            │              \u001b[38;5;34m0\u001b[0m │ global_max_pooling1d_… │\n",
              "│ (\u001b[38;5;33mConcatenate\u001b[0m)             │                        │                │ global_max_pooling1d_… │\n",
              "├───────────────────────────┼────────────────────────┼────────────────┼────────────────────────┤\n",
              "│ dense_16 (\u001b[38;5;33mDense\u001b[0m)          │ (\u001b[38;5;45mNone\u001b[0m, \u001b[38;5;34m64\u001b[0m)             │          \u001b[38;5;34m8,256\u001b[0m │ concatenate_11[\u001b[38;5;34m0\u001b[0m][\u001b[38;5;34m0\u001b[0m]   │\n",
              "├───────────────────────────┼────────────────────────┼────────────────┼────────────────────────┤\n",
              "│ output_sarcasm (\u001b[38;5;33mDense\u001b[0m)    │ (\u001b[38;5;45mNone\u001b[0m, \u001b[38;5;34m1\u001b[0m)              │             \u001b[38;5;34m65\u001b[0m │ dense_16[\u001b[38;5;34m0\u001b[0m][\u001b[38;5;34m0\u001b[0m]         │\n",
              "├───────────────────────────┼────────────────────────┼────────────────┼────────────────────────┤\n",
              "│ output_stress (\u001b[38;5;33mDense\u001b[0m)     │ (\u001b[38;5;45mNone\u001b[0m, \u001b[38;5;34m1\u001b[0m)              │             \u001b[38;5;34m65\u001b[0m │ dense_16[\u001b[38;5;34m0\u001b[0m][\u001b[38;5;34m0\u001b[0m]         │\n",
              "└───────────────────────────┴────────────────────────┴────────────────┴────────────────────────┘\n"
            ],
            "text/html": [
              "<pre style=\"white-space:pre;overflow-x:auto;line-height:normal;font-family:Menlo,'DejaVu Sans Mono',consolas,'Courier New',monospace\">┏━━━━━━━━━━━━━━━━━━━━━━━━━━━┳━━━━━━━━━━━━━━━━━━━━━━━━┳━━━━━━━━━━━━━━━━┳━━━━━━━━━━━━━━━━━━━━━━━━┓\n",
              "┃<span style=\"font-weight: bold\"> Layer (type)              </span>┃<span style=\"font-weight: bold\"> Output Shape           </span>┃<span style=\"font-weight: bold\">        Param # </span>┃<span style=\"font-weight: bold\"> Connected to           </span>┃\n",
              "┡━━━━━━━━━━━━━━━━━━━━━━━━━━━╇━━━━━━━━━━━━━━━━━━━━━━━━╇━━━━━━━━━━━━━━━━╇━━━━━━━━━━━━━━━━━━━━━━━━┩\n",
              "│ input_layer_5             │ (<span style=\"color: #00d7ff; text-decoration-color: #00d7ff\">None</span>, <span style=\"color: #00af00; text-decoration-color: #00af00\">22</span>)             │              <span style=\"color: #00af00; text-decoration-color: #00af00\">0</span> │ -                      │\n",
              "│ (<span style=\"color: #0087ff; text-decoration-color: #0087ff\">InputLayer</span>)              │                        │                │                        │\n",
              "├───────────────────────────┼────────────────────────┼────────────────┼────────────────────────┤\n",
              "│ embedding_4 (<span style=\"color: #0087ff; text-decoration-color: #0087ff\">Embedding</span>)   │ (<span style=\"color: #00d7ff; text-decoration-color: #00d7ff\">None</span>, <span style=\"color: #00af00; text-decoration-color: #00af00\">22</span>, <span style=\"color: #00af00; text-decoration-color: #00af00\">100</span>)        │        <span style=\"color: #00af00; text-decoration-color: #00af00\">508,300</span> │ input_layer_5[<span style=\"color: #00af00; text-decoration-color: #00af00\">0</span>][<span style=\"color: #00af00; text-decoration-color: #00af00\">0</span>]    │\n",
              "├───────────────────────────┼────────────────────────┼────────────────┼────────────────────────┤\n",
              "│ dropout_22 (<span style=\"color: #0087ff; text-decoration-color: #0087ff\">Dropout</span>)      │ (<span style=\"color: #00d7ff; text-decoration-color: #00d7ff\">None</span>, <span style=\"color: #00af00; text-decoration-color: #00af00\">22</span>, <span style=\"color: #00af00; text-decoration-color: #00af00\">100</span>)        │              <span style=\"color: #00af00; text-decoration-color: #00af00\">0</span> │ embedding_4[<span style=\"color: #00af00; text-decoration-color: #00af00\">0</span>][<span style=\"color: #00af00; text-decoration-color: #00af00\">0</span>]      │\n",
              "├───────────────────────────┼────────────────────────┼────────────────┼────────────────────────┤\n",
              "│ dropout_24 (<span style=\"color: #0087ff; text-decoration-color: #0087ff\">Dropout</span>)      │ (<span style=\"color: #00d7ff; text-decoration-color: #00d7ff\">None</span>, <span style=\"color: #00af00; text-decoration-color: #00af00\">22</span>, <span style=\"color: #00af00; text-decoration-color: #00af00\">100</span>)        │              <span style=\"color: #00af00; text-decoration-color: #00af00\">0</span> │ embedding_4[<span style=\"color: #00af00; text-decoration-color: #00af00\">0</span>][<span style=\"color: #00af00; text-decoration-color: #00af00\">0</span>]      │\n",
              "├───────────────────────────┼────────────────────────┼────────────────┼────────────────────────┤\n",
              "│ conv1d_12 (<span style=\"color: #0087ff; text-decoration-color: #0087ff\">Conv1D</span>)        │ (<span style=\"color: #00d7ff; text-decoration-color: #00d7ff\">None</span>, <span style=\"color: #00af00; text-decoration-color: #00af00\">18</span>, <span style=\"color: #00af00; text-decoration-color: #00af00\">64</span>)         │         <span style=\"color: #00af00; text-decoration-color: #00af00\">32,064</span> │ dropout_22[<span style=\"color: #00af00; text-decoration-color: #00af00\">0</span>][<span style=\"color: #00af00; text-decoration-color: #00af00\">0</span>]       │\n",
              "├───────────────────────────┼────────────────────────┼────────────────┼────────────────────────┤\n",
              "│ conv1d_13 (<span style=\"color: #0087ff; text-decoration-color: #0087ff\">Conv1D</span>)        │ (<span style=\"color: #00d7ff; text-decoration-color: #00d7ff\">None</span>, <span style=\"color: #00af00; text-decoration-color: #00af00\">18</span>, <span style=\"color: #00af00; text-decoration-color: #00af00\">64</span>)         │         <span style=\"color: #00af00; text-decoration-color: #00af00\">32,064</span> │ dropout_24[<span style=\"color: #00af00; text-decoration-color: #00af00\">0</span>][<span style=\"color: #00af00; text-decoration-color: #00af00\">0</span>]       │\n",
              "├───────────────────────────┼────────────────────────┼────────────────┼────────────────────────┤\n",
              "│ dropout_23 (<span style=\"color: #0087ff; text-decoration-color: #0087ff\">Dropout</span>)      │ (<span style=\"color: #00d7ff; text-decoration-color: #00d7ff\">None</span>, <span style=\"color: #00af00; text-decoration-color: #00af00\">18</span>, <span style=\"color: #00af00; text-decoration-color: #00af00\">64</span>)         │              <span style=\"color: #00af00; text-decoration-color: #00af00\">0</span> │ conv1d_12[<span style=\"color: #00af00; text-decoration-color: #00af00\">0</span>][<span style=\"color: #00af00; text-decoration-color: #00af00\">0</span>]        │\n",
              "├───────────────────────────┼────────────────────────┼────────────────┼────────────────────────┤\n",
              "│ dropout_25 (<span style=\"color: #0087ff; text-decoration-color: #0087ff\">Dropout</span>)      │ (<span style=\"color: #00d7ff; text-decoration-color: #00d7ff\">None</span>, <span style=\"color: #00af00; text-decoration-color: #00af00\">18</span>, <span style=\"color: #00af00; text-decoration-color: #00af00\">64</span>)         │              <span style=\"color: #00af00; text-decoration-color: #00af00\">0</span> │ conv1d_13[<span style=\"color: #00af00; text-decoration-color: #00af00\">0</span>][<span style=\"color: #00af00; text-decoration-color: #00af00\">0</span>]        │\n",
              "├───────────────────────────┼────────────────────────┼────────────────┼────────────────────────┤\n",
              "│ global_max_pooling1d_16   │ (<span style=\"color: #00d7ff; text-decoration-color: #00d7ff\">None</span>, <span style=\"color: #00af00; text-decoration-color: #00af00\">64</span>)             │              <span style=\"color: #00af00; text-decoration-color: #00af00\">0</span> │ dropout_23[<span style=\"color: #00af00; text-decoration-color: #00af00\">0</span>][<span style=\"color: #00af00; text-decoration-color: #00af00\">0</span>]       │\n",
              "│ (<span style=\"color: #0087ff; text-decoration-color: #0087ff\">GlobalMaxPooling1D</span>)      │                        │                │                        │\n",
              "├───────────────────────────┼────────────────────────┼────────────────┼────────────────────────┤\n",
              "│ global_max_pooling1d_17   │ (<span style=\"color: #00d7ff; text-decoration-color: #00d7ff\">None</span>, <span style=\"color: #00af00; text-decoration-color: #00af00\">64</span>)             │              <span style=\"color: #00af00; text-decoration-color: #00af00\">0</span> │ dropout_25[<span style=\"color: #00af00; text-decoration-color: #00af00\">0</span>][<span style=\"color: #00af00; text-decoration-color: #00af00\">0</span>]       │\n",
              "│ (<span style=\"color: #0087ff; text-decoration-color: #0087ff\">GlobalMaxPooling1D</span>)      │                        │                │                        │\n",
              "├───────────────────────────┼────────────────────────┼────────────────┼────────────────────────┤\n",
              "│ concatenate_11            │ (<span style=\"color: #00d7ff; text-decoration-color: #00d7ff\">None</span>, <span style=\"color: #00af00; text-decoration-color: #00af00\">128</span>)            │              <span style=\"color: #00af00; text-decoration-color: #00af00\">0</span> │ global_max_pooling1d_… │\n",
              "│ (<span style=\"color: #0087ff; text-decoration-color: #0087ff\">Concatenate</span>)             │                        │                │ global_max_pooling1d_… │\n",
              "├───────────────────────────┼────────────────────────┼────────────────┼────────────────────────┤\n",
              "│ dense_16 (<span style=\"color: #0087ff; text-decoration-color: #0087ff\">Dense</span>)          │ (<span style=\"color: #00d7ff; text-decoration-color: #00d7ff\">None</span>, <span style=\"color: #00af00; text-decoration-color: #00af00\">64</span>)             │          <span style=\"color: #00af00; text-decoration-color: #00af00\">8,256</span> │ concatenate_11[<span style=\"color: #00af00; text-decoration-color: #00af00\">0</span>][<span style=\"color: #00af00; text-decoration-color: #00af00\">0</span>]   │\n",
              "├───────────────────────────┼────────────────────────┼────────────────┼────────────────────────┤\n",
              "│ output_sarcasm (<span style=\"color: #0087ff; text-decoration-color: #0087ff\">Dense</span>)    │ (<span style=\"color: #00d7ff; text-decoration-color: #00d7ff\">None</span>, <span style=\"color: #00af00; text-decoration-color: #00af00\">1</span>)              │             <span style=\"color: #00af00; text-decoration-color: #00af00\">65</span> │ dense_16[<span style=\"color: #00af00; text-decoration-color: #00af00\">0</span>][<span style=\"color: #00af00; text-decoration-color: #00af00\">0</span>]         │\n",
              "├───────────────────────────┼────────────────────────┼────────────────┼────────────────────────┤\n",
              "│ output_stress (<span style=\"color: #0087ff; text-decoration-color: #0087ff\">Dense</span>)     │ (<span style=\"color: #00d7ff; text-decoration-color: #00d7ff\">None</span>, <span style=\"color: #00af00; text-decoration-color: #00af00\">1</span>)              │             <span style=\"color: #00af00; text-decoration-color: #00af00\">65</span> │ dense_16[<span style=\"color: #00af00; text-decoration-color: #00af00\">0</span>][<span style=\"color: #00af00; text-decoration-color: #00af00\">0</span>]         │\n",
              "└───────────────────────────┴────────────────────────┴────────────────┴────────────────────────┘\n",
              "</pre>\n"
            ]
          },
          "metadata": {}
        },
        {
          "output_type": "display_data",
          "data": {
            "text/plain": [
              "\u001b[1m Total params: \u001b[0m\u001b[38;5;34m580,814\u001b[0m (2.22 MB)\n"
            ],
            "text/html": [
              "<pre style=\"white-space:pre;overflow-x:auto;line-height:normal;font-family:Menlo,'DejaVu Sans Mono',consolas,'Courier New',monospace\"><span style=\"font-weight: bold\"> Total params: </span><span style=\"color: #00af00; text-decoration-color: #00af00\">580,814</span> (2.22 MB)\n",
              "</pre>\n"
            ]
          },
          "metadata": {}
        },
        {
          "output_type": "display_data",
          "data": {
            "text/plain": [
              "\u001b[1m Trainable params: \u001b[0m\u001b[38;5;34m72,514\u001b[0m (283.26 KB)\n"
            ],
            "text/html": [
              "<pre style=\"white-space:pre;overflow-x:auto;line-height:normal;font-family:Menlo,'DejaVu Sans Mono',consolas,'Courier New',monospace\"><span style=\"font-weight: bold\"> Trainable params: </span><span style=\"color: #00af00; text-decoration-color: #00af00\">72,514</span> (283.26 KB)\n",
              "</pre>\n"
            ]
          },
          "metadata": {}
        },
        {
          "output_type": "display_data",
          "data": {
            "text/plain": [
              "\u001b[1m Non-trainable params: \u001b[0m\u001b[38;5;34m508,300\u001b[0m (1.94 MB)\n"
            ],
            "text/html": [
              "<pre style=\"white-space:pre;overflow-x:auto;line-height:normal;font-family:Menlo,'DejaVu Sans Mono',consolas,'Courier New',monospace\"><span style=\"font-weight: bold\"> Non-trainable params: </span><span style=\"color: #00af00; text-decoration-color: #00af00\">508,300</span> (1.94 MB)\n",
              "</pre>\n"
            ]
          },
          "metadata": {}
        }
      ]
    },
    {
      "cell_type": "code",
      "source": [
        "from keras.utils import plot_model\n",
        "plot_model(model)"
      ],
      "metadata": {
        "id": "bHgzkCNTwTrM",
        "outputId": "f6fb2e88-d29a-4377-a309-00d079a77443",
        "colab": {
          "base_uri": "https://localhost:8080/",
          "height": 1000
        },
        "collapsed": true
      },
      "execution_count": 175,
      "outputs": [
        {
          "output_type": "execute_result",
          "data": {
            "image/png": "[encoded data removed]",
            "text/plain": [
              "<IPython.core.display.Image object>"
            ]
          },
          "metadata": {},
          "execution_count": 175
        }
      ]
    },
    {
      "cell_type": "code",
      "source": [
        "# Load TensorBoard notebook extension\n",
        "%load_ext tensorboard"
      ],
      "metadata": {
        "id": "iTA_vbUg8wp8",
        "outputId": "64e24400-55f0-4328-9bcb-5ad074bc11c9",
        "colab": {
          "base_uri": "https://localhost:8080/"
        }
      },
      "execution_count": 176,
      "outputs": [
        {
          "output_type": "stream",
          "name": "stdout",
          "text": [
            "The tensorboard extension is already loaded. To reload it, use:\n",
            "  %reload_ext tensorboard\n"
          ]
        }
      ]
    },
    {
      "cell_type": "code",
      "source": [
        "# Create a function to build a TensorBoard callback\n",
        "# def create_tensorborad_callback():\n",
        "#   # Create a log directory for storing TensorBoard logs\n",
        "#   logdir = os.path.join('/content/drive/MyDrive/logs',\n",
        "#                         # Make it so the logs get tracked whenever we run an experiment\n",
        "#                         datetime.datetime.now().strftime(\"%Y%m%d-%H%M%S\"))\n",
        "#   return tf.keras.callbacks.TensorBoard(logdir)"
      ],
      "metadata": {
        "id": "DMltZFlq-Ovk"
      },
      "execution_count": 177,
      "outputs": []
    },
    {
      "cell_type": "code",
      "source": [
        "import os,datetime\n",
        "import tensorflow as tf"
      ],
      "metadata": {
        "id": "W9Pkxm4e_XGE"
      },
      "execution_count": 178,
      "outputs": []
    },
    {
      "cell_type": "code",
      "source": [
        "# tensorboard = create_tensorborad_callback(),callbacks=[tensorboard]"
      ],
      "metadata": {
        "id": "RZfL1dxR-0z1"
      },
      "execution_count": 179,
      "outputs": []
    },
    {
      "cell_type": "code",
      "source": [
        "history = model.fit(X_train,[y_train_task1,y_train_task2],validation_data=(X_val,[y_val_task1,y_val_task2]),epochs=50,batch_size=32)"
      ],
      "metadata": {
        "colab": {
          "base_uri": "https://localhost:8080/"
        },
        "id": "yQg6pzGlyS0U",
        "outputId": "87e4bf7e-8d00-4bde-a4ab-7d8a8404fbe7",
        "collapsed": true
      },
      "execution_count": 180,
      "outputs": [
        {
          "output_type": "stream",
          "name": "stdout",
          "text": [
            "Epoch 1/50\n",
            "\u001b[1m183/183\u001b[0m \u001b[32m━━━━━━━━━━━━━━━━━━━━\u001b[0m\u001b[37m\u001b[0m \u001b[1m14s\u001b[0m 37ms/step - loss: 0.5974 - output_sarcasm_accuracy: 0.9438 - output_sarcasm_loss: 0.2354 - output_stress_accuracy: 0.8590 - output_stress_loss: 0.3620 - val_loss: 0.5044 - val_output_sarcasm_accuracy: 0.9472 - val_output_sarcasm_loss: 0.3223 - val_output_stress_accuracy: 0.9561 - val_output_stress_loss: 0.1810\n",
            "Epoch 2/50\n",
            "\u001b[1m183/183\u001b[0m \u001b[32m━━━━━━━━━━━━━━━━━━━━\u001b[0m\u001b[37m\u001b[0m \u001b[1m9s\u001b[0m 3ms/step - loss: 0.4039 - output_sarcasm_accuracy: 0.9417 - output_sarcasm_loss: 0.2159 - output_stress_accuracy: 0.9347 - output_stress_loss: 0.1881 - val_loss: 0.3848 - val_output_sarcasm_accuracy: 0.9472 - val_output_sarcasm_loss: 0.2414 - val_output_stress_accuracy: 0.9726 - val_output_stress_loss: 0.1421\n",
            "Epoch 3/50\n",
            "\u001b[1m183/183\u001b[0m \u001b[32m━━━━━━━━━━━━━━━━━━━━\u001b[0m\u001b[37m\u001b[0m \u001b[1m1s\u001b[0m 3ms/step - loss: 0.3355 - output_sarcasm_accuracy: 0.9459 - output_sarcasm_loss: 0.1842 - output_stress_accuracy: 0.9441 - output_stress_loss: 0.1513 - val_loss: 0.3267 - val_output_sarcasm_accuracy: 0.9458 - val_output_sarcasm_loss: 0.2257 - val_output_stress_accuracy: 0.9753 - val_output_stress_loss: 0.0998\n",
            "Epoch 4/50\n",
            "\u001b[1m183/183\u001b[0m \u001b[32m━━━━━━━━━━━━━━━━━━━━\u001b[0m\u001b[37m\u001b[0m \u001b[1m1s\u001b[0m 3ms/step - loss: 0.3286 - output_sarcasm_accuracy: 0.9422 - output_sarcasm_loss: 0.1916 - output_stress_accuracy: 0.9495 - output_stress_loss: 0.1370 - val_loss: 0.3141 - val_output_sarcasm_accuracy: 0.9396 - val_output_sarcasm_loss: 0.2288 - val_output_stress_accuracy: 0.9781 - val_output_stress_loss: 0.0843\n",
            "Epoch 5/50\n",
            "\u001b[1m183/183\u001b[0m \u001b[32m━━━━━━━━━━━━━━━━━━━━\u001b[0m\u001b[37m\u001b[0m \u001b[1m1s\u001b[0m 4ms/step - loss: 0.2931 - output_sarcasm_accuracy: 0.9395 - output_sarcasm_loss: 0.1858 - output_stress_accuracy: 0.9583 - output_stress_loss: 0.1073 - val_loss: 0.2969 - val_output_sarcasm_accuracy: 0.9294 - val_output_sarcasm_loss: 0.2364 - val_output_stress_accuracy: 0.9815 - val_output_stress_loss: 0.0596\n",
            "Epoch 6/50\n",
            "\u001b[1m183/183\u001b[0m \u001b[32m━━━━━━━━━━━━━━━━━━━━\u001b[0m\u001b[37m\u001b[0m \u001b[1m1s\u001b[0m 3ms/step - loss: 0.2519 - output_sarcasm_accuracy: 0.9426 - output_sarcasm_loss: 0.1638 - output_stress_accuracy: 0.9699 - output_stress_loss: 0.0881 - val_loss: 0.2744 - val_output_sarcasm_accuracy: 0.9280 - val_output_sarcasm_loss: 0.2109 - val_output_stress_accuracy: 0.9897 - val_output_stress_loss: 0.0627\n",
            "Epoch 7/50\n",
            "\u001b[1m183/183\u001b[0m \u001b[32m━━━━━━━━━━━━━━━━━━━━\u001b[0m\u001b[37m\u001b[0m \u001b[1m1s\u001b[0m 3ms/step - loss: 0.2402 - output_sarcasm_accuracy: 0.9395 - output_sarcasm_loss: 0.1649 - output_stress_accuracy: 0.9700 - output_stress_loss: 0.0753 - val_loss: 0.2433 - val_output_sarcasm_accuracy: 0.9280 - val_output_sarcasm_loss: 0.1963 - val_output_stress_accuracy: 0.9904 - val_output_stress_loss: 0.0464\n",
            "Epoch 8/50\n",
            "\u001b[1m183/183\u001b[0m \u001b[32m━━━━━━━━━━━━━━━━━━━━\u001b[0m\u001b[37m\u001b[0m \u001b[1m1s\u001b[0m 3ms/step - loss: 0.2164 - output_sarcasm_accuracy: 0.9532 - output_sarcasm_loss: 0.1377 - output_stress_accuracy: 0.9728 - output_stress_loss: 0.0787 - val_loss: 0.2108 - val_output_sarcasm_accuracy: 0.9321 - val_output_sarcasm_loss: 0.1681 - val_output_stress_accuracy: 0.9842 - val_output_stress_loss: 0.0419\n",
            "Epoch 9/50\n",
            "\u001b[1m183/183\u001b[0m \u001b[32m━━━━━━━━━━━━━━━━━━━━\u001b[0m\u001b[37m\u001b[0m \u001b[1m1s\u001b[0m 3ms/step - loss: 0.2342 - output_sarcasm_accuracy: 0.9438 - output_sarcasm_loss: 0.1570 - output_stress_accuracy: 0.9698 - output_stress_loss: 0.0772 - val_loss: 0.2106 - val_output_sarcasm_accuracy: 0.9376 - val_output_sarcasm_loss: 0.1438 - val_output_stress_accuracy: 0.9870 - val_output_stress_loss: 0.0656\n",
            "Epoch 10/50\n",
            "\u001b[1m183/183\u001b[0m \u001b[32m━━━━━━━━━━━━━━━━━━━━\u001b[0m\u001b[37m\u001b[0m \u001b[1m1s\u001b[0m 3ms/step - loss: 0.2289 - output_sarcasm_accuracy: 0.9425 - output_sarcasm_loss: 0.1643 - output_stress_accuracy: 0.9752 - output_stress_loss: 0.0646 - val_loss: 0.2017 - val_output_sarcasm_accuracy: 0.9287 - val_output_sarcasm_loss: 0.1643 - val_output_stress_accuracy: 0.9911 - val_output_stress_loss: 0.0367\n",
            "Epoch 11/50\n",
            "\u001b[1m183/183\u001b[0m \u001b[32m━━━━━━━━━━━━━━━━━━━━\u001b[0m\u001b[37m\u001b[0m \u001b[1m1s\u001b[0m 4ms/step - loss: 0.1914 - output_sarcasm_accuracy: 0.9435 - output_sarcasm_loss: 0.1388 - output_stress_accuracy: 0.9813 - output_stress_loss: 0.0526 - val_loss: 0.1851 - val_output_sarcasm_accuracy: 0.9300 - val_output_sarcasm_loss: 0.1473 - val_output_stress_accuracy: 0.9897 - val_output_stress_loss: 0.0373\n",
            "Epoch 12/50\n",
            "\u001b[1m183/183\u001b[0m \u001b[32m━━━━━━━━━━━━━━━━━━━━\u001b[0m\u001b[37m\u001b[0m \u001b[1m1s\u001b[0m 5ms/step - loss: 0.1908 - output_sarcasm_accuracy: 0.9460 - output_sarcasm_loss: 0.1455 - output_stress_accuracy: 0.9849 - output_stress_loss: 0.0453 - val_loss: 0.1753 - val_output_sarcasm_accuracy: 0.9294 - val_output_sarcasm_loss: 0.1436 - val_output_stress_accuracy: 0.9897 - val_output_stress_loss: 0.0312\n",
            "Epoch 13/50\n",
            "\u001b[1m183/183\u001b[0m \u001b[32m━━━━━━━━━━━━━━━━━━━━\u001b[0m\u001b[37m\u001b[0m \u001b[1m1s\u001b[0m 5ms/step - loss: 0.1887 - output_sarcasm_accuracy: 0.9443 - output_sarcasm_loss: 0.1412 - output_stress_accuracy: 0.9813 - output_stress_loss: 0.0474 - val_loss: 0.1793 - val_output_sarcasm_accuracy: 0.9314 - val_output_sarcasm_loss: 0.1408 - val_output_stress_accuracy: 0.9890 - val_output_stress_loss: 0.0376\n",
            "Epoch 14/50\n",
            "\u001b[1m183/183\u001b[0m \u001b[32m━━━━━━━━━━━━━━━━━━━━\u001b[0m\u001b[37m\u001b[0m \u001b[1m1s\u001b[0m 5ms/step - loss: 0.1796 - output_sarcasm_accuracy: 0.9472 - output_sarcasm_loss: 0.1295 - output_stress_accuracy: 0.9806 - output_stress_loss: 0.0501 - val_loss: 0.1853 - val_output_sarcasm_accuracy: 0.9266 - val_output_sarcasm_loss: 0.1457 - val_output_stress_accuracy: 0.9897 - val_output_stress_loss: 0.0389\n",
            "Epoch 15/50\n",
            "\u001b[1m183/183\u001b[0m \u001b[32m━━━━━━━━━━━━━━━━━━━━\u001b[0m\u001b[37m\u001b[0m \u001b[1m1s\u001b[0m 5ms/step - loss: 0.1750 - output_sarcasm_accuracy: 0.9469 - output_sarcasm_loss: 0.1313 - output_stress_accuracy: 0.9836 - output_stress_loss: 0.0437 - val_loss: 0.1834 - val_output_sarcasm_accuracy: 0.9239 - val_output_sarcasm_loss: 0.1529 - val_output_stress_accuracy: 0.9904 - val_output_stress_loss: 0.0299\n",
            "Epoch 16/50\n",
            "\u001b[1m183/183\u001b[0m \u001b[32m━━━━━━━━━━━━━━━━━━━━\u001b[0m\u001b[37m\u001b[0m \u001b[1m1s\u001b[0m 5ms/step - loss: 0.1872 - output_sarcasm_accuracy: 0.9421 - output_sarcasm_loss: 0.1380 - output_stress_accuracy: 0.9854 - output_stress_loss: 0.0492 - val_loss: 0.2055 - val_output_sarcasm_accuracy: 0.9252 - val_output_sarcasm_loss: 0.1773 - val_output_stress_accuracy: 0.9904 - val_output_stress_loss: 0.0276\n",
            "Epoch 17/50\n",
            "\u001b[1m183/183\u001b[0m \u001b[32m━━━━━━━━━━━━━━━━━━━━\u001b[0m\u001b[37m\u001b[0m \u001b[1m1s\u001b[0m 5ms/step - loss: 0.1721 - output_sarcasm_accuracy: 0.9478 - output_sarcasm_loss: 0.1338 - output_stress_accuracy: 0.9858 - output_stress_loss: 0.0383 - val_loss: 0.1838 - val_output_sarcasm_accuracy: 0.9239 - val_output_sarcasm_loss: 0.1535 - val_output_stress_accuracy: 0.9883 - val_output_stress_loss: 0.0298\n",
            "Epoch 18/50\n",
            "\u001b[1m183/183\u001b[0m \u001b[32m━━━━━━━━━━━━━━━━━━━━\u001b[0m\u001b[37m\u001b[0m \u001b[1m1s\u001b[0m 5ms/step - loss: 0.1627 - output_sarcasm_accuracy: 0.9468 - output_sarcasm_loss: 0.1222 - output_stress_accuracy: 0.9847 - output_stress_loss: 0.0405 - val_loss: 0.1845 - val_output_sarcasm_accuracy: 0.9266 - val_output_sarcasm_loss: 0.1412 - val_output_stress_accuracy: 0.9883 - val_output_stress_loss: 0.0426\n",
            "Epoch 19/50\n",
            "\u001b[1m183/183\u001b[0m \u001b[32m━━━━━━━━━━━━━━━━━━━━\u001b[0m\u001b[37m\u001b[0m \u001b[1m1s\u001b[0m 5ms/step - loss: 0.1572 - output_sarcasm_accuracy: 0.9439 - output_sarcasm_loss: 0.1244 - output_stress_accuracy: 0.9873 - output_stress_loss: 0.0328 - val_loss: 0.1860 - val_output_sarcasm_accuracy: 0.9280 - val_output_sarcasm_loss: 0.1504 - val_output_stress_accuracy: 0.9883 - val_output_stress_loss: 0.0351\n",
            "Epoch 20/50\n",
            "\u001b[1m183/183\u001b[0m \u001b[32m━━━━━━━━━━━━━━━━━━━━\u001b[0m\u001b[37m\u001b[0m \u001b[1m1s\u001b[0m 5ms/step - loss: 0.1538 - output_sarcasm_accuracy: 0.9465 - output_sarcasm_loss: 0.1263 - output_stress_accuracy: 0.9898 - output_stress_loss: 0.0275 - val_loss: 0.1792 - val_output_sarcasm_accuracy: 0.9280 - val_output_sarcasm_loss: 0.1450 - val_output_stress_accuracy: 0.9897 - val_output_stress_loss: 0.0336\n",
            "Epoch 21/50\n",
            "\u001b[1m183/183\u001b[0m \u001b[32m━━━━━━━━━━━━━━━━━━━━\u001b[0m\u001b[37m\u001b[0m \u001b[1m1s\u001b[0m 3ms/step - loss: 0.1589 - output_sarcasm_accuracy: 0.9430 - output_sarcasm_loss: 0.1266 - output_stress_accuracy: 0.9889 - output_stress_loss: 0.0323 - val_loss: 0.1619 - val_output_sarcasm_accuracy: 0.9280 - val_output_sarcasm_loss: 0.1340 - val_output_stress_accuracy: 0.9904 - val_output_stress_loss: 0.0272\n",
            "Epoch 22/50\n",
            "\u001b[1m183/183\u001b[0m \u001b[32m━━━━━━━━━━━━━━━━━━━━\u001b[0m\u001b[37m\u001b[0m \u001b[1m1s\u001b[0m 3ms/step - loss: 0.1533 - output_sarcasm_accuracy: 0.9506 - output_sarcasm_loss: 0.1175 - output_stress_accuracy: 0.9873 - output_stress_loss: 0.0358 - val_loss: 0.1791 - val_output_sarcasm_accuracy: 0.9225 - val_output_sarcasm_loss: 0.1422 - val_output_stress_accuracy: 0.9911 - val_output_stress_loss: 0.0364\n",
            "Epoch 23/50\n",
            "\u001b[1m183/183\u001b[0m \u001b[32m━━━━━━━━━━━━━━━━━━━━\u001b[0m\u001b[37m\u001b[0m \u001b[1m1s\u001b[0m 3ms/step - loss: 0.1636 - output_sarcasm_accuracy: 0.9445 - output_sarcasm_loss: 0.1272 - output_stress_accuracy: 0.9844 - output_stress_loss: 0.0364 - val_loss: 0.1970 - val_output_sarcasm_accuracy: 0.9273 - val_output_sarcasm_loss: 0.1638 - val_output_stress_accuracy: 0.9890 - val_output_stress_loss: 0.0328\n",
            "Epoch 24/50\n",
            "\u001b[1m183/183\u001b[0m \u001b[32m━━━━━━━━━━━━━━━━━━━━\u001b[0m\u001b[37m\u001b[0m \u001b[1m1s\u001b[0m 3ms/step - loss: 0.1315 - output_sarcasm_accuracy: 0.9565 - output_sarcasm_loss: 0.1044 - output_stress_accuracy: 0.9887 - output_stress_loss: 0.0271 - val_loss: 0.1799 - val_output_sarcasm_accuracy: 0.9259 - val_output_sarcasm_loss: 0.1397 - val_output_stress_accuracy: 0.9883 - val_output_stress_loss: 0.0396\n",
            "Epoch 25/50\n",
            "\u001b[1m183/183\u001b[0m \u001b[32m━━━━━━━━━━━━━━━━━━━━\u001b[0m\u001b[37m\u001b[0m \u001b[1m1s\u001b[0m 3ms/step - loss: 0.1479 - output_sarcasm_accuracy: 0.9479 - output_sarcasm_loss: 0.1160 - output_stress_accuracy: 0.9883 - output_stress_loss: 0.0319 - val_loss: 0.1641 - val_output_sarcasm_accuracy: 0.9232 - val_output_sarcasm_loss: 0.1389 - val_output_stress_accuracy: 0.9883 - val_output_stress_loss: 0.0248\n",
            "Epoch 26/50\n",
            "\u001b[1m183/183\u001b[0m \u001b[32m━━━━━━━━━━━━━━━━━━━━\u001b[0m\u001b[37m\u001b[0m \u001b[1m1s\u001b[0m 3ms/step - loss: 0.1453 - output_sarcasm_accuracy: 0.9482 - output_sarcasm_loss: 0.1097 - output_stress_accuracy: 0.9868 - output_stress_loss: 0.0356 - val_loss: 0.1527 - val_output_sarcasm_accuracy: 0.9294 - val_output_sarcasm_loss: 0.1283 - val_output_stress_accuracy: 0.9897 - val_output_stress_loss: 0.0238\n",
            "Epoch 27/50\n",
            "\u001b[1m183/183\u001b[0m \u001b[32m━━━━━━━━━━━━━━━━━━━━\u001b[0m\u001b[37m\u001b[0m \u001b[1m1s\u001b[0m 3ms/step - loss: 0.1361 - output_sarcasm_accuracy: 0.9502 - output_sarcasm_loss: 0.1071 - output_stress_accuracy: 0.9896 - output_stress_loss: 0.0290 - val_loss: 0.1541 - val_output_sarcasm_accuracy: 0.9342 - val_output_sarcasm_loss: 0.1271 - val_output_stress_accuracy: 0.9911 - val_output_stress_loss: 0.0263\n",
            "Epoch 28/50\n",
            "\u001b[1m183/183\u001b[0m \u001b[32m━━━━━━━━━━━━━━━━━━━━\u001b[0m\u001b[37m\u001b[0m \u001b[1m1s\u001b[0m 3ms/step - loss: 0.1413 - output_sarcasm_accuracy: 0.9511 - output_sarcasm_loss: 0.1119 - output_stress_accuracy: 0.9881 - output_stress_loss: 0.0294 - val_loss: 0.1622 - val_output_sarcasm_accuracy: 0.9225 - val_output_sarcasm_loss: 0.1341 - val_output_stress_accuracy: 0.9904 - val_output_stress_loss: 0.0273\n",
            "Epoch 29/50\n",
            "\u001b[1m183/183\u001b[0m \u001b[32m━━━━━━━━━━━━━━━━━━━━\u001b[0m\u001b[37m\u001b[0m \u001b[1m1s\u001b[0m 3ms/step - loss: 0.1610 - output_sarcasm_accuracy: 0.9411 - output_sarcasm_loss: 0.1222 - output_stress_accuracy: 0.9857 - output_stress_loss: 0.0388 - val_loss: 0.1750 - val_output_sarcasm_accuracy: 0.9259 - val_output_sarcasm_loss: 0.1492 - val_output_stress_accuracy: 0.9904 - val_output_stress_loss: 0.0254\n",
            "Epoch 30/50\n",
            "\u001b[1m183/183\u001b[0m \u001b[32m━━━━━━━━━━━━━━━━━━━━\u001b[0m\u001b[37m\u001b[0m \u001b[1m1s\u001b[0m 3ms/step - loss: 0.1469 - output_sarcasm_accuracy: 0.9465 - output_sarcasm_loss: 0.1163 - output_stress_accuracy: 0.9872 - output_stress_loss: 0.0306 - val_loss: 0.1788 - val_output_sarcasm_accuracy: 0.9266 - val_output_sarcasm_loss: 0.1467 - val_output_stress_accuracy: 0.9883 - val_output_stress_loss: 0.0316\n",
            "Epoch 31/50\n",
            "\u001b[1m183/183\u001b[0m \u001b[32m━━━━━━━━━━━━━━━━━━━━\u001b[0m\u001b[37m\u001b[0m \u001b[1m1s\u001b[0m 3ms/step - loss: 0.1450 - output_sarcasm_accuracy: 0.9412 - output_sarcasm_loss: 0.1234 - output_stress_accuracy: 0.9925 - output_stress_loss: 0.0216 - val_loss: 0.1750 - val_output_sarcasm_accuracy: 0.9225 - val_output_sarcasm_loss: 0.1449 - val_output_stress_accuracy: 0.9883 - val_output_stress_loss: 0.0295\n",
            "Epoch 32/50\n",
            "\u001b[1m183/183\u001b[0m \u001b[32m━━━━━━━━━━━━━━━━━━━━\u001b[0m\u001b[37m\u001b[0m \u001b[1m1s\u001b[0m 4ms/step - loss: 0.1315 - output_sarcasm_accuracy: 0.9512 - output_sarcasm_loss: 0.1037 - output_stress_accuracy: 0.9879 - output_stress_loss: 0.0277 - val_loss: 0.1532 - val_output_sarcasm_accuracy: 0.9239 - val_output_sarcasm_loss: 0.1313 - val_output_stress_accuracy: 0.9883 - val_output_stress_loss: 0.0213\n",
            "Epoch 33/50\n",
            "\u001b[1m183/183\u001b[0m \u001b[32m━━━━━━━━━━━━━━━━━━━━\u001b[0m\u001b[37m\u001b[0m \u001b[1m1s\u001b[0m 4ms/step - loss: 0.1465 - output_sarcasm_accuracy: 0.9505 - output_sarcasm_loss: 0.1088 - output_stress_accuracy: 0.9845 - output_stress_loss: 0.0376 - val_loss: 0.1739 - val_output_sarcasm_accuracy: 0.9252 - val_output_sarcasm_loss: 0.1440 - val_output_stress_accuracy: 0.9904 - val_output_stress_loss: 0.0292\n",
            "Epoch 34/50\n",
            "\u001b[1m183/183\u001b[0m \u001b[32m━━━━━━━━━━━━━━━━━━━━\u001b[0m\u001b[37m\u001b[0m \u001b[1m1s\u001b[0m 5ms/step - loss: 0.1393 - output_sarcasm_accuracy: 0.9437 - output_sarcasm_loss: 0.1179 - output_stress_accuracy: 0.9922 - output_stress_loss: 0.0213 - val_loss: 0.1549 - val_output_sarcasm_accuracy: 0.9218 - val_output_sarcasm_loss: 0.1312 - val_output_stress_accuracy: 0.9877 - val_output_stress_loss: 0.0229\n",
            "Epoch 35/50\n",
            "\u001b[1m183/183\u001b[0m \u001b[32m━━━━━━━━━━━━━━━━━━━━\u001b[0m\u001b[37m\u001b[0m \u001b[1m1s\u001b[0m 5ms/step - loss: 0.1433 - output_sarcasm_accuracy: 0.9463 - output_sarcasm_loss: 0.1036 - output_stress_accuracy: 0.9823 - output_stress_loss: 0.0398 - val_loss: 0.1822 - val_output_sarcasm_accuracy: 0.9239 - val_output_sarcasm_loss: 0.1529 - val_output_stress_accuracy: 0.9897 - val_output_stress_loss: 0.0286\n",
            "Epoch 36/50\n",
            "\u001b[1m183/183\u001b[0m \u001b[32m━━━━━━━━━━━━━━━━━━━━\u001b[0m\u001b[37m\u001b[0m \u001b[1m1s\u001b[0m 7ms/step - loss: 0.1378 - output_sarcasm_accuracy: 0.9483 - output_sarcasm_loss: 0.1103 - output_stress_accuracy: 0.9889 - output_stress_loss: 0.0276 - val_loss: 0.1503 - val_output_sarcasm_accuracy: 0.9252 - val_output_sarcasm_loss: 0.1270 - val_output_stress_accuracy: 0.9890 - val_output_stress_loss: 0.0224\n",
            "Epoch 37/50\n",
            "\u001b[1m183/183\u001b[0m \u001b[32m━━━━━━━━━━━━━━━━━━━━\u001b[0m\u001b[37m\u001b[0m \u001b[1m4s\u001b[0m 13ms/step - loss: 0.1287 - output_sarcasm_accuracy: 0.9525 - output_sarcasm_loss: 0.1040 - output_stress_accuracy: 0.9895 - output_stress_loss: 0.0247 - val_loss: 0.1568 - val_output_sarcasm_accuracy: 0.9252 - val_output_sarcasm_loss: 0.1268 - val_output_stress_accuracy: 0.9897 - val_output_stress_loss: 0.0292\n",
            "Epoch 38/50\n",
            "\u001b[1m183/183\u001b[0m \u001b[32m━━━━━━━━━━━━━━━━━━━━\u001b[0m\u001b[37m\u001b[0m \u001b[1m1s\u001b[0m 5ms/step - loss: 0.1304 - output_sarcasm_accuracy: 0.9511 - output_sarcasm_loss: 0.1051 - output_stress_accuracy: 0.9883 - output_stress_loss: 0.0254 - val_loss: 0.1509 - val_output_sarcasm_accuracy: 0.9218 - val_output_sarcasm_loss: 0.1237 - val_output_stress_accuracy: 0.9883 - val_output_stress_loss: 0.0264\n",
            "Epoch 39/50\n",
            "\u001b[1m183/183\u001b[0m \u001b[32m━━━━━━━━━━━━━━━━━━━━\u001b[0m\u001b[37m\u001b[0m \u001b[1m1s\u001b[0m 5ms/step - loss: 0.1235 - output_sarcasm_accuracy: 0.9516 - output_sarcasm_loss: 0.1019 - output_stress_accuracy: 0.9910 - output_stress_loss: 0.0217 - val_loss: 0.1470 - val_output_sarcasm_accuracy: 0.9239 - val_output_sarcasm_loss: 0.1218 - val_output_stress_accuracy: 0.9877 - val_output_stress_loss: 0.0244\n",
            "Epoch 40/50\n",
            "\u001b[1m183/183\u001b[0m \u001b[32m━━━━━━━━━━━━━━━━━━━━\u001b[0m\u001b[37m\u001b[0m \u001b[1m1s\u001b[0m 3ms/step - loss: 0.1344 - output_sarcasm_accuracy: 0.9426 - output_sarcasm_loss: 0.1078 - output_stress_accuracy: 0.9881 - output_stress_loss: 0.0267 - val_loss: 0.1433 - val_output_sarcasm_accuracy: 0.9376 - val_output_sarcasm_loss: 0.1210 - val_output_stress_accuracy: 0.9890 - val_output_stress_loss: 0.0214\n",
            "Epoch 41/50\n",
            "\u001b[1m183/183\u001b[0m \u001b[32m━━━━━━━━━━━━━━━━━━━━\u001b[0m\u001b[37m\u001b[0m \u001b[1m1s\u001b[0m 3ms/step - loss: 0.1418 - output_sarcasm_accuracy: 0.9466 - output_sarcasm_loss: 0.1143 - output_stress_accuracy: 0.9874 - output_stress_loss: 0.0275 - val_loss: 0.1697 - val_output_sarcasm_accuracy: 0.9252 - val_output_sarcasm_loss: 0.1470 - val_output_stress_accuracy: 0.9890 - val_output_stress_loss: 0.0221\n",
            "Epoch 42/50\n",
            "\u001b[1m183/183\u001b[0m \u001b[32m━━━━━━━━━━━━━━━━━━━━\u001b[0m\u001b[37m\u001b[0m \u001b[1m1s\u001b[0m 4ms/step - loss: 0.1347 - output_sarcasm_accuracy: 0.9446 - output_sarcasm_loss: 0.1032 - output_stress_accuracy: 0.9881 - output_stress_loss: 0.0315 - val_loss: 0.1494 - val_output_sarcasm_accuracy: 0.9273 - val_output_sarcasm_loss: 0.1257 - val_output_stress_accuracy: 0.9877 - val_output_stress_loss: 0.0229\n",
            "Epoch 43/50\n",
            "\u001b[1m183/183\u001b[0m \u001b[32m━━━━━━━━━━━━━━━━━━━━\u001b[0m\u001b[37m\u001b[0m \u001b[1m1s\u001b[0m 3ms/step - loss: 0.1333 - output_sarcasm_accuracy: 0.9451 - output_sarcasm_loss: 0.1059 - output_stress_accuracy: 0.9876 - output_stress_loss: 0.0274 - val_loss: 0.1516 - val_output_sarcasm_accuracy: 0.9273 - val_output_sarcasm_loss: 0.1264 - val_output_stress_accuracy: 0.9897 - val_output_stress_loss: 0.0244\n",
            "Epoch 44/50\n",
            "\u001b[1m183/183\u001b[0m \u001b[32m━━━━━━━━━━━━━━━━━━━━\u001b[0m\u001b[37m\u001b[0m \u001b[1m1s\u001b[0m 3ms/step - loss: 0.1266 - output_sarcasm_accuracy: 0.9424 - output_sarcasm_loss: 0.1015 - output_stress_accuracy: 0.9888 - output_stress_loss: 0.0251 - val_loss: 0.1561 - val_output_sarcasm_accuracy: 0.9239 - val_output_sarcasm_loss: 0.1311 - val_output_stress_accuracy: 0.9890 - val_output_stress_loss: 0.0240\n",
            "Epoch 45/50\n",
            "\u001b[1m183/183\u001b[0m \u001b[32m━━━━━━━━━━━━━━━━━━━━\u001b[0m\u001b[37m\u001b[0m \u001b[1m1s\u001b[0m 3ms/step - loss: 0.1481 - output_sarcasm_accuracy: 0.9428 - output_sarcasm_loss: 0.1094 - output_stress_accuracy: 0.9857 - output_stress_loss: 0.0387 - val_loss: 0.1470 - val_output_sarcasm_accuracy: 0.9300 - val_output_sarcasm_loss: 0.1233 - val_output_stress_accuracy: 0.9890 - val_output_stress_loss: 0.0228\n",
            "Epoch 46/50\n",
            "\u001b[1m183/183\u001b[0m \u001b[32m━━━━━━━━━━━━━━━━━━━━\u001b[0m\u001b[37m\u001b[0m \u001b[1m1s\u001b[0m 3ms/step - loss: 0.1336 - output_sarcasm_accuracy: 0.9449 - output_sarcasm_loss: 0.1094 - output_stress_accuracy: 0.9892 - output_stress_loss: 0.0242 - val_loss: 0.1495 - val_output_sarcasm_accuracy: 0.9225 - val_output_sarcasm_loss: 0.1184 - val_output_stress_accuracy: 0.9883 - val_output_stress_loss: 0.0302\n",
            "Epoch 47/50\n",
            "\u001b[1m183/183\u001b[0m \u001b[32m━━━━━━━━━━━━━━━━━━━━\u001b[0m\u001b[37m\u001b[0m \u001b[1m1s\u001b[0m 3ms/step - loss: 0.1178 - output_sarcasm_accuracy: 0.9493 - output_sarcasm_loss: 0.0951 - output_stress_accuracy: 0.9907 - output_stress_loss: 0.0228 - val_loss: 0.1431 - val_output_sarcasm_accuracy: 0.9211 - val_output_sarcasm_loss: 0.1223 - val_output_stress_accuracy: 0.9897 - val_output_stress_loss: 0.0200\n",
            "Epoch 48/50\n",
            "\u001b[1m183/183\u001b[0m \u001b[32m━━━━━━━━━━━━━━━━━━━━\u001b[0m\u001b[37m\u001b[0m \u001b[1m1s\u001b[0m 4ms/step - loss: 0.1264 - output_sarcasm_accuracy: 0.9521 - output_sarcasm_loss: 0.0984 - output_stress_accuracy: 0.9892 - output_stress_loss: 0.0280 - val_loss: 0.1397 - val_output_sarcasm_accuracy: 0.9266 - val_output_sarcasm_loss: 0.1168 - val_output_stress_accuracy: 0.9890 - val_output_stress_loss: 0.0221\n",
            "Epoch 49/50\n",
            "\u001b[1m183/183\u001b[0m \u001b[32m━━━━━━━━━━━━━━━━━━━━\u001b[0m\u001b[37m\u001b[0m \u001b[1m1s\u001b[0m 3ms/step - loss: 0.1127 - output_sarcasm_accuracy: 0.9509 - output_sarcasm_loss: 0.0915 - output_stress_accuracy: 0.9910 - output_stress_loss: 0.0212 - val_loss: 0.1390 - val_output_sarcasm_accuracy: 0.9218 - val_output_sarcasm_loss: 0.1150 - val_output_stress_accuracy: 0.9897 - val_output_stress_loss: 0.0232\n",
            "Epoch 50/50\n",
            "\u001b[1m183/183\u001b[0m \u001b[32m━━━━━━━━━━━━━━━━━━━━\u001b[0m\u001b[37m\u001b[0m \u001b[1m1s\u001b[0m 3ms/step - loss: 0.1317 - output_sarcasm_accuracy: 0.9413 - output_sarcasm_loss: 0.1122 - output_stress_accuracy: 0.9906 - output_stress_loss: 0.0195 - val_loss: 0.1380 - val_output_sarcasm_accuracy: 0.9225 - val_output_sarcasm_loss: 0.1163 - val_output_stress_accuracy: 0.9897 - val_output_stress_loss: 0.0209\n"
          ]
        }
      ]
    },
    {
      "cell_type": "code",
      "source": [
        "#model.fit(X_train,[y_train_task1,y_train_task2],validation_data=(X_val,[y_val_task1,y_val_task2]),epochs=15,batch_size=32)"
      ],
      "metadata": {
        "id": "N9pkVqxzsi-3"
      },
      "execution_count": 66,
      "outputs": []
    },
    {
      "cell_type": "code",
      "source": [
        "X_val"
      ],
      "metadata": {
        "id": "kQPOXcuwjuij",
        "outputId": "dc127c1f-0eb2-418a-a32b-cc09d58936e2",
        "colab": {
          "base_uri": "https://localhost:8080/"
        }
      },
      "execution_count": 106,
      "outputs": [
        {
          "output_type": "execute_result",
          "data": {
            "text/plain": [
              "array([[  15,  543,  579, ...,    0,    0,    0],\n",
              "       [3336, 3337, 3338, ...,    0,    0,    0],\n",
              "       [  47,  310,    2, ...,    0,    0,    0],\n",
              "       ...,\n",
              "       [ 189, 2091,    3, ...,    0,    0,    0],\n",
              "       [1366,  465,   16, ...,    0,    0,    0],\n",
              "       [  10,   14,  167, ...,    0,    0,    0]], dtype=int32)"
            ]
          },
          "metadata": {},
          "execution_count": 106
        }
      ]
    },
    {
      "cell_type": "code",
      "source": [
        "list(y_train_task1).count(0)\n"
      ],
      "metadata": {
        "id": "5A1QWfOTmCgx",
        "outputId": "ae797129-890d-40ab-c85a-43b3a21fe637",
        "colab": {
          "base_uri": "https://localhost:8080/"
        }
      },
      "execution_count": 140,
      "outputs": [
        {
          "output_type": "execute_result",
          "data": {
            "text/plain": [
              "5511"
            ]
          },
          "metadata": {},
          "execution_count": 140
        }
      ]
    },
    {
      "cell_type": "code",
      "source": [
        "list(y_train_task1).count(1)"
      ],
      "metadata": {
        "id": "H5zPEclgm3pG",
        "outputId": "c9b44940-85ab-4a9b-c866-e423f118ba18",
        "colab": {
          "base_uri": "https://localhost:8080/"
        }
      },
      "execution_count": 141,
      "outputs": [
        {
          "output_type": "execute_result",
          "data": {
            "text/plain": [
              "320"
            ]
          },
          "metadata": {},
          "execution_count": 141
        }
      ]
    },
    {
      "cell_type": "code",
      "source": [
        "list(y_train_task2).count(0)"
      ],
      "metadata": {
        "id": "EU4UTfIjm7Kb",
        "outputId": "5f0d86e2-5aee-43b6-c8d4-fb1e8132b596",
        "colab": {
          "base_uri": "https://localhost:8080/"
        }
      },
      "execution_count": 142,
      "outputs": [
        {
          "output_type": "execute_result",
          "data": {
            "text/plain": [
              "929"
            ]
          },
          "metadata": {},
          "execution_count": 142
        }
      ]
    },
    {
      "cell_type": "code",
      "source": [
        "list(y_train_task2).count(1)"
      ],
      "metadata": {
        "id": "tTlDONb6m-A1",
        "outputId": "df515aee-786b-4bc2-b44a-9d58683e795f",
        "colab": {
          "base_uri": "https://localhost:8080/"
        }
      },
      "execution_count": 143,
      "outputs": [
        {
          "output_type": "execute_result",
          "data": {
            "text/plain": [
              "4902"
            ]
          },
          "metadata": {},
          "execution_count": 143
        }
      ]
    },
    {
      "cell_type": "code",
      "source": [
        "y_pred_task1,y_pred_task2 = model.predict(X_val)"
      ],
      "metadata": {
        "colab": {
          "base_uri": "https://localhost:8080/"
        },
        "id": "kGZh9_yPsm7P",
        "outputId": "64a4aab9-0fb5-4cca-d03d-fca901fab4fc"
      },
      "execution_count": 181,
      "outputs": [
        {
          "output_type": "stream",
          "name": "stdout",
          "text": [
            "\u001b[1m46/46\u001b[0m \u001b[32m━━━━━━━━━━━━━━━━━━━━\u001b[0m\u001b[37m\u001b[0m \u001b[1m1s\u001b[0m 9ms/step\n"
          ]
        }
      ]
    },
    {
      "cell_type": "code",
      "source": [
        "threshold=0.5\n",
        "y_pred_binary1 = np.where(y_pred_task1>=threshold ,1,0)\n",
        "y_pred_binary2 = np.where(y_pred_task2>=threshold ,1,0)\n",
        "# print(y_pred_binary1)"
      ],
      "metadata": {
        "id": "RbbHdWVXssr_"
      },
      "execution_count": 182,
      "outputs": []
    },
    {
      "cell_type": "code",
      "source": [
        "# (y_val_task1[:100],y_pred_binary1[:100])"
      ],
      "metadata": {
        "id": "1ctaUbUG698p"
      },
      "execution_count": 105,
      "outputs": []
    },
    {
      "cell_type": "code",
      "source": [
        "confusion_matrix(y_val_task1,y_pred_binary1)"
      ],
      "metadata": {
        "id": "TseqkL8BvOi5",
        "outputId": "39cd955b-f71a-4f40-bed3-e89a386c0d03",
        "colab": {
          "base_uri": "https://localhost:8080/"
        }
      },
      "execution_count": 188,
      "outputs": [
        {
          "output_type": "execute_result",
          "data": {
            "text/plain": [
              "array([[1321,   60],\n",
              "       [  53,   24]])"
            ]
          },
          "metadata": {},
          "execution_count": 188
        }
      ]
    },
    {
      "cell_type": "code",
      "source": [
        "confusion_matrix(y_val_task2,y_pred_binary2)"
      ],
      "metadata": {
        "id": "bUp6339Lvf-t",
        "outputId": "1158fa3c-b619-44ff-9d27-af8d6599dea0",
        "colab": {
          "base_uri": "https://localhost:8080/"
        }
      },
      "execution_count": 189,
      "outputs": [
        {
          "output_type": "execute_result",
          "data": {
            "text/plain": [
              "array([[ 223,    3],\n",
              "       [  12, 1220]])"
            ]
          },
          "metadata": {},
          "execution_count": 189
        }
      ]
    },
    {
      "cell_type": "code",
      "source": [
        "f1_score_Sarcasm = f1_score(y_val_task1,y_pred_binary1)\n",
        "print(f1_score_Sarcasm)"
      ],
      "metadata": {
        "colab": {
          "base_uri": "https://localhost:8080/"
        },
        "id": "3ggK-fB6sy06",
        "outputId": "825632cf-fab5-4eba-ac59-5f88d7ace6f3"
      },
      "execution_count": 183,
      "outputs": [
        {
          "output_type": "stream",
          "name": "stdout",
          "text": [
            "0.2981366459627329\n"
          ]
        }
      ]
    },
    {
      "cell_type": "code",
      "source": [
        "ps_sarcasm = precision_score(y_val_task1,y_pred_binary1)\n",
        "print(ps_sarcasm)"
      ],
      "metadata": {
        "colab": {
          "base_uri": "https://localhost:8080/"
        },
        "id": "CPYx_SiUBeTC",
        "outputId": "9c4f4ab5-37b1-4476-d3aa-41dc27cd2ef3"
      },
      "execution_count": 184,
      "outputs": [
        {
          "output_type": "stream",
          "name": "stdout",
          "text": [
            "0.2857142857142857\n"
          ]
        }
      ]
    },
    {
      "cell_type": "code",
      "source": [
        "f1_score_Stress = f1_score(y_val_task2,y_pred_binary2)\n",
        "print(f1_score_Stress)"
      ],
      "metadata": {
        "colab": {
          "base_uri": "https://localhost:8080/"
        },
        "id": "fYZhUp_GszpJ",
        "outputId": "5fe33fd6-8fcb-4873-f644-3f6cf23fface"
      },
      "execution_count": 185,
      "outputs": [
        {
          "output_type": "stream",
          "name": "stdout",
          "text": [
            "0.9938900203665988\n"
          ]
        }
      ]
    },
    {
      "cell_type": "code",
      "source": [
        "ps_stress = precision_score(y_val_task2,y_pred_binary2)\n",
        "print(ps_stress)"
      ],
      "metadata": {
        "colab": {
          "base_uri": "https://localhost:8080/"
        },
        "id": "bqay2RGPBxYI",
        "outputId": "609c867e-9235-45a3-f6cf-d80343732119"
      },
      "execution_count": 186,
      "outputs": [
        {
          "output_type": "stream",
          "name": "stdout",
          "text": [
            "0.9975470155355682\n"
          ]
        }
      ]
    },
    {
      "cell_type": "markdown",
      "source": [
        "## GRU CNN GRU WITH ATTENTION LAYERS"
      ],
      "metadata": {
        "id": "vtWqf-7V7AG5"
      }
    },
    {
      "cell_type": "code",
      "source": [
        "from keras.src.layers import Concatenate\n",
        "from keras.layers import Bidirectional,GlobalMaxPool1D,Attention,RepeatVector\n",
        "from keras.optimizers import Adam\n",
        "sequence_len=25\n",
        "embedding_dim=100\n",
        "input_shape=(sequence_len,)\n",
        "input_layer = Input(shape=input_shape)\n",
        "\n",
        "embedding_layer = Embedding(vocab_size,embedding_dim,weights=[embedding_matrix],trainable=False)(input_layer)\n",
        "\n",
        "# Conv layer + Maxpool layer *3\n",
        "conv_layer=Conv1D(64,5,activation='relu',)(embedding_layer)\n",
        "conv_layer = GlobalMaxPool1D()(conv_layer)\n",
        "\n",
        "# Lstm for task1\n",
        "lstm_layer1 = Bidirectional(GRU(64,return_sequences=True))(embedding_layer)\n",
        "attention_layer1 = Attention()([lstm_layer1, lstm_layer1])\n",
        "attended_lstm1 = Concatenate(axis=-1)([lstm_layer1, attention_layer1])\n",
        "lstm_layer1 = GlobalMaxPool1D()(attended_lstm1)\n",
        "\n",
        "# Lstm for task2\n",
        "lstm_layer2 = Bidirectional(GRU(64,return_sequences=True))(embedding_layer)\n",
        "attention_layer2 = Attention()([lstm_layer2, lstm_layer2])\n",
        "attended_lstm2 = Concatenate(axis=-1)([lstm_layer2, attention_layer2])\n",
        "lstm_layer2 = GlobalMaxPool1D()(attended_lstm2)\n",
        "\n",
        "#Reshaping\n",
        "conv_layer_reshaped = RepeatVector(sequence_len)(conv_layer)\n",
        "lstm_layer_reshaped1 = RepeatVector(sequence_len)(lstm_layer1)\n",
        "lstm_layer_reshaped2 = RepeatVector(sequence_len)(lstm_layer2)\n",
        "\n",
        "# concatenation\n",
        "concatenated1 = Concatenate(axis=-1)([conv_layer_reshaped,lstm_layer_reshaped1])\n",
        "concatenated2 = Concatenate(axis=-1)([conv_layer_reshaped,lstm_layer_reshaped2])\n",
        "\n",
        "# Flatten the concatenated output to match the shape for binary classification\n",
        "flattened_output1 = Flatten()(concatenated1)\n",
        "flattened_output2 = Flatten()(concatenated2)\n",
        "\n",
        "output1 = Dense(1,activation='sigmoid',name='sarcasm')(flattened_output1)\n",
        "output2 = Dense(1,activation='sigmoid',name='stress')(flattened_output2)\n",
        "\n",
        "model = Model(inputs=input_layer, outputs=[output1,output2])\n",
        "model.compile(loss='binary_crossentropy', optimizer=Adam(learning_rate=0.001), metrics=['accuracy','accuracy'])\n",
        "model.summary()"
      ],
      "metadata": {
        "colab": {
          "base_uri": "https://localhost:8080/",
          "height": 228
        },
        "id": "2zLRTr0J7J81",
        "outputId": "1222a7d8-76e5-44ab-ecb0-c0fb9cd59eb0"
      },
      "execution_count": 1,
      "outputs": [
        {
          "output_type": "error",
          "ename": "NameError",
          "evalue": "name 'Input' is not defined",
          "traceback": [
            "\u001b[0;31m---------------------------------------------------------------------------\u001b[0m",
            "\u001b[0;31mNameError\u001b[0m                                 Traceback (most recent call last)",
            "\u001b[0;32m<ipython-input-1-ccba6b3184af>\u001b[0m in \u001b[0;36m<cell line: 7>\u001b[0;34m()\u001b[0m\n\u001b[1;32m      5\u001b[0m \u001b[0membedding_dim\u001b[0m\u001b[0;34m=\u001b[0m\u001b[0;36m100\u001b[0m\u001b[0;34m\u001b[0m\u001b[0;34m\u001b[0m\u001b[0m\n\u001b[1;32m      6\u001b[0m \u001b[0minput_shape\u001b[0m\u001b[0;34m=\u001b[0m\u001b[0;34m(\u001b[0m\u001b[0msequence_len\u001b[0m\u001b[0;34m,\u001b[0m\u001b[0;34m)\u001b[0m\u001b[0;34m\u001b[0m\u001b[0;34m\u001b[0m\u001b[0m\n\u001b[0;32m----> 7\u001b[0;31m \u001b[0minput_layer\u001b[0m \u001b[0;34m=\u001b[0m \u001b[0mInput\u001b[0m\u001b[0;34m(\u001b[0m\u001b[0mshape\u001b[0m\u001b[0;34m=\u001b[0m\u001b[0minput_shape\u001b[0m\u001b[0;34m)\u001b[0m\u001b[0;34m\u001b[0m\u001b[0;34m\u001b[0m\u001b[0m\n\u001b[0m\u001b[1;32m      8\u001b[0m \u001b[0membedding_layer\u001b[0m \u001b[0;34m=\u001b[0m \u001b[0mEmbedding\u001b[0m\u001b[0;34m(\u001b[0m\u001b[0mvocab_size\u001b[0m\u001b[0;34m,\u001b[0m\u001b[0membedding_dim\u001b[0m\u001b[0;34m,\u001b[0m\u001b[0mweights\u001b[0m\u001b[0;34m=\u001b[0m\u001b[0;34m[\u001b[0m\u001b[0membedding_matrix\u001b[0m\u001b[0;34m]\u001b[0m\u001b[0;34m,\u001b[0m\u001b[0mtrainable\u001b[0m\u001b[0;34m=\u001b[0m\u001b[0;32mFalse\u001b[0m\u001b[0;34m)\u001b[0m\u001b[0;34m(\u001b[0m\u001b[0minput_layer\u001b[0m\u001b[0;34m)\u001b[0m\u001b[0;34m\u001b[0m\u001b[0;34m\u001b[0m\u001b[0m\n\u001b[1;32m      9\u001b[0m \u001b[0;31m# Conv layer + Maxpool layer *3\u001b[0m\u001b[0;34m\u001b[0m\u001b[0;34m\u001b[0m\u001b[0m\n",
            "\u001b[0;31mNameError\u001b[0m: name 'Input' is not defined"
          ]
        }
      ]
    },
    {
      "cell_type": "code",
      "source": [
        "\n",
        "model.fit(X_train,[y_train_task1,y_train_task2],validation_data=(X_val,[y_val_task1,y_val_task2]),epochs=15,batch_size=32)"
      ],
      "metadata": {
        "colab": {
          "base_uri": "https://localhost:8080/"
        },
        "id": "i0zMI8jPpsfe",
        "outputId": "0365cc54-23f6-472b-8a29-9532fe42ac7d"
      },
      "execution_count": 75,
      "outputs": [
        {
          "output_type": "stream",
          "name": "stdout",
          "text": [
            "Epoch 1/15\n",
            "\u001b[1m183/183\u001b[0m \u001b[32m━━━━━━━━━━━━━━━━━━━━\u001b[0m\u001b[37m\u001b[0m \u001b[1m10s\u001b[0m 18ms/step - loss: 58.0704 - sarcasm_accuracy: 0.9103 - sarcasm_loss: 16.0311 - stress_accuracy: 0.7488 - stress_loss: 42.0389 - val_loss: 26.5357 - val_sarcasm_accuracy: 0.9451 - val_sarcasm_loss: 13.3146 - val_stress_accuracy: 0.7997 - val_stress_loss: 13.1314\n",
            "Epoch 2/15\n",
            "\u001b[1m183/183\u001b[0m \u001b[32m━━━━━━━━━━━━━━━━━━━━\u001b[0m\u001b[37m\u001b[0m \u001b[1m4s\u001b[0m 20ms/step - loss: 29.5872 - sarcasm_accuracy: 0.8976 - sarcasm_loss: 19.0284 - stress_accuracy: 0.8701 - stress_loss: 10.5575 - val_loss: 13.8110 - val_sarcasm_accuracy: 0.9376 - val_sarcasm_loss: 6.8790 - val_stress_accuracy: 0.8663 - val_stress_loss: 6.8190\n",
            "Epoch 3/15\n",
            "\u001b[1m183/183\u001b[0m \u001b[32m━━━━━━━━━━━━━━━━━━━━\u001b[0m\u001b[37m\u001b[0m \u001b[1m6s\u001b[0m 26ms/step - loss: 15.3722 - sarcasm_accuracy: 0.9072 - sarcasm_loss: 7.6625 - stress_accuracy: 0.8947 - stress_loss: 7.7089 - val_loss: 19.4984 - val_sarcasm_accuracy: 0.9479 - val_sarcasm_loss: 10.8300 - val_stress_accuracy: 0.8896 - val_stress_loss: 8.5492\n",
            "Epoch 4/15\n",
            "\u001b[1m183/183\u001b[0m \u001b[32m━━━━━━━━━━━━━━━━━━━━\u001b[0m\u001b[37m\u001b[0m \u001b[1m4s\u001b[0m 21ms/step - loss: 14.0824 - sarcasm_accuracy: 0.9088 - sarcasm_loss: 9.1844 - stress_accuracy: 0.9230 - stress_loss: 4.8981 - val_loss: 16.2660 - val_sarcasm_accuracy: 0.5528 - val_sarcasm_loss: 13.4782 - val_stress_accuracy: 0.9259 - val_stress_loss: 2.6907\n",
            "Epoch 5/15\n",
            "\u001b[1m183/183\u001b[0m \u001b[32m━━━━━━━━━━━━━━━━━━━━\u001b[0m\u001b[37m\u001b[0m \u001b[1m6s\u001b[0m 25ms/step - loss: 13.9896 - sarcasm_accuracy: 0.9035 - sarcasm_loss: 10.1436 - stress_accuracy: 0.9296 - stress_loss: 3.8453 - val_loss: 65.1578 - val_sarcasm_accuracy: 0.9424 - val_sarcasm_loss: 12.6460 - val_stress_accuracy: 0.9019 - val_stress_loss: 51.9012\n",
            "Epoch 6/15\n",
            "\u001b[1m183/183\u001b[0m \u001b[32m━━━━━━━━━━━━━━━━━━━━\u001b[0m\u001b[37m\u001b[0m \u001b[1m5s\u001b[0m 26ms/step - loss: 44.1031 - sarcasm_accuracy: 0.9013 - sarcasm_loss: 10.3755 - stress_accuracy: 0.9159 - stress_loss: 33.7260 - val_loss: 35.2306 - val_sarcasm_accuracy: 0.9342 - val_sarcasm_loss: 16.6433 - val_stress_accuracy: 0.9314 - val_stress_loss: 18.6299\n",
            "Epoch 7/15\n",
            "\u001b[1m183/183\u001b[0m \u001b[32m━━━━━━━━━━━━━━━━━━━━\u001b[0m\u001b[37m\u001b[0m \u001b[1m5s\u001b[0m 25ms/step - loss: 17.2595 - sarcasm_accuracy: 0.9058 - sarcasm_loss: 8.5976 - stress_accuracy: 0.9369 - stress_loss: 8.6609 - val_loss: 98.2056 - val_sarcasm_accuracy: 0.9458 - val_sarcasm_loss: 66.3046 - val_stress_accuracy: 0.8999 - val_stress_loss: 30.9669\n",
            "Epoch 8/15\n",
            "\u001b[1m183/183\u001b[0m \u001b[32m━━━━━━━━━━━━━━━━━━━━\u001b[0m\u001b[37m\u001b[0m \u001b[1m5s\u001b[0m 24ms/step - loss: 57.9371 - sarcasm_accuracy: 0.9059 - sarcasm_loss: 48.4746 - stress_accuracy: 0.9307 - stress_loss: 9.4613 - val_loss: 21.2895 - val_sarcasm_accuracy: 0.8148 - val_sarcasm_loss: 11.7913 - val_stress_accuracy: 0.9369 - val_stress_loss: 9.3044\n",
            "Epoch 9/15\n",
            "\u001b[1m183/183\u001b[0m \u001b[32m━━━━━━━━━━━━━━━━━━━━\u001b[0m\u001b[37m\u001b[0m \u001b[1m3s\u001b[0m 18ms/step - loss: 17.9202 - sarcasm_accuracy: 0.9055 - sarcasm_loss: 10.8246 - stress_accuracy: 0.9421 - stress_loss: 7.0948 - val_loss: 11.3361 - val_sarcasm_accuracy: 0.7092 - val_sarcasm_loss: 7.3483 - val_stress_accuracy: 0.9444 - val_stress_loss: 3.9646\n",
            "Epoch 10/15\n",
            "\u001b[1m183/183\u001b[0m \u001b[32m━━━━━━━━━━━━━━━━━━━━\u001b[0m\u001b[37m\u001b[0m \u001b[1m4s\u001b[0m 15ms/step - loss: 11.1350 - sarcasm_accuracy: 0.9035 - sarcasm_loss: 6.4242 - stress_accuracy: 0.9437 - stress_loss: 4.7102 - val_loss: 24.0565 - val_sarcasm_accuracy: 0.9458 - val_sarcasm_loss: 16.4550 - val_stress_accuracy: 0.9417 - val_stress_loss: 7.4449\n",
            "Epoch 11/15\n",
            "\u001b[1m183/183\u001b[0m \u001b[32m━━━━━━━━━━━━━━━━━━━━\u001b[0m\u001b[37m\u001b[0m \u001b[1m6s\u001b[0m 17ms/step - loss: 20.4579 - sarcasm_accuracy: 0.9055 - sarcasm_loss: 15.9765 - stress_accuracy: 0.9512 - stress_loss: 4.4807 - val_loss: 9.9151 - val_sarcasm_accuracy: 0.9307 - val_sarcasm_loss: 2.1826 - val_stress_accuracy: 0.9396 - val_stress_loss: 7.6381\n",
            "Epoch 12/15\n",
            "\u001b[1m183/183\u001b[0m \u001b[32m━━━━━━━━━━━━━━━━━━━━\u001b[0m\u001b[37m\u001b[0m \u001b[1m7s\u001b[0m 26ms/step - loss: 8.0905 - sarcasm_accuracy: 0.9065 - sarcasm_loss: 5.0048 - stress_accuracy: 0.9575 - stress_loss: 3.0853 - val_loss: 21.2286 - val_sarcasm_accuracy: 0.4527 - val_sarcasm_loss: 17.5218 - val_stress_accuracy: 0.9602 - val_stress_loss: 3.6430\n",
            "Epoch 13/15\n",
            "\u001b[1m183/183\u001b[0m \u001b[32m━━━━━━━━━━━━━━━━━━━━\u001b[0m\u001b[37m\u001b[0m \u001b[1m4s\u001b[0m 20ms/step - loss: 16.9658 - sarcasm_accuracy: 0.8911 - sarcasm_loss: 13.2255 - stress_accuracy: 0.9459 - stress_loss: 3.7402 - val_loss: 11.1654 - val_sarcasm_accuracy: 0.9458 - val_sarcasm_loss: 6.2827 - val_stress_accuracy: 0.9513 - val_stress_loss: 4.7766\n",
            "Epoch 14/15\n",
            "\u001b[1m183/183\u001b[0m \u001b[32m━━━━━━━━━━━━━━━━━━━━\u001b[0m\u001b[37m\u001b[0m \u001b[1m4s\u001b[0m 15ms/step - loss: 10.3390 - sarcasm_accuracy: 0.9107 - sarcasm_loss: 5.7476 - stress_accuracy: 0.9444 - stress_loss: 4.5908 - val_loss: 13.3325 - val_sarcasm_accuracy: 0.8628 - val_sarcasm_loss: 3.5611 - val_stress_accuracy: 0.9252 - val_stress_loss: 9.6545\n",
            "Epoch 15/15\n",
            "\u001b[1m183/183\u001b[0m \u001b[32m━━━━━━━━━━━━━━━━━━━━\u001b[0m\u001b[37m\u001b[0m \u001b[1m3s\u001b[0m 15ms/step - loss: 12.4398 - sarcasm_accuracy: 0.9059 - sarcasm_loss: 6.5402 - stress_accuracy: 0.9424 - stress_loss: 5.8998 - val_loss: 14.7575 - val_sarcasm_accuracy: 0.9472 - val_sarcasm_loss: 8.2835 - val_stress_accuracy: 0.9451 - val_stress_loss: 6.5715\n"
          ]
        },
        {
          "output_type": "execute_result",
          "data": {
            "text/plain": [
              "<keras.src.callbacks.history.History at 0x7c2f90195c90>"
            ]
          },
          "metadata": {},
          "execution_count": 75
        }
      ]
    },
    {
      "cell_type": "code",
      "source": [
        "y_pred_task1,y_pred_task2 = model.predict(X_val)"
      ],
      "metadata": {
        "colab": {
          "base_uri": "https://localhost:8080/"
        },
        "id": "oPAGvxDlpz4w",
        "outputId": "035aaf0a-ce20-4e59-9f8d-f0c1d7b15284"
      },
      "execution_count": 76,
      "outputs": [
        {
          "output_type": "stream",
          "name": "stdout",
          "text": [
            "\u001b[1m46/46\u001b[0m \u001b[32m━━━━━━━━━━━━━━━━━━━━\u001b[0m\u001b[37m\u001b[0m \u001b[1m2s\u001b[0m 25ms/step\n"
          ]
        }
      ]
    },
    {
      "cell_type": "code",
      "source": [
        "threshold=0.5\n",
        "y_pred_binary1 = np.where(y_pred_task1>=threshold ,1,0)\n",
        "y_pred_binary2 = np.where(y_pred_task2>=threshold ,1,0)\n",
        "print(y_pred_binary1)"
      ],
      "metadata": {
        "id": "0iMG4Krqp1XH",
        "colab": {
          "base_uri": "https://localhost:8080/"
        },
        "outputId": "aada871f-0577-4dad-a0ce-f1b50d4f31f6"
      },
      "execution_count": 77,
      "outputs": [
        {
          "output_type": "stream",
          "name": "stdout",
          "text": [
            "[[0]\n",
            " [0]\n",
            " [0]\n",
            " ...\n",
            " [0]\n",
            " [0]\n",
            " [0]]\n"
          ]
        }
      ]
    },
    {
      "cell_type": "code",
      "source": [
        "f1_score_Sarcasm = f1_score(y_val_task1,y_pred_binary1)\n",
        "print(f1_score_Sarcasm)"
      ],
      "metadata": {
        "colab": {
          "base_uri": "https://localhost:8080/"
        },
        "id": "TTPv_AH1p9D_",
        "outputId": "4a95bc59-c005-4e90-8a60-34a77595e47f"
      },
      "execution_count": 78,
      "outputs": [
        {
          "output_type": "stream",
          "name": "stdout",
          "text": [
            "0.0\n"
          ]
        }
      ]
    },
    {
      "cell_type": "code",
      "source": [
        "ps_sarcasm = precision_score(y_val_task1,y_pred_binary1)\n",
        "print(ps_sarcasm)"
      ],
      "metadata": {
        "colab": {
          "base_uri": "https://localhost:8080/"
        },
        "id": "Tw8kJXc5CGna",
        "outputId": "2860d4be-9183-4c80-b53c-d8f29be99148"
      },
      "execution_count": 79,
      "outputs": [
        {
          "output_type": "stream",
          "name": "stdout",
          "text": [
            "0.0\n"
          ]
        },
        {
          "output_type": "stream",
          "name": "stderr",
          "text": [
            "/usr/local/lib/python3.10/dist-packages/sklearn/metrics/_classification.py:1565: UndefinedMetricWarning: Precision is ill-defined and being set to 0.0 due to no predicted samples. Use `zero_division` parameter to control this behavior.\n",
            "  _warn_prf(average, modifier, f\"{metric.capitalize()} is\", len(result))\n"
          ]
        }
      ]
    },
    {
      "cell_type": "code",
      "source": [
        "f1_score_Stress = f1_score(y_val_task2,y_pred_binary2)\n",
        "print(f1_score_Stress )"
      ],
      "metadata": {
        "colab": {
          "base_uri": "https://localhost:8080/"
        },
        "id": "CBuYlFcdqOtl",
        "outputId": "2f6db64f-8291-4a04-fd47-c433dbe61cae"
      },
      "execution_count": 80,
      "outputs": [
        {
          "output_type": "stream",
          "name": "stdout",
          "text": [
            "0.9681528662420382\n"
          ]
        }
      ]
    },
    {
      "cell_type": "code",
      "source": [
        "ps_stress = precision_score(y_val_task2,y_pred_binary2)\n",
        "print(ps_stress)"
      ],
      "metadata": {
        "colab": {
          "base_uri": "https://localhost:8080/"
        },
        "id": "RaLCnm3-CRo_",
        "outputId": "b4ff9b5a-27a9-4289-8dbc-5f572834c43c"
      },
      "execution_count": 81,
      "outputs": [
        {
          "output_type": "stream",
          "name": "stdout",
          "text": [
            "0.95\n"
          ]
        }
      ]
    },
    {
      "cell_type": "markdown",
      "source": [
        "## Pipelined Stress Architecture"
      ],
      "metadata": {
        "id": "i_hQ4FvzLKTt"
      }
    },
    {
      "cell_type": "code",
      "source": [
        "from keras.src.layers import Concatenate\n",
        "from keras.optimizers import Adam\n",
        "sequence_len=25\n",
        "embedding_dim=100\n",
        "input_shape=(sequence_len,)\n",
        "input_layer = Input(shape=input_shape)\n",
        "embedding_layer = Embedding(vocab_size,embedding_dim,weights=[embedding_matrix],trainable=False)(input_layer)\n",
        "\n",
        "BiGRU_layer = Bidirectional(GRU(64,return_sequences=True))(embedding_layer)\n",
        "attention_layer = Attention()([BiGRU_layer,BiGRU_layer])\n",
        "concatenated_layer = Concatenate(axis=-1)([attention_layer,BiGRU_layer])\n",
        "gmp_layer = GlobalMaxPool1D()(concatenated_layer)\n",
        "\n",
        "dense_layer1 = Dense(64,activation='relu')(gmp_layer)\n",
        "dense_layer2 = Dense(64,activation='relu')(gmp_layer)\n",
        "\n",
        "output_sarcasm = Dense(1,activation='sigmoid',name='sarcasm')(dense_layer1)\n",
        "concatenated_for_stress = Concatenate(axis=-1)([dense_layer2,output_sarcasm])\n",
        "output_stress = Dense(1,activation='sigmoid',name='stress')(concatenated_for_stress)\n",
        "\n",
        "model = Model(inputs=input_layer,outputs=[output_sarcasm,output_stress])\n",
        "model.compile(loss='binary_crossentropy', optimizer=Adam(learning_rate=0.1), metrics=['accuracy','accuracy'])\n",
        "model.summary()"
      ],
      "metadata": {
        "colab": {
          "base_uri": "https://localhost:8080/",
          "height": 577
        },
        "id": "cs8MTb_3AVME",
        "outputId": "58e09e57-95d0-4040-c2f6-e48f59beb3c3"
      },
      "execution_count": 82,
      "outputs": [
        {
          "output_type": "display_data",
          "data": {
            "text/plain": [
              "\u001b[1mModel: \"functional_2\"\u001b[0m\n"
            ],
            "text/html": [
              "<pre style=\"white-space:pre;overflow-x:auto;line-height:normal;font-family:Menlo,'DejaVu Sans Mono',consolas,'Courier New',monospace\"><span style=\"font-weight: bold\">Model: \"functional_2\"</span>\n",
              "</pre>\n"
            ]
          },
          "metadata": {}
        },
        {
          "output_type": "display_data",
          "data": {
            "text/plain": [
              "┏━━━━━━━━━━━━━━━━━━━━━━━━━━━┳━━━━━━━━━━━━━━━━━━━━━━━━┳━━━━━━━━━━━━━━━━┳━━━━━━━━━━━━━━━━━━━━━━━━┓\n",
              "┃\u001b[1m \u001b[0m\u001b[1mLayer (type)             \u001b[0m\u001b[1m \u001b[0m┃\u001b[1m \u001b[0m\u001b[1mOutput Shape          \u001b[0m\u001b[1m \u001b[0m┃\u001b[1m \u001b[0m\u001b[1m       Param #\u001b[0m\u001b[1m \u001b[0m┃\u001b[1m \u001b[0m\u001b[1mConnected to          \u001b[0m\u001b[1m \u001b[0m┃\n",
              "┡━━━━━━━━━━━━━━━━━━━━━━━━━━━╇━━━━━━━━━━━━━━━━━━━━━━━━╇━━━━━━━━━━━━━━━━╇━━━━━━━━━━━━━━━━━━━━━━━━┩\n",
              "│ input_layer_3             │ (\u001b[38;5;45mNone\u001b[0m, \u001b[38;5;34m25\u001b[0m)             │              \u001b[38;5;34m0\u001b[0m │ -                      │\n",
              "│ (\u001b[38;5;33mInputLayer\u001b[0m)              │                        │                │                        │\n",
              "├───────────────────────────┼────────────────────────┼────────────────┼────────────────────────┤\n",
              "│ embedding_2 (\u001b[38;5;33mEmbedding\u001b[0m)   │ (\u001b[38;5;45mNone\u001b[0m, \u001b[38;5;34m25\u001b[0m, \u001b[38;5;34m100\u001b[0m)        │        \u001b[38;5;34m508,300\u001b[0m │ input_layer_3[\u001b[38;5;34m0\u001b[0m][\u001b[38;5;34m0\u001b[0m]    │\n",
              "├───────────────────────────┼────────────────────────┼────────────────┼────────────────────────┤\n",
              "│ bidirectional_2           │ (\u001b[38;5;45mNone\u001b[0m, \u001b[38;5;34m25\u001b[0m, \u001b[38;5;34m128\u001b[0m)        │         \u001b[38;5;34m63,744\u001b[0m │ embedding_2[\u001b[38;5;34m0\u001b[0m][\u001b[38;5;34m0\u001b[0m]      │\n",
              "│ (\u001b[38;5;33mBidirectional\u001b[0m)           │                        │                │                        │\n",
              "├───────────────────────────┼────────────────────────┼────────────────┼────────────────────────┤\n",
              "│ attention_2 (\u001b[38;5;33mAttention\u001b[0m)   │ (\u001b[38;5;45mNone\u001b[0m, \u001b[38;5;34m25\u001b[0m, \u001b[38;5;34m128\u001b[0m)        │              \u001b[38;5;34m0\u001b[0m │ bidirectional_2[\u001b[38;5;34m0\u001b[0m][\u001b[38;5;34m0\u001b[0m], │\n",
              "│                           │                        │                │ bidirectional_2[\u001b[38;5;34m0\u001b[0m][\u001b[38;5;34m0\u001b[0m]  │\n",
              "├───────────────────────────┼────────────────────────┼────────────────┼────────────────────────┤\n",
              "│ concatenate_5             │ (\u001b[38;5;45mNone\u001b[0m, \u001b[38;5;34m25\u001b[0m, \u001b[38;5;34m256\u001b[0m)        │              \u001b[38;5;34m0\u001b[0m │ attention_2[\u001b[38;5;34m0\u001b[0m][\u001b[38;5;34m0\u001b[0m],     │\n",
              "│ (\u001b[38;5;33mConcatenate\u001b[0m)             │                        │                │ bidirectional_2[\u001b[38;5;34m0\u001b[0m][\u001b[38;5;34m0\u001b[0m]  │\n",
              "├───────────────────────────┼────────────────────────┼────────────────┼────────────────────────┤\n",
              "│ global_max_pooling1d_5    │ (\u001b[38;5;45mNone\u001b[0m, \u001b[38;5;34m256\u001b[0m)            │              \u001b[38;5;34m0\u001b[0m │ concatenate_5[\u001b[38;5;34m0\u001b[0m][\u001b[38;5;34m0\u001b[0m]    │\n",
              "│ (\u001b[38;5;33mGlobalMaxPooling1D\u001b[0m)      │                        │                │                        │\n",
              "├───────────────────────────┼────────────────────────┼────────────────┼────────────────────────┤\n",
              "│ dense_2 (\u001b[38;5;33mDense\u001b[0m)           │ (\u001b[38;5;45mNone\u001b[0m, \u001b[38;5;34m64\u001b[0m)             │         \u001b[38;5;34m16,448\u001b[0m │ global_max_pooling1d_… │\n",
              "├───────────────────────────┼────────────────────────┼────────────────┼────────────────────────┤\n",
              "│ sarcasm (\u001b[38;5;33mDense\u001b[0m)           │ (\u001b[38;5;45mNone\u001b[0m, \u001b[38;5;34m1\u001b[0m)              │             \u001b[38;5;34m65\u001b[0m │ dense_2[\u001b[38;5;34m0\u001b[0m][\u001b[38;5;34m0\u001b[0m]          │\n",
              "├───────────────────────────┼────────────────────────┼────────────────┼────────────────────────┤\n",
              "│ dense_3 (\u001b[38;5;33mDense\u001b[0m)           │ (\u001b[38;5;45mNone\u001b[0m, \u001b[38;5;34m64\u001b[0m)             │         \u001b[38;5;34m16,448\u001b[0m │ global_max_pooling1d_… │\n",
              "├───────────────────────────┼────────────────────────┼────────────────┼────────────────────────┤\n",
              "│ concatenate_6             │ (\u001b[38;5;45mNone\u001b[0m, \u001b[38;5;34m65\u001b[0m)             │              \u001b[38;5;34m0\u001b[0m │ dense_3[\u001b[38;5;34m0\u001b[0m][\u001b[38;5;34m0\u001b[0m],         │\n",
              "│ (\u001b[38;5;33mConcatenate\u001b[0m)             │                        │                │ sarcasm[\u001b[38;5;34m0\u001b[0m][\u001b[38;5;34m0\u001b[0m]          │\n",
              "├───────────────────────────┼────────────────────────┼────────────────┼────────────────────────┤\n",
              "│ stress (\u001b[38;5;33mDense\u001b[0m)            │ (\u001b[38;5;45mNone\u001b[0m, \u001b[38;5;34m1\u001b[0m)              │             \u001b[38;5;34m66\u001b[0m │ concatenate_6[\u001b[38;5;34m0\u001b[0m][\u001b[38;5;34m0\u001b[0m]    │\n",
              "└───────────────────────────┴────────────────────────┴────────────────┴────────────────────────┘\n"
            ],
            "text/html": [
              "<pre style=\"white-space:pre;overflow-x:auto;line-height:normal;font-family:Menlo,'DejaVu Sans Mono',consolas,'Courier New',monospace\">┏━━━━━━━━━━━━━━━━━━━━━━━━━━━┳━━━━━━━━━━━━━━━━━━━━━━━━┳━━━━━━━━━━━━━━━━┳━━━━━━━━━━━━━━━━━━━━━━━━┓\n",
              "┃<span style=\"font-weight: bold\"> Layer (type)              </span>┃<span style=\"font-weight: bold\"> Output Shape           </span>┃<span style=\"font-weight: bold\">        Param # </span>┃<span style=\"font-weight: bold\"> Connected to           </span>┃\n",
              "┡━━━━━━━━━━━━━━━━━━━━━━━━━━━╇━━━━━━━━━━━━━━━━━━━━━━━━╇━━━━━━━━━━━━━━━━╇━━━━━━━━━━━━━━━━━━━━━━━━┩\n",
              "│ input_layer_3             │ (<span style=\"color: #00d7ff; text-decoration-color: #00d7ff\">None</span>, <span style=\"color: #00af00; text-decoration-color: #00af00\">25</span>)             │              <span style=\"color: #00af00; text-decoration-color: #00af00\">0</span> │ -                      │\n",
              "│ (<span style=\"color: #0087ff; text-decoration-color: #0087ff\">InputLayer</span>)              │                        │                │                        │\n",
              "├───────────────────────────┼────────────────────────┼────────────────┼────────────────────────┤\n",
              "│ embedding_2 (<span style=\"color: #0087ff; text-decoration-color: #0087ff\">Embedding</span>)   │ (<span style=\"color: #00d7ff; text-decoration-color: #00d7ff\">None</span>, <span style=\"color: #00af00; text-decoration-color: #00af00\">25</span>, <span style=\"color: #00af00; text-decoration-color: #00af00\">100</span>)        │        <span style=\"color: #00af00; text-decoration-color: #00af00\">508,300</span> │ input_layer_3[<span style=\"color: #00af00; text-decoration-color: #00af00\">0</span>][<span style=\"color: #00af00; text-decoration-color: #00af00\">0</span>]    │\n",
              "├───────────────────────────┼────────────────────────┼────────────────┼────────────────────────┤\n",
              "│ bidirectional_2           │ (<span style=\"color: #00d7ff; text-decoration-color: #00d7ff\">None</span>, <span style=\"color: #00af00; text-decoration-color: #00af00\">25</span>, <span style=\"color: #00af00; text-decoration-color: #00af00\">128</span>)        │         <span style=\"color: #00af00; text-decoration-color: #00af00\">63,744</span> │ embedding_2[<span style=\"color: #00af00; text-decoration-color: #00af00\">0</span>][<span style=\"color: #00af00; text-decoration-color: #00af00\">0</span>]      │\n",
              "│ (<span style=\"color: #0087ff; text-decoration-color: #0087ff\">Bidirectional</span>)           │                        │                │                        │\n",
              "├───────────────────────────┼────────────────────────┼────────────────┼────────────────────────┤\n",
              "│ attention_2 (<span style=\"color: #0087ff; text-decoration-color: #0087ff\">Attention</span>)   │ (<span style=\"color: #00d7ff; text-decoration-color: #00d7ff\">None</span>, <span style=\"color: #00af00; text-decoration-color: #00af00\">25</span>, <span style=\"color: #00af00; text-decoration-color: #00af00\">128</span>)        │              <span style=\"color: #00af00; text-decoration-color: #00af00\">0</span> │ bidirectional_2[<span style=\"color: #00af00; text-decoration-color: #00af00\">0</span>][<span style=\"color: #00af00; text-decoration-color: #00af00\">0</span>], │\n",
              "│                           │                        │                │ bidirectional_2[<span style=\"color: #00af00; text-decoration-color: #00af00\">0</span>][<span style=\"color: #00af00; text-decoration-color: #00af00\">0</span>]  │\n",
              "├───────────────────────────┼────────────────────────┼────────────────┼────────────────────────┤\n",
              "│ concatenate_5             │ (<span style=\"color: #00d7ff; text-decoration-color: #00d7ff\">None</span>, <span style=\"color: #00af00; text-decoration-color: #00af00\">25</span>, <span style=\"color: #00af00; text-decoration-color: #00af00\">256</span>)        │              <span style=\"color: #00af00; text-decoration-color: #00af00\">0</span> │ attention_2[<span style=\"color: #00af00; text-decoration-color: #00af00\">0</span>][<span style=\"color: #00af00; text-decoration-color: #00af00\">0</span>],     │\n",
              "│ (<span style=\"color: #0087ff; text-decoration-color: #0087ff\">Concatenate</span>)             │                        │                │ bidirectional_2[<span style=\"color: #00af00; text-decoration-color: #00af00\">0</span>][<span style=\"color: #00af00; text-decoration-color: #00af00\">0</span>]  │\n",
              "├───────────────────────────┼────────────────────────┼────────────────┼────────────────────────┤\n",
              "│ global_max_pooling1d_5    │ (<span style=\"color: #00d7ff; text-decoration-color: #00d7ff\">None</span>, <span style=\"color: #00af00; text-decoration-color: #00af00\">256</span>)            │              <span style=\"color: #00af00; text-decoration-color: #00af00\">0</span> │ concatenate_5[<span style=\"color: #00af00; text-decoration-color: #00af00\">0</span>][<span style=\"color: #00af00; text-decoration-color: #00af00\">0</span>]    │\n",
              "│ (<span style=\"color: #0087ff; text-decoration-color: #0087ff\">GlobalMaxPooling1D</span>)      │                        │                │                        │\n",
              "├───────────────────────────┼────────────────────────┼────────────────┼────────────────────────┤\n",
              "│ dense_2 (<span style=\"color: #0087ff; text-decoration-color: #0087ff\">Dense</span>)           │ (<span style=\"color: #00d7ff; text-decoration-color: #00d7ff\">None</span>, <span style=\"color: #00af00; text-decoration-color: #00af00\">64</span>)             │         <span style=\"color: #00af00; text-decoration-color: #00af00\">16,448</span> │ global_max_pooling1d_… │\n",
              "├───────────────────────────┼────────────────────────┼────────────────┼────────────────────────┤\n",
              "│ sarcasm (<span style=\"color: #0087ff; text-decoration-color: #0087ff\">Dense</span>)           │ (<span style=\"color: #00d7ff; text-decoration-color: #00d7ff\">None</span>, <span style=\"color: #00af00; text-decoration-color: #00af00\">1</span>)              │             <span style=\"color: #00af00; text-decoration-color: #00af00\">65</span> │ dense_2[<span style=\"color: #00af00; text-decoration-color: #00af00\">0</span>][<span style=\"color: #00af00; text-decoration-color: #00af00\">0</span>]          │\n",
              "├───────────────────────────┼────────────────────────┼────────────────┼────────────────────────┤\n",
              "│ dense_3 (<span style=\"color: #0087ff; text-decoration-color: #0087ff\">Dense</span>)           │ (<span style=\"color: #00d7ff; text-decoration-color: #00d7ff\">None</span>, <span style=\"color: #00af00; text-decoration-color: #00af00\">64</span>)             │         <span style=\"color: #00af00; text-decoration-color: #00af00\">16,448</span> │ global_max_pooling1d_… │\n",
              "├───────────────────────────┼────────────────────────┼────────────────┼────────────────────────┤\n",
              "│ concatenate_6             │ (<span style=\"color: #00d7ff; text-decoration-color: #00d7ff\">None</span>, <span style=\"color: #00af00; text-decoration-color: #00af00\">65</span>)             │              <span style=\"color: #00af00; text-decoration-color: #00af00\">0</span> │ dense_3[<span style=\"color: #00af00; text-decoration-color: #00af00\">0</span>][<span style=\"color: #00af00; text-decoration-color: #00af00\">0</span>],         │\n",
              "│ (<span style=\"color: #0087ff; text-decoration-color: #0087ff\">Concatenate</span>)             │                        │                │ sarcasm[<span style=\"color: #00af00; text-decoration-color: #00af00\">0</span>][<span style=\"color: #00af00; text-decoration-color: #00af00\">0</span>]          │\n",
              "├───────────────────────────┼────────────────────────┼────────────────┼────────────────────────┤\n",
              "│ stress (<span style=\"color: #0087ff; text-decoration-color: #0087ff\">Dense</span>)            │ (<span style=\"color: #00d7ff; text-decoration-color: #00d7ff\">None</span>, <span style=\"color: #00af00; text-decoration-color: #00af00\">1</span>)              │             <span style=\"color: #00af00; text-decoration-color: #00af00\">66</span> │ concatenate_6[<span style=\"color: #00af00; text-decoration-color: #00af00\">0</span>][<span style=\"color: #00af00; text-decoration-color: #00af00\">0</span>]    │\n",
              "└───────────────────────────┴────────────────────────┴────────────────┴────────────────────────┘\n",
              "</pre>\n"
            ]
          },
          "metadata": {}
        },
        {
          "output_type": "display_data",
          "data": {
            "text/plain": [
              "\u001b[1m Total params: \u001b[0m\u001b[38;5;34m605,071\u001b[0m (2.31 MB)\n"
            ],
            "text/html": [
              "<pre style=\"white-space:pre;overflow-x:auto;line-height:normal;font-family:Menlo,'DejaVu Sans Mono',consolas,'Courier New',monospace\"><span style=\"font-weight: bold\"> Total params: </span><span style=\"color: #00af00; text-decoration-color: #00af00\">605,071</span> (2.31 MB)\n",
              "</pre>\n"
            ]
          },
          "metadata": {}
        },
        {
          "output_type": "display_data",
          "data": {
            "text/plain": [
              "\u001b[1m Trainable params: \u001b[0m\u001b[38;5;34m96,771\u001b[0m (378.01 KB)\n"
            ],
            "text/html": [
              "<pre style=\"white-space:pre;overflow-x:auto;line-height:normal;font-family:Menlo,'DejaVu Sans Mono',consolas,'Courier New',monospace\"><span style=\"font-weight: bold\"> Trainable params: </span><span style=\"color: #00af00; text-decoration-color: #00af00\">96,771</span> (378.01 KB)\n",
              "</pre>\n"
            ]
          },
          "metadata": {}
        },
        {
          "output_type": "display_data",
          "data": {
            "text/plain": [
              "\u001b[1m Non-trainable params: \u001b[0m\u001b[38;5;34m508,300\u001b[0m (1.94 MB)\n"
            ],
            "text/html": [
              "<pre style=\"white-space:pre;overflow-x:auto;line-height:normal;font-family:Menlo,'DejaVu Sans Mono',consolas,'Courier New',monospace\"><span style=\"font-weight: bold\"> Non-trainable params: </span><span style=\"color: #00af00; text-decoration-color: #00af00\">508,300</span> (1.94 MB)\n",
              "</pre>\n"
            ]
          },
          "metadata": {}
        }
      ]
    },
    {
      "cell_type": "code",
      "source": [
        "model.fit(X_train,[y_train_task1,y_train_task2],validation_data=(X_val,[y_val_task1,y_val_task2]),epochs=15,batch_size=32)"
      ],
      "metadata": {
        "colab": {
          "base_uri": "https://localhost:8080/"
        },
        "id": "b0uVbs9c8Wbw",
        "outputId": "8daaa1c8-5f00-4fa6-dae9-bd001d13eb06"
      },
      "execution_count": 83,
      "outputs": [
        {
          "metadata": {
            "tags": null
          },
          "name": "stdout",
          "output_type": "stream",
          "text": [
            "Epoch 1/15\n",
            "\u001b[1m183/183\u001b[0m \u001b[32m━━━━━━━━━━━━━━━━━━━━\u001b[0m\u001b[37m\u001b[0m \u001b[1m8s\u001b[0m 20ms/step - loss: 2.2418 - sarcasm_accuracy: 0.9249 - sarcasm_loss: 0.8320 - stress_accuracy: 0.7635 - stress_loss: 1.4097 - val_loss: 0.4701 - val_sarcasm_accuracy: 0.9472 - val_sarcasm_loss: 0.2061 - val_stress_accuracy: 0.8717 - val_stress_loss: 0.2621\n",
            "Epoch 2/15\n",
            "\u001b[1m183/183\u001b[0m \u001b[32m━━━━━━━━━━━━━━━━━━━━\u001b[0m\u001b[37m\u001b[0m \u001b[1m2s\u001b[0m 12ms/step - loss: 0.4735 - sarcasm_accuracy: 0.9472 - sarcasm_loss: 0.2047 - stress_accuracy: 0.8660 - stress_loss: 0.2688 - val_loss: 0.5513 - val_sarcasm_accuracy: 0.9472 - val_sarcasm_loss: 0.2009 - val_stress_accuracy: 0.8951 - val_stress_loss: 0.3471\n",
            "Epoch 3/15\n",
            "\u001b[1m183/183\u001b[0m \u001b[32m━━━━━━━━━━━━━━━━━━━━\u001b[0m\u001b[37m\u001b[0m \u001b[1m2s\u001b[0m 10ms/step - loss: 0.4268 - sarcasm_accuracy: 0.9471 - sarcasm_loss: 0.2074 - stress_accuracy: 0.9036 - stress_loss: 0.2194 - val_loss: 0.3656 - val_sarcasm_accuracy: 0.9472 - val_sarcasm_loss: 0.1944 - val_stress_accuracy: 0.9396 - val_stress_loss: 0.1688\n",
            "Epoch 4/15\n",
            "\u001b[1m183/183\u001b[0m \u001b[32m━━━━━━━━━━━━━━━━━━━━\u001b[0m\u001b[37m\u001b[0m \u001b[1m3s\u001b[0m 11ms/step - loss: 0.3508 - sarcasm_accuracy: 0.9453 - sarcasm_loss: 0.2040 - stress_accuracy: 0.9416 - stress_loss: 0.1468 - val_loss: 0.3288 - val_sarcasm_accuracy: 0.9472 - val_sarcasm_loss: 0.2003 - val_stress_accuracy: 0.9534 - val_stress_loss: 0.1273\n",
            "Epoch 5/15\n",
            "\u001b[1m183/183\u001b[0m \u001b[32m━━━━━━━━━━━━━━━━━━━━\u001b[0m\u001b[37m\u001b[0m \u001b[1m2s\u001b[0m 10ms/step - loss: 0.3482 - sarcasm_accuracy: 0.9489 - sarcasm_loss: 0.2074 - stress_accuracy: 0.9524 - stress_loss: 0.1408 - val_loss: 0.3702 - val_sarcasm_accuracy: 0.9472 - val_sarcasm_loss: 0.2044 - val_stress_accuracy: 0.9266 - val_stress_loss: 0.1649\n",
            "Epoch 6/15\n",
            "\u001b[1m183/183\u001b[0m \u001b[32m━━━━━━━━━━━━━━━━━━━━\u001b[0m\u001b[37m\u001b[0m \u001b[1m2s\u001b[0m 11ms/step - loss: 0.3503 - sarcasm_accuracy: 0.9443 - sarcasm_loss: 0.2139 - stress_accuracy: 0.9500 - stress_loss: 0.1365 - val_loss: 0.3099 - val_sarcasm_accuracy: 0.9472 - val_sarcasm_loss: 0.2069 - val_stress_accuracy: 0.9602 - val_stress_loss: 0.1007\n",
            "Epoch 7/15\n",
            "\u001b[1m183/183\u001b[0m \u001b[32m━━━━━━━━━━━━━━━━━━━━\u001b[0m\u001b[37m\u001b[0m \u001b[1m3s\u001b[0m 16ms/step - loss: 0.3274 - sarcasm_accuracy: 0.9440 - sarcasm_loss: 0.2190 - stress_accuracy: 0.9640 - stress_loss: 0.1084 - val_loss: 0.3284 - val_sarcasm_accuracy: 0.9472 - val_sarcasm_loss: 0.2058 - val_stress_accuracy: 0.9506 - val_stress_loss: 0.1217\n",
            "Epoch 8/15\n",
            "\u001b[1m183/183\u001b[0m \u001b[32m━━━━━━━━━━━━━━━━━━━━\u001b[0m\u001b[37m\u001b[0m \u001b[1m5s\u001b[0m 17ms/step - loss: 0.3448 - sarcasm_accuracy: 0.9459 - sarcasm_loss: 0.2101 - stress_accuracy: 0.9501 - stress_loss: 0.1347 - val_loss: 0.3357 - val_sarcasm_accuracy: 0.9472 - val_sarcasm_loss: 0.2039 - val_stress_accuracy: 0.9534 - val_stress_loss: 0.1304\n",
            "Epoch 9/15\n",
            "\u001b[1m183/183\u001b[0m \u001b[32m━━━━━━━━━━━━━━━━━━━━\u001b[0m\u001b[37m\u001b[0m \u001b[1m3s\u001b[0m 16ms/step - loss: 0.3405 - sarcasm_accuracy: 0.9495 - sarcasm_loss: 0.1990 - stress_accuracy: 0.9575 - stress_loss: 0.1416 - val_loss: 0.3639 - val_sarcasm_accuracy: 0.9472 - val_sarcasm_loss: 0.2039 - val_stress_accuracy: 0.9520 - val_stress_loss: 0.1572\n",
            "Epoch 10/15\n",
            "\u001b[1m183/183\u001b[0m \u001b[32m━━━━━━━━━━━━━━━━━━━━\u001b[0m\u001b[37m\u001b[0m \u001b[1m4s\u001b[0m 10ms/step - loss: 0.3424 - sarcasm_accuracy: 0.9447 - sarcasm_loss: 0.2133 - stress_accuracy: 0.9589 - stress_loss: 0.1291 - val_loss: 0.5129 - val_sarcasm_accuracy: 0.9472 - val_sarcasm_loss: 0.2182 - val_stress_accuracy: 0.8759 - val_stress_loss: 0.2929\n",
            "Epoch 11/15\n",
            "\u001b[1m183/183\u001b[0m \u001b[32m━━━━━━━━━━━━━━━━━━━━\u001b[0m\u001b[37m\u001b[0m \u001b[1m3s\u001b[0m 10ms/step - loss: 0.3869 - sarcasm_accuracy: 0.9428 - sarcasm_loss: 0.2235 - stress_accuracy: 0.9399 - stress_loss: 0.1635 - val_loss: 0.3858 - val_sarcasm_accuracy: 0.9472 - val_sarcasm_loss: 0.2054 - val_stress_accuracy: 0.9479 - val_stress_loss: 0.1774\n",
            "Epoch 12/15\n",
            "\u001b[1m183/183\u001b[0m \u001b[32m━━━━━━━━━━━━━━━━━━━━\u001b[0m\u001b[37m\u001b[0m \u001b[1m3s\u001b[0m 10ms/step - loss: 0.3516 - sarcasm_accuracy: 0.9484 - sarcasm_loss: 0.2044 - stress_accuracy: 0.9504 - stress_loss: 0.1472 - val_loss: 0.3616 - val_sarcasm_accuracy: 0.9472 - val_sarcasm_loss: 0.2069 - val_stress_accuracy: 0.9287 - val_stress_loss: 0.1532\n",
            "Epoch 13/15\n",
            "\u001b[1m183/183\u001b[0m \u001b[32m━━━━━━━━━━━━━━━━━━━━\u001b[0m\u001b[37m\u001b[0m \u001b[1m2s\u001b[0m 12ms/step - loss: 0.3447 - sarcasm_accuracy: 0.9445 - sarcasm_loss: 0.2159 - stress_accuracy: 0.9556 - stress_loss: 0.1288 - val_loss: 0.3218 - val_sarcasm_accuracy: 0.9472 - val_sarcasm_loss: 0.2062 - val_stress_accuracy: 0.9602 - val_stress_loss: 0.1138\n",
            "Epoch 14/15\n",
            "\u001b[1m183/183\u001b[0m \u001b[32m━━━━━━━━━━━━━━━━━━━━\u001b[0m\u001b[37m\u001b[0m \u001b[1m3s\u001b[0m 16ms/step - loss: 0.3410 - sarcasm_accuracy: 0.9385 - sarcasm_loss: 0.2327 - stress_accuracy: 0.9643 - stress_loss: 0.1082 - val_loss: 0.4216 - val_sarcasm_accuracy: 0.9472 - val_sarcasm_loss: 0.2102 - val_stress_accuracy: 0.9239 - val_stress_loss: 0.2097\n",
            "Epoch 15/15\n",
            "\u001b[1m183/183\u001b[0m \u001b[32m━━━━━━━━━━━━━━━━━━━━\u001b[0m\u001b[37m\u001b[0m \u001b[1m5s\u001b[0m 17ms/step - loss: 0.3694 - sarcasm_accuracy: 0.9414 - sarcasm_loss: 0.2278 - stress_accuracy: 0.9578 - stress_loss: 0.1416 - val_loss: 0.3025 - val_sarcasm_accuracy: 0.9472 - val_sarcasm_loss: 0.2067 - val_stress_accuracy: 0.9664 - val_stress_loss: 0.0950\n"
          ]
        },
        {
          "data": {
            "text/plain": [
              "<keras.src.callbacks.history.History at 0x7c30197de290>"
            ]
          },
          "execution_count": 83,
          "metadata": {},
          "output_type": "execute_result"
        }
      ]
    },
    {
      "cell_type": "code",
      "source": [
        "y_pred_task1,y_pred_task2 = model.predict(X_val)"
      ],
      "metadata": {
        "id": "tfB4FBLw5bWd",
        "outputId": "a7cfc662-804b-4158-e139-97a702a926c3",
        "colab": {
          "base_uri": "https://localhost:8080/"
        }
      },
      "execution_count": 84,
      "outputs": [
        {
          "metadata": {
            "tags": null
          },
          "name": "stdout",
          "output_type": "stream",
          "text": [
            "\u001b[1m46/46\u001b[0m \u001b[32m━━━━━━━━━━━━━━━━━━━━\u001b[0m\u001b[37m\u001b[0m \u001b[1m0s\u001b[0m 6ms/step\n"
          ]
        }
      ]
    },
    {
      "cell_type": "code",
      "source": [
        "print(y_pred_task1.max())"
      ],
      "metadata": {
        "id": "yGgbcYYH5wtR",
        "outputId": "2d0be28d-9a86-4422-8ad5-79eebd4c389c",
        "colab": {
          "base_uri": "https://localhost:8080/"
        }
      },
      "execution_count": 85,
      "outputs": [
        {
          "metadata": {
            "tags": null
          },
          "name": "stdout",
          "output_type": "stream",
          "text": [
            "0.06517975\n"
          ]
        }
      ]
    },
    {
      "cell_type": "code",
      "source": [
        "threshold=0.5\n",
        "y_pred_binary1 = np.where(y_pred_task1>=threshold ,1,0)\n",
        "y_pred_binary2 = np.where(y_pred_task2>=threshold ,1,0)\n",
        "print(y_pred_binary1)"
      ],
      "metadata": {
        "id": "wHjZw5y95kS5",
        "outputId": "365454ca-4f2b-4fd1-8a32-82ee686474f1",
        "colab": {
          "base_uri": "https://localhost:8080/"
        }
      },
      "execution_count": 86,
      "outputs": [
        {
          "metadata": {
            "tags": null
          },
          "name": "stdout",
          "output_type": "stream",
          "text": [
            "[[0]\n",
            " [0]\n",
            " [0]\n",
            " ...\n",
            " [0]\n",
            " [0]\n",
            " [0]]\n"
          ]
        }
      ]
    },
    {
      "cell_type": "code",
      "source": [
        "y_val_task1[:100]"
      ],
      "metadata": {
        "id": "2I6tBcn-5-7R",
        "outputId": "aa3cf9a0-42d9-464f-e889-5a7159fadf44",
        "colab": {
          "base_uri": "https://localhost:8080/"
        }
      },
      "execution_count": 87,
      "outputs": [
        {
          "data": {
            "text/plain": [
              "array([0, 0, 0, 0, 0, 0, 0, 0, 0, 0, 0, 0, 0, 0, 0, 0, 0, 0, 0, 0, 0, 0,\n",
              "       0, 0, 0, 0, 0, 0, 0, 0, 0, 0, 0, 0, 0, 0, 0, 0, 0, 0, 0, 0, 0, 0,\n",
              "       0, 0, 0, 0, 0, 0, 1, 0, 0, 0, 0, 0, 0, 0, 0, 0, 0, 0, 0, 0, 0, 0,\n",
              "       0, 0, 0, 0, 0, 0, 0, 1, 0, 1, 0, 0, 0, 0, 0, 0, 0, 0, 1, 0, 0, 0,\n",
              "       0, 0, 0, 0, 0, 0, 0, 1, 0, 0, 0, 1])"
            ]
          },
          "execution_count": 87,
          "metadata": {},
          "output_type": "execute_result"
        }
      ]
    },
    {
      "cell_type": "code",
      "source": [
        "y_pred_binary1[:10]"
      ],
      "metadata": {
        "id": "46HVwhhX6Pi6",
        "outputId": "5044a293-ecd7-4af1-9bc5-2922829dee16",
        "colab": {
          "base_uri": "https://localhost:8080/"
        }
      },
      "execution_count": 88,
      "outputs": [
        {
          "data": {
            "text/plain": [
              "array([[0],\n",
              "       [0],\n",
              "       [0],\n",
              "       [0],\n",
              "       [0],\n",
              "       [0],\n",
              "       [0],\n",
              "       [0],\n",
              "       [0],\n",
              "       [0]])"
            ]
          },
          "execution_count": 88,
          "metadata": {},
          "output_type": "execute_result"
        }
      ]
    },
    {
      "cell_type": "code",
      "source": [
        "f1_score_Sarcasm = f1_score(y_val_task1,y_pred_binary1)\n",
        "print(f1_score_Sarcasm)"
      ],
      "metadata": {
        "id": "_d4jV65U5tnX",
        "outputId": "39c1ac65-ac91-4f9b-fa7a-e6083e1ab3ae",
        "colab": {
          "base_uri": "https://localhost:8080/"
        }
      },
      "execution_count": 89,
      "outputs": [
        {
          "metadata": {
            "tags": null
          },
          "name": "stdout",
          "output_type": "stream",
          "text": [
            "0.0\n"
          ]
        }
      ]
    },
    {
      "cell_type": "code",
      "source": [
        "ps_sarcasm = precision_score(y_val_task1,y_pred_binary1)\n",
        "print(ps_sarcasm)"
      ],
      "metadata": {
        "id": "ejPZDhj8CgSL",
        "outputId": "d0f53bd5-041e-46db-9c2a-1a6110ed6020",
        "colab": {
          "base_uri": "https://localhost:8080/"
        }
      },
      "execution_count": 90,
      "outputs": [
        {
          "metadata": {
            "tags": null
          },
          "name": "stdout",
          "output_type": "stream",
          "text": [
            "0.0\n"
          ]
        },
        {
          "metadata": {
            "tags": null
          },
          "name": "stderr",
          "output_type": "stream",
          "text": [
            "/usr/local/lib/python3.10/dist-packages/sklearn/metrics/_classification.py:1565: UndefinedMetricWarning: Precision is ill-defined and being set to 0.0 due to no predicted samples. Use `zero_division` parameter to control this behavior.\n",
            "  _warn_prf(average, modifier, f\"{metric.capitalize()} is\", len(result))\n"
          ]
        }
      ]
    },
    {
      "cell_type": "code",
      "source": [
        "f1_score_Stress = f1_score(y_val_task2,y_pred_binary2)\n",
        "print(f1_score_Stress )"
      ],
      "metadata": {
        "id": "rz3c9UW458HN",
        "outputId": "ee09d07f-e095-4db9-d16d-8c9293de9391",
        "colab": {
          "base_uri": "https://localhost:8080/"
        }
      },
      "execution_count": 91,
      "outputs": [
        {
          "metadata": {
            "tags": null
          },
          "name": "stdout",
          "output_type": "stream",
          "text": [
            "0.9801860088960777\n"
          ]
        }
      ]
    },
    {
      "cell_type": "code",
      "source": [
        "ps_stress = precision_score(y_val_task2,y_pred_binary2)\n",
        "print(ps_stress)"
      ],
      "metadata": {
        "id": "kBGlazZ_Ci7D",
        "outputId": "1a33248d-ecc4-42a5-ec3d-fd957286acf9",
        "colab": {
          "base_uri": "https://localhost:8080/"
        }
      },
      "execution_count": 92,
      "outputs": [
        {
          "metadata": {
            "tags": null
          },
          "name": "stdout",
          "output_type": "stream",
          "text": [
            "0.9766317485898469\n"
          ]
        }
      ]
    },
    {
      "cell_type": "markdown",
      "source": [],
      "metadata": {
        "id": "MZox-gUOspDg"
      }
    },
    {
      "cell_type": "code",
      "source": [
        "# !tensorboard dev upload \\\n",
        "# --logdir \"/content/drive/MyDrive/logs\" \\\n",
        "# --name \"Sarcasm and Stress Multichannel CNN with 4 datasets\" \\\n",
        "# --one_shot"
      ],
      "metadata": {
        "id": "876HGTYLCY4e"
      },
      "execution_count": 93,
      "outputs": []
    },
    {
      "cell_type": "code",
      "source": [
        "from keras.optimizers import Adam\n",
        "from keras.layers import Bidirectional\n",
        "inp = Input(shape=(22,))\n",
        "x = Embedding(vocab_size, 100, weights=[embedding_matrix],trainable=False)(inp)\n",
        "x = LSTM(1, return_sequences=True)(x)#return_sequences=True\n",
        "x = GlobalMaxPool1D()(x)\n",
        "# x = Dense(50, activation=\"relu\")(x)\n",
        "# x = Dropout(0.1)(x)\n",
        "x = Dense(1, activation=\"sigmoid\")(x)\n",
        "model = Model(inputs=inp, outputs=x)\n",
        "model.compile(loss='binary_crossentropy', optimizer=Adam(learning_rate=0.001), metrics=['accuracy'])"
      ],
      "metadata": {
        "id": "9AAJuCImFIw3"
      },
      "execution_count": 67,
      "outputs": []
    },
    {
      "cell_type": "code",
      "source": [
        "model.fit(X_train,y_train_task1,validation_data=(X_val,y_val_task1),epochs=15,batch_size=32)"
      ],
      "metadata": {
        "id": "BL8eJbMXBkYH",
        "outputId": "07aaba6e-6888-4da2-9ff6-ef749e4c6bff",
        "colab": {
          "base_uri": "https://localhost:8080/"
        }
      },
      "execution_count": 68,
      "outputs": [
        {
          "output_type": "stream",
          "name": "stdout",
          "text": [
            "Epoch 1/15\n",
            "\u001b[1m183/183\u001b[0m \u001b[32m━━━━━━━━━━━━━━━━━━━━\u001b[0m\u001b[37m\u001b[0m \u001b[1m4s\u001b[0m 11ms/step - accuracy: 0.7108 - loss: 0.6439 - val_accuracy: 0.9396 - val_loss: 0.4418\n",
            "Epoch 2/15\n",
            "\u001b[1m183/183\u001b[0m \u001b[32m━━━━━━━━━━━━━━━━━━━━\u001b[0m\u001b[37m\u001b[0m \u001b[1m2s\u001b[0m 9ms/step - accuracy: 0.9458 - loss: 0.4099 - val_accuracy: 0.9472 - val_loss: 0.3501\n",
            "Epoch 3/15\n",
            "\u001b[1m183/183\u001b[0m \u001b[32m━━━━━━━━━━━━━━━━━━━━\u001b[0m\u001b[37m\u001b[0m \u001b[1m2s\u001b[0m 9ms/step - accuracy: 0.9453 - loss: 0.3381 - val_accuracy: 0.9472 - val_loss: 0.3066\n",
            "Epoch 4/15\n",
            "\u001b[1m183/183\u001b[0m \u001b[32m━━━━━━━━━━━━━━━━━━━━\u001b[0m\u001b[37m\u001b[0m \u001b[1m2s\u001b[0m 9ms/step - accuracy: 0.9448 - loss: 0.3019 - val_accuracy: 0.9472 - val_loss: 0.2785\n",
            "Epoch 5/15\n",
            "\u001b[1m183/183\u001b[0m \u001b[32m━━━━━━━━━━━━━━━━━━━━\u001b[0m\u001b[37m\u001b[0m \u001b[1m2s\u001b[0m 13ms/step - accuracy: 0.9495 - loss: 0.2701 - val_accuracy: 0.9472 - val_loss: 0.2592\n",
            "Epoch 6/15\n",
            "\u001b[1m183/183\u001b[0m \u001b[32m━━━━━━━━━━━━━━━━━━━━\u001b[0m\u001b[37m\u001b[0m \u001b[1m3s\u001b[0m 15ms/step - accuracy: 0.9463 - loss: 0.2559 - val_accuracy: 0.9472 - val_loss: 0.2446\n",
            "Epoch 7/15\n",
            "\u001b[1m183/183\u001b[0m \u001b[32m━━━━━━━━━━━━━━━━━━━━\u001b[0m\u001b[37m\u001b[0m \u001b[1m3s\u001b[0m 16ms/step - accuracy: 0.9414 - loss: 0.2513 - val_accuracy: 0.9472 - val_loss: 0.2339\n",
            "Epoch 8/15\n",
            "\u001b[1m183/183\u001b[0m \u001b[32m━━━━━━━━━━━━━━━━━━━━\u001b[0m\u001b[37m\u001b[0m \u001b[1m3s\u001b[0m 16ms/step - accuracy: 0.9454 - loss: 0.2358 - val_accuracy: 0.9472 - val_loss: 0.2264\n",
            "Epoch 9/15\n",
            "\u001b[1m183/183\u001b[0m \u001b[32m━━━━━━━━━━━━━━━━━━━━\u001b[0m\u001b[37m\u001b[0m \u001b[1m5s\u001b[0m 14ms/step - accuracy: 0.9463 - loss: 0.2246 - val_accuracy: 0.9472 - val_loss: 0.2211\n",
            "Epoch 10/15\n",
            "\u001b[1m183/183\u001b[0m \u001b[32m━━━━━━━━━━━━━━━━━━━━\u001b[0m\u001b[37m\u001b[0m \u001b[1m6s\u001b[0m 16ms/step - accuracy: 0.9454 - loss: 0.2203 - val_accuracy: 0.9472 - val_loss: 0.2166\n",
            "Epoch 11/15\n",
            "\u001b[1m183/183\u001b[0m \u001b[32m━━━━━━━━━━━━━━━━━━━━\u001b[0m\u001b[37m\u001b[0m \u001b[1m2s\u001b[0m 9ms/step - accuracy: 0.9432 - loss: 0.2214 - val_accuracy: 0.9465 - val_loss: 0.2134\n",
            "Epoch 12/15\n",
            "\u001b[1m183/183\u001b[0m \u001b[32m━━━━━━━━━━━━━━━━━━━━\u001b[0m\u001b[37m\u001b[0m \u001b[1m3s\u001b[0m 10ms/step - accuracy: 0.9419 - loss: 0.2169 - val_accuracy: 0.9465 - val_loss: 0.2109\n",
            "Epoch 13/15\n",
            "\u001b[1m183/183\u001b[0m \u001b[32m━━━━━━━━━━━━━━━━━━━━\u001b[0m\u001b[37m\u001b[0m \u001b[1m3s\u001b[0m 15ms/step - accuracy: 0.9490 - loss: 0.2028 - val_accuracy: 0.9465 - val_loss: 0.2091\n",
            "Epoch 14/15\n",
            "\u001b[1m183/183\u001b[0m \u001b[32m━━━━━━━━━━━━━━━━━━━━\u001b[0m\u001b[37m\u001b[0m \u001b[1m5s\u001b[0m 16ms/step - accuracy: 0.9486 - loss: 0.2013 - val_accuracy: 0.9458 - val_loss: 0.2078\n",
            "Epoch 15/15\n",
            "\u001b[1m183/183\u001b[0m \u001b[32m━━━━━━━━━━━━━━━━━━━━\u001b[0m\u001b[37m\u001b[0m \u001b[1m3s\u001b[0m 16ms/step - accuracy: 0.9442 - loss: 0.2079 - val_accuracy: 0.9458 - val_loss: 0.2065\n"
          ]
        },
        {
          "output_type": "execute_result",
          "data": {
            "text/plain": [
              "<keras.src.callbacks.history.History at 0x79445c30f550>"
            ]
          },
          "metadata": {},
          "execution_count": 68
        }
      ]
    },
    {
      "cell_type": "code",
      "source": [
        "y_pred_task1 = model.predict(X_val)"
      ],
      "metadata": {
        "id": "CxW3mbVFBlJZ",
        "outputId": "e60252ac-80d2-45a5-8b48-3ce6db9b5deb",
        "colab": {
          "base_uri": "https://localhost:8080/"
        }
      },
      "execution_count": 69,
      "outputs": [
        {
          "output_type": "stream",
          "name": "stdout",
          "text": [
            "\u001b[1m46/46\u001b[0m \u001b[32m━━━━━━━━━━━━━━━━━━━━\u001b[0m\u001b[37m\u001b[0m \u001b[1m0s\u001b[0m 6ms/step\n"
          ]
        }
      ]
    },
    {
      "cell_type": "code",
      "source": [
        "import numpy as np\n",
        "\n",
        "threshold = 0.5  # Adjust this threshold as needed\n",
        "y_pred_binary1 = np.where(y_pred_task1 >= threshold, 1, 0)\n",
        "print(y_pred_binary1[:10])"
      ],
      "metadata": {
        "id": "nhQsWnfVBolp",
        "outputId": "c5ef982d-f4c7-4408-c19a-3450eb39f00c",
        "colab": {
          "base_uri": "https://localhost:8080/"
        }
      },
      "execution_count": 77,
      "outputs": [
        {
          "output_type": "stream",
          "name": "stdout",
          "text": [
            "[[0]\n",
            " [0]\n",
            " [0]\n",
            " [0]\n",
            " [0]\n",
            " [0]\n",
            " [0]\n",
            " [0]\n",
            " [0]\n",
            " [0]]\n"
          ]
        }
      ]
    },
    {
      "cell_type": "code",
      "source": [
        "f1_score_Sarcasm = f1_score(y_val_task1,y_pred_binary1)\n",
        "print(f1_score_Sarcasm)"
      ],
      "metadata": {
        "id": "O2y_Qwm3BoiX",
        "outputId": "ea883d09-b443-4343-8b29-5fcaa316b03b",
        "colab": {
          "base_uri": "https://localhost:8080/"
        }
      },
      "execution_count": 78,
      "outputs": [
        {
          "output_type": "stream",
          "name": "stdout",
          "text": [
            "0.0\n"
          ]
        }
      ]
    },
    {
      "cell_type": "code",
      "source": [
        "ps_sarcasm = precision_score(y_val_task1,y_pred_binary1)\n",
        "print(ps_sarcasm)"
      ],
      "metadata": {
        "id": "a_bW2nGnDE3d",
        "outputId": "dfbc04eb-59c2-476b-9d9e-77f3c3a391f9",
        "colab": {
          "base_uri": "https://localhost:8080/"
        }
      },
      "execution_count": 79,
      "outputs": [
        {
          "output_type": "stream",
          "name": "stdout",
          "text": [
            "0.0\n"
          ]
        }
      ]
    },
    {
      "cell_type": "code",
      "source": [
        "confusion_matrix(y_val_task1,y_pred_binary1)"
      ],
      "metadata": {
        "id": "8pl6SrutQa9R",
        "outputId": "8510ea78-078a-44a7-c4ca-1bf06e3f4ce8",
        "colab": {
          "base_uri": "https://localhost:8080/"
        }
      },
      "execution_count": 80,
      "outputs": [
        {
          "output_type": "execute_result",
          "data": {
            "text/plain": [
              "array([[1379,    2],\n",
              "       [  77,    0]])"
            ]
          },
          "metadata": {},
          "execution_count": 80
        }
      ]
    },
    {
      "cell_type": "code",
      "source": [
        "model.fit(X_train,y_train_task2,validation_data=(X_val,y_val_task2),epochs=15,batch_size=32)"
      ],
      "metadata": {
        "id": "xjl9t_v5BwIC",
        "outputId": "6e2db899-3fbf-48fa-b3ce-3854b4ec9d81",
        "colab": {
          "base_uri": "https://localhost:8080/"
        }
      },
      "execution_count": 81,
      "outputs": [
        {
          "output_type": "stream",
          "name": "stdout",
          "text": [
            "Epoch 1/15\n",
            "\u001b[1m183/183\u001b[0m \u001b[32m━━━━━━━━━━━━━━━━━━━━\u001b[0m\u001b[37m\u001b[0m \u001b[1m3s\u001b[0m 14ms/step - accuracy: 0.5360 - loss: 1.2474 - val_accuracy: 0.8416 - val_loss: 0.4360\n",
            "Epoch 2/15\n",
            "\u001b[1m183/183\u001b[0m \u001b[32m━━━━━━━━━━━━━━━━━━━━\u001b[0m\u001b[37m\u001b[0m \u001b[1m2s\u001b[0m 11ms/step - accuracy: 0.8376 - loss: 0.4441 - val_accuracy: 0.8450 - val_loss: 0.4233\n",
            "Epoch 3/15\n",
            "\u001b[1m183/183\u001b[0m \u001b[32m━━━━━━━━━━━━━━━━━━━━\u001b[0m\u001b[37m\u001b[0m \u001b[1m4s\u001b[0m 18ms/step - accuracy: 0.8392 - loss: 0.4264 - val_accuracy: 0.8450 - val_loss: 0.4066\n",
            "Epoch 4/15\n",
            "\u001b[1m183/183\u001b[0m \u001b[32m━━━━━━━━━━━━━━━━━━━━\u001b[0m\u001b[37m\u001b[0m \u001b[1m4s\u001b[0m 9ms/step - accuracy: 0.8356 - loss: 0.4155 - val_accuracy: 0.8450 - val_loss: 0.3916\n",
            "Epoch 5/15\n",
            "\u001b[1m183/183\u001b[0m \u001b[32m━━━━━━━━━━━━━━━━━━━━\u001b[0m\u001b[37m\u001b[0m \u001b[1m4s\u001b[0m 15ms/step - accuracy: 0.8376 - loss: 0.3894 - val_accuracy: 0.8587 - val_loss: 0.3318\n",
            "Epoch 6/15\n",
            "\u001b[1m183/183\u001b[0m \u001b[32m━━━━━━━━━━━━━━━━━━━━\u001b[0m\u001b[37m\u001b[0m \u001b[1m5s\u001b[0m 15ms/step - accuracy: 0.8530 - loss: 0.3368 - val_accuracy: 0.8711 - val_loss: 0.3087\n",
            "Epoch 7/15\n",
            "\u001b[1m183/183\u001b[0m \u001b[32m━━━━━━━━━━━━━━━━━━━━\u001b[0m\u001b[37m\u001b[0m \u001b[1m5s\u001b[0m 16ms/step - accuracy: 0.8797 - loss: 0.3131 - val_accuracy: 0.8848 - val_loss: 0.2932\n",
            "Epoch 8/15\n",
            "\u001b[1m183/183\u001b[0m \u001b[32m━━━━━━━━━━━━━━━━━━━━\u001b[0m\u001b[37m\u001b[0m \u001b[1m5s\u001b[0m 17ms/step - accuracy: 0.8836 - loss: 0.2971 - val_accuracy: 0.8861 - val_loss: 0.2807\n",
            "Epoch 9/15\n",
            "\u001b[1m183/183\u001b[0m \u001b[32m━━━━━━━━━━━━━━━━━━━━\u001b[0m\u001b[37m\u001b[0m \u001b[1m2s\u001b[0m 9ms/step - accuracy: 0.8868 - loss: 0.2765 - val_accuracy: 0.8937 - val_loss: 0.2711\n",
            "Epoch 10/15\n",
            "\u001b[1m183/183\u001b[0m \u001b[32m━━━━━━━━━━━━━━━━━━━━\u001b[0m\u001b[37m\u001b[0m \u001b[1m3s\u001b[0m 9ms/step - accuracy: 0.9002 - loss: 0.2620 - val_accuracy: 0.8916 - val_loss: 0.2625\n",
            "Epoch 11/15\n",
            "\u001b[1m183/183\u001b[0m \u001b[32m━━━━━━━━━━━━━━━━━━━━\u001b[0m\u001b[37m\u001b[0m \u001b[1m2s\u001b[0m 13ms/step - accuracy: 0.9001 - loss: 0.2619 - val_accuracy: 0.8889 - val_loss: 0.2572\n",
            "Epoch 12/15\n",
            "\u001b[1m183/183\u001b[0m \u001b[32m━━━━━━━━━━━━━━━━━━━━\u001b[0m\u001b[37m\u001b[0m \u001b[1m3s\u001b[0m 15ms/step - accuracy: 0.9021 - loss: 0.2500 - val_accuracy: 0.8971 - val_loss: 0.2508\n",
            "Epoch 13/15\n",
            "\u001b[1m183/183\u001b[0m \u001b[32m━━━━━━━━━━━━━━━━━━━━\u001b[0m\u001b[37m\u001b[0m \u001b[1m3s\u001b[0m 16ms/step - accuracy: 0.9039 - loss: 0.2463 - val_accuracy: 0.9005 - val_loss: 0.2459\n",
            "Epoch 14/15\n",
            "\u001b[1m183/183\u001b[0m \u001b[32m━━━━━━━━━━━━━━━━━━━━\u001b[0m\u001b[37m\u001b[0m \u001b[1m5s\u001b[0m 16ms/step - accuracy: 0.9067 - loss: 0.2436 - val_accuracy: 0.9005 - val_loss: 0.2416\n",
            "Epoch 15/15\n",
            "\u001b[1m183/183\u001b[0m \u001b[32m━━━━━━━━━━━━━━━━━━━━\u001b[0m\u001b[37m\u001b[0m \u001b[1m5s\u001b[0m 14ms/step - accuracy: 0.9091 - loss: 0.2403 - val_accuracy: 0.9033 - val_loss: 0.2368\n"
          ]
        },
        {
          "output_type": "execute_result",
          "data": {
            "text/plain": [
              "<keras.src.callbacks.history.History at 0x79444ee56f20>"
            ]
          },
          "metadata": {},
          "execution_count": 81
        }
      ]
    },
    {
      "cell_type": "code",
      "source": [
        "y_pred_task2 = model.predict(X_val)"
      ],
      "metadata": {
        "id": "AXgCUjAkB4mP",
        "outputId": "09bb0f24-a1ad-4b5c-e002-d7a024a8d2ea",
        "colab": {
          "base_uri": "https://localhost:8080/"
        }
      },
      "execution_count": 82,
      "outputs": [
        {
          "output_type": "stream",
          "name": "stdout",
          "text": [
            "\u001b[1m46/46\u001b[0m \u001b[32m━━━━━━━━━━━━━━━━━━━━\u001b[0m\u001b[37m\u001b[0m \u001b[1m0s\u001b[0m 3ms/step\n"
          ]
        }
      ]
    },
    {
      "cell_type": "code",
      "source": [
        "y_pred_binary2 = np.where(y_pred_task2 >= threshold, 1, 0)\n",
        "print(y_pred_binary2[:10])"
      ],
      "metadata": {
        "id": "MF_I4VVkB6yP",
        "outputId": "6a6356ff-5403-4901-c96a-ccaff41389c9",
        "colab": {
          "base_uri": "https://localhost:8080/"
        }
      },
      "execution_count": 102,
      "outputs": [
        {
          "metadata": {
            "tags": null
          },
          "name": "stdout",
          "output_type": "stream",
          "text": [
            "[[1]\n",
            " [1]\n",
            " [1]\n",
            " [1]\n",
            " [1]\n",
            " [1]\n",
            " [1]\n",
            " [1]\n",
            " [1]\n",
            " [1]]\n"
          ]
        }
      ]
    },
    {
      "cell_type": "code",
      "source": [
        "confusion_matrix(y_val_task2,y_pred_binary2)"
      ],
      "metadata": {
        "id": "GIkQG_TMRERq",
        "outputId": "b976cb83-4923-4363-8186-7c6417dc5ab1",
        "colab": {
          "base_uri": "https://localhost:8080/"
        }
      },
      "execution_count": 83,
      "outputs": [
        {
          "output_type": "execute_result",
          "data": {
            "text/plain": [
              "array([[ 216,   10],\n",
              "       [   6, 1226]])"
            ]
          },
          "metadata": {},
          "execution_count": 83
        }
      ]
    },
    {
      "cell_type": "code",
      "source": [
        "f1_score_Stress = f1_score(y_val_task2,y_pred_binary2)\n",
        "print(f1_score_Stress)"
      ],
      "metadata": {
        "id": "KaAkUJmOCBV9",
        "outputId": "0ec3415e-29a8-4a8b-ada2-29a326d29cde",
        "colab": {
          "base_uri": "https://localhost:8080/"
        }
      },
      "execution_count": 103,
      "outputs": [
        {
          "metadata": {
            "tags": null
          },
          "name": "stdout",
          "output_type": "stream",
          "text": [
            "0.9159851301115242\n"
          ]
        }
      ]
    },
    {
      "cell_type": "code",
      "source": [
        "ps_stress = precision_score(y_val_task2,y_pred_binary2)\n",
        "print(ps_stress)"
      ],
      "metadata": {
        "id": "rjfDotlCCHjO",
        "outputId": "e2a00b40-bf07-4651-c06b-33ebaa1767d4",
        "colab": {
          "base_uri": "https://localhost:8080/"
        }
      },
      "execution_count": 104,
      "outputs": [
        {
          "metadata": {
            "tags": null
          },
          "name": "stdout",
          "output_type": "stream",
          "text": [
            "0.8449931412894376\n"
          ]
        }
      ]
    },
    {
      "cell_type": "code",
      "source": [],
      "metadata": {
        "id": "c2vacceVDJ5_"
      },
      "execution_count": 104,
      "outputs": []
    }
  ]
}