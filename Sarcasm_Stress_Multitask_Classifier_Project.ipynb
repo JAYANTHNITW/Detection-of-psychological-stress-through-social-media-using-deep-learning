{
  "nbformat": 4,
  "nbformat_minor": 0,
  "metadata": {
    "colab": {
      "provenance": [],
      "gpuType": "T4",
      "authorship_tag": "ABX9TyPG2uRJkwSudSwMg1yAz+mB",
      "include_colab_link": true
    },
    "kernelspec": {
      "name": "python3",
      "display_name": "Python 3"
    },
    "language_info": {
      "name": "python"
    },
    "accelerator": "GPU"
  },
  "cells": [
    {
      "cell_type": "markdown",
      "metadata": {
        "id": "view-in-github",
        "colab_type": "text"
      },
      "source": [
        "<a href=\"https://colab.research.google.com/github/JAYANTHNITW/MultiTask_NLP_Project/blob/main/Sarcasm_Stress_Multitask_Classifier_Project.ipynb\" target=\"_parent\"><img src=\"https://colab.research.google.com/assets/colab-badge.svg\" alt=\"Open In Colab\"/></a>"
      ]
    },
    {
      "cell_type": "code",
      "execution_count": 2,
      "metadata": {
        "id": "BqiRgFBhswRl"
      },
      "outputs": [],
      "source": [
        "import pandas as pd\n",
        "import numpy as np"
      ]
    },
    {
      "cell_type": "code",
      "source": [
        "df_train = pd.read_csv(\"Dataset-Multitask4.csv\")\n",
        "df_train.tail()"
      ],
      "metadata": {
        "colab": {
          "base_uri": "https://localhost:8080/",
          "height": 206
        },
        "id": "3uWJrFFTtRa7",
        "outputId": "e393a35c-7081-48b4-fd78-8899bf644bbf"
      },
      "execution_count": 3,
      "outputs": [
        {
          "output_type": "execute_result",
          "data": {
            "text/plain": [
              "       Unnamed: 0                                               Text  Sarcasm  \\\n",
              "16527        1829  Fmr. White House Doctor: It’s ‘ill advised’ to...        0   \n",
              "16528        1830  3 top health experts say the US is on the brin...        1   \n",
              "16529        1831  We have more than enough vaccines for NZ \\n+ r...        0   \n",
              "16530        1832  \"Now is not the time to relax the critical saf...        0   \n",
              "16531        1833  A year after Missouri confirmed its first COVI...        1   \n",
              "\n",
              "       Stress  \n",
              "16527       0  \n",
              "16528       0  \n",
              "16529       0  \n",
              "16530       0  \n",
              "16531       0  "
            ],
            "text/html": [
              "\n",
              "  <div id=\"df-ea31cda5-6f7a-4687-bb6b-2c97952c9622\" class=\"colab-df-container\">\n",
              "    <div>\n",
              "<style scoped>\n",
              "    .dataframe tbody tr th:only-of-type {\n",
              "        vertical-align: middle;\n",
              "    }\n",
              "\n",
              "    .dataframe tbody tr th {\n",
              "        vertical-align: top;\n",
              "    }\n",
              "\n",
              "    .dataframe thead th {\n",
              "        text-align: right;\n",
              "    }\n",
              "</style>\n",
              "<table border=\"1\" class=\"dataframe\">\n",
              "  <thead>\n",
              "    <tr style=\"text-align: right;\">\n",
              "      <th></th>\n",
              "      <th>Unnamed: 0</th>\n",
              "      <th>Text</th>\n",
              "      <th>Sarcasm</th>\n",
              "      <th>Stress</th>\n",
              "    </tr>\n",
              "  </thead>\n",
              "  <tbody>\n",
              "    <tr>\n",
              "      <th>16527</th>\n",
              "      <td>1829</td>\n",
              "      <td>Fmr. White House Doctor: It’s ‘ill advised’ to...</td>\n",
              "      <td>0</td>\n",
              "      <td>0</td>\n",
              "    </tr>\n",
              "    <tr>\n",
              "      <th>16528</th>\n",
              "      <td>1830</td>\n",
              "      <td>3 top health experts say the US is on the brin...</td>\n",
              "      <td>1</td>\n",
              "      <td>0</td>\n",
              "    </tr>\n",
              "    <tr>\n",
              "      <th>16529</th>\n",
              "      <td>1831</td>\n",
              "      <td>We have more than enough vaccines for NZ \\n+ r...</td>\n",
              "      <td>0</td>\n",
              "      <td>0</td>\n",
              "    </tr>\n",
              "    <tr>\n",
              "      <th>16530</th>\n",
              "      <td>1832</td>\n",
              "      <td>\"Now is not the time to relax the critical saf...</td>\n",
              "      <td>0</td>\n",
              "      <td>0</td>\n",
              "    </tr>\n",
              "    <tr>\n",
              "      <th>16531</th>\n",
              "      <td>1833</td>\n",
              "      <td>A year after Missouri confirmed its first COVI...</td>\n",
              "      <td>1</td>\n",
              "      <td>0</td>\n",
              "    </tr>\n",
              "  </tbody>\n",
              "</table>\n",
              "</div>\n",
              "    <div class=\"colab-df-buttons\">\n",
              "\n",
              "  <div class=\"colab-df-container\">\n",
              "    <button class=\"colab-df-convert\" onclick=\"convertToInteractive('df-ea31cda5-6f7a-4687-bb6b-2c97952c9622')\"\n",
              "            title=\"Convert this dataframe to an interactive table.\"\n",
              "            style=\"display:none;\">\n",
              "\n",
              "  <svg xmlns=\"http://www.w3.org/2000/svg\" height=\"24px\" viewBox=\"0 -960 960 960\">\n",
              "    <path d=\"M120-120v-720h720v720H120Zm60-500h600v-160H180v160Zm220 220h160v-160H400v160Zm0 220h160v-160H400v160ZM180-400h160v-160H180v160Zm440 0h160v-160H620v160ZM180-180h160v-160H180v160Zm440 0h160v-160H620v160Z\"/>\n",
              "  </svg>\n",
              "    </button>\n",
              "\n",
              "  <style>\n",
              "    .colab-df-container {\n",
              "      display:flex;\n",
              "      gap: 12px;\n",
              "    }\n",
              "\n",
              "    .colab-df-convert {\n",
              "      background-color: #E8F0FE;\n",
              "      border: none;\n",
              "      border-radius: 50%;\n",
              "      cursor: pointer;\n",
              "      display: none;\n",
              "      fill: #1967D2;\n",
              "      height: 32px;\n",
              "      padding: 0 0 0 0;\n",
              "      width: 32px;\n",
              "    }\n",
              "\n",
              "    .colab-df-convert:hover {\n",
              "      background-color: #E2EBFA;\n",
              "      box-shadow: 0px 1px 2px rgba(60, 64, 67, 0.3), 0px 1px 3px 1px rgba(60, 64, 67, 0.15);\n",
              "      fill: #174EA6;\n",
              "    }\n",
              "\n",
              "    .colab-df-buttons div {\n",
              "      margin-bottom: 4px;\n",
              "    }\n",
              "\n",
              "    [theme=dark] .colab-df-convert {\n",
              "      background-color: #3B4455;\n",
              "      fill: #D2E3FC;\n",
              "    }\n",
              "\n",
              "    [theme=dark] .colab-df-convert:hover {\n",
              "      background-color: #434B5C;\n",
              "      box-shadow: 0px 1px 3px 1px rgba(0, 0, 0, 0.15);\n",
              "      filter: drop-shadow(0px 1px 2px rgba(0, 0, 0, 0.3));\n",
              "      fill: #FFFFFF;\n",
              "    }\n",
              "  </style>\n",
              "\n",
              "    <script>\n",
              "      const buttonEl =\n",
              "        document.querySelector('#df-ea31cda5-6f7a-4687-bb6b-2c97952c9622 button.colab-df-convert');\n",
              "      buttonEl.style.display =\n",
              "        google.colab.kernel.accessAllowed ? 'block' : 'none';\n",
              "\n",
              "      async function convertToInteractive(key) {\n",
              "        const element = document.querySelector('#df-ea31cda5-6f7a-4687-bb6b-2c97952c9622');\n",
              "        const dataTable =\n",
              "          await google.colab.kernel.invokeFunction('convertToInteractive',\n",
              "                                                    [key], {});\n",
              "        if (!dataTable) return;\n",
              "\n",
              "        const docLinkHtml = 'Like what you see? Visit the ' +\n",
              "          '<a target=\"_blank\" href=https://colab.research.google.com/notebooks/data_table.ipynb>data table notebook</a>'\n",
              "          + ' to learn more about interactive tables.';\n",
              "        element.innerHTML = '';\n",
              "        dataTable['output_type'] = 'display_data';\n",
              "        await google.colab.output.renderOutput(dataTable, element);\n",
              "        const docLink = document.createElement('div');\n",
              "        docLink.innerHTML = docLinkHtml;\n",
              "        element.appendChild(docLink);\n",
              "      }\n",
              "    </script>\n",
              "  </div>\n",
              "\n",
              "\n",
              "<div id=\"df-e8430850-f854-4c09-bcfb-168eda64a4da\">\n",
              "  <button class=\"colab-df-quickchart\" onclick=\"quickchart('df-e8430850-f854-4c09-bcfb-168eda64a4da')\"\n",
              "            title=\"Suggest charts.\"\n",
              "            style=\"display:none;\">\n",
              "\n",
              "<svg xmlns=\"http://www.w3.org/2000/svg\" height=\"24px\"viewBox=\"0 0 24 24\"\n",
              "     width=\"24px\">\n",
              "    <g>\n",
              "        <path d=\"M19 3H5c-1.1 0-2 .9-2 2v14c0 1.1.9 2 2 2h14c1.1 0 2-.9 2-2V5c0-1.1-.9-2-2-2zM9 17H7v-7h2v7zm4 0h-2V7h2v10zm4 0h-2v-4h2v4z\"/>\n",
              "    </g>\n",
              "</svg>\n",
              "  </button>\n",
              "\n",
              "<style>\n",
              "  .colab-df-quickchart {\n",
              "      --bg-color: #E8F0FE;\n",
              "      --fill-color: #1967D2;\n",
              "      --hover-bg-color: #E2EBFA;\n",
              "      --hover-fill-color: #174EA6;\n",
              "      --disabled-fill-color: #AAA;\n",
              "      --disabled-bg-color: #DDD;\n",
              "  }\n",
              "\n",
              "  [theme=dark] .colab-df-quickchart {\n",
              "      --bg-color: #3B4455;\n",
              "      --fill-color: #D2E3FC;\n",
              "      --hover-bg-color: #434B5C;\n",
              "      --hover-fill-color: #FFFFFF;\n",
              "      --disabled-bg-color: #3B4455;\n",
              "      --disabled-fill-color: #666;\n",
              "  }\n",
              "\n",
              "  .colab-df-quickchart {\n",
              "    background-color: var(--bg-color);\n",
              "    border: none;\n",
              "    border-radius: 50%;\n",
              "    cursor: pointer;\n",
              "    display: none;\n",
              "    fill: var(--fill-color);\n",
              "    height: 32px;\n",
              "    padding: 0;\n",
              "    width: 32px;\n",
              "  }\n",
              "\n",
              "  .colab-df-quickchart:hover {\n",
              "    background-color: var(--hover-bg-color);\n",
              "    box-shadow: 0 1px 2px rgba(60, 64, 67, 0.3), 0 1px 3px 1px rgba(60, 64, 67, 0.15);\n",
              "    fill: var(--button-hover-fill-color);\n",
              "  }\n",
              "\n",
              "  .colab-df-quickchart-complete:disabled,\n",
              "  .colab-df-quickchart-complete:disabled:hover {\n",
              "    background-color: var(--disabled-bg-color);\n",
              "    fill: var(--disabled-fill-color);\n",
              "    box-shadow: none;\n",
              "  }\n",
              "\n",
              "  .colab-df-spinner {\n",
              "    border: 2px solid var(--fill-color);\n",
              "    border-color: transparent;\n",
              "    border-bottom-color: var(--fill-color);\n",
              "    animation:\n",
              "      spin 1s steps(1) infinite;\n",
              "  }\n",
              "\n",
              "  @keyframes spin {\n",
              "    0% {\n",
              "      border-color: transparent;\n",
              "      border-bottom-color: var(--fill-color);\n",
              "      border-left-color: var(--fill-color);\n",
              "    }\n",
              "    20% {\n",
              "      border-color: transparent;\n",
              "      border-left-color: var(--fill-color);\n",
              "      border-top-color: var(--fill-color);\n",
              "    }\n",
              "    30% {\n",
              "      border-color: transparent;\n",
              "      border-left-color: var(--fill-color);\n",
              "      border-top-color: var(--fill-color);\n",
              "      border-right-color: var(--fill-color);\n",
              "    }\n",
              "    40% {\n",
              "      border-color: transparent;\n",
              "      border-right-color: var(--fill-color);\n",
              "      border-top-color: var(--fill-color);\n",
              "    }\n",
              "    60% {\n",
              "      border-color: transparent;\n",
              "      border-right-color: var(--fill-color);\n",
              "    }\n",
              "    80% {\n",
              "      border-color: transparent;\n",
              "      border-right-color: var(--fill-color);\n",
              "      border-bottom-color: var(--fill-color);\n",
              "    }\n",
              "    90% {\n",
              "      border-color: transparent;\n",
              "      border-bottom-color: var(--fill-color);\n",
              "    }\n",
              "  }\n",
              "</style>\n",
              "\n",
              "  <script>\n",
              "    async function quickchart(key) {\n",
              "      const quickchartButtonEl =\n",
              "        document.querySelector('#' + key + ' button');\n",
              "      quickchartButtonEl.disabled = true;  // To prevent multiple clicks.\n",
              "      quickchartButtonEl.classList.add('colab-df-spinner');\n",
              "      try {\n",
              "        const charts = await google.colab.kernel.invokeFunction(\n",
              "            'suggestCharts', [key], {});\n",
              "      } catch (error) {\n",
              "        console.error('Error during call to suggestCharts:', error);\n",
              "      }\n",
              "      quickchartButtonEl.classList.remove('colab-df-spinner');\n",
              "      quickchartButtonEl.classList.add('colab-df-quickchart-complete');\n",
              "    }\n",
              "    (() => {\n",
              "      let quickchartButtonEl =\n",
              "        document.querySelector('#df-e8430850-f854-4c09-bcfb-168eda64a4da button');\n",
              "      quickchartButtonEl.style.display =\n",
              "        google.colab.kernel.accessAllowed ? 'block' : 'none';\n",
              "    })();\n",
              "  </script>\n",
              "</div>\n",
              "    </div>\n",
              "  </div>\n"
            ]
          },
          "metadata": {},
          "execution_count": 3
        }
      ]
    },
    {
      "cell_type": "code",
      "source": [
        "df_test = pd.read_csv(\"Dataset-Multitask1.csv\")\n",
        "df_test.tail()"
      ],
      "metadata": {
        "id": "KZvlykKEtcAI",
        "colab": {
          "base_uri": "https://localhost:8080/",
          "height": 206
        },
        "outputId": "c8d7f5f8-346a-44cf-8bd4-5f67867618e1"
      },
      "execution_count": 4,
      "outputs": [
        {
          "output_type": "execute_result",
          "data": {
            "text/plain": [
              "      Unnamed: 0                                               Text  Sarcasm  \\\n",
              "7284        1150  @AngelLamuno @lunarossa Relax mate, we have a ...        0   \n",
              "7285        1151  This doesn't mean that you relax on COVID 19, ...        0   \n",
              "7286        1152  Melbourne to relax third lockdown as no new CO...        0   \n",
              "7287        1153  JUST IN: Mayors vote 9-8 to put Metro Manila u...        0   \n",
              "7288        1154  You can return to your social apps and news, b...        1   \n",
              "\n",
              "      Stress  \n",
              "7284       0  \n",
              "7285       0  \n",
              "7286       0  \n",
              "7287       0  \n",
              "7288       0  "
            ],
            "text/html": [
              "\n",
              "  <div id=\"df-02812cb5-7e28-4f2d-9e2f-8b2b10ff3a6f\" class=\"colab-df-container\">\n",
              "    <div>\n",
              "<style scoped>\n",
              "    .dataframe tbody tr th:only-of-type {\n",
              "        vertical-align: middle;\n",
              "    }\n",
              "\n",
              "    .dataframe tbody tr th {\n",
              "        vertical-align: top;\n",
              "    }\n",
              "\n",
              "    .dataframe thead th {\n",
              "        text-align: right;\n",
              "    }\n",
              "</style>\n",
              "<table border=\"1\" class=\"dataframe\">\n",
              "  <thead>\n",
              "    <tr style=\"text-align: right;\">\n",
              "      <th></th>\n",
              "      <th>Unnamed: 0</th>\n",
              "      <th>Text</th>\n",
              "      <th>Sarcasm</th>\n",
              "      <th>Stress</th>\n",
              "    </tr>\n",
              "  </thead>\n",
              "  <tbody>\n",
              "    <tr>\n",
              "      <th>7284</th>\n",
              "      <td>1150</td>\n",
              "      <td>@AngelLamuno @lunarossa Relax mate, we have a ...</td>\n",
              "      <td>0</td>\n",
              "      <td>0</td>\n",
              "    </tr>\n",
              "    <tr>\n",
              "      <th>7285</th>\n",
              "      <td>1151</td>\n",
              "      <td>This doesn't mean that you relax on COVID 19, ...</td>\n",
              "      <td>0</td>\n",
              "      <td>0</td>\n",
              "    </tr>\n",
              "    <tr>\n",
              "      <th>7286</th>\n",
              "      <td>1152</td>\n",
              "      <td>Melbourne to relax third lockdown as no new CO...</td>\n",
              "      <td>0</td>\n",
              "      <td>0</td>\n",
              "    </tr>\n",
              "    <tr>\n",
              "      <th>7287</th>\n",
              "      <td>1153</td>\n",
              "      <td>JUST IN: Mayors vote 9-8 to put Metro Manila u...</td>\n",
              "      <td>0</td>\n",
              "      <td>0</td>\n",
              "    </tr>\n",
              "    <tr>\n",
              "      <th>7288</th>\n",
              "      <td>1154</td>\n",
              "      <td>You can return to your social apps and news, b...</td>\n",
              "      <td>1</td>\n",
              "      <td>0</td>\n",
              "    </tr>\n",
              "  </tbody>\n",
              "</table>\n",
              "</div>\n",
              "    <div class=\"colab-df-buttons\">\n",
              "\n",
              "  <div class=\"colab-df-container\">\n",
              "    <button class=\"colab-df-convert\" onclick=\"convertToInteractive('df-02812cb5-7e28-4f2d-9e2f-8b2b10ff3a6f')\"\n",
              "            title=\"Convert this dataframe to an interactive table.\"\n",
              "            style=\"display:none;\">\n",
              "\n",
              "  <svg xmlns=\"http://www.w3.org/2000/svg\" height=\"24px\" viewBox=\"0 -960 960 960\">\n",
              "    <path d=\"M120-120v-720h720v720H120Zm60-500h600v-160H180v160Zm220 220h160v-160H400v160Zm0 220h160v-160H400v160ZM180-400h160v-160H180v160Zm440 0h160v-160H620v160ZM180-180h160v-160H180v160Zm440 0h160v-160H620v160Z\"/>\n",
              "  </svg>\n",
              "    </button>\n",
              "\n",
              "  <style>\n",
              "    .colab-df-container {\n",
              "      display:flex;\n",
              "      gap: 12px;\n",
              "    }\n",
              "\n",
              "    .colab-df-convert {\n",
              "      background-color: #E8F0FE;\n",
              "      border: none;\n",
              "      border-radius: 50%;\n",
              "      cursor: pointer;\n",
              "      display: none;\n",
              "      fill: #1967D2;\n",
              "      height: 32px;\n",
              "      padding: 0 0 0 0;\n",
              "      width: 32px;\n",
              "    }\n",
              "\n",
              "    .colab-df-convert:hover {\n",
              "      background-color: #E2EBFA;\n",
              "      box-shadow: 0px 1px 2px rgba(60, 64, 67, 0.3), 0px 1px 3px 1px rgba(60, 64, 67, 0.15);\n",
              "      fill: #174EA6;\n",
              "    }\n",
              "\n",
              "    .colab-df-buttons div {\n",
              "      margin-bottom: 4px;\n",
              "    }\n",
              "\n",
              "    [theme=dark] .colab-df-convert {\n",
              "      background-color: #3B4455;\n",
              "      fill: #D2E3FC;\n",
              "    }\n",
              "\n",
              "    [theme=dark] .colab-df-convert:hover {\n",
              "      background-color: #434B5C;\n",
              "      box-shadow: 0px 1px 3px 1px rgba(0, 0, 0, 0.15);\n",
              "      filter: drop-shadow(0px 1px 2px rgba(0, 0, 0, 0.3));\n",
              "      fill: #FFFFFF;\n",
              "    }\n",
              "  </style>\n",
              "\n",
              "    <script>\n",
              "      const buttonEl =\n",
              "        document.querySelector('#df-02812cb5-7e28-4f2d-9e2f-8b2b10ff3a6f button.colab-df-convert');\n",
              "      buttonEl.style.display =\n",
              "        google.colab.kernel.accessAllowed ? 'block' : 'none';\n",
              "\n",
              "      async function convertToInteractive(key) {\n",
              "        const element = document.querySelector('#df-02812cb5-7e28-4f2d-9e2f-8b2b10ff3a6f');\n",
              "        const dataTable =\n",
              "          await google.colab.kernel.invokeFunction('convertToInteractive',\n",
              "                                                    [key], {});\n",
              "        if (!dataTable) return;\n",
              "\n",
              "        const docLinkHtml = 'Like what you see? Visit the ' +\n",
              "          '<a target=\"_blank\" href=https://colab.research.google.com/notebooks/data_table.ipynb>data table notebook</a>'\n",
              "          + ' to learn more about interactive tables.';\n",
              "        element.innerHTML = '';\n",
              "        dataTable['output_type'] = 'display_data';\n",
              "        await google.colab.output.renderOutput(dataTable, element);\n",
              "        const docLink = document.createElement('div');\n",
              "        docLink.innerHTML = docLinkHtml;\n",
              "        element.appendChild(docLink);\n",
              "      }\n",
              "    </script>\n",
              "  </div>\n",
              "\n",
              "\n",
              "<div id=\"df-b5cf4b88-cdcb-481b-af67-8d70e5ad741f\">\n",
              "  <button class=\"colab-df-quickchart\" onclick=\"quickchart('df-b5cf4b88-cdcb-481b-af67-8d70e5ad741f')\"\n",
              "            title=\"Suggest charts.\"\n",
              "            style=\"display:none;\">\n",
              "\n",
              "<svg xmlns=\"http://www.w3.org/2000/svg\" height=\"24px\"viewBox=\"0 0 24 24\"\n",
              "     width=\"24px\">\n",
              "    <g>\n",
              "        <path d=\"M19 3H5c-1.1 0-2 .9-2 2v14c0 1.1.9 2 2 2h14c1.1 0 2-.9 2-2V5c0-1.1-.9-2-2-2zM9 17H7v-7h2v7zm4 0h-2V7h2v10zm4 0h-2v-4h2v4z\"/>\n",
              "    </g>\n",
              "</svg>\n",
              "  </button>\n",
              "\n",
              "<style>\n",
              "  .colab-df-quickchart {\n",
              "      --bg-color: #E8F0FE;\n",
              "      --fill-color: #1967D2;\n",
              "      --hover-bg-color: #E2EBFA;\n",
              "      --hover-fill-color: #174EA6;\n",
              "      --disabled-fill-color: #AAA;\n",
              "      --disabled-bg-color: #DDD;\n",
              "  }\n",
              "\n",
              "  [theme=dark] .colab-df-quickchart {\n",
              "      --bg-color: #3B4455;\n",
              "      --fill-color: #D2E3FC;\n",
              "      --hover-bg-color: #434B5C;\n",
              "      --hover-fill-color: #FFFFFF;\n",
              "      --disabled-bg-color: #3B4455;\n",
              "      --disabled-fill-color: #666;\n",
              "  }\n",
              "\n",
              "  .colab-df-quickchart {\n",
              "    background-color: var(--bg-color);\n",
              "    border: none;\n",
              "    border-radius: 50%;\n",
              "    cursor: pointer;\n",
              "    display: none;\n",
              "    fill: var(--fill-color);\n",
              "    height: 32px;\n",
              "    padding: 0;\n",
              "    width: 32px;\n",
              "  }\n",
              "\n",
              "  .colab-df-quickchart:hover {\n",
              "    background-color: var(--hover-bg-color);\n",
              "    box-shadow: 0 1px 2px rgba(60, 64, 67, 0.3), 0 1px 3px 1px rgba(60, 64, 67, 0.15);\n",
              "    fill: var(--button-hover-fill-color);\n",
              "  }\n",
              "\n",
              "  .colab-df-quickchart-complete:disabled,\n",
              "  .colab-df-quickchart-complete:disabled:hover {\n",
              "    background-color: var(--disabled-bg-color);\n",
              "    fill: var(--disabled-fill-color);\n",
              "    box-shadow: none;\n",
              "  }\n",
              "\n",
              "  .colab-df-spinner {\n",
              "    border: 2px solid var(--fill-color);\n",
              "    border-color: transparent;\n",
              "    border-bottom-color: var(--fill-color);\n",
              "    animation:\n",
              "      spin 1s steps(1) infinite;\n",
              "  }\n",
              "\n",
              "  @keyframes spin {\n",
              "    0% {\n",
              "      border-color: transparent;\n",
              "      border-bottom-color: var(--fill-color);\n",
              "      border-left-color: var(--fill-color);\n",
              "    }\n",
              "    20% {\n",
              "      border-color: transparent;\n",
              "      border-left-color: var(--fill-color);\n",
              "      border-top-color: var(--fill-color);\n",
              "    }\n",
              "    30% {\n",
              "      border-color: transparent;\n",
              "      border-left-color: var(--fill-color);\n",
              "      border-top-color: var(--fill-color);\n",
              "      border-right-color: var(--fill-color);\n",
              "    }\n",
              "    40% {\n",
              "      border-color: transparent;\n",
              "      border-right-color: var(--fill-color);\n",
              "      border-top-color: var(--fill-color);\n",
              "    }\n",
              "    60% {\n",
              "      border-color: transparent;\n",
              "      border-right-color: var(--fill-color);\n",
              "    }\n",
              "    80% {\n",
              "      border-color: transparent;\n",
              "      border-right-color: var(--fill-color);\n",
              "      border-bottom-color: var(--fill-color);\n",
              "    }\n",
              "    90% {\n",
              "      border-color: transparent;\n",
              "      border-bottom-color: var(--fill-color);\n",
              "    }\n",
              "  }\n",
              "</style>\n",
              "\n",
              "  <script>\n",
              "    async function quickchart(key) {\n",
              "      const quickchartButtonEl =\n",
              "        document.querySelector('#' + key + ' button');\n",
              "      quickchartButtonEl.disabled = true;  // To prevent multiple clicks.\n",
              "      quickchartButtonEl.classList.add('colab-df-spinner');\n",
              "      try {\n",
              "        const charts = await google.colab.kernel.invokeFunction(\n",
              "            'suggestCharts', [key], {});\n",
              "      } catch (error) {\n",
              "        console.error('Error during call to suggestCharts:', error);\n",
              "      }\n",
              "      quickchartButtonEl.classList.remove('colab-df-spinner');\n",
              "      quickchartButtonEl.classList.add('colab-df-quickchart-complete');\n",
              "    }\n",
              "    (() => {\n",
              "      let quickchartButtonEl =\n",
              "        document.querySelector('#df-b5cf4b88-cdcb-481b-af67-8d70e5ad741f button');\n",
              "      quickchartButtonEl.style.display =\n",
              "        google.colab.kernel.accessAllowed ? 'block' : 'none';\n",
              "    })();\n",
              "  </script>\n",
              "</div>\n",
              "    </div>\n",
              "  </div>\n"
            ]
          },
          "metadata": {},
          "execution_count": 4
        }
      ]
    },
    {
      "cell_type": "code",
      "source": [
        "df_train.info()"
      ],
      "metadata": {
        "colab": {
          "base_uri": "https://localhost:8080/"
        },
        "id": "NqjHqo4qtnf4",
        "outputId": "50f13c7e-6a2c-4986-be70-c3a1fd36711b"
      },
      "execution_count": 5,
      "outputs": [
        {
          "output_type": "stream",
          "name": "stdout",
          "text": [
            "<class 'pandas.core.frame.DataFrame'>\n",
            "RangeIndex: 16532 entries, 0 to 16531\n",
            "Data columns (total 4 columns):\n",
            " #   Column      Non-Null Count  Dtype \n",
            "---  ------      --------------  ----- \n",
            " 0   Unnamed: 0  16532 non-null  int64 \n",
            " 1   Text        16532 non-null  object\n",
            " 2   Sarcasm     16532 non-null  int64 \n",
            " 3   Stress      16532 non-null  int64 \n",
            "dtypes: int64(3), object(1)\n",
            "memory usage: 516.8+ KB\n"
          ]
        }
      ]
    },
    {
      "cell_type": "code",
      "source": [
        "df_train.shape"
      ],
      "metadata": {
        "colab": {
          "base_uri": "https://localhost:8080/"
        },
        "id": "jKH_rkPfu0of",
        "outputId": "8bbcfbc3-7477-4bc1-d9b0-ddc9ce339c7f"
      },
      "execution_count": 6,
      "outputs": [
        {
          "output_type": "execute_result",
          "data": {
            "text/plain": [
              "(16532, 4)"
            ]
          },
          "metadata": {},
          "execution_count": 6
        }
      ]
    },
    {
      "cell_type": "code",
      "source": [
        "df_train.duplicated().sum()"
      ],
      "metadata": {
        "colab": {
          "base_uri": "https://localhost:8080/"
        },
        "id": "faIgIXJ-3SyX",
        "outputId": "d3a4cc0f-5947-4b6f-93f8-944d6a197198"
      },
      "execution_count": 7,
      "outputs": [
        {
          "output_type": "execute_result",
          "data": {
            "text/plain": [
              "0"
            ]
          },
          "metadata": {},
          "execution_count": 7
        }
      ]
    },
    {
      "cell_type": "code",
      "source": [
        "df_train = df_train.drop_duplicates()"
      ],
      "metadata": {
        "id": "0MtvCyWst9ox"
      },
      "execution_count": 8,
      "outputs": []
    },
    {
      "cell_type": "code",
      "source": [
        "df_train.columns"
      ],
      "metadata": {
        "colab": {
          "base_uri": "https://localhost:8080/"
        },
        "id": "ySGhx9d_uWgY",
        "outputId": "1def2a5e-5dd8-4a7f-9462-9d9279d796a5"
      },
      "execution_count": 9,
      "outputs": [
        {
          "output_type": "execute_result",
          "data": {
            "text/plain": [
              "Index(['Unnamed: 0', 'Text', 'Sarcasm', 'Stress'], dtype='object')"
            ]
          },
          "metadata": {},
          "execution_count": 9
        }
      ]
    },
    {
      "cell_type": "code",
      "source": [
        "df_train = df_train.drop(['Unnamed: 0'],axis=1)\n",
        "df_test = df_test.drop(['Unnamed: 0'],axis=1)"
      ],
      "metadata": {
        "id": "i27XNf9jvYRf"
      },
      "execution_count": 10,
      "outputs": []
    },
    {
      "cell_type": "code",
      "source": [
        "df_train = pd.concat([df_train,df_test],axis=0)"
      ],
      "metadata": {
        "id": "82fM3Z2aXvj8"
      },
      "execution_count": 11,
      "outputs": []
    },
    {
      "cell_type": "code",
      "source": [
        "df_train.head()"
      ],
      "metadata": {
        "colab": {
          "base_uri": "https://localhost:8080/",
          "height": 206
        },
        "id": "mdZQcIogYNQW",
        "outputId": "5121f917-25fb-45b4-a30e-5838784a7294"
      },
      "execution_count": 12,
      "outputs": [
        {
          "output_type": "execute_result",
          "data": {
            "text/plain": [
              "                                                Text  Sarcasm  Stress\n",
              "0  Peer-reviewed article that systematically deco...        0       1\n",
              "1  Dealing with stress for children and youth liv...        0       1\n",
              "2  Pandemic living is stressful for everyone, eve...        0       1\n",
              "3  Stress leave, tears and insomnia: Greater Vict...        0       1\n",
              "4  Stress leave, tears and insomnia: Greater Vict...        0       1"
            ],
            "text/html": [
              "\n",
              "  <div id=\"df-bc74e148-a57d-4849-bb98-97da74ad47a8\" class=\"colab-df-container\">\n",
              "    <div>\n",
              "<style scoped>\n",
              "    .dataframe tbody tr th:only-of-type {\n",
              "        vertical-align: middle;\n",
              "    }\n",
              "\n",
              "    .dataframe tbody tr th {\n",
              "        vertical-align: top;\n",
              "    }\n",
              "\n",
              "    .dataframe thead th {\n",
              "        text-align: right;\n",
              "    }\n",
              "</style>\n",
              "<table border=\"1\" class=\"dataframe\">\n",
              "  <thead>\n",
              "    <tr style=\"text-align: right;\">\n",
              "      <th></th>\n",
              "      <th>Text</th>\n",
              "      <th>Sarcasm</th>\n",
              "      <th>Stress</th>\n",
              "    </tr>\n",
              "  </thead>\n",
              "  <tbody>\n",
              "    <tr>\n",
              "      <th>0</th>\n",
              "      <td>Peer-reviewed article that systematically deco...</td>\n",
              "      <td>0</td>\n",
              "      <td>1</td>\n",
              "    </tr>\n",
              "    <tr>\n",
              "      <th>1</th>\n",
              "      <td>Dealing with stress for children and youth liv...</td>\n",
              "      <td>0</td>\n",
              "      <td>1</td>\n",
              "    </tr>\n",
              "    <tr>\n",
              "      <th>2</th>\n",
              "      <td>Pandemic living is stressful for everyone, eve...</td>\n",
              "      <td>0</td>\n",
              "      <td>1</td>\n",
              "    </tr>\n",
              "    <tr>\n",
              "      <th>3</th>\n",
              "      <td>Stress leave, tears and insomnia: Greater Vict...</td>\n",
              "      <td>0</td>\n",
              "      <td>1</td>\n",
              "    </tr>\n",
              "    <tr>\n",
              "      <th>4</th>\n",
              "      <td>Stress leave, tears and insomnia: Greater Vict...</td>\n",
              "      <td>0</td>\n",
              "      <td>1</td>\n",
              "    </tr>\n",
              "  </tbody>\n",
              "</table>\n",
              "</div>\n",
              "    <div class=\"colab-df-buttons\">\n",
              "\n",
              "  <div class=\"colab-df-container\">\n",
              "    <button class=\"colab-df-convert\" onclick=\"convertToInteractive('df-bc74e148-a57d-4849-bb98-97da74ad47a8')\"\n",
              "            title=\"Convert this dataframe to an interactive table.\"\n",
              "            style=\"display:none;\">\n",
              "\n",
              "  <svg xmlns=\"http://www.w3.org/2000/svg\" height=\"24px\" viewBox=\"0 -960 960 960\">\n",
              "    <path d=\"M120-120v-720h720v720H120Zm60-500h600v-160H180v160Zm220 220h160v-160H400v160Zm0 220h160v-160H400v160ZM180-400h160v-160H180v160Zm440 0h160v-160H620v160ZM180-180h160v-160H180v160Zm440 0h160v-160H620v160Z\"/>\n",
              "  </svg>\n",
              "    </button>\n",
              "\n",
              "  <style>\n",
              "    .colab-df-container {\n",
              "      display:flex;\n",
              "      gap: 12px;\n",
              "    }\n",
              "\n",
              "    .colab-df-convert {\n",
              "      background-color: #E8F0FE;\n",
              "      border: none;\n",
              "      border-radius: 50%;\n",
              "      cursor: pointer;\n",
              "      display: none;\n",
              "      fill: #1967D2;\n",
              "      height: 32px;\n",
              "      padding: 0 0 0 0;\n",
              "      width: 32px;\n",
              "    }\n",
              "\n",
              "    .colab-df-convert:hover {\n",
              "      background-color: #E2EBFA;\n",
              "      box-shadow: 0px 1px 2px rgba(60, 64, 67, 0.3), 0px 1px 3px 1px rgba(60, 64, 67, 0.15);\n",
              "      fill: #174EA6;\n",
              "    }\n",
              "\n",
              "    .colab-df-buttons div {\n",
              "      margin-bottom: 4px;\n",
              "    }\n",
              "\n",
              "    [theme=dark] .colab-df-convert {\n",
              "      background-color: #3B4455;\n",
              "      fill: #D2E3FC;\n",
              "    }\n",
              "\n",
              "    [theme=dark] .colab-df-convert:hover {\n",
              "      background-color: #434B5C;\n",
              "      box-shadow: 0px 1px 3px 1px rgba(0, 0, 0, 0.15);\n",
              "      filter: drop-shadow(0px 1px 2px rgba(0, 0, 0, 0.3));\n",
              "      fill: #FFFFFF;\n",
              "    }\n",
              "  </style>\n",
              "\n",
              "    <script>\n",
              "      const buttonEl =\n",
              "        document.querySelector('#df-bc74e148-a57d-4849-bb98-97da74ad47a8 button.colab-df-convert');\n",
              "      buttonEl.style.display =\n",
              "        google.colab.kernel.accessAllowed ? 'block' : 'none';\n",
              "\n",
              "      async function convertToInteractive(key) {\n",
              "        const element = document.querySelector('#df-bc74e148-a57d-4849-bb98-97da74ad47a8');\n",
              "        const dataTable =\n",
              "          await google.colab.kernel.invokeFunction('convertToInteractive',\n",
              "                                                    [key], {});\n",
              "        if (!dataTable) return;\n",
              "\n",
              "        const docLinkHtml = 'Like what you see? Visit the ' +\n",
              "          '<a target=\"_blank\" href=https://colab.research.google.com/notebooks/data_table.ipynb>data table notebook</a>'\n",
              "          + ' to learn more about interactive tables.';\n",
              "        element.innerHTML = '';\n",
              "        dataTable['output_type'] = 'display_data';\n",
              "        await google.colab.output.renderOutput(dataTable, element);\n",
              "        const docLink = document.createElement('div');\n",
              "        docLink.innerHTML = docLinkHtml;\n",
              "        element.appendChild(docLink);\n",
              "      }\n",
              "    </script>\n",
              "  </div>\n",
              "\n",
              "\n",
              "<div id=\"df-fb5d5b98-4a29-49a0-8257-7f206309c959\">\n",
              "  <button class=\"colab-df-quickchart\" onclick=\"quickchart('df-fb5d5b98-4a29-49a0-8257-7f206309c959')\"\n",
              "            title=\"Suggest charts.\"\n",
              "            style=\"display:none;\">\n",
              "\n",
              "<svg xmlns=\"http://www.w3.org/2000/svg\" height=\"24px\"viewBox=\"0 0 24 24\"\n",
              "     width=\"24px\">\n",
              "    <g>\n",
              "        <path d=\"M19 3H5c-1.1 0-2 .9-2 2v14c0 1.1.9 2 2 2h14c1.1 0 2-.9 2-2V5c0-1.1-.9-2-2-2zM9 17H7v-7h2v7zm4 0h-2V7h2v10zm4 0h-2v-4h2v4z\"/>\n",
              "    </g>\n",
              "</svg>\n",
              "  </button>\n",
              "\n",
              "<style>\n",
              "  .colab-df-quickchart {\n",
              "      --bg-color: #E8F0FE;\n",
              "      --fill-color: #1967D2;\n",
              "      --hover-bg-color: #E2EBFA;\n",
              "      --hover-fill-color: #174EA6;\n",
              "      --disabled-fill-color: #AAA;\n",
              "      --disabled-bg-color: #DDD;\n",
              "  }\n",
              "\n",
              "  [theme=dark] .colab-df-quickchart {\n",
              "      --bg-color: #3B4455;\n",
              "      --fill-color: #D2E3FC;\n",
              "      --hover-bg-color: #434B5C;\n",
              "      --hover-fill-color: #FFFFFF;\n",
              "      --disabled-bg-color: #3B4455;\n",
              "      --disabled-fill-color: #666;\n",
              "  }\n",
              "\n",
              "  .colab-df-quickchart {\n",
              "    background-color: var(--bg-color);\n",
              "    border: none;\n",
              "    border-radius: 50%;\n",
              "    cursor: pointer;\n",
              "    display: none;\n",
              "    fill: var(--fill-color);\n",
              "    height: 32px;\n",
              "    padding: 0;\n",
              "    width: 32px;\n",
              "  }\n",
              "\n",
              "  .colab-df-quickchart:hover {\n",
              "    background-color: var(--hover-bg-color);\n",
              "    box-shadow: 0 1px 2px rgba(60, 64, 67, 0.3), 0 1px 3px 1px rgba(60, 64, 67, 0.15);\n",
              "    fill: var(--button-hover-fill-color);\n",
              "  }\n",
              "\n",
              "  .colab-df-quickchart-complete:disabled,\n",
              "  .colab-df-quickchart-complete:disabled:hover {\n",
              "    background-color: var(--disabled-bg-color);\n",
              "    fill: var(--disabled-fill-color);\n",
              "    box-shadow: none;\n",
              "  }\n",
              "\n",
              "  .colab-df-spinner {\n",
              "    border: 2px solid var(--fill-color);\n",
              "    border-color: transparent;\n",
              "    border-bottom-color: var(--fill-color);\n",
              "    animation:\n",
              "      spin 1s steps(1) infinite;\n",
              "  }\n",
              "\n",
              "  @keyframes spin {\n",
              "    0% {\n",
              "      border-color: transparent;\n",
              "      border-bottom-color: var(--fill-color);\n",
              "      border-left-color: var(--fill-color);\n",
              "    }\n",
              "    20% {\n",
              "      border-color: transparent;\n",
              "      border-left-color: var(--fill-color);\n",
              "      border-top-color: var(--fill-color);\n",
              "    }\n",
              "    30% {\n",
              "      border-color: transparent;\n",
              "      border-left-color: var(--fill-color);\n",
              "      border-top-color: var(--fill-color);\n",
              "      border-right-color: var(--fill-color);\n",
              "    }\n",
              "    40% {\n",
              "      border-color: transparent;\n",
              "      border-right-color: var(--fill-color);\n",
              "      border-top-color: var(--fill-color);\n",
              "    }\n",
              "    60% {\n",
              "      border-color: transparent;\n",
              "      border-right-color: var(--fill-color);\n",
              "    }\n",
              "    80% {\n",
              "      border-color: transparent;\n",
              "      border-right-color: var(--fill-color);\n",
              "      border-bottom-color: var(--fill-color);\n",
              "    }\n",
              "    90% {\n",
              "      border-color: transparent;\n",
              "      border-bottom-color: var(--fill-color);\n",
              "    }\n",
              "  }\n",
              "</style>\n",
              "\n",
              "  <script>\n",
              "    async function quickchart(key) {\n",
              "      const quickchartButtonEl =\n",
              "        document.querySelector('#' + key + ' button');\n",
              "      quickchartButtonEl.disabled = true;  // To prevent multiple clicks.\n",
              "      quickchartButtonEl.classList.add('colab-df-spinner');\n",
              "      try {\n",
              "        const charts = await google.colab.kernel.invokeFunction(\n",
              "            'suggestCharts', [key], {});\n",
              "      } catch (error) {\n",
              "        console.error('Error during call to suggestCharts:', error);\n",
              "      }\n",
              "      quickchartButtonEl.classList.remove('colab-df-spinner');\n",
              "      quickchartButtonEl.classList.add('colab-df-quickchart-complete');\n",
              "    }\n",
              "    (() => {\n",
              "      let quickchartButtonEl =\n",
              "        document.querySelector('#df-fb5d5b98-4a29-49a0-8257-7f206309c959 button');\n",
              "      quickchartButtonEl.style.display =\n",
              "        google.colab.kernel.accessAllowed ? 'block' : 'none';\n",
              "    })();\n",
              "  </script>\n",
              "</div>\n",
              "    </div>\n",
              "  </div>\n"
            ]
          },
          "metadata": {},
          "execution_count": 12
        }
      ]
    },
    {
      "cell_type": "code",
      "source": [
        "df_test.head()"
      ],
      "metadata": {
        "colab": {
          "base_uri": "https://localhost:8080/",
          "height": 206
        },
        "id": "zhEg1DEeYVrf",
        "outputId": "4085a808-3a77-4cbb-8674-7f68a7cbe3fb"
      },
      "execution_count": 13,
      "outputs": [
        {
          "output_type": "execute_result",
          "data": {
            "text/plain": [
              "                                                Text  Sarcasm  Stress\n",
              "0  Peer-reviewed article that systematically deco...        0       1\n",
              "1  Dealing with stress for children and youth liv...        0       1\n",
              "2  Pandemic living is stressful for everyone, eve...        0       1\n",
              "3  Stress leave, tears and insomnia: Greater Vict...        0       1\n",
              "4  Stress leave, tears and insomnia: Greater Vict...        0       1"
            ],
            "text/html": [
              "\n",
              "  <div id=\"df-de729ced-190d-4d1c-a2f8-a86e7b098292\" class=\"colab-df-container\">\n",
              "    <div>\n",
              "<style scoped>\n",
              "    .dataframe tbody tr th:only-of-type {\n",
              "        vertical-align: middle;\n",
              "    }\n",
              "\n",
              "    .dataframe tbody tr th {\n",
              "        vertical-align: top;\n",
              "    }\n",
              "\n",
              "    .dataframe thead th {\n",
              "        text-align: right;\n",
              "    }\n",
              "</style>\n",
              "<table border=\"1\" class=\"dataframe\">\n",
              "  <thead>\n",
              "    <tr style=\"text-align: right;\">\n",
              "      <th></th>\n",
              "      <th>Text</th>\n",
              "      <th>Sarcasm</th>\n",
              "      <th>Stress</th>\n",
              "    </tr>\n",
              "  </thead>\n",
              "  <tbody>\n",
              "    <tr>\n",
              "      <th>0</th>\n",
              "      <td>Peer-reviewed article that systematically deco...</td>\n",
              "      <td>0</td>\n",
              "      <td>1</td>\n",
              "    </tr>\n",
              "    <tr>\n",
              "      <th>1</th>\n",
              "      <td>Dealing with stress for children and youth liv...</td>\n",
              "      <td>0</td>\n",
              "      <td>1</td>\n",
              "    </tr>\n",
              "    <tr>\n",
              "      <th>2</th>\n",
              "      <td>Pandemic living is stressful for everyone, eve...</td>\n",
              "      <td>0</td>\n",
              "      <td>1</td>\n",
              "    </tr>\n",
              "    <tr>\n",
              "      <th>3</th>\n",
              "      <td>Stress leave, tears and insomnia: Greater Vict...</td>\n",
              "      <td>0</td>\n",
              "      <td>1</td>\n",
              "    </tr>\n",
              "    <tr>\n",
              "      <th>4</th>\n",
              "      <td>Stress leave, tears and insomnia: Greater Vict...</td>\n",
              "      <td>0</td>\n",
              "      <td>1</td>\n",
              "    </tr>\n",
              "  </tbody>\n",
              "</table>\n",
              "</div>\n",
              "    <div class=\"colab-df-buttons\">\n",
              "\n",
              "  <div class=\"colab-df-container\">\n",
              "    <button class=\"colab-df-convert\" onclick=\"convertToInteractive('df-de729ced-190d-4d1c-a2f8-a86e7b098292')\"\n",
              "            title=\"Convert this dataframe to an interactive table.\"\n",
              "            style=\"display:none;\">\n",
              "\n",
              "  <svg xmlns=\"http://www.w3.org/2000/svg\" height=\"24px\" viewBox=\"0 -960 960 960\">\n",
              "    <path d=\"M120-120v-720h720v720H120Zm60-500h600v-160H180v160Zm220 220h160v-160H400v160Zm0 220h160v-160H400v160ZM180-400h160v-160H180v160Zm440 0h160v-160H620v160ZM180-180h160v-160H180v160Zm440 0h160v-160H620v160Z\"/>\n",
              "  </svg>\n",
              "    </button>\n",
              "\n",
              "  <style>\n",
              "    .colab-df-container {\n",
              "      display:flex;\n",
              "      gap: 12px;\n",
              "    }\n",
              "\n",
              "    .colab-df-convert {\n",
              "      background-color: #E8F0FE;\n",
              "      border: none;\n",
              "      border-radius: 50%;\n",
              "      cursor: pointer;\n",
              "      display: none;\n",
              "      fill: #1967D2;\n",
              "      height: 32px;\n",
              "      padding: 0 0 0 0;\n",
              "      width: 32px;\n",
              "    }\n",
              "\n",
              "    .colab-df-convert:hover {\n",
              "      background-color: #E2EBFA;\n",
              "      box-shadow: 0px 1px 2px rgba(60, 64, 67, 0.3), 0px 1px 3px 1px rgba(60, 64, 67, 0.15);\n",
              "      fill: #174EA6;\n",
              "    }\n",
              "\n",
              "    .colab-df-buttons div {\n",
              "      margin-bottom: 4px;\n",
              "    }\n",
              "\n",
              "    [theme=dark] .colab-df-convert {\n",
              "      background-color: #3B4455;\n",
              "      fill: #D2E3FC;\n",
              "    }\n",
              "\n",
              "    [theme=dark] .colab-df-convert:hover {\n",
              "      background-color: #434B5C;\n",
              "      box-shadow: 0px 1px 3px 1px rgba(0, 0, 0, 0.15);\n",
              "      filter: drop-shadow(0px 1px 2px rgba(0, 0, 0, 0.3));\n",
              "      fill: #FFFFFF;\n",
              "    }\n",
              "  </style>\n",
              "\n",
              "    <script>\n",
              "      const buttonEl =\n",
              "        document.querySelector('#df-de729ced-190d-4d1c-a2f8-a86e7b098292 button.colab-df-convert');\n",
              "      buttonEl.style.display =\n",
              "        google.colab.kernel.accessAllowed ? 'block' : 'none';\n",
              "\n",
              "      async function convertToInteractive(key) {\n",
              "        const element = document.querySelector('#df-de729ced-190d-4d1c-a2f8-a86e7b098292');\n",
              "        const dataTable =\n",
              "          await google.colab.kernel.invokeFunction('convertToInteractive',\n",
              "                                                    [key], {});\n",
              "        if (!dataTable) return;\n",
              "\n",
              "        const docLinkHtml = 'Like what you see? Visit the ' +\n",
              "          '<a target=\"_blank\" href=https://colab.research.google.com/notebooks/data_table.ipynb>data table notebook</a>'\n",
              "          + ' to learn more about interactive tables.';\n",
              "        element.innerHTML = '';\n",
              "        dataTable['output_type'] = 'display_data';\n",
              "        await google.colab.output.renderOutput(dataTable, element);\n",
              "        const docLink = document.createElement('div');\n",
              "        docLink.innerHTML = docLinkHtml;\n",
              "        element.appendChild(docLink);\n",
              "      }\n",
              "    </script>\n",
              "  </div>\n",
              "\n",
              "\n",
              "<div id=\"df-dd213ba7-2f0e-4804-a29c-c060cba7c588\">\n",
              "  <button class=\"colab-df-quickchart\" onclick=\"quickchart('df-dd213ba7-2f0e-4804-a29c-c060cba7c588')\"\n",
              "            title=\"Suggest charts.\"\n",
              "            style=\"display:none;\">\n",
              "\n",
              "<svg xmlns=\"http://www.w3.org/2000/svg\" height=\"24px\"viewBox=\"0 0 24 24\"\n",
              "     width=\"24px\">\n",
              "    <g>\n",
              "        <path d=\"M19 3H5c-1.1 0-2 .9-2 2v14c0 1.1.9 2 2 2h14c1.1 0 2-.9 2-2V5c0-1.1-.9-2-2-2zM9 17H7v-7h2v7zm4 0h-2V7h2v10zm4 0h-2v-4h2v4z\"/>\n",
              "    </g>\n",
              "</svg>\n",
              "  </button>\n",
              "\n",
              "<style>\n",
              "  .colab-df-quickchart {\n",
              "      --bg-color: #E8F0FE;\n",
              "      --fill-color: #1967D2;\n",
              "      --hover-bg-color: #E2EBFA;\n",
              "      --hover-fill-color: #174EA6;\n",
              "      --disabled-fill-color: #AAA;\n",
              "      --disabled-bg-color: #DDD;\n",
              "  }\n",
              "\n",
              "  [theme=dark] .colab-df-quickchart {\n",
              "      --bg-color: #3B4455;\n",
              "      --fill-color: #D2E3FC;\n",
              "      --hover-bg-color: #434B5C;\n",
              "      --hover-fill-color: #FFFFFF;\n",
              "      --disabled-bg-color: #3B4455;\n",
              "      --disabled-fill-color: #666;\n",
              "  }\n",
              "\n",
              "  .colab-df-quickchart {\n",
              "    background-color: var(--bg-color);\n",
              "    border: none;\n",
              "    border-radius: 50%;\n",
              "    cursor: pointer;\n",
              "    display: none;\n",
              "    fill: var(--fill-color);\n",
              "    height: 32px;\n",
              "    padding: 0;\n",
              "    width: 32px;\n",
              "  }\n",
              "\n",
              "  .colab-df-quickchart:hover {\n",
              "    background-color: var(--hover-bg-color);\n",
              "    box-shadow: 0 1px 2px rgba(60, 64, 67, 0.3), 0 1px 3px 1px rgba(60, 64, 67, 0.15);\n",
              "    fill: var(--button-hover-fill-color);\n",
              "  }\n",
              "\n",
              "  .colab-df-quickchart-complete:disabled,\n",
              "  .colab-df-quickchart-complete:disabled:hover {\n",
              "    background-color: var(--disabled-bg-color);\n",
              "    fill: var(--disabled-fill-color);\n",
              "    box-shadow: none;\n",
              "  }\n",
              "\n",
              "  .colab-df-spinner {\n",
              "    border: 2px solid var(--fill-color);\n",
              "    border-color: transparent;\n",
              "    border-bottom-color: var(--fill-color);\n",
              "    animation:\n",
              "      spin 1s steps(1) infinite;\n",
              "  }\n",
              "\n",
              "  @keyframes spin {\n",
              "    0% {\n",
              "      border-color: transparent;\n",
              "      border-bottom-color: var(--fill-color);\n",
              "      border-left-color: var(--fill-color);\n",
              "    }\n",
              "    20% {\n",
              "      border-color: transparent;\n",
              "      border-left-color: var(--fill-color);\n",
              "      border-top-color: var(--fill-color);\n",
              "    }\n",
              "    30% {\n",
              "      border-color: transparent;\n",
              "      border-left-color: var(--fill-color);\n",
              "      border-top-color: var(--fill-color);\n",
              "      border-right-color: var(--fill-color);\n",
              "    }\n",
              "    40% {\n",
              "      border-color: transparent;\n",
              "      border-right-color: var(--fill-color);\n",
              "      border-top-color: var(--fill-color);\n",
              "    }\n",
              "    60% {\n",
              "      border-color: transparent;\n",
              "      border-right-color: var(--fill-color);\n",
              "    }\n",
              "    80% {\n",
              "      border-color: transparent;\n",
              "      border-right-color: var(--fill-color);\n",
              "      border-bottom-color: var(--fill-color);\n",
              "    }\n",
              "    90% {\n",
              "      border-color: transparent;\n",
              "      border-bottom-color: var(--fill-color);\n",
              "    }\n",
              "  }\n",
              "</style>\n",
              "\n",
              "  <script>\n",
              "    async function quickchart(key) {\n",
              "      const quickchartButtonEl =\n",
              "        document.querySelector('#' + key + ' button');\n",
              "      quickchartButtonEl.disabled = true;  // To prevent multiple clicks.\n",
              "      quickchartButtonEl.classList.add('colab-df-spinner');\n",
              "      try {\n",
              "        const charts = await google.colab.kernel.invokeFunction(\n",
              "            'suggestCharts', [key], {});\n",
              "      } catch (error) {\n",
              "        console.error('Error during call to suggestCharts:', error);\n",
              "      }\n",
              "      quickchartButtonEl.classList.remove('colab-df-spinner');\n",
              "      quickchartButtonEl.classList.add('colab-df-quickchart-complete');\n",
              "    }\n",
              "    (() => {\n",
              "      let quickchartButtonEl =\n",
              "        document.querySelector('#df-dd213ba7-2f0e-4804-a29c-c060cba7c588 button');\n",
              "      quickchartButtonEl.style.display =\n",
              "        google.colab.kernel.accessAllowed ? 'block' : 'none';\n",
              "    })();\n",
              "  </script>\n",
              "</div>\n",
              "    </div>\n",
              "  </div>\n"
            ]
          },
          "metadata": {},
          "execution_count": 13
        }
      ]
    },
    {
      "cell_type": "code",
      "source": [
        "df_train.shape"
      ],
      "metadata": {
        "colab": {
          "base_uri": "https://localhost:8080/"
        },
        "id": "aLTwcX_NZIz6",
        "outputId": "3b51a701-9766-44a4-e9a1-b382d064ec9e"
      },
      "execution_count": 14,
      "outputs": [
        {
          "output_type": "execute_result",
          "data": {
            "text/plain": [
              "(23821, 3)"
            ]
          },
          "metadata": {},
          "execution_count": 14
        }
      ]
    },
    {
      "cell_type": "code",
      "source": [
        "df_train['Text'][0]"
      ],
      "metadata": {
        "colab": {
          "base_uri": "https://localhost:8080/"
        },
        "id": "QU_ffRPevk1I",
        "outputId": "af62feba-71f0-48bc-bfe2-89b8181f273c"
      },
      "execution_count": 15,
      "outputs": [
        {
          "output_type": "execute_result",
          "data": {
            "text/plain": [
              "0    Peer-reviewed article that systematically deco...\n",
              "0    Peer-reviewed article that systematically deco...\n",
              "Name: Text, dtype: object"
            ]
          },
          "metadata": {},
          "execution_count": 15
        }
      ]
    },
    {
      "cell_type": "code",
      "source": [
        "import gensim\n",
        "import nltk\n",
        "#from nltk import sent_tokenize\n",
        "from gensim.utils import simple_preprocess"
      ],
      "metadata": {
        "id": "0Y4XcgcLx8Jf"
      },
      "execution_count": 16,
      "outputs": []
    },
    {
      "cell_type": "markdown",
      "source": [
        "###  1 Lower casing"
      ],
      "metadata": {
        "id": "Q9KaT2yn4GYU"
      }
    },
    {
      "cell_type": "code",
      "source": [
        "df_train['Text'] = df_train['Text'].str.lower()"
      ],
      "metadata": {
        "id": "hrtr4qPMzNr8"
      },
      "execution_count": 17,
      "outputs": []
    },
    {
      "cell_type": "markdown",
      "source": [
        "### 2. HTML Tags"
      ],
      "metadata": {
        "id": "0o1xr07Tyfs2"
      }
    },
    {
      "cell_type": "code",
      "source": [
        "import re\n",
        "def remove_html_tags(text):\n",
        "  pattern = re.compile('<.*?>')\n",
        "  return pattern.sub(r'',text)"
      ],
      "metadata": {
        "id": "DNa38Nq44f72"
      },
      "execution_count": 18,
      "outputs": []
    },
    {
      "cell_type": "code",
      "source": [
        "df_train['Text'] = df_train['Text'].apply(remove_html_tags)"
      ],
      "metadata": {
        "id": "LKWn63EWyux1"
      },
      "execution_count": 19,
      "outputs": []
    },
    {
      "cell_type": "markdown",
      "source": [
        "### 3. Removing URL in Text"
      ],
      "metadata": {
        "id": "r98cfvfE4lfK"
      }
    },
    {
      "cell_type": "code",
      "source": [
        "def remove_url(text):\n",
        "  pattern = re.compile(r'https?://\\S+|www\\.\\/S+')\n",
        "  return pattern.sub(r'',text)"
      ],
      "metadata": {
        "id": "-CDhYfQx4xNm"
      },
      "execution_count": 20,
      "outputs": []
    },
    {
      "cell_type": "code",
      "source": [
        "df_train['Text'] = df_train['Text'].apply(remove_url)"
      ],
      "metadata": {
        "id": "-OXXVEe947Pl"
      },
      "execution_count": 21,
      "outputs": []
    },
    {
      "cell_type": "markdown",
      "source": [
        "### 4. Removing Punctuations"
      ],
      "metadata": {
        "id": "9xDXNps75CQK"
      }
    },
    {
      "cell_type": "code",
      "source": [
        "import string\n",
        "string.punctuation"
      ],
      "metadata": {
        "colab": {
          "base_uri": "https://localhost:8080/",
          "height": 35
        },
        "id": "rG99fuIS5Jib",
        "outputId": "4b2d6bd9-1ee1-451c-b0f6-9a516ef3f095"
      },
      "execution_count": 22,
      "outputs": [
        {
          "output_type": "execute_result",
          "data": {
            "text/plain": [
              "'!\"#$%&\\'()*+,-./:;<=>?@[\\\\]^_`{|}~'"
            ],
            "application/vnd.google.colaboratory.intrinsic+json": {
              "type": "string"
            }
          },
          "metadata": {},
          "execution_count": 22
        }
      ]
    },
    {
      "cell_type": "code",
      "source": [
        "exclude = string.punctuation"
      ],
      "metadata": {
        "id": "sczPafk15Mkj"
      },
      "execution_count": 23,
      "outputs": []
    },
    {
      "cell_type": "code",
      "source": [
        "def remove_punc(text):\n",
        "  return text.translate(str.maketrans('','',exclude))"
      ],
      "metadata": {
        "id": "7fxwnYOc5Tni"
      },
      "execution_count": 24,
      "outputs": []
    },
    {
      "cell_type": "code",
      "source": [
        "df_train['Text'] = df_train['Text'].apply(remove_punc)"
      ],
      "metadata": {
        "id": "P81wYDXE5Z5D"
      },
      "execution_count": 25,
      "outputs": []
    },
    {
      "cell_type": "markdown",
      "source": [
        "### 5. Spelling Corrections"
      ],
      "metadata": {
        "id": "wGOExmJH5oSZ"
      }
    },
    {
      "cell_type": "code",
      "source": [
        "from textblob import TextBlob"
      ],
      "metadata": {
        "id": "xgLUhcj251s2"
      },
      "execution_count": 26,
      "outputs": []
    },
    {
      "cell_type": "code",
      "source": [
        "def correct_spelling(text):\n",
        "  blob = TextBlob(text)\n",
        "  corrected_text = blob.correct()\n",
        "  return str(corrected_text)"
      ],
      "metadata": {
        "id": "P9rSJnU751nO"
      },
      "execution_count": 27,
      "outputs": []
    },
    {
      "cell_type": "code",
      "source": [
        "#df_train['Text'].apply(lambda x:correct_spelling(x))"
      ],
      "metadata": {
        "id": "6ynGgE2W590i"
      },
      "execution_count": 28,
      "outputs": []
    },
    {
      "cell_type": "code",
      "source": [
        "df_train.head()"
      ],
      "metadata": {
        "colab": {
          "base_uri": "https://localhost:8080/",
          "height": 206
        },
        "id": "GVQybS3Q90IS",
        "outputId": "bfda9ae2-0cb7-4e22-a72b-acc94fd98e99"
      },
      "execution_count": 29,
      "outputs": [
        {
          "output_type": "execute_result",
          "data": {
            "text/plain": [
              "                                                Text  Sarcasm  Stress\n",
              "0  peerreviewed article that systematically decon...        0       1\n",
              "1  dealing with stress for children and youth liv...        0       1\n",
              "2  pandemic living is stressful for everyone even...        0       1\n",
              "3  stress leave tears and insomnia greater victor...        0       1\n",
              "4  stress leave tears and insomnia greater victor...        0       1"
            ],
            "text/html": [
              "\n",
              "  <div id=\"df-39520401-9efa-45b9-8a6d-8acde1c7e937\" class=\"colab-df-container\">\n",
              "    <div>\n",
              "<style scoped>\n",
              "    .dataframe tbody tr th:only-of-type {\n",
              "        vertical-align: middle;\n",
              "    }\n",
              "\n",
              "    .dataframe tbody tr th {\n",
              "        vertical-align: top;\n",
              "    }\n",
              "\n",
              "    .dataframe thead th {\n",
              "        text-align: right;\n",
              "    }\n",
              "</style>\n",
              "<table border=\"1\" class=\"dataframe\">\n",
              "  <thead>\n",
              "    <tr style=\"text-align: right;\">\n",
              "      <th></th>\n",
              "      <th>Text</th>\n",
              "      <th>Sarcasm</th>\n",
              "      <th>Stress</th>\n",
              "    </tr>\n",
              "  </thead>\n",
              "  <tbody>\n",
              "    <tr>\n",
              "      <th>0</th>\n",
              "      <td>peerreviewed article that systematically decon...</td>\n",
              "      <td>0</td>\n",
              "      <td>1</td>\n",
              "    </tr>\n",
              "    <tr>\n",
              "      <th>1</th>\n",
              "      <td>dealing with stress for children and youth liv...</td>\n",
              "      <td>0</td>\n",
              "      <td>1</td>\n",
              "    </tr>\n",
              "    <tr>\n",
              "      <th>2</th>\n",
              "      <td>pandemic living is stressful for everyone even...</td>\n",
              "      <td>0</td>\n",
              "      <td>1</td>\n",
              "    </tr>\n",
              "    <tr>\n",
              "      <th>3</th>\n",
              "      <td>stress leave tears and insomnia greater victor...</td>\n",
              "      <td>0</td>\n",
              "      <td>1</td>\n",
              "    </tr>\n",
              "    <tr>\n",
              "      <th>4</th>\n",
              "      <td>stress leave tears and insomnia greater victor...</td>\n",
              "      <td>0</td>\n",
              "      <td>1</td>\n",
              "    </tr>\n",
              "  </tbody>\n",
              "</table>\n",
              "</div>\n",
              "    <div class=\"colab-df-buttons\">\n",
              "\n",
              "  <div class=\"colab-df-container\">\n",
              "    <button class=\"colab-df-convert\" onclick=\"convertToInteractive('df-39520401-9efa-45b9-8a6d-8acde1c7e937')\"\n",
              "            title=\"Convert this dataframe to an interactive table.\"\n",
              "            style=\"display:none;\">\n",
              "\n",
              "  <svg xmlns=\"http://www.w3.org/2000/svg\" height=\"24px\" viewBox=\"0 -960 960 960\">\n",
              "    <path d=\"M120-120v-720h720v720H120Zm60-500h600v-160H180v160Zm220 220h160v-160H400v160Zm0 220h160v-160H400v160ZM180-400h160v-160H180v160Zm440 0h160v-160H620v160ZM180-180h160v-160H180v160Zm440 0h160v-160H620v160Z\"/>\n",
              "  </svg>\n",
              "    </button>\n",
              "\n",
              "  <style>\n",
              "    .colab-df-container {\n",
              "      display:flex;\n",
              "      gap: 12px;\n",
              "    }\n",
              "\n",
              "    .colab-df-convert {\n",
              "      background-color: #E8F0FE;\n",
              "      border: none;\n",
              "      border-radius: 50%;\n",
              "      cursor: pointer;\n",
              "      display: none;\n",
              "      fill: #1967D2;\n",
              "      height: 32px;\n",
              "      padding: 0 0 0 0;\n",
              "      width: 32px;\n",
              "    }\n",
              "\n",
              "    .colab-df-convert:hover {\n",
              "      background-color: #E2EBFA;\n",
              "      box-shadow: 0px 1px 2px rgba(60, 64, 67, 0.3), 0px 1px 3px 1px rgba(60, 64, 67, 0.15);\n",
              "      fill: #174EA6;\n",
              "    }\n",
              "\n",
              "    .colab-df-buttons div {\n",
              "      margin-bottom: 4px;\n",
              "    }\n",
              "\n",
              "    [theme=dark] .colab-df-convert {\n",
              "      background-color: #3B4455;\n",
              "      fill: #D2E3FC;\n",
              "    }\n",
              "\n",
              "    [theme=dark] .colab-df-convert:hover {\n",
              "      background-color: #434B5C;\n",
              "      box-shadow: 0px 1px 3px 1px rgba(0, 0, 0, 0.15);\n",
              "      filter: drop-shadow(0px 1px 2px rgba(0, 0, 0, 0.3));\n",
              "      fill: #FFFFFF;\n",
              "    }\n",
              "  </style>\n",
              "\n",
              "    <script>\n",
              "      const buttonEl =\n",
              "        document.querySelector('#df-39520401-9efa-45b9-8a6d-8acde1c7e937 button.colab-df-convert');\n",
              "      buttonEl.style.display =\n",
              "        google.colab.kernel.accessAllowed ? 'block' : 'none';\n",
              "\n",
              "      async function convertToInteractive(key) {\n",
              "        const element = document.querySelector('#df-39520401-9efa-45b9-8a6d-8acde1c7e937');\n",
              "        const dataTable =\n",
              "          await google.colab.kernel.invokeFunction('convertToInteractive',\n",
              "                                                    [key], {});\n",
              "        if (!dataTable) return;\n",
              "\n",
              "        const docLinkHtml = 'Like what you see? Visit the ' +\n",
              "          '<a target=\"_blank\" href=https://colab.research.google.com/notebooks/data_table.ipynb>data table notebook</a>'\n",
              "          + ' to learn more about interactive tables.';\n",
              "        element.innerHTML = '';\n",
              "        dataTable['output_type'] = 'display_data';\n",
              "        await google.colab.output.renderOutput(dataTable, element);\n",
              "        const docLink = document.createElement('div');\n",
              "        docLink.innerHTML = docLinkHtml;\n",
              "        element.appendChild(docLink);\n",
              "      }\n",
              "    </script>\n",
              "  </div>\n",
              "\n",
              "\n",
              "<div id=\"df-d46f3a02-94a6-44d5-8e09-9cb51eabaf2c\">\n",
              "  <button class=\"colab-df-quickchart\" onclick=\"quickchart('df-d46f3a02-94a6-44d5-8e09-9cb51eabaf2c')\"\n",
              "            title=\"Suggest charts.\"\n",
              "            style=\"display:none;\">\n",
              "\n",
              "<svg xmlns=\"http://www.w3.org/2000/svg\" height=\"24px\"viewBox=\"0 0 24 24\"\n",
              "     width=\"24px\">\n",
              "    <g>\n",
              "        <path d=\"M19 3H5c-1.1 0-2 .9-2 2v14c0 1.1.9 2 2 2h14c1.1 0 2-.9 2-2V5c0-1.1-.9-2-2-2zM9 17H7v-7h2v7zm4 0h-2V7h2v10zm4 0h-2v-4h2v4z\"/>\n",
              "    </g>\n",
              "</svg>\n",
              "  </button>\n",
              "\n",
              "<style>\n",
              "  .colab-df-quickchart {\n",
              "      --bg-color: #E8F0FE;\n",
              "      --fill-color: #1967D2;\n",
              "      --hover-bg-color: #E2EBFA;\n",
              "      --hover-fill-color: #174EA6;\n",
              "      --disabled-fill-color: #AAA;\n",
              "      --disabled-bg-color: #DDD;\n",
              "  }\n",
              "\n",
              "  [theme=dark] .colab-df-quickchart {\n",
              "      --bg-color: #3B4455;\n",
              "      --fill-color: #D2E3FC;\n",
              "      --hover-bg-color: #434B5C;\n",
              "      --hover-fill-color: #FFFFFF;\n",
              "      --disabled-bg-color: #3B4455;\n",
              "      --disabled-fill-color: #666;\n",
              "  }\n",
              "\n",
              "  .colab-df-quickchart {\n",
              "    background-color: var(--bg-color);\n",
              "    border: none;\n",
              "    border-radius: 50%;\n",
              "    cursor: pointer;\n",
              "    display: none;\n",
              "    fill: var(--fill-color);\n",
              "    height: 32px;\n",
              "    padding: 0;\n",
              "    width: 32px;\n",
              "  }\n",
              "\n",
              "  .colab-df-quickchart:hover {\n",
              "    background-color: var(--hover-bg-color);\n",
              "    box-shadow: 0 1px 2px rgba(60, 64, 67, 0.3), 0 1px 3px 1px rgba(60, 64, 67, 0.15);\n",
              "    fill: var(--button-hover-fill-color);\n",
              "  }\n",
              "\n",
              "  .colab-df-quickchart-complete:disabled,\n",
              "  .colab-df-quickchart-complete:disabled:hover {\n",
              "    background-color: var(--disabled-bg-color);\n",
              "    fill: var(--disabled-fill-color);\n",
              "    box-shadow: none;\n",
              "  }\n",
              "\n",
              "  .colab-df-spinner {\n",
              "    border: 2px solid var(--fill-color);\n",
              "    border-color: transparent;\n",
              "    border-bottom-color: var(--fill-color);\n",
              "    animation:\n",
              "      spin 1s steps(1) infinite;\n",
              "  }\n",
              "\n",
              "  @keyframes spin {\n",
              "    0% {\n",
              "      border-color: transparent;\n",
              "      border-bottom-color: var(--fill-color);\n",
              "      border-left-color: var(--fill-color);\n",
              "    }\n",
              "    20% {\n",
              "      border-color: transparent;\n",
              "      border-left-color: var(--fill-color);\n",
              "      border-top-color: var(--fill-color);\n",
              "    }\n",
              "    30% {\n",
              "      border-color: transparent;\n",
              "      border-left-color: var(--fill-color);\n",
              "      border-top-color: var(--fill-color);\n",
              "      border-right-color: var(--fill-color);\n",
              "    }\n",
              "    40% {\n",
              "      border-color: transparent;\n",
              "      border-right-color: var(--fill-color);\n",
              "      border-top-color: var(--fill-color);\n",
              "    }\n",
              "    60% {\n",
              "      border-color: transparent;\n",
              "      border-right-color: var(--fill-color);\n",
              "    }\n",
              "    80% {\n",
              "      border-color: transparent;\n",
              "      border-right-color: var(--fill-color);\n",
              "      border-bottom-color: var(--fill-color);\n",
              "    }\n",
              "    90% {\n",
              "      border-color: transparent;\n",
              "      border-bottom-color: var(--fill-color);\n",
              "    }\n",
              "  }\n",
              "</style>\n",
              "\n",
              "  <script>\n",
              "    async function quickchart(key) {\n",
              "      const quickchartButtonEl =\n",
              "        document.querySelector('#' + key + ' button');\n",
              "      quickchartButtonEl.disabled = true;  // To prevent multiple clicks.\n",
              "      quickchartButtonEl.classList.add('colab-df-spinner');\n",
              "      try {\n",
              "        const charts = await google.colab.kernel.invokeFunction(\n",
              "            'suggestCharts', [key], {});\n",
              "      } catch (error) {\n",
              "        console.error('Error during call to suggestCharts:', error);\n",
              "      }\n",
              "      quickchartButtonEl.classList.remove('colab-df-spinner');\n",
              "      quickchartButtonEl.classList.add('colab-df-quickchart-complete');\n",
              "    }\n",
              "    (() => {\n",
              "      let quickchartButtonEl =\n",
              "        document.querySelector('#df-d46f3a02-94a6-44d5-8e09-9cb51eabaf2c button');\n",
              "      quickchartButtonEl.style.display =\n",
              "        google.colab.kernel.accessAllowed ? 'block' : 'none';\n",
              "    })();\n",
              "  </script>\n",
              "</div>\n",
              "    </div>\n",
              "  </div>\n"
            ]
          },
          "metadata": {},
          "execution_count": 29
        }
      ]
    },
    {
      "cell_type": "markdown",
      "source": [
        "### 6. Stemming"
      ],
      "metadata": {
        "id": "4r9nAZpI6G4C"
      }
    },
    {
      "cell_type": "code",
      "source": [
        "from nltk import PorterStemmer"
      ],
      "metadata": {
        "id": "cvmNNLWw7FwJ"
      },
      "execution_count": 30,
      "outputs": []
    },
    {
      "cell_type": "code",
      "source": [
        "stemmer = PorterStemmer()"
      ],
      "metadata": {
        "id": "wIGsY8Sg7HRq"
      },
      "execution_count": 31,
      "outputs": []
    },
    {
      "cell_type": "code",
      "source": [
        "df_train['Text'] = df_train['Text'].apply(lambda x:stemmer.stem(x))"
      ],
      "metadata": {
        "id": "PNfDjOqI7Isx"
      },
      "execution_count": 32,
      "outputs": []
    },
    {
      "cell_type": "markdown",
      "source": [
        "### 8. Remove stopwords"
      ],
      "metadata": {
        "id": "t9gCRkJV8Eux"
      }
    },
    {
      "cell_type": "code",
      "source": [
        "\n",
        "\n",
        "nltk.download('stopwords')"
      ],
      "metadata": {
        "colab": {
          "base_uri": "https://localhost:8080/"
        },
        "id": "l86abQwb9MzG",
        "outputId": "33cdd331-d0ee-49b0-d43b-f2c7be9e0025"
      },
      "execution_count": 33,
      "outputs": [
        {
          "output_type": "stream",
          "name": "stderr",
          "text": [
            "[nltk_data] Downloading package stopwords to /root/nltk_data...\n",
            "[nltk_data]   Unzipping corpora/stopwords.zip.\n"
          ]
        },
        {
          "output_type": "execute_result",
          "data": {
            "text/plain": [
              "True"
            ]
          },
          "metadata": {},
          "execution_count": 33
        }
      ]
    },
    {
      "cell_type": "code",
      "source": [
        "from nltk.corpus import stopwords\n",
        "\n",
        "sw_list = stopwords.words('english')\n",
        "\n",
        "df_train['Text'].apply(lambda x:[item for item in x.split() if item not in sw_list]).apply(lambda x:\" \".join(x))"
      ],
      "metadata": {
        "colab": {
          "base_uri": "https://localhost:8080/"
        },
        "id": "v4ZT9eG_8ZXM",
        "outputId": "a1a3c472-9f55-423b-822e-4b15825ff7c7"
      },
      "execution_count": 34,
      "outputs": [
        {
          "output_type": "execute_result",
          "data": {
            "text/plain": [
              "0       peerreviewed article systematically deconstruc...\n",
              "1       dealing stress children youth living diabetes ...\n",
              "2       pandemic living stressful everyone even who’ve...\n",
              "3       stress leave tears insomnia greater victoria t...\n",
              "4       stress leave tears insomnia greater victoria t...\n",
              "                              ...                        \n",
              "7284    angellamuno lunarossa relax mate real covid19 ...\n",
              "7285        doesnt mean relax covid 19 still us wearamask\n",
              "7286    melbourne relax third lockdown new covid19 cas...\n",
              "7287    mayors vote 98 put metro manila mgcq gcq march...\n",
              "7288    return social apps news first make time availa...\n",
              "Name: Text, Length: 23821, dtype: object"
            ]
          },
          "metadata": {},
          "execution_count": 34
        }
      ]
    },
    {
      "cell_type": "markdown",
      "source": [
        "### 7. Tokenization"
      ],
      "metadata": {
        "id": "dWiRrZoO7RTS"
      }
    },
    {
      "cell_type": "code",
      "source": [
        "import nltk\n",
        "from nltk import word_tokenize"
      ],
      "metadata": {
        "id": "ZMp6Buw37d9N"
      },
      "execution_count": 35,
      "outputs": []
    },
    {
      "cell_type": "code",
      "source": [
        "nltk.download('punkt')"
      ],
      "metadata": {
        "colab": {
          "base_uri": "https://localhost:8080/"
        },
        "id": "n8pPPP9N7iFh",
        "outputId": "429bd66c-441e-4f18-d227-0c9bfe5bbebf"
      },
      "execution_count": 36,
      "outputs": [
        {
          "output_type": "stream",
          "name": "stderr",
          "text": [
            "[nltk_data] Downloading package punkt to /root/nltk_data...\n",
            "[nltk_data]   Unzipping tokenizers/punkt.zip.\n"
          ]
        },
        {
          "output_type": "execute_result",
          "data": {
            "text/plain": [
              "True"
            ]
          },
          "metadata": {},
          "execution_count": 36
        }
      ]
    },
    {
      "cell_type": "code",
      "source": [
        "df_train['Text'].apply(lambda x:word_tokenize(x))"
      ],
      "metadata": {
        "colab": {
          "base_uri": "https://localhost:8080/"
        },
        "id": "KC_SQu9-7jcS",
        "outputId": "36c58d6f-d4c4-49f9-883a-a8baff783bb3"
      },
      "execution_count": 37,
      "outputs": [
        {
          "output_type": "execute_result",
          "data": {
            "text/plain": [
              "0       [peerreviewed, article, that, systematically, ...\n",
              "1       [dealing, with, stress, for, children, and, yo...\n",
              "2       [pandemic, living, is, stressful, for, everyon...\n",
              "3       [stress, leave, tears, and, insomnia, greater,...\n",
              "4       [stress, leave, tears, and, insomnia, greater,...\n",
              "                              ...                        \n",
              "7284    [angellamuno, lunarossa, relax, mate, we, have...\n",
              "7285    [this, doesnt, mean, that, you, relax, on, cov...\n",
              "7286    [melbourne, to, relax, third, lockdown, as, no...\n",
              "7287    [just, in, mayors, vote, 98, to, put, metro, m...\n",
              "7288    [you, can, return, to, your, social, apps, and...\n",
              "Name: Text, Length: 23821, dtype: object"
            ]
          },
          "metadata": {},
          "execution_count": 37
        }
      ]
    },
    {
      "cell_type": "code",
      "source": [
        "df_train['Text'] = df_train['Text'].apply(lambda x:word_tokenize(x))"
      ],
      "metadata": {
        "id": "i_1Zjhi_79hK"
      },
      "execution_count": 38,
      "outputs": []
    },
    {
      "cell_type": "code",
      "source": [
        "from keras.preprocessing.text import Tokenizer\n",
        "tokenizer = Tokenizer()\n",
        "tokenizer.fit_on_texts(df_train['Text'])"
      ],
      "metadata": {
        "id": "FrjvmXIMnc1c"
      },
      "execution_count": 39,
      "outputs": []
    },
    {
      "cell_type": "code",
      "source": [
        "x = tokenizer.texts_to_sequences(df_train['Text'])"
      ],
      "metadata": {
        "id": "lgRt1z1pt6mO"
      },
      "execution_count": 40,
      "outputs": []
    },
    {
      "cell_type": "code",
      "source": [
        "df_train['Text'].shape"
      ],
      "metadata": {
        "colab": {
          "base_uri": "https://localhost:8080/"
        },
        "id": "KJ1SWtchui-m",
        "outputId": "df0250f8-d5e7-48b6-cf6e-1b7378ca6638"
      },
      "execution_count": 41,
      "outputs": [
        {
          "output_type": "execute_result",
          "data": {
            "text/plain": [
              "(23821,)"
            ]
          },
          "metadata": {},
          "execution_count": 41
        }
      ]
    },
    {
      "cell_type": "code",
      "source": [
        "max(len(seq) for seq in x)"
      ],
      "metadata": {
        "colab": {
          "base_uri": "https://localhost:8080/"
        },
        "id": "1FFUkUa9uAFm",
        "outputId": "eb175e18-4a79-4557-93ac-9b5279b11b34"
      },
      "execution_count": 42,
      "outputs": [
        {
          "output_type": "execute_result",
          "data": {
            "text/plain": [
              "33"
            ]
          },
          "metadata": {},
          "execution_count": 42
        }
      ]
    },
    {
      "cell_type": "code",
      "source": [
        "# Vocabulary based on tokenization\n",
        "vocabulary = tokenizer.word_index\n",
        "print(len(vocabulary))"
      ],
      "metadata": {
        "id": "NGBZUinxnqOU",
        "colab": {
          "base_uri": "https://localhost:8080/"
        },
        "outputId": "5e6f2783-50c6-4c66-a580-015878c7c1d2"
      },
      "execution_count": 43,
      "outputs": [
        {
          "output_type": "stream",
          "name": "stdout",
          "text": [
            "10899\n"
          ]
        }
      ]
    },
    {
      "cell_type": "code",
      "source": [
        "vocabulary"
      ],
      "metadata": {
        "colab": {
          "base_uri": "https://localhost:8080/"
        },
        "id": "0QdwuWnensgM",
        "outputId": "5ab66bce-2d97-404f-ff51-d4524697f9c8"
      },
      "execution_count": 44,
      "outputs": [
        {
          "output_type": "execute_result",
          "data": {
            "text/plain": [
              "{'the': 1,\n",
              " 'covid19': 2,\n",
              " 'to': 3,\n",
              " 'stress': 4,\n",
              " 'of': 5,\n",
              " 'and': 6,\n",
              " 'a': 7,\n",
              " 'in': 8,\n",
              " 'for': 9,\n",
              " 'is': 10,\n",
              " 'are': 11,\n",
              " 'with': 12,\n",
              " 'pandemic': 13,\n",
              " 'on': 14,\n",
              " 'as': 15,\n",
              " 'you': 16,\n",
              " 'relax': 17,\n",
              " '’': 18,\n",
              " 'has': 19,\n",
              " 'health': 20,\n",
              " 'that': 21,\n",
              " 'this': 22,\n",
              " 'we': 23,\n",
              " 'have': 24,\n",
              " 'it': 25,\n",
              " 'during': 26,\n",
              " 'us': 27,\n",
              " 'can': 28,\n",
              " 'at': 29,\n",
              " 'from': 30,\n",
              " 'i': 31,\n",
              " 'year': 32,\n",
              " 'people': 33,\n",
              " 'be': 34,\n",
              " 'not': 35,\n",
              " 'by': 36,\n",
              " 'how': 37,\n",
              " 'anxiety': 38,\n",
              " 's': 39,\n",
              " '“': 40,\n",
              " 'mental': 41,\n",
              " 'our': 42,\n",
              " 'been': 43,\n",
              " 'covid': 44,\n",
              " 'more': 45,\n",
              " 'new': 46,\n",
              " 'your': 47,\n",
              " 'but': 48,\n",
              " 'about': 49,\n",
              " 'after': 50,\n",
              " 'their': 51,\n",
              " 'amp': 52,\n",
              " 'many': 53,\n",
              " 'help': 54,\n",
              " 'time': 55,\n",
              " 'some': 56,\n",
              " 'or': 57,\n",
              " 'high': 58,\n",
              " 'just': 59,\n",
              " 'was': 60,\n",
              " 'if': 61,\n",
              " 'one': 62,\n",
              " 'an': 63,\n",
              " 'vaccine': 64,\n",
              " 'via': 65,\n",
              " 'all': 66,\n",
              " 'so': 67,\n",
              " 'restrictions': 68,\n",
              " 'what': 69,\n",
              " 'will': 70,\n",
              " 'way': 71,\n",
              " 'out': 72,\n",
              " 'now': 73,\n",
              " 'my': 74,\n",
              " 'due': 75,\n",
              " 'cdc': 76,\n",
              " 'its': 77,\n",
              " '19': 78,\n",
              " 'need': 79,\n",
              " 'too': 80,\n",
              " 'workers': 81,\n",
              " 'there': 82,\n",
              " 'who': 83,\n",
              " 'up': 84,\n",
              " 'teachers': 85,\n",
              " 'against': 86,\n",
              " 'yet': 87,\n",
              " 'than': 88,\n",
              " 'they': 89,\n",
              " 'say': 90,\n",
              " 'director': 91,\n",
              " 'cases': 92,\n",
              " '”': 93,\n",
              " 'were': 94,\n",
              " 'students': 95,\n",
              " 'get': 96,\n",
              " 'take': 97,\n",
              " 'first': 98,\n",
              " 'numbers': 99,\n",
              " 'public': 100,\n",
              " 'do': 101,\n",
              " 'declared': 102,\n",
              " 'kids': 103,\n",
              " 'no': 104,\n",
              " 'increased': 105,\n",
              " 'care': 106,\n",
              " 'support': 107,\n",
              " 'feeling': 108,\n",
              " 'when': 109,\n",
              " 'here': 110,\n",
              " 'coping': 111,\n",
              " 're': 112,\n",
              " 'like': 113,\n",
              " 'coronavirus': 114,\n",
              " 'today': 115,\n",
              " 't': 116,\n",
              " 'levels': 117,\n",
              " 'experts': 118,\n",
              " 'doctors': 119,\n",
              " 'since': 120,\n",
              " 'officials': 121,\n",
              " 'had': 122,\n",
              " 'because': 123,\n",
              " 'the…': 124,\n",
              " 'patients': 125,\n",
              " 'rising': 126,\n",
              " 'grief': 127,\n",
              " 'measures': 128,\n",
              " 'news': 129,\n",
              " 'under': 130,\n",
              " 'depression': 131,\n",
              " 'may': 132,\n",
              " 'still': 133,\n",
              " 'over': 134,\n",
              " 'cope': 135,\n",
              " 'research': 136,\n",
              " 'found': 137,\n",
              " 'deaths': 138,\n",
              " 'a…': 139,\n",
              " 'financial': 140,\n",
              " 'even': 141,\n",
              " 'impact': 142,\n",
              " 'social': 143,\n",
              " 'while': 144,\n",
              " 'important': 145,\n",
              " 'rules': 146,\n",
              " 'home': 147,\n",
              " 'these': 148,\n",
              " 'work': 149,\n",
              " 'tips': 150,\n",
              " 'why': 151,\n",
              " 'warns': 152,\n",
              " 'dont': 153,\n",
              " 'face': 154,\n",
              " '3': 155,\n",
              " '‘': 156,\n",
              " 'know': 157,\n",
              " 'working': 158,\n",
              " 'day': 159,\n",
              " 'says': 160,\n",
              " 'dr': 161,\n",
              " 'already': 162,\n",
              " 'deal': 163,\n",
              " 'children': 164,\n",
              " 'other': 165,\n",
              " 'past': 166,\n",
              " 'disorder': 167,\n",
              " 'parents': 168,\n",
              " 'survey': 169,\n",
              " 'isolation': 170,\n",
              " 'feel': 171,\n",
              " 'also': 172,\n",
              " 'lockdown': 173,\n",
              " 'number': 174,\n",
              " 'make': 175,\n",
              " 'life': 176,\n",
              " '—': 177,\n",
              " 'system': 178,\n",
              " 'school': 179,\n",
              " 'those': 180,\n",
              " '2020': 181,\n",
              " 'being': 182,\n",
              " 'top': 183,\n",
              " 'amid': 184,\n",
              " 'manage': 185,\n",
              " 's…': 186,\n",
              " 'well': 187,\n",
              " 'much': 188,\n",
              " 'trials': 189,\n",
              " 'travel': 190,\n",
              " 'said': 191,\n",
              " 'to…': 192,\n",
              " 't…': 193,\n",
              " 'study': 194,\n",
              " 'test': 195,\n",
              " 'seems': 196,\n",
              " 'level': 197,\n",
              " 'most': 198,\n",
              " 'online': 199,\n",
              " 'use': 200,\n",
              " 'vaccinate': 201,\n",
              " 'crisis': 202,\n",
              " 'could': 203,\n",
              " 'americans': 204,\n",
              " 'part': 205,\n",
              " 'off': 206,\n",
              " 'he': 207,\n",
              " 'hit': 208,\n",
              " 'ramp': 209,\n",
              " 'before': 210,\n",
              " 'only': 211,\n",
              " 'among': 212,\n",
              " 'wellbeing': 213,\n",
              " 'times': 214,\n",
              " 'caused': 215,\n",
              " 'dealing': 216,\n",
              " 'should': 217,\n",
              " 'challenges': 218,\n",
              " 'struggling': 219,\n",
              " 'another': 220,\n",
              " 'back': 221,\n",
              " 'state': 222,\n",
              " 'good': 223,\n",
              " 'states': 224,\n",
              " 'world': 225,\n",
              " 'mask': 226,\n",
              " 'free': 227,\n",
              " 'everyone': 228,\n",
              " 'want': 229,\n",
              " 'daily': 230,\n",
              " 'lot': 231,\n",
              " 'go': 232,\n",
              " 'poor': 233,\n",
              " 'o…': 234,\n",
              " 'am': 235,\n",
              " 'vaccination': 236,\n",
              " 'infection': 237,\n",
              " 'women': 238,\n",
              " 'going': 239,\n",
              " 'healthcare': 240,\n",
              " 'read': 241,\n",
              " 'posttraumatic': 242,\n",
              " 'medical': 243,\n",
              " 'nurses': 244,\n",
              " 'vaccinations': 245,\n",
              " 'which': 246,\n",
              " 'me': 247,\n",
              " '2': 248,\n",
              " 'vaccines': 249,\n",
              " 'see': 250,\n",
              " 'variants': 251,\n",
              " 'across': 252,\n",
              " 'job': 253,\n",
              " 'does': 254,\n",
              " 'into': 255,\n",
              " 'worry': 256,\n",
              " 'then': 257,\n",
              " 'especially': 258,\n",
              " 'living': 259,\n",
              " 'join': 260,\n",
              " 'business': 261,\n",
              " 'down': 262,\n",
              " 'burnout': 263,\n",
              " 'gov': 264,\n",
              " 'find': 265,\n",
              " 'ways': 266,\n",
              " 'covid19…': 267,\n",
              " 'set': 268,\n",
              " 'long': 269,\n",
              " 'yourself': 270,\n",
              " 'staff': 271,\n",
              " 'article': 272,\n",
              " 'quality': 273,\n",
              " 'severe': 274,\n",
              " 'loss': 275,\n",
              " 'whats': 276,\n",
              " 'immune': 277,\n",
              " 'week': 278,\n",
              " 'stay': 279,\n",
              " 'continue': 280,\n",
              " 'through': 281,\n",
              " 'emotional': 282,\n",
              " 'texas': 283,\n",
              " 'made': 284,\n",
              " 'next': 285,\n",
              " 'available': 286,\n",
              " 'managing': 287,\n",
              " 'sleep': 288,\n",
              " 'leaving': 289,\n",
              " 'causing': 290,\n",
              " 'suffering': 291,\n",
              " 'thanks': 292,\n",
              " 'death': 293,\n",
              " 'march': 294,\n",
              " 'surge': 295,\n",
              " 'rates': 296,\n",
              " 'experience': 297,\n",
              " 'related': 298,\n",
              " 'adult': 299,\n",
              " 'brought': 300,\n",
              " 'group': 301,\n",
              " 'your…': 302,\n",
              " 'caregivers': 303,\n",
              " 'last': 304,\n",
              " 'edge': 305,\n",
              " 'friday': 306,\n",
              " 'hospital': 307,\n",
              " 'experiencing': 308,\n",
              " 'young': 309,\n",
              " 'child': 310,\n",
              " 'brink': 311,\n",
              " 'very': 312,\n",
              " 'vaccinated': 313,\n",
              " 'getting': 314,\n",
              " 'got': 315,\n",
              " 'importance': 316,\n",
              " 'learn': 317,\n",
              " 'fear': 318,\n",
              " 'journal': 319,\n",
              " 'reduce': 320,\n",
              " 'please': 321,\n",
              " 'grabbing': 322,\n",
              " 'beverages': 323,\n",
              " 'spread': 324,\n",
              " 'student': 325,\n",
              " 'editors': 326,\n",
              " 'would': 327,\n",
              " 'nurse': 328,\n",
              " '1': 329,\n",
              " 'them': 330,\n",
              " 'great': 331,\n",
              " 'psychology': 332,\n",
              " 'spreading': 333,\n",
              " 'and…': 334,\n",
              " 'check': 335,\n",
              " 'trauma': 336,\n",
              " 'let': 337,\n",
              " 'think': 338,\n",
              " '…': 339,\n",
              " 'c…': 340,\n",
              " 've': 341,\n",
              " 'continues': 342,\n",
              " 'less': 343,\n",
              " 'any': 344,\n",
              " 'million': 345,\n",
              " 'mentalhealth': 346,\n",
              " 'where': 347,\n",
              " '2021': 348,\n",
              " 'quit': 349,\n",
              " 'profession': 350,\n",
              " 'keep': 351,\n",
              " 'outbreak': 352,\n",
              " 'disease': 353,\n",
              " 'effects': 354,\n",
              " 'variant': 355,\n",
              " 'his': 356,\n",
              " 'frontline': 357,\n",
              " 'sure': 358,\n",
              " 'pfizer': 359,\n",
              " 'normal': 360,\n",
              " 'theres': 361,\n",
              " 'forced': 362,\n",
              " 'md': 363,\n",
              " 'did': 364,\n",
              " 'two': 365,\n",
              " 'johnson': 366,\n",
              " 'stressful': 367,\n",
              " 'colleges': 368,\n",
              " 'responsibilities': 369,\n",
              " 'taking': 370,\n",
              " 'canada': 371,\n",
              " 'residents': 372,\n",
              " 'psychiatric': 373,\n",
              " 'report': 374,\n",
              " 'fauci': 375,\n",
              " 'testing': 376,\n",
              " 'enough': 377,\n",
              " 'symptoms': 378,\n",
              " 'speak': 379,\n",
              " 'responsible': 380,\n",
              " 'president': 381,\n",
              " 'ever': 382,\n",
              " 'risk': 383,\n",
              " 'loved': 384,\n",
              " 'right': 385,\n",
              " 'family': 386,\n",
              " 'created': 387,\n",
              " 'pm': 388,\n",
              " 'toll': 389,\n",
              " 'biden': 390,\n",
              " 'families': 391,\n",
              " 'struggle': 392,\n",
              " 'york': 393,\n",
              " 'call': 394,\n",
              " 'put': 395,\n",
              " 'co…': 396,\n",
              " 'management': 397,\n",
              " 'such': 398,\n",
              " 'fatigue': 399,\n",
              " 'community': 400,\n",
              " 'employees': 401,\n",
              " 'increase': 402,\n",
              " 'recognize': 403,\n",
              " 'rally': 404,\n",
              " 'th…': 405,\n",
              " 'youre': 406,\n",
              " '4': 407,\n",
              " 'issues': 408,\n",
              " 'start': 409,\n",
              " 'age': 410,\n",
              " 'behavior': 411,\n",
              " 'psychological': 412,\n",
              " 'pay': 413,\n",
              " 'canadians': 414,\n",
              " 'possible': 415,\n",
              " 'black': 416,\n",
              " 'pandemic…': 417,\n",
              " 'government': 418,\n",
              " 'things': 419,\n",
              " 'stress…': 420,\n",
              " 'month': 421,\n",
              " 'uncertainty': 422,\n",
              " 'spring': 423,\n",
              " 'healthy': 424,\n",
              " 'caring': 425,\n",
              " 'economic': 426,\n",
              " 'covid…': 427,\n",
              " 'really': 428,\n",
              " 'something': 429,\n",
              " 'cause': 430,\n",
              " 'loneliness': 431,\n",
              " 'i…': 432,\n",
              " 'trying': 433,\n",
              " 'decision': 434,\n",
              " 'days': 435,\n",
              " 'cant': 436,\n",
              " 'having': 437,\n",
              " 'im': 438,\n",
              " 'hard': 439,\n",
              " 'months': 440,\n",
              " 'her': 441,\n",
              " 'thats': 442,\n",
              " 'wednesday': 443,\n",
              " 'resources': 444,\n",
              " 'impacts': 445,\n",
              " 'stressed': 446,\n",
              " 'completely': 447,\n",
              " 'an…': 448,\n",
              " 'businesses': 449,\n",
              " 'adults': 450,\n",
              " 'post': 451,\n",
              " 'nearly': 452,\n",
              " 'of…': 453,\n",
              " 'cnn': 454,\n",
              " 'lose': 455,\n",
              " '100': 456,\n",
              " 'every': 457,\n",
              " 'real': 458,\n",
              " 'requirements': 459,\n",
              " 'until': 460,\n",
              " 'impacted': 461,\n",
              " 'low': 462,\n",
              " 'making': 463,\n",
              " 'positive': 464,\n",
              " 'lives': 465,\n",
              " 'case': 466,\n",
              " 'soon': 467,\n",
              " 'e…': 468,\n",
              " 'hair': 469,\n",
              " 'science': 470,\n",
              " 'second': 471,\n",
              " 'guide': 472,\n",
              " '5': 473,\n",
              " 'warn': 474,\n",
              " 'w…': 475,\n",
              " 'virus': 476,\n",
              " 'asked': 477,\n",
              " 'helping': 478,\n",
              " 'update': 479,\n",
              " 'called': 480,\n",
              " 'early': 481,\n",
              " 'facing': 482,\n",
              " 'on…': 483,\n",
              " 'webinar': 484,\n",
              " 'ago': 485,\n",
              " 'leadership': 486,\n",
              " 'look': 487,\n",
              " 'situation': 488,\n",
              " 'risks': 489,\n",
              " 'voxdotcom': 490,\n",
              " 'education': 491,\n",
              " 'left': 492,\n",
              " 'others': 493,\n",
              " 'chronic': 494,\n",
              " 'likely': 495,\n",
              " 'putting': 496,\n",
              " 'recent': 497,\n",
              " 'opioid': 498,\n",
              " 'greater': 499,\n",
              " 'felt': 500,\n",
              " 'around': 501,\n",
              " 'country': 502,\n",
              " 'allow': 503,\n",
              " 'overall': 504,\n",
              " 'ginia': 505,\n",
              " 'bellafante': 506,\n",
              " 'wave': 507,\n",
              " 'guidance': 508,\n",
              " 'resilience': 509,\n",
              " 'share': 510,\n",
              " 'safety': 511,\n",
              " 'safe': 512,\n",
              " 'affected': 513,\n",
              " 'alone': 514,\n",
              " 'including': 515,\n",
              " 'result': 516,\n",
              " 'both': 517,\n",
              " 'according': 518,\n",
              " 'tough': 519,\n",
              " 'county': 520,\n",
              " 'epidemic': 521,\n",
              " 'calls': 522,\n",
              " 'strain': 523,\n",
              " 'feb': 524,\n",
              " 'physical': 525,\n",
              " 'end': 526,\n",
              " 'executives': 527,\n",
              " 'nyt': 528,\n",
              " 'rise': 529,\n",
              " 'difficult': 530,\n",
              " 'food': 531,\n",
              " 'virtual': 532,\n",
              " 'someone': 533,\n",
              " 'point': 534,\n",
              " 'place': 535,\n",
              " '2nd': 536,\n",
              " 'she': 537,\n",
              " 'often': 538,\n",
              " 'shows': 539,\n",
              " 'released': 540,\n",
              " 'improving': 541,\n",
              " 'leave': 542,\n",
              " 'human': 543,\n",
              " 'thank': 544,\n",
              " 'p…': 545,\n",
              " 'looks': 546,\n",
              " 'youth': 547,\n",
              " 'zoom': 548,\n",
              " 'critical': 549,\n",
              " 'd…': 550,\n",
              " 'focus': 551,\n",
              " 'apps': 552,\n",
              " 'governors': 553,\n",
              " 'expert': 554,\n",
              " 'further': 555,\n",
              " 'fully': 556,\n",
              " 'city': 557,\n",
              " 'starting': 558,\n",
              " 'causes': 559,\n",
              " 'despite': 560,\n",
              " 'service': 561,\n",
              " 'don': 562,\n",
              " 'paper': 563,\n",
              " 'associated': 564,\n",
              " 'almost': 565,\n",
              " 'ready': 566,\n",
              " 'leaders': 567,\n",
              " 'experienced': 568,\n",
              " 'talk': 569,\n",
              " 'personal': 570,\n",
              " 'h…': 571,\n",
              " 'reported': 572,\n",
              " 'better': 573,\n",
              " 'suggests': 574,\n",
              " 'february': 575,\n",
              " 'exams': 576,\n",
              " 'stand': 577,\n",
              " 'heart': 578,\n",
              " 'happy': 579,\n",
              " '–': 580,\n",
              " 'navy': 581,\n",
              " 'biontech': 582,\n",
              " 'used': 583,\n",
              " 'effect': 584,\n",
              " 'inc': 585,\n",
              " 'american': 586,\n",
              " 'half': 587,\n",
              " 'quarantine': 588,\n",
              " 'services': 589,\n",
              " 'ontario': 590,\n",
              " 'break': 591,\n",
              " 'f…': 592,\n",
              " 'advice': 593,\n",
              " 'changes': 594,\n",
              " 'covi…': 595,\n",
              " 'lower': 596,\n",
              " 'oxidative': 597,\n",
              " 'data': 598,\n",
              " 'eu': 599,\n",
              " 'higher': 600,\n",
              " 'current': 601,\n",
              " 'issue': 602,\n",
              " 'wsj': 603,\n",
              " 'local': 604,\n",
              " 'best': 605,\n",
              " 'sit': 606,\n",
              " 'reaching': 607,\n",
              " 'shares': 608,\n",
              " 'expected': 609,\n",
              " 'evidence': 610,\n",
              " 'cancer': 611,\n",
              " 'little': 612,\n",
              " 'must': 613,\n",
              " 'basic': 614,\n",
              " 'changed': 615,\n",
              " 'michigan': 616,\n",
              " 'series': 617,\n",
              " 'summer': 618,\n",
              " 'few': 619,\n",
              " 'lack': 620,\n",
              " 'response': 621,\n",
              " 'america': 622,\n",
              " 'return': 623,\n",
              " '2544': 624,\n",
              " 'youtub': 625,\n",
              " 'might': 626,\n",
              " 'prevent': 627,\n",
              " 'worried': 628,\n",
              " 'strategies': 629,\n",
              " 'same': 630,\n",
              " 'hope': 631,\n",
              " 'expects': 632,\n",
              " 'away': 633,\n",
              " 'worth': 634,\n",
              " 'relieve': 635,\n",
              " 'with…': 636,\n",
              " 'global': 637,\n",
              " 'm': 638,\n",
              " 'disturbing': 639,\n",
              " 'bulge': 640,\n",
              " 'increasing': 641,\n",
              " 'reasons': 642,\n",
              " 'extra': 643,\n",
              " 'common': 644,\n",
              " 'offer': 645,\n",
              " 'mindfulness': 646,\n",
              " 'third': 647,\n",
              " 'told': 648,\n",
              " 'countries': 649,\n",
              " 'begin': 650,\n",
              " 'fighting': 651,\n",
              " 'bank': 652,\n",
              " 'full': 653,\n",
              " 'needs': 654,\n",
              " 'throughout': 655,\n",
              " 'continued': 656,\n",
              " 'lessons…': 657,\n",
              " 'nursing': 658,\n",
              " 'pregnancy': 659,\n",
              " 'parts': 660,\n",
              " 'finance': 661,\n",
              " '30': 662,\n",
              " 'significant': 663,\n",
              " 'resilient': 664,\n",
              " 'friends': 665,\n",
              " 'overwhelming': 666,\n",
              " 'fight': 667,\n",
              " 'plan': 668,\n",
              " 'progress': 669,\n",
              " 'ok': 670,\n",
              " 'victoria': 671,\n",
              " 'tomorrow': 672,\n",
              " 'st…': 673,\n",
              " 'looking': 674,\n",
              " 'hear': 675,\n",
              " 'makes': 676,\n",
              " 'college': 677,\n",
              " 'in…': 678,\n",
              " 'play': 679,\n",
              " 'm…': 680,\n",
              " 'icu': 681,\n",
              " 'between': 682,\n",
              " 'huge': 683,\n",
              " 'myself': 684,\n",
              " 'cov…': 685,\n",
              " 'governor': 686,\n",
              " 'lesson': 687,\n",
              " 'guidelines': 688,\n",
              " 'salary': 689,\n",
              " 'tears': 690,\n",
              " 'b…': 691,\n",
              " 'event': 692,\n",
              " 'consciousness': 693,\n",
              " 'amidst': 694,\n",
              " 'doesnt': 695,\n",
              " 'different': 696,\n",
              " 'small': 697,\n",
              " 'we…': 698,\n",
              " 're…': 699,\n",
              " 'able': 700,\n",
              " 'by…': 701,\n",
              " 'inside': 702,\n",
              " 'recover': 703,\n",
              " 'substance': 704,\n",
              " 'crews': 705,\n",
              " 'sea': 706,\n",
              " 'mississippi': 707,\n",
              " 'exposure': 708,\n",
              " 'ones': 709,\n",
              " 'helpful': 710,\n",
              " 'this…': 711,\n",
              " 'international': 712,\n",
              " 'indicating': 713,\n",
              " 'hold': 714,\n",
              " 'invest': 715,\n",
              " 'warns…': 716,\n",
              " 'stop': 717,\n",
              " 'wellness': 718,\n",
              " 'yesterday': 719,\n",
              " 'as…': 720,\n",
              " 'results': 721,\n",
              " 'open': 722,\n",
              " 'give': 723,\n",
              " 'text': 724,\n",
              " 'live': 725,\n",
              " 'r…': 726,\n",
              " 'pretty': 727,\n",
              " 'exacerbated': 728,\n",
              " 'health…': 729,\n",
              " 'never': 730,\n",
              " 'banks': 731,\n",
              " 'media': 732,\n",
              " 'neanderthal': 733,\n",
              " 'change': 734,\n",
              " 'led': 735,\n",
              " 'jobs': 736,\n",
              " 'federal': 737,\n",
              " 'added': 738,\n",
              " 'serious': 739,\n",
              " 'parental': 740,\n",
              " 'insomnia': 741,\n",
              " 'without': 742,\n",
              " 'reports': 743,\n",
              " 'far': 744,\n",
              " 'traumatic': 745,\n",
              " 'national': 746,\n",
              " 'english': 747,\n",
              " 'south': 748,\n",
              " 'se': 749,\n",
              " 'breaking': 750,\n",
              " 'come': 751,\n",
              " 'activity': 752,\n",
              " 'offli…': 753,\n",
              " 'foundations': 754,\n",
              " 'covid19related': 755,\n",
              " 'parenting': 756,\n",
              " 'economy': 757,\n",
              " 'years': 758,\n",
              " 'announced': 759,\n",
              " 'relief': 760,\n",
              " 'step': 761,\n",
              " 'weeks': 762,\n",
              " 'china': 763,\n",
              " 'major': 764,\n",
              " 'foxjust': 765,\n",
              " 'adu…': 766,\n",
              " 'from…': 767,\n",
              " 'therapy': 768,\n",
              " 'remember': 769,\n",
              " 'brain': 770,\n",
              " 'eclipsed': 771,\n",
              " 'hasn': 772,\n",
              " 'try': 773,\n",
              " 'monday': 774,\n",
              " 'big': 775,\n",
              " 'board': 776,\n",
              " 'cdc…': 777,\n",
              " 'knowing': 778,\n",
              " 'returntoschool': 779,\n",
              " 'ptsd': 780,\n",
              " 'unprecedented': 781,\n",
              " 'affect': 782,\n",
              " 'schools': 783,\n",
              " 'heres': 784,\n",
              " 'problems': 785,\n",
              " 'lead': 786,\n",
              " 'miss': 787,\n",
              " 'restaurants': 788,\n",
              " 'regulator': 789,\n",
              " 'resurgence': 790,\n",
              " 'republican': 791,\n",
              " 'older': 792,\n",
              " 'men': 793,\n",
              " 'learning': 794,\n",
              " 'link': 795,\n",
              " 'owners': 796,\n",
              " 'systems': 797,\n",
              " 'rapid': 798,\n",
              " 'recently': 799,\n",
              " 'doing': 800,\n",
              " 'interesting': 801,\n",
              " 'd': 802,\n",
              " 'su…': 803,\n",
              " 'factors': 804,\n",
              " 'pupils': 805,\n",
              " 'decline': 806,\n",
              " 'demand': 807,\n",
              " 'individuals': 808,\n",
              " 'reporting': 809,\n",
              " 'relaxed': 810,\n",
              " 'watch': 811,\n",
              " 'three': 812,\n",
              " 'tuesday': 813,\n",
              " 'aren': 814,\n",
              " 'everything': 815,\n",
              " 'general': 816,\n",
              " 'doses': 817,\n",
              " 'anxious': 818,\n",
              " 'corona': 819,\n",
              " 'findings': 820,\n",
              " 'ive': 821,\n",
              " 'trained': 822,\n",
              " 'joe': 823,\n",
              " 'alcohol': 824,\n",
              " 'control': 825,\n",
              " 'thing': 826,\n",
              " 'meaningful': 827,\n",
              " 'weekend': 828,\n",
              " 'preparing': 829,\n",
              " 'schooling': 830,\n",
              " 'reopen': 831,\n",
              " 'distancing': 832,\n",
              " 'morning': 833,\n",
              " 'ill': 834,\n",
              " 'excessive': 835,\n",
              " 'registration': 836,\n",
              " 'access': 837,\n",
              " 'came': 838,\n",
              " 'own': 839,\n",
              " 'biggest': 840,\n",
              " 'per': 841,\n",
              " 'washington': 842,\n",
              " 'process': 843,\n",
              " 'area': 844,\n",
              " 'pain': 845,\n",
              " 'training': 846,\n",
              " 'given': 847,\n",
              " 'farmers': 848,\n",
              " 'ease': 849,\n",
              " 'negative': 850,\n",
              " 'understand': 851,\n",
              " 'ability': 852,\n",
              " 'efforts': 853,\n",
              " 'needed': 854,\n",
              " 'unnecessary': 855,\n",
              " 'nature': 856,\n",
              " 'workplace': 857,\n",
              " 'icymi': 858,\n",
              " 'centers': 859,\n",
              " 'seen': 860,\n",
              " 'outside': 861,\n",
              " 'deep': 862,\n",
              " 'abated': 863,\n",
              " 'lost': 864,\n",
              " 'concern': 865,\n",
              " 'flu': 866,\n",
              " 'thinking': 867,\n",
              " '15': 868,\n",
              " '12': 869,\n",
              " 'covid1…': 870,\n",
              " 'steps': 871,\n",
              " 'program': 872,\n",
              " 'class': 873,\n",
              " 'build': 874,\n",
              " 'worse': 875,\n",
              " 'potential': 876,\n",
              " 'together': 877,\n",
              " 'always': 878,\n",
              " 'started': 879,\n",
              " 'however': 880,\n",
              " 'during…': 881,\n",
              " 'tests': 882,\n",
              " 'secondary': 883,\n",
              " 'helped': 884,\n",
              " 'calm': 885,\n",
              " '24': 886,\n",
              " 'masks': 887,\n",
              " 'anyone': 888,\n",
              " 'believe': 889,\n",
              " 'teens': 890,\n",
              " 'editorial': 891,\n",
              " 'priority': 892,\n",
              " 'everyday': 893,\n",
              " 'plans': 894,\n",
              " 'improve': 895,\n",
              " 'panic': 896,\n",
              " 'supply': 897,\n",
              " 'organization': 898,\n",
              " 'tools': 899,\n",
              " 'additional': 900,\n",
              " 'yes': 901,\n",
              " 'smoking': 902,\n",
              " 'poll': 903,\n",
              " 'drop': 904,\n",
              " 'emergency': 905,\n",
              " '23': 906,\n",
              " 'published': 907,\n",
              " 'offers': 908,\n",
              " 'again': 909,\n",
              " 'shots': 910,\n",
              " 'supporting': 911,\n",
              " 'rate': 912,\n",
              " 'models': 913,\n",
              " 'mandate': 914,\n",
              " 'stre…': 915,\n",
              " 'bring': 916,\n",
              " 'thought': 917,\n",
              " 'distress': 918,\n",
              " 'development': 919,\n",
              " 'review': 920,\n",
              " 'fact': 921,\n",
              " 'role': 922,\n",
              " 'bad': 923,\n",
              " 'you…': 924,\n",
              " 'hours': 925,\n",
              " 'vulnerable': 926,\n",
              " 'constant': 927,\n",
              " 'avoid': 928,\n",
              " 'exhaustion': 929,\n",
              " '7': 930,\n",
              " 'team': 931,\n",
              " 'entire': 932,\n",
              " 'delivering': 933,\n",
              " 'principals': 934,\n",
              " 'iie': 935,\n",
              " 'problem': 936,\n",
              " 'information': 937,\n",
              " 'concerns': 938,\n",
              " 'lets': 939,\n",
              " 'meet': 940,\n",
              " 'wearing': 941,\n",
              " 'save': 942,\n",
              " 'l…': 943,\n",
              " 'become': 944,\n",
              " 'center': 945,\n",
              " 'indra': 946,\n",
              " 'limit': 947,\n",
              " 'longterm': 948,\n",
              " 'show': 949,\n",
              " 'violence': 950,\n",
              " 'add': 951,\n",
              " 'official': 952,\n",
              " 'seeking': 953,\n",
              " 'stres…': 954,\n",
              " 'uk': 955,\n",
              " 'taken': 956,\n",
              " 'ideas': 957,\n",
              " 'rollout': 958,\n",
              " 'remote': 959,\n",
              " 'existing': 960,\n",
              " 'mistrust': 961,\n",
              " 'whether': 962,\n",
              " 'restaurant': 963,\n",
              " 'shouldnt': 964,\n",
              " 'coming': 965,\n",
              " '12th': 966,\n",
              " 'more…': 967,\n",
              " 'afraid': 968,\n",
              " 'whole': 969,\n",
              " 'episode': 970,\n",
              " 'tested': 971,\n",
              " 'shoul…': 972,\n",
              " 'turning': 973,\n",
              " 'strong': 974,\n",
              " 'canadian': 975,\n",
              " 'endure': 976,\n",
              " 'worries': 977,\n",
              " 'gop': 978,\n",
              " 'sometimes': 979,\n",
              " 'cbc': 980,\n",
              " 'abbotts': 981,\n",
              " 'brings': 982,\n",
              " 'emts': 983,\n",
              " 'blog': 984,\n",
              " 'shown': 985,\n",
              " 'digital': 986,\n",
              " 'prevention': 987,\n",
              " 'course': 988,\n",
              " 'battle': 989,\n",
              " 'professionals': 990,\n",
              " 'takes': 991,\n",
              " 'heightened': 992,\n",
              " 'variable': 993,\n",
              " 'october': 994,\n",
              " 'serving': 995,\n",
              " 'latest': 996,\n",
              " 'sees': 997,\n",
              " 'easing': 998,\n",
              " 'understanding': 999,\n",
              " 'line': 1000,\n",
              " ...}"
            ]
          },
          "metadata": {},
          "execution_count": 44
        }
      ]
    },
    {
      "cell_type": "markdown",
      "source": [],
      "metadata": {
        "id": "zc370GNcnr_f"
      }
    },
    {
      "cell_type": "code",
      "source": [
        "from gensim.models import Word2Vec"
      ],
      "metadata": {
        "id": "UL5e1CI6-EBu"
      },
      "execution_count": 45,
      "outputs": []
    },
    {
      "cell_type": "code",
      "source": [
        "#review_text_lists= df_train['Text'].apply(gensim.utils.simple_preprocess)\n",
        "#review_text_lists"
      ],
      "metadata": {
        "id": "TmdITryk-8UY"
      },
      "execution_count": 46,
      "outputs": []
    },
    {
      "cell_type": "code",
      "source": [
        "df_train.head()"
      ],
      "metadata": {
        "colab": {
          "base_uri": "https://localhost:8080/",
          "height": 206
        },
        "id": "MPm427OrreGV",
        "outputId": "2a7122c0-64c7-4afd-8fd6-3655b8ec287e"
      },
      "execution_count": 47,
      "outputs": [
        {
          "output_type": "execute_result",
          "data": {
            "text/plain": [
              "                                                Text  Sarcasm  Stress\n",
              "0  [peerreviewed, article, that, systematically, ...        0       1\n",
              "1  [dealing, with, stress, for, children, and, yo...        0       1\n",
              "2  [pandemic, living, is, stressful, for, everyon...        0       1\n",
              "3  [stress, leave, tears, and, insomnia, greater,...        0       1\n",
              "4  [stress, leave, tears, and, insomnia, greater,...        0       1"
            ],
            "text/html": [
              "\n",
              "  <div id=\"df-4313e06a-ab93-450a-98ca-a3a5084a3085\" class=\"colab-df-container\">\n",
              "    <div>\n",
              "<style scoped>\n",
              "    .dataframe tbody tr th:only-of-type {\n",
              "        vertical-align: middle;\n",
              "    }\n",
              "\n",
              "    .dataframe tbody tr th {\n",
              "        vertical-align: top;\n",
              "    }\n",
              "\n",
              "    .dataframe thead th {\n",
              "        text-align: right;\n",
              "    }\n",
              "</style>\n",
              "<table border=\"1\" class=\"dataframe\">\n",
              "  <thead>\n",
              "    <tr style=\"text-align: right;\">\n",
              "      <th></th>\n",
              "      <th>Text</th>\n",
              "      <th>Sarcasm</th>\n",
              "      <th>Stress</th>\n",
              "    </tr>\n",
              "  </thead>\n",
              "  <tbody>\n",
              "    <tr>\n",
              "      <th>0</th>\n",
              "      <td>[peerreviewed, article, that, systematically, ...</td>\n",
              "      <td>0</td>\n",
              "      <td>1</td>\n",
              "    </tr>\n",
              "    <tr>\n",
              "      <th>1</th>\n",
              "      <td>[dealing, with, stress, for, children, and, yo...</td>\n",
              "      <td>0</td>\n",
              "      <td>1</td>\n",
              "    </tr>\n",
              "    <tr>\n",
              "      <th>2</th>\n",
              "      <td>[pandemic, living, is, stressful, for, everyon...</td>\n",
              "      <td>0</td>\n",
              "      <td>1</td>\n",
              "    </tr>\n",
              "    <tr>\n",
              "      <th>3</th>\n",
              "      <td>[stress, leave, tears, and, insomnia, greater,...</td>\n",
              "      <td>0</td>\n",
              "      <td>1</td>\n",
              "    </tr>\n",
              "    <tr>\n",
              "      <th>4</th>\n",
              "      <td>[stress, leave, tears, and, insomnia, greater,...</td>\n",
              "      <td>0</td>\n",
              "      <td>1</td>\n",
              "    </tr>\n",
              "  </tbody>\n",
              "</table>\n",
              "</div>\n",
              "    <div class=\"colab-df-buttons\">\n",
              "\n",
              "  <div class=\"colab-df-container\">\n",
              "    <button class=\"colab-df-convert\" onclick=\"convertToInteractive('df-4313e06a-ab93-450a-98ca-a3a5084a3085')\"\n",
              "            title=\"Convert this dataframe to an interactive table.\"\n",
              "            style=\"display:none;\">\n",
              "\n",
              "  <svg xmlns=\"http://www.w3.org/2000/svg\" height=\"24px\" viewBox=\"0 -960 960 960\">\n",
              "    <path d=\"M120-120v-720h720v720H120Zm60-500h600v-160H180v160Zm220 220h160v-160H400v160Zm0 220h160v-160H400v160ZM180-400h160v-160H180v160Zm440 0h160v-160H620v160ZM180-180h160v-160H180v160Zm440 0h160v-160H620v160Z\"/>\n",
              "  </svg>\n",
              "    </button>\n",
              "\n",
              "  <style>\n",
              "    .colab-df-container {\n",
              "      display:flex;\n",
              "      gap: 12px;\n",
              "    }\n",
              "\n",
              "    .colab-df-convert {\n",
              "      background-color: #E8F0FE;\n",
              "      border: none;\n",
              "      border-radius: 50%;\n",
              "      cursor: pointer;\n",
              "      display: none;\n",
              "      fill: #1967D2;\n",
              "      height: 32px;\n",
              "      padding: 0 0 0 0;\n",
              "      width: 32px;\n",
              "    }\n",
              "\n",
              "    .colab-df-convert:hover {\n",
              "      background-color: #E2EBFA;\n",
              "      box-shadow: 0px 1px 2px rgba(60, 64, 67, 0.3), 0px 1px 3px 1px rgba(60, 64, 67, 0.15);\n",
              "      fill: #174EA6;\n",
              "    }\n",
              "\n",
              "    .colab-df-buttons div {\n",
              "      margin-bottom: 4px;\n",
              "    }\n",
              "\n",
              "    [theme=dark] .colab-df-convert {\n",
              "      background-color: #3B4455;\n",
              "      fill: #D2E3FC;\n",
              "    }\n",
              "\n",
              "    [theme=dark] .colab-df-convert:hover {\n",
              "      background-color: #434B5C;\n",
              "      box-shadow: 0px 1px 3px 1px rgba(0, 0, 0, 0.15);\n",
              "      filter: drop-shadow(0px 1px 2px rgba(0, 0, 0, 0.3));\n",
              "      fill: #FFFFFF;\n",
              "    }\n",
              "  </style>\n",
              "\n",
              "    <script>\n",
              "      const buttonEl =\n",
              "        document.querySelector('#df-4313e06a-ab93-450a-98ca-a3a5084a3085 button.colab-df-convert');\n",
              "      buttonEl.style.display =\n",
              "        google.colab.kernel.accessAllowed ? 'block' : 'none';\n",
              "\n",
              "      async function convertToInteractive(key) {\n",
              "        const element = document.querySelector('#df-4313e06a-ab93-450a-98ca-a3a5084a3085');\n",
              "        const dataTable =\n",
              "          await google.colab.kernel.invokeFunction('convertToInteractive',\n",
              "                                                    [key], {});\n",
              "        if (!dataTable) return;\n",
              "\n",
              "        const docLinkHtml = 'Like what you see? Visit the ' +\n",
              "          '<a target=\"_blank\" href=https://colab.research.google.com/notebooks/data_table.ipynb>data table notebook</a>'\n",
              "          + ' to learn more about interactive tables.';\n",
              "        element.innerHTML = '';\n",
              "        dataTable['output_type'] = 'display_data';\n",
              "        await google.colab.output.renderOutput(dataTable, element);\n",
              "        const docLink = document.createElement('div');\n",
              "        docLink.innerHTML = docLinkHtml;\n",
              "        element.appendChild(docLink);\n",
              "      }\n",
              "    </script>\n",
              "  </div>\n",
              "\n",
              "\n",
              "<div id=\"df-43e9d3f7-7b6b-44ae-9cbf-402730f1d96c\">\n",
              "  <button class=\"colab-df-quickchart\" onclick=\"quickchart('df-43e9d3f7-7b6b-44ae-9cbf-402730f1d96c')\"\n",
              "            title=\"Suggest charts.\"\n",
              "            style=\"display:none;\">\n",
              "\n",
              "<svg xmlns=\"http://www.w3.org/2000/svg\" height=\"24px\"viewBox=\"0 0 24 24\"\n",
              "     width=\"24px\">\n",
              "    <g>\n",
              "        <path d=\"M19 3H5c-1.1 0-2 .9-2 2v14c0 1.1.9 2 2 2h14c1.1 0 2-.9 2-2V5c0-1.1-.9-2-2-2zM9 17H7v-7h2v7zm4 0h-2V7h2v10zm4 0h-2v-4h2v4z\"/>\n",
              "    </g>\n",
              "</svg>\n",
              "  </button>\n",
              "\n",
              "<style>\n",
              "  .colab-df-quickchart {\n",
              "      --bg-color: #E8F0FE;\n",
              "      --fill-color: #1967D2;\n",
              "      --hover-bg-color: #E2EBFA;\n",
              "      --hover-fill-color: #174EA6;\n",
              "      --disabled-fill-color: #AAA;\n",
              "      --disabled-bg-color: #DDD;\n",
              "  }\n",
              "\n",
              "  [theme=dark] .colab-df-quickchart {\n",
              "      --bg-color: #3B4455;\n",
              "      --fill-color: #D2E3FC;\n",
              "      --hover-bg-color: #434B5C;\n",
              "      --hover-fill-color: #FFFFFF;\n",
              "      --disabled-bg-color: #3B4455;\n",
              "      --disabled-fill-color: #666;\n",
              "  }\n",
              "\n",
              "  .colab-df-quickchart {\n",
              "    background-color: var(--bg-color);\n",
              "    border: none;\n",
              "    border-radius: 50%;\n",
              "    cursor: pointer;\n",
              "    display: none;\n",
              "    fill: var(--fill-color);\n",
              "    height: 32px;\n",
              "    padding: 0;\n",
              "    width: 32px;\n",
              "  }\n",
              "\n",
              "  .colab-df-quickchart:hover {\n",
              "    background-color: var(--hover-bg-color);\n",
              "    box-shadow: 0 1px 2px rgba(60, 64, 67, 0.3), 0 1px 3px 1px rgba(60, 64, 67, 0.15);\n",
              "    fill: var(--button-hover-fill-color);\n",
              "  }\n",
              "\n",
              "  .colab-df-quickchart-complete:disabled,\n",
              "  .colab-df-quickchart-complete:disabled:hover {\n",
              "    background-color: var(--disabled-bg-color);\n",
              "    fill: var(--disabled-fill-color);\n",
              "    box-shadow: none;\n",
              "  }\n",
              "\n",
              "  .colab-df-spinner {\n",
              "    border: 2px solid var(--fill-color);\n",
              "    border-color: transparent;\n",
              "    border-bottom-color: var(--fill-color);\n",
              "    animation:\n",
              "      spin 1s steps(1) infinite;\n",
              "  }\n",
              "\n",
              "  @keyframes spin {\n",
              "    0% {\n",
              "      border-color: transparent;\n",
              "      border-bottom-color: var(--fill-color);\n",
              "      border-left-color: var(--fill-color);\n",
              "    }\n",
              "    20% {\n",
              "      border-color: transparent;\n",
              "      border-left-color: var(--fill-color);\n",
              "      border-top-color: var(--fill-color);\n",
              "    }\n",
              "    30% {\n",
              "      border-color: transparent;\n",
              "      border-left-color: var(--fill-color);\n",
              "      border-top-color: var(--fill-color);\n",
              "      border-right-color: var(--fill-color);\n",
              "    }\n",
              "    40% {\n",
              "      border-color: transparent;\n",
              "      border-right-color: var(--fill-color);\n",
              "      border-top-color: var(--fill-color);\n",
              "    }\n",
              "    60% {\n",
              "      border-color: transparent;\n",
              "      border-right-color: var(--fill-color);\n",
              "    }\n",
              "    80% {\n",
              "      border-color: transparent;\n",
              "      border-right-color: var(--fill-color);\n",
              "      border-bottom-color: var(--fill-color);\n",
              "    }\n",
              "    90% {\n",
              "      border-color: transparent;\n",
              "      border-bottom-color: var(--fill-color);\n",
              "    }\n",
              "  }\n",
              "</style>\n",
              "\n",
              "  <script>\n",
              "    async function quickchart(key) {\n",
              "      const quickchartButtonEl =\n",
              "        document.querySelector('#' + key + ' button');\n",
              "      quickchartButtonEl.disabled = true;  // To prevent multiple clicks.\n",
              "      quickchartButtonEl.classList.add('colab-df-spinner');\n",
              "      try {\n",
              "        const charts = await google.colab.kernel.invokeFunction(\n",
              "            'suggestCharts', [key], {});\n",
              "      } catch (error) {\n",
              "        console.error('Error during call to suggestCharts:', error);\n",
              "      }\n",
              "      quickchartButtonEl.classList.remove('colab-df-spinner');\n",
              "      quickchartButtonEl.classList.add('colab-df-quickchart-complete');\n",
              "    }\n",
              "    (() => {\n",
              "      let quickchartButtonEl =\n",
              "        document.querySelector('#df-43e9d3f7-7b6b-44ae-9cbf-402730f1d96c button');\n",
              "      quickchartButtonEl.style.display =\n",
              "        google.colab.kernel.accessAllowed ? 'block' : 'none';\n",
              "    })();\n",
              "  </script>\n",
              "</div>\n",
              "    </div>\n",
              "  </div>\n"
            ]
          },
          "metadata": {},
          "execution_count": 47
        }
      ]
    },
    {
      "cell_type": "code",
      "source": [
        "# import torch\n",
        "# tensors = torch.tensor(df_train.values)"
      ],
      "metadata": {
        "id": "eyvukVMdrhJt"
      },
      "execution_count": 48,
      "outputs": []
    },
    {
      "cell_type": "code",
      "source": [
        "# model = Word2Vec(review_text_lists,vector_size=100, window=5, min_count=1, sg=0)"
      ],
      "metadata": {
        "id": "0r1N_2gX-u84"
      },
      "execution_count": 49,
      "outputs": []
    },
    {
      "cell_type": "code",
      "source": [
        "# model.train(review_text_lists,total_examples=model.corpus_count,epochs=model.epochs)"
      ],
      "metadata": {
        "id": "jV9lH9waDFlx"
      },
      "execution_count": 50,
      "outputs": []
    },
    {
      "cell_type": "code",
      "source": [
        "# import numpy as np\n",
        "\n",
        "# # Tokenize the text in the 'text' column and store it in a new column 'tokens'\n",
        "# df_train['tokens'] = df_train['Text'].apply(lambda x: x.split())  # Assuming your text is space-separated\n"
      ],
      "metadata": {
        "id": "uaeYDHwM_PXO"
      },
      "execution_count": 51,
      "outputs": []
    },
    {
      "cell_type": "code",
      "source": [
        "# Function to get word embeddings for a list of tokens\n",
        "# def get_word_embeddings(tokens):\n",
        "#     embeddings = []\n",
        "#     for token in tokens:\n",
        "#         if token in  model.wv:\n",
        "#             embeddings.append(model.wv[token])\n",
        "#         # If the token is not in the Word2Vec model, you can handle it as needed\n",
        "#         # For example, you can skip it or use an \"unknown\" token embedding\n",
        "#     return embeddings"
      ],
      "metadata": {
        "id": "jQjIqKSJCR12"
      },
      "execution_count": 52,
      "outputs": []
    },
    {
      "cell_type": "code",
      "source": [
        "\n"
      ],
      "metadata": {
        "id": "gnfS-gnzDOtE"
      },
      "execution_count": 52,
      "outputs": []
    },
    {
      "cell_type": "code",
      "source": [
        "# df_train['embeddings'] = df_train['tokens'].apply(get_word_embeddings)"
      ],
      "metadata": {
        "id": "oaEHleXFDUEm"
      },
      "execution_count": 53,
      "outputs": []
    },
    {
      "cell_type": "code",
      "source": [
        "# df_train.head()"
      ],
      "metadata": {
        "id": "mPa1ua-hEfJ6"
      },
      "execution_count": 54,
      "outputs": []
    },
    {
      "cell_type": "code",
      "source": [
        "# X_train_embeddings = np.array(df_train['embeddings'])  # This contains your word embeddings\n",
        "# y_train_task1 = np.array(df_train['Sarcasm'])\n",
        "# y_train_task2 = np.array(df_train['Stress'])"
      ],
      "metadata": {
        "id": "YxUIvwFeFqGb"
      },
      "execution_count": 55,
      "outputs": []
    },
    {
      "cell_type": "code",
      "source": [
        "# y_train_task1.shape"
      ],
      "metadata": {
        "id": "9UHrBLbxwFDw"
      },
      "execution_count": 56,
      "outputs": []
    },
    {
      "cell_type": "code",
      "source": [
        "# from sklearn.model_selection import train_test_split\n",
        "# X_train_embeddings, X_val_embeddings, y_train_task1, y_val_task1, y_train_task2, y_val_task2 = train_test_split(\n",
        "#     X_train_embeddings, y_train_task1, y_train_task2, test_size=0.2, random_state=42)"
      ],
      "metadata": {
        "id": "qFYcCMByGkpi"
      },
      "execution_count": 57,
      "outputs": []
    },
    {
      "cell_type": "code",
      "source": [
        "# from tensorflow.keras.preprocessing.sequence import pad_sequences\n",
        "\n",
        "# Padding or truncating to match the input shape\n",
        "# X_train_embeddings = pad_sequences(X_train_embeddings, maxlen=100, dtype='float32', padding='post', truncating='post')\n",
        "# X_val_embeddings = pad_sequences(X_val_embeddings, maxlen=100, dtype='float32', padding='post', truncating='post')\n"
      ],
      "metadata": {
        "id": "zpZvGmI9G8Fx"
      },
      "execution_count": 58,
      "outputs": []
    },
    {
      "cell_type": "code",
      "source": [],
      "metadata": {
        "id": "mTjQE03eHgeZ"
      },
      "execution_count": 58,
      "outputs": []
    },
    {
      "cell_type": "code",
      "source": [
        "# y_train_task1"
      ],
      "metadata": {
        "id": "bu7emI5OGXdn"
      },
      "execution_count": 59,
      "outputs": []
    },
    {
      "cell_type": "code",
      "source": [
        "# y_val_task1.shape"
      ],
      "metadata": {
        "id": "pBNvNhyBgyrT"
      },
      "execution_count": 60,
      "outputs": []
    },
    {
      "cell_type": "code",
      "source": [
        " # Train the model for Task 1\n",
        "#history_task1 = model.fit(X_train_embeddings, [y_train_task1, y_train_task2], validation_data=(X_val_embeddings, [y_val_task1, y_val_task2]), epochs=1, batch_size=32)\n",
        "\n",
        "# Replace 'epochs' and 'batch_size' with your desired values\n"
      ],
      "metadata": {
        "id": "LxwaDegwFgvE"
      },
      "execution_count": 61,
      "outputs": []
    },
    {
      "cell_type": "code",
      "source": [
        "# y_train_task1.shape"
      ],
      "metadata": {
        "id": "obH0kbmRXVbO"
      },
      "execution_count": 62,
      "outputs": []
    },
    {
      "cell_type": "code",
      "source": [
        "# y_train_task2.shape"
      ],
      "metadata": {
        "id": "g6QH3OKdXbjW"
      },
      "execution_count": 63,
      "outputs": []
    },
    {
      "cell_type": "code",
      "source": [
        "# X_train_embeddings.shape"
      ],
      "metadata": {
        "id": "yWpcPFPhKP1z"
      },
      "execution_count": 64,
      "outputs": []
    },
    {
      "cell_type": "code",
      "source": [
        "# # Convolutional Layer\n",
        "# input_shape = (100, 100)  # You should set these values\n",
        "\n",
        "# # Input layer\n",
        "# input_layer = Input(shape=input_shape)\n",
        "\n",
        "# conv_layer1 = Conv1D(128, 5, activation='relu')(input_layer)\n",
        "# conv_layer1 = GlobalMaxPooling1D()(conv_layer1)\n",
        "# output= Dense(1, activation='softmax')(conv_layer1)\n",
        "# # Create the model\n",
        "# model = Model(inputs=input_layer, outputs=[output])\n",
        "\n",
        "# # Compile the model (you can use different loss functions and metrics as needed)\n",
        "# model.compile(optimizer='adam', loss='categorical_crossentropy', metrics=['accuracy'])\n",
        "\n",
        "# # Print the model summary\n",
        "# model.summary()"
      ],
      "metadata": {
        "id": "ertSPR7nKQl5"
      },
      "execution_count": 65,
      "outputs": []
    },
    {
      "cell_type": "code",
      "source": [
        "#history_task1 = model.fit(X_train_embeddings, [y_train_task1], validation_data=(X_val_embeddings, [y_val_task1]), epochs=1, batch_size=32)\n"
      ],
      "metadata": {
        "id": "CnSYqEIkUSoe"
      },
      "execution_count": 66,
      "outputs": []
    },
    {
      "cell_type": "code",
      "source": [
        "import gensim"
      ],
      "metadata": {
        "id": "n6iSZWK8j1DT"
      },
      "execution_count": 67,
      "outputs": []
    },
    {
      "cell_type": "code",
      "source": [
        "!wget nlp.stanford.edu/data/glove.6B.zip"
      ],
      "metadata": {
        "id": "TPbir_iNj2Pk",
        "colab": {
          "base_uri": "https://localhost:8080/"
        },
        "outputId": "02faa1aa-bf13-454d-b9c7-a1974bb5d6e4"
      },
      "execution_count": 68,
      "outputs": [
        {
          "output_type": "stream",
          "name": "stdout",
          "text": [
            "--2023-10-04 13:38:42--  http://nlp.stanford.edu/data/glove.6B.zip\n",
            "Resolving nlp.stanford.edu (nlp.stanford.edu)... 171.64.67.140\n",
            "Connecting to nlp.stanford.edu (nlp.stanford.edu)|171.64.67.140|:80... connected.\n",
            "HTTP request sent, awaiting response... 302 Found\n",
            "Location: https://nlp.stanford.edu/data/glove.6B.zip [following]\n",
            "--2023-10-04 13:38:42--  https://nlp.stanford.edu/data/glove.6B.zip\n",
            "Connecting to nlp.stanford.edu (nlp.stanford.edu)|171.64.67.140|:443... connected.\n",
            "HTTP request sent, awaiting response... 301 Moved Permanently\n",
            "Location: https://downloads.cs.stanford.edu/nlp/data/glove.6B.zip [following]\n",
            "--2023-10-04 13:38:42--  https://downloads.cs.stanford.edu/nlp/data/glove.6B.zip\n",
            "Resolving downloads.cs.stanford.edu (downloads.cs.stanford.edu)... 171.64.64.22\n",
            "Connecting to downloads.cs.stanford.edu (downloads.cs.stanford.edu)|171.64.64.22|:443... connected.\n",
            "HTTP request sent, awaiting response... 200 OK\n",
            "Length: 862182613 (822M) [application/zip]\n",
            "Saving to: ‘glove.6B.zip’\n",
            "\n",
            "glove.6B.zip        100%[===================>] 822.24M  5.02MB/s    in 2m 39s  \n",
            "\n",
            "2023-10-04 13:41:21 (5.18 MB/s) - ‘glove.6B.zip’ saved [862182613/862182613]\n",
            "\n"
          ]
        }
      ]
    },
    {
      "cell_type": "code",
      "source": [
        "!unzip glove*.zip"
      ],
      "metadata": {
        "id": "JzdXlzPCkOCM",
        "colab": {
          "base_uri": "https://localhost:8080/"
        },
        "outputId": "3095c9c6-3cfc-4a69-8f38-6cb0a7a66401"
      },
      "execution_count": 69,
      "outputs": [
        {
          "output_type": "stream",
          "name": "stdout",
          "text": [
            "Archive:  glove.6B.zip\n",
            "  inflating: glove.6B.50d.txt        \n",
            "  inflating: glove.6B.100d.txt       \n",
            "  inflating: glove.6B.200d.txt       \n",
            "  inflating: glove.6B.300d.txt       \n"
          ]
        }
      ]
    },
    {
      "cell_type": "code",
      "source": [
        "from gensim.scripts.glove2word2vec import glove2word2vec"
      ],
      "metadata": {
        "id": "ILsUkGwCkOpk"
      },
      "execution_count": 70,
      "outputs": []
    },
    {
      "cell_type": "code",
      "source": [
        "glove_input_file = \"glove.6B.100d.txt\""
      ],
      "metadata": {
        "id": "--a3a-HdkZAM"
      },
      "execution_count": 71,
      "outputs": []
    },
    {
      "cell_type": "code",
      "source": [
        "glove_output_file = \"word2vec.txt\""
      ],
      "metadata": {
        "id": "lLaA2-yjkaDS"
      },
      "execution_count": 72,
      "outputs": []
    },
    {
      "cell_type": "code",
      "source": [
        "glove2word2vec(glove_input_file,glove_output_file)"
      ],
      "metadata": {
        "id": "OukTny12kewC",
        "colab": {
          "base_uri": "https://localhost:8080/"
        },
        "outputId": "ecea5791-5b80-46f3-ce91-4e2627ae5523"
      },
      "execution_count": 73,
      "outputs": [
        {
          "output_type": "stream",
          "name": "stderr",
          "text": [
            "<ipython-input-73-13f14740c424>:1: DeprecationWarning: Call to deprecated `glove2word2vec` (KeyedVectors.load_word2vec_format(.., binary=False, no_header=True) loads GLoVE text vectors.).\n",
            "  glove2word2vec(glove_input_file,glove_output_file)\n"
          ]
        },
        {
          "output_type": "execute_result",
          "data": {
            "text/plain": [
              "(400000, 100)"
            ]
          },
          "metadata": {},
          "execution_count": 73
        }
      ]
    },
    {
      "cell_type": "code",
      "source": [
        "min(len(seq) for seq in x)"
      ],
      "metadata": {
        "colab": {
          "base_uri": "https://localhost:8080/"
        },
        "id": "XkLhPfkzGHlG",
        "outputId": "01c57d94-5e10-4a8d-8ea8-bce28c423d9f"
      },
      "execution_count": 74,
      "outputs": [
        {
          "output_type": "execute_result",
          "data": {
            "text/plain": [
              "2"
            ]
          },
          "metadata": {},
          "execution_count": 74
        }
      ]
    },
    {
      "cell_type": "code",
      "source": [
        "max(len(seq) for seq in x)"
      ],
      "metadata": {
        "colab": {
          "base_uri": "https://localhost:8080/"
        },
        "id": "HY6qEcWUOELb",
        "outputId": "5ca3cedb-fc7a-4285-fba6-7fee3551666f"
      },
      "execution_count": 75,
      "outputs": [
        {
          "output_type": "execute_result",
          "data": {
            "text/plain": [
              "33"
            ]
          },
          "metadata": {},
          "execution_count": 75
        }
      ]
    },
    {
      "cell_type": "code",
      "source": [
        "maxlen = 25\n",
        "from keras.utils import pad_sequences\n",
        "lines_paded = pad_sequences(x,maxlen=25,padding='post')"
      ],
      "metadata": {
        "id": "Rvegt1mDONA5"
      },
      "execution_count": 76,
      "outputs": []
    },
    {
      "cell_type": "code",
      "source": [
        "lines_paded.shape"
      ],
      "metadata": {
        "colab": {
          "base_uri": "https://localhost:8080/"
        },
        "id": "fjVQQM7TPil1",
        "outputId": "0a1dd097-a0bb-4333-d0f8-34b170ecd791"
      },
      "execution_count": 77,
      "outputs": [
        {
          "output_type": "execute_result",
          "data": {
            "text/plain": [
              "(23821, 25)"
            ]
          },
          "metadata": {},
          "execution_count": 77
        }
      ]
    },
    {
      "cell_type": "code",
      "source": [
        "y1 = np.array(df_train['Sarcasm'])\n",
        "y2 = np.array(df_train['Stress'])"
      ],
      "metadata": {
        "id": "yRml6EguwSTK"
      },
      "execution_count": 78,
      "outputs": []
    },
    {
      "cell_type": "code",
      "source": [
        "y1.shape"
      ],
      "metadata": {
        "id": "OXs9oH0IwVCS",
        "colab": {
          "base_uri": "https://localhost:8080/"
        },
        "outputId": "0de94815-692d-4f14-bc67-c6f21827b49a"
      },
      "execution_count": 79,
      "outputs": [
        {
          "output_type": "execute_result",
          "data": {
            "text/plain": [
              "(23821,)"
            ]
          },
          "metadata": {},
          "execution_count": 79
        }
      ]
    },
    {
      "cell_type": "code",
      "source": [
        "from sklearn.model_selection import train_test_split\n",
        "X_train, X_val, y_train_task1, y_val_task1, y_train_task2, y_val_task2 = train_test_split(\n",
        "    lines_paded, y1, y2, test_size=0.2, random_state=42)"
      ],
      "metadata": {
        "id": "De-IWl0Er--l"
      },
      "execution_count": 80,
      "outputs": []
    },
    {
      "cell_type": "code",
      "source": [
        "X_train.shape"
      ],
      "metadata": {
        "id": "ISIjudrhw9S-",
        "colab": {
          "base_uri": "https://localhost:8080/"
        },
        "outputId": "b6752627-c84f-48c3-a010-386e671ed9b3"
      },
      "execution_count": 81,
      "outputs": [
        {
          "output_type": "execute_result",
          "data": {
            "text/plain": [
              "(19056, 25)"
            ]
          },
          "metadata": {},
          "execution_count": 81
        }
      ]
    },
    {
      "cell_type": "code",
      "source": [
        "# X_train = np.array(X_train)\n",
        "# X_val = np.array(X_val)\n",
        "# y_train_task1= np.array(y_val_task1)\n",
        "# y_val_task1= np.array(y_val_task1)\n",
        "# y_train_task2= np.array(y_val_task2)\n",
        "# y_val_task2= np.array(y_val_task2)"
      ],
      "metadata": {
        "id": "5xC0pf_c2l0_"
      },
      "execution_count": 82,
      "outputs": []
    },
    {
      "cell_type": "code",
      "source": [
        "x = np.array([np.array(val) for val in x])"
      ],
      "metadata": {
        "id": "dU_6ksrsUrch",
        "colab": {
          "base_uri": "https://localhost:8080/"
        },
        "outputId": "b6ebd147-700f-4c40-bb28-7459ae5def1f"
      },
      "execution_count": 83,
      "outputs": [
        {
          "output_type": "stream",
          "name": "stderr",
          "text": [
            "<ipython-input-83-af034c98de1d>:1: VisibleDeprecationWarning: Creating an ndarray from ragged nested sequences (which is a list-or-tuple of lists-or-tuples-or ndarrays with different lengths or shapes) is deprecated. If you meant to do this, you must specify 'dtype=object' when creating the ndarray.\n",
            "  x = np.array([np.array(val) for val in x])\n"
          ]
        }
      ]
    },
    {
      "cell_type": "code",
      "source": [
        "# import tensorflow as tf\n",
        "\n",
        "# x = tf.cast(x , dtype=tf.float32)\n",
        "# y1 = tf.cast(y1 , dtype=tf.float32)\n",
        "# y2 = tf.cast(y2 , dtype=tf.float32)"
      ],
      "metadata": {
        "id": "rvT93l8WVxgM"
      },
      "execution_count": 84,
      "outputs": []
    },
    {
      "cell_type": "code",
      "source": [
        "# tensor_data = tf.convert_to_tensor(df_array, dtype=tf.float32)"
      ],
      "metadata": {
        "id": "Sksw0XPknNMM"
      },
      "execution_count": 85,
      "outputs": []
    },
    {
      "cell_type": "code",
      "source": [
        "# tensor_x = tf.convert_to_tensor(x, dtype=tf.float32)"
      ],
      "metadata": {
        "id": "H-iEg7atmaaz"
      },
      "execution_count": 86,
      "outputs": []
    },
    {
      "cell_type": "code",
      "source": [
        "# import torch\n",
        "# tensors = torch.tensor(df_train.values)"
      ],
      "metadata": {
        "id": "szZYoRU5q3zt"
      },
      "execution_count": 87,
      "outputs": []
    },
    {
      "cell_type": "markdown",
      "source": [
        "##Load Glove Model"
      ],
      "metadata": {
        "id": "TymS0ktDQ2ao"
      }
    },
    {
      "cell_type": "code",
      "source": [
        "print(f\"x_train shape {X_train.shape}\")\n",
        "print(f\"x_val shape {X_val.shape}\")\n",
        "print(f\"y_train_task1 shape {y_train_task1.shape}\")\n",
        "print(f\"y_train_task2 shape {y_train_task2.shape}\")\n",
        "print(f\"y_val_task1 shape {y_val_task1.shape}\")\n",
        "print(f\"y_val_task2 shape {y_val_task2.shape}\")"
      ],
      "metadata": {
        "colab": {
          "base_uri": "https://localhost:8080/"
        },
        "id": "oXMB3htgRH9n",
        "outputId": "962e4c71-bac0-4ff7-f8c9-2b2ed8db29ca"
      },
      "execution_count": 88,
      "outputs": [
        {
          "output_type": "stream",
          "name": "stdout",
          "text": [
            "x_train shape (19056, 25)\n",
            "x_val shape (4765, 25)\n",
            "y_train_task1 shape (19056,)\n",
            "y_train_task2 shape (19056,)\n",
            "y_val_task1 shape (4765,)\n",
            "y_val_task2 shape (4765,)\n"
          ]
        }
      ]
    },
    {
      "cell_type": "code",
      "source": [
        "import numpy as np\n",
        "from keras.preprocessing.text import Tokenizer\n",
        "from keras.preprocessing.sequence import pad_sequences\n",
        "from keras.models import Sequential\n",
        "from keras.layers import Embedding, LSTM, Dense\n",
        "from gensim.models import KeyedVectors\n",
        "\n",
        "# Assume you have preprocessed data and obtained tokenized_text and labels\n",
        "\n",
        "# Step 1: Preprocess Data\n",
        "\n",
        "# Assuming you have tokenized text and labels\n",
        "\n",
        "# Step 2: Train GloVe Model\n",
        "# Replace 'path/to/your/glove_file.txt' with the actual path to the GloVe embeddings file\n",
        "glove_model = KeyedVectors.load_word2vec_format(glove_output_file, binary=False)\n",
        "\n",
        "# Step 3: Prepare Embedding Matrix\n",
        "\n",
        "# Assuming you have a vocabulary from your preprocessed data\n",
        "vocab_size = len(vocabulary) + 1  # Add 1 for unknown words\n",
        "\n",
        "embedding_dim = 100  # Adjust the embedding dimension based on your GloVe model\n",
        "max_length = 25\n",
        "embedding_matrix = np.zeros((vocab_size, embedding_dim))\n",
        "\n",
        "for word, i in vocabulary.items():\n",
        "    if word in glove_model:\n",
        "        embedding_matrix[i] = glove_model[word]\n",
        "\n",
        "# Step 4: Define LSTM-based Model\n",
        "\n",
        "# Assuming you have the number of classes for both 'sarcasm' and 'stress'\n",
        "\n",
        "\n",
        "# Now, you can train this model using your preprocessed data and labels\n",
        "# Assuming X_train, X_test, y_sarcasm_train, y_stress_train, y_sarcasm_test, y_stress_test are your training and testing data\n",
        "# Train the model\n",
        "\n"
      ],
      "metadata": {
        "id": "8PC4XB1tVOXx"
      },
      "execution_count": 89,
      "outputs": []
    },
    {
      "cell_type": "code",
      "source": [
        "# num_classes_sarcasm = 1  # Adjust based on your dataset\n",
        "# num_classes_stress = 1  # Adjust based on your dataset\n",
        "\n",
        "# # Define the LSTM-based model\n",
        "# model = Sequential()\n",
        "# #embedding_layer = Embedding(vocab_size,)\n",
        "# model.add(Embedding(vocab_size, embedding_dim, weights=[embedding_matrix],input_length=max_length, trainable=False))\n",
        "# model.add(LSTM(128))  # Adjust LSTM units as needed\n",
        "# model.add(Dense(num_classes_sarcasm, activation='softmax', name='sarcasm_output'))\n",
        "# #Dense(num_classes_stress, activation='softmax', name='stress_output'))\n",
        "\n",
        "# # Compile the model\n",
        "# model.compile(loss='binary_crossentropy',\n",
        "#               optimizer='adam',\n",
        "#               metrics=['accuracy'])\n",
        "\n",
        "# # Print model summary\n",
        "# print(model.summary())"
      ],
      "metadata": {
        "id": "fHt2KWXzZfYz"
      },
      "execution_count": 90,
      "outputs": []
    },
    {
      "cell_type": "code",
      "source": [
        "from keras.utils import plot_model"
      ],
      "metadata": {
        "id": "LyKMECb4X0oR"
      },
      "execution_count": 91,
      "outputs": []
    },
    {
      "cell_type": "code",
      "source": [
        "# plot_model(model)"
      ],
      "metadata": {
        "id": "GgiGhBiPYO8h"
      },
      "execution_count": 92,
      "outputs": []
    },
    {
      "cell_type": "code",
      "source": [
        "# model.fit(X_train, y_train_task1,\n",
        "#           validation_data=(X_val, y_val_task1),\n",
        "#           epochs=100, batch_size=32)"
      ],
      "metadata": {
        "id": "AMQbRUr80JwX"
      },
      "execution_count": 93,
      "outputs": []
    },
    {
      "cell_type": "code",
      "source": [
        "from tensorflow.python.framework.tensor import DenseSpec\n",
        "from keras.layers import Input, Embedding, LSTM,Conv2D, Conv1D, GlobalMaxPooling1D, Dense, Activation, Attention, concatenate, Reshape, RepeatVector\n",
        "from keras.models import Model\n",
        "\n",
        "# # Define the input shape (sequence length and embedding dimension)\n",
        "# input_shape = (25,)  # You should set these\n",
        "# embedding_dim = 100\n",
        "# sequence_len = 25\n",
        "# input_layer = Input(shape=input_shape)\n",
        "# # Input layer\n",
        "# #input_layer = Embedding(vocab_size, embedding_dim, weights=[embedding_matrix],input_length=max_length, trainable=False)(input_shape)\n",
        "# #embedding_layer = Embedding(input_dim=vocab_size, output_dim=embedding_dim, input_length=input_shape[0])(input_layer)\n",
        "# embedding_layer = Embedding(input_dim=vocab_size,\n",
        "#                             output_dim=embedding_dim,\n",
        "#                             weights=[embedding_matrix],\n",
        "#                             trainable=False)(input_layer)\n",
        "# reshape = Reshape((sequence_len,1,embedding_dim))(embedding_layer)\n",
        "\n",
        "# # Task 1:  stress\n",
        "# # LSTM1 Layer\n",
        "# #lstm_layer1 = LSTM(64, return_sequences=True)(embedding_layer)\n",
        "# # attention_layer1 = Attention()([lstm_layer1, lstm_layer1])\n",
        "# # attended_lstm1 = concatenate([lstm_layer1, attention_layer1], axis=-1)\n",
        "\n",
        "# # Convolutional Layer\n",
        "# conv_layer1 = Conv1D(64, 5, activation='relu')(embedding_layer)\n",
        "# conv_layer1 = GlobalMaxPooling1D()(conv_layer1)\n",
        "\n",
        "\n",
        "# # Repeat the Convolutional Layer output to match LSTM sequence length\n",
        "# conv_layer_repeated = RepeatVector(25)(conv_layer1)\n",
        "\n",
        "# # Concatenate LSTM1 with the Convolutional Layer for Task 1\n",
        "# #concatenated_output1 = concatenate([lstm_layer1, conv_layer_repeated], axis=-1)\n",
        "\n",
        "# # Softmax Layer for Task 1\n",
        "# output_task1 = Dense(1, activation='sigmoid')(conv_layer1)  # Replace num_classes_task1 with the number of classes for sentiment analysis\n",
        "\n",
        "# # # Task 2: Sarcasm Detection\n",
        "# # # LSTM2 Layer\n",
        "# # lstm_layer2 = LSTM(64, return_sequences=True)(embedding_layer)\n",
        "# # attention_layer2 = Attention()([lstm_layer2, lstm_layer2])\n",
        "# # attended_lstm2 = concatenate([lstm_layer2, attention_layer2], axis=-1)\n",
        "\n",
        "# # # Concatenate LSTM2 with the Convolutional Layer for Task 2\n",
        "# # concatenated_output2 = concatenate([attended_lstm2, conv_layer_repeated], axis=-1)\n",
        "\n",
        "# # # Softmax Layer for Task 2\n",
        "# output_task2 = Dense( 1, activation='sigmoid')(conv_layer1)  # Replace num_classes_task2 with the number of classes for sarcasm detection\n",
        "\n",
        "\n",
        "# # Create the model\n",
        "# model = Model(inputs=input_layer, outputs=[output_task1,output_task2])\n",
        "\n",
        "# # Create the model\n",
        "# #model = Model(inputs=input_layer, outputs=[output_task1, output_task2])\n",
        "\n",
        "# # Compile the model (you can use different loss functions and metrics as needed)\n",
        "# model.compile(optimizer='adam', loss='binary_crossentropy', metrics=['accuracy'])\n",
        "\n",
        "# # Print the model summary\n",
        "# model.summary()"
      ],
      "metadata": {
        "id": "l1IqhR8REgOj"
      },
      "execution_count": 94,
      "outputs": []
    },
    {
      "cell_type": "code",
      "source": [
        "#history = model.fit(X_train,[y_train_task1,y_train_task2],validation_data=(X_val,[y_val_task1,y_val_task2]) ,epochs=1,batch_size=32)"
      ],
      "metadata": {
        "id": "_Mq8wIKyFI8T"
      },
      "execution_count": 95,
      "outputs": []
    },
    {
      "cell_type": "code",
      "source": [
        "type(X_train)"
      ],
      "metadata": {
        "colab": {
          "base_uri": "https://localhost:8080/"
        },
        "id": "DeoINCWhzu0k",
        "outputId": "cac333ff-3b36-44c8-d941-492360ceb021"
      },
      "execution_count": 96,
      "outputs": [
        {
          "output_type": "execute_result",
          "data": {
            "text/plain": [
              "numpy.ndarray"
            ]
          },
          "metadata": {},
          "execution_count": 96
        }
      ]
    },
    {
      "cell_type": "code",
      "source": [
        "type(y_train_task1)"
      ],
      "metadata": {
        "colab": {
          "base_uri": "https://localhost:8080/"
        },
        "id": "OioVz108z2Or",
        "outputId": "1d0527ac-0f0f-46ff-9928-0d07969dd77a"
      },
      "execution_count": 97,
      "outputs": [
        {
          "output_type": "execute_result",
          "data": {
            "text/plain": [
              "numpy.ndarray"
            ]
          },
          "metadata": {},
          "execution_count": 97
        }
      ]
    },
    {
      "cell_type": "code",
      "source": [
        "from keras.layers import Bidirectional,GlobalMaxPool1D\n",
        "# dropout=0.1, recurrent_dropout=0.1"
      ],
      "metadata": {
        "id": "HxoWilU3sWo1"
      },
      "execution_count": 98,
      "outputs": []
    },
    {
      "cell_type": "code",
      "source": [
        "inp = Input(shape=(25,))\n",
        "x = Embedding(vocab_size, 100, weights=[embedding_matrix],trainable=False)(inp)\n",
        "x = Bidirectional(LSTM(5, return_sequences=True))(x)\n",
        "x = GlobalMaxPool1D()(x)\n",
        "# x = Dense(50, activation=\"relu\")(x)\n",
        "# x = Dropout(0.1)(x)\n",
        "x = Dense(1, activation=\"sigmoid\")(x)\n",
        "model = Model(inputs=inp, outputs=x)\n",
        "model.compile(loss='binary_crossentropy', optimizer='adam', metrics=['accuracy'])"
      ],
      "metadata": {
        "id": "Epu3mCvY9hoB"
      },
      "execution_count": 133,
      "outputs": []
    },
    {
      "cell_type": "code",
      "source": [
        "model.fit(X_train,y_train_task1,validation_data=(X_val,y_val_task1),epochs=1,batch_size=32)"
      ],
      "metadata": {
        "id": "asrsJ_wt-A7N",
        "colab": {
          "base_uri": "https://localhost:8080/"
        },
        "outputId": "1ed262d9-46a4-4a67-df48-e019252b8d1f"
      },
      "execution_count": 134,
      "outputs": [
        {
          "output_type": "stream",
          "name": "stdout",
          "text": [
            "596/596 [==============================] - 11s 11ms/step - loss: 0.2553 - accuracy: 0.9310 - val_loss: 0.2078 - val_accuracy: 0.9385\n"
          ]
        },
        {
          "output_type": "execute_result",
          "data": {
            "text/plain": [
              "<keras.src.callbacks.History at 0x7aebfb992f80>"
            ]
          },
          "metadata": {},
          "execution_count": 134
        }
      ]
    },
    {
      "cell_type": "code",
      "source": [
        "y_pred_task1 = model.predict(X_val)"
      ],
      "metadata": {
        "colab": {
          "base_uri": "https://localhost:8080/"
        },
        "id": "3enxggdXgO0W",
        "outputId": "8627a7f9-62b4-4756-e6a9-2620348952bd"
      },
      "execution_count": 135,
      "outputs": [
        {
          "output_type": "stream",
          "name": "stdout",
          "text": [
            "149/149 [==============================] - 1s 4ms/step\n"
          ]
        }
      ]
    },
    {
      "cell_type": "code",
      "source": [
        "y_val_task1"
      ],
      "metadata": {
        "colab": {
          "base_uri": "https://localhost:8080/"
        },
        "id": "IFFfuM5-goWJ",
        "outputId": "27b586d1-fe6a-4a8a-af17-f1f239e3808a"
      },
      "execution_count": 136,
      "outputs": [
        {
          "output_type": "execute_result",
          "data": {
            "text/plain": [
              "array([0, 0, 0, ..., 0, 0, 0])"
            ]
          },
          "metadata": {},
          "execution_count": 136
        }
      ]
    },
    {
      "cell_type": "code",
      "source": [
        "import numpy as np\n",
        "\n",
        "threshold = 0.5  # Adjust this threshold as needed\n",
        "y_pred_binary = np.where(y_pred_task1 >= threshold, 1, 0)\n",
        "print(y_pred_binary)"
      ],
      "metadata": {
        "colab": {
          "base_uri": "https://localhost:8080/"
        },
        "id": "KhSuvHbHgqu_",
        "outputId": "146e1a78-56d5-4ae7-8fdd-0402576d1cb0"
      },
      "execution_count": 137,
      "outputs": [
        {
          "output_type": "stream",
          "name": "stdout",
          "text": [
            "[[0]\n",
            " [0]\n",
            " [0]\n",
            " ...\n",
            " [0]\n",
            " [0]\n",
            " [0]]\n"
          ]
        }
      ]
    },
    {
      "cell_type": "code",
      "source": [
        "from sklearn.metrics import precision_score, recall_score, f1_score\n",
        "f1_score_Sarcasm = f1_score(y_val_task1,y_pred_binary)\n",
        "print(f1_score_Sarcasm)"
      ],
      "metadata": {
        "colab": {
          "base_uri": "https://localhost:8080/"
        },
        "id": "NSm70iHEgWeM",
        "outputId": "8043a40b-f2af-4a77-c334-0235af1a01a4"
      },
      "execution_count": 138,
      "outputs": [
        {
          "output_type": "stream",
          "name": "stdout",
          "text": [
            "0.0\n"
          ]
        }
      ]
    },
    {
      "cell_type": "code",
      "source": [
        "model.fit(X_train,y_train_task2,validation_data=(X_val,y_val_task2),epochs=1,batch_size=32)"
      ],
      "metadata": {
        "colab": {
          "base_uri": "https://localhost:8080/"
        },
        "id": "pEznDdXxiV_N",
        "outputId": "e3746867-2155-472e-feca-9b28c3093a84"
      },
      "execution_count": 105,
      "outputs": [
        {
          "output_type": "stream",
          "name": "stdout",
          "text": [
            "596/596 [==============================] - 6s 9ms/step - loss: 0.4421 - accuracy: 0.7862 - val_loss: 0.2375 - val_accuracy: 0.9238\n"
          ]
        },
        {
          "output_type": "execute_result",
          "data": {
            "text/plain": [
              "<keras.src.callbacks.History at 0x7aec87fa8e20>"
            ]
          },
          "metadata": {},
          "execution_count": 105
        }
      ]
    },
    {
      "cell_type": "markdown",
      "source": [],
      "metadata": {
        "id": "SFhRTrKp5mG0"
      }
    },
    {
      "cell_type": "code",
      "source": [
        "# inp = Input(shape=(25,))\n",
        "# x = Embedding(vocab_size, 100, weights=[embedding_matrix],trainable=False)(inp)\n",
        "# x =  LSTM(50, return_sequences=True )(x)\n",
        "# x = GlobalMaxPool1D()(x)\n",
        "# # x = Dense(50, activation=\"relu\")(x)\n",
        "# # x = Dropout(0.1)(x)\n",
        "# x = Dense(1, activation=\"sigmoid\")(x)\n",
        "# model = Model(inputs=inp, outputs=x)\n",
        "# model.compile(loss='binary_crossentropy', optimizer='adam', metrics=['accuracy'])"
      ],
      "metadata": {
        "id": "MCbpAqt__JHi"
      },
      "execution_count": 106,
      "outputs": []
    },
    {
      "cell_type": "code",
      "source": [
        "#model.fit(X_train,y_train_task1,validation_data=(X_val,y_val_task1),epochs=1,batch_size=32)"
      ],
      "metadata": {
        "id": "H_l9k6_1_OuB"
      },
      "execution_count": 107,
      "outputs": []
    },
    {
      "cell_type": "code",
      "source": [
        "from keras.layers import Bidirectional,GlobalMaxPool1D,Dropout,Flatten,GRU"
      ],
      "metadata": {
        "id": "nYdGlNUt9pcw"
      },
      "execution_count": 108,
      "outputs": []
    },
    {
      "cell_type": "markdown",
      "source": [
        "### The Final Architecture"
      ],
      "metadata": {
        "id": "egmBzyfm_yU7"
      }
    },
    {
      "cell_type": "code",
      "source": [
        "from keras.src.layers import Concatenate\n",
        "sequence_len=25\n",
        "embedding_dim=100\n",
        "input_shape=(sequence_len,)\n",
        "input_layer = Input(shape=input_shape)\n",
        "embedding_layer = Embedding(vocab_size,embedding_dim,weights=[embedding_matrix],trainable=False)(input_layer)\n",
        "# Conv layer + Maxpool layer *3\n",
        "conv_layer=Conv1D(64,5,activation='relu')(embedding_layer)\n",
        "conv_layer = GlobalMaxPool1D()(conv_layer)\n",
        "\n",
        "# Lstm for task1\n",
        "lstm_layer1 = Bidirectional(GRU(64,return_sequences=True))(embedding_layer)\n",
        "attention_layer1 = Attention()([lstm_layer1, lstm_layer1])\n",
        "attended_lstm1 = concatenate([lstm_layer1, attention_layer1], axis=-1)\n",
        "lstm_layer1 = GlobalMaxPool1D()(attended_lstm1)\n",
        "\n",
        "# Lstm for task2\n",
        "lstm_layer2 = Bidirectional(GRU(64,return_sequences=True))(embedding_layer)\n",
        "attention_layer2 = Attention()([lstm_layer2, lstm_layer2])\n",
        "attended_lstm2 = concatenate([lstm_layer2, attention_layer2], axis=-1)\n",
        "lstm_layer2 = GlobalMaxPool1D()(attended_lstm2)\n",
        "#Reshaping\n",
        "conv_layer_reshaped = RepeatVector(sequence_len)(conv_layer)\n",
        "lstm_layer_reshaped1 = RepeatVector(sequence_len)(lstm_layer1)\n",
        "lstm_layer_reshaped2 = RepeatVector(sequence_len)(lstm_layer2)\n",
        "# concatenation\n",
        "concatenated1 = Concatenate(axis=-1)([conv_layer_reshaped,lstm_layer_reshaped1])\n",
        "concatenated2 = Concatenate(axis=-1)([conv_layer_reshaped,lstm_layer_reshaped2])\n",
        "# Flatten the concatenated output to match the shape for binary classification\n",
        "flattened_output1 = Flatten()(concatenated1)\n",
        "flattened_output2 = Flatten()(concatenated2)\n",
        "\n",
        "output1 = Dense(1,activation='sigmoid')(flattened_output1)\n",
        "output2 = Dense(1,activation='sigmoid')(flattened_output2)\n",
        "\n",
        "model = Model(inputs=input_layer, outputs=[output1,output2])\n",
        "model.compile(loss='binary_crossentropy', optimizer='adam', metrics=['accuracy'])\n",
        "model.summary()"
      ],
      "metadata": {
        "colab": {
          "base_uri": "https://localhost:8080/"
        },
        "id": "TqTTeQs0_6X8",
        "outputId": "be7b8871-6b2d-4618-e1d2-e7170a753609"
      },
      "execution_count": 109,
      "outputs": [
        {
          "output_type": "stream",
          "name": "stdout",
          "text": [
            "Model: \"model_1\"\n",
            "__________________________________________________________________________________________________\n",
            " Layer (type)                Output Shape                 Param #   Connected to                  \n",
            "==================================================================================================\n",
            " input_2 (InputLayer)        [(None, 25)]                 0         []                            \n",
            "                                                                                                  \n",
            " embedding_1 (Embedding)     (None, 25, 100)              1090000   ['input_2[0][0]']             \n",
            "                                                                                                  \n",
            " bidirectional_1 (Bidirecti  (None, 25, 128)              63744     ['embedding_1[0][0]']         \n",
            " onal)                                                                                            \n",
            "                                                                                                  \n",
            " bidirectional_2 (Bidirecti  (None, 25, 128)              63744     ['embedding_1[0][0]']         \n",
            " onal)                                                                                            \n",
            "                                                                                                  \n",
            " attention (Attention)       (None, 25, 128)              0         ['bidirectional_1[0][0]',     \n",
            "                                                                     'bidirectional_1[0][0]']     \n",
            "                                                                                                  \n",
            " attention_1 (Attention)     (None, 25, 128)              0         ['bidirectional_2[0][0]',     \n",
            "                                                                     'bidirectional_2[0][0]']     \n",
            "                                                                                                  \n",
            " conv1d (Conv1D)             (None, 21, 64)               32064     ['embedding_1[0][0]']         \n",
            "                                                                                                  \n",
            " concatenate (Concatenate)   (None, 25, 256)              0         ['bidirectional_1[0][0]',     \n",
            "                                                                     'attention[0][0]']           \n",
            "                                                                                                  \n",
            " concatenate_1 (Concatenate  (None, 25, 256)              0         ['bidirectional_2[0][0]',     \n",
            " )                                                                   'attention_1[0][0]']         \n",
            "                                                                                                  \n",
            " global_max_pooling1d_1 (Gl  (None, 64)                   0         ['conv1d[0][0]']              \n",
            " obalMaxPooling1D)                                                                                \n",
            "                                                                                                  \n",
            " global_max_pooling1d_2 (Gl  (None, 256)                  0         ['concatenate[0][0]']         \n",
            " obalMaxPooling1D)                                                                                \n",
            "                                                                                                  \n",
            " global_max_pooling1d_3 (Gl  (None, 256)                  0         ['concatenate_1[0][0]']       \n",
            " obalMaxPooling1D)                                                                                \n",
            "                                                                                                  \n",
            " repeat_vector (RepeatVecto  (None, 25, 64)               0         ['global_max_pooling1d_1[0][0]\n",
            " r)                                                                 ']                            \n",
            "                                                                                                  \n",
            " repeat_vector_1 (RepeatVec  (None, 25, 256)              0         ['global_max_pooling1d_2[0][0]\n",
            " tor)                                                               ']                            \n",
            "                                                                                                  \n",
            " repeat_vector_2 (RepeatVec  (None, 25, 256)              0         ['global_max_pooling1d_3[0][0]\n",
            " tor)                                                               ']                            \n",
            "                                                                                                  \n",
            " concatenate_2 (Concatenate  (None, 25, 320)              0         ['repeat_vector[0][0]',       \n",
            " )                                                                   'repeat_vector_1[0][0]']     \n",
            "                                                                                                  \n",
            " concatenate_3 (Concatenate  (None, 25, 320)              0         ['repeat_vector[0][0]',       \n",
            " )                                                                   'repeat_vector_2[0][0]']     \n",
            "                                                                                                  \n",
            " flatten (Flatten)           (None, 8000)                 0         ['concatenate_2[0][0]']       \n",
            "                                                                                                  \n",
            " flatten_1 (Flatten)         (None, 8000)                 0         ['concatenate_3[0][0]']       \n",
            "                                                                                                  \n",
            " dense_1 (Dense)             (None, 1)                    8001      ['flatten[0][0]']             \n",
            "                                                                                                  \n",
            " dense_2 (Dense)             (None, 1)                    8001      ['flatten_1[0][0]']           \n",
            "                                                                                                  \n",
            "==================================================================================================\n",
            "Total params: 1265554 (4.83 MB)\n",
            "Trainable params: 175554 (685.76 KB)\n",
            "Non-trainable params: 1090000 (4.16 MB)\n",
            "__________________________________________________________________________________________________\n"
          ]
        }
      ]
    },
    {
      "cell_type": "code",
      "source": [
        "model.fit(X_train,[y_train_task1,y_train_task2],validation_data=(X_val,[y_val_task1,y_val_task2]),epochs=1,batch_size=32)"
      ],
      "metadata": {
        "colab": {
          "base_uri": "https://localhost:8080/"
        },
        "id": "ProjGe-wC6P9",
        "outputId": "ce8bfa7d-ef50-42b8-d2c2-172cf44d538c"
      },
      "execution_count": 110,
      "outputs": [
        {
          "output_type": "stream",
          "name": "stdout",
          "text": [
            "596/596 [==============================] - 28s 24ms/step - loss: 0.3256 - dense_1_loss: 0.2099 - dense_2_loss: 0.1157 - dense_1_accuracy: 0.9301 - dense_2_accuracy: 0.9570 - val_loss: 0.2128 - val_dense_1_loss: 0.1507 - val_dense_2_loss: 0.0621 - val_dense_1_accuracy: 0.9373 - val_dense_2_accuracy: 0.9786\n"
          ]
        },
        {
          "output_type": "execute_result",
          "data": {
            "text/plain": [
              "<keras.src.callbacks.History at 0x7aec4b9609d0>"
            ]
          },
          "metadata": {},
          "execution_count": 110
        }
      ]
    },
    {
      "cell_type": "code",
      "source": [
        "plot_model(model)"
      ],
      "metadata": {
        "colab": {
          "base_uri": "https://localhost:8080/",
          "height": 953
        },
        "id": "wFMip7hLTD9L",
        "outputId": "e24d3783-96ac-4bb3-a9e8-2bc8a3f1c7b1"
      },
      "execution_count": 111,
      "outputs": [
        {
          "output_type": "execute_result",
          "data": {
            "image/png": "[encoded data removed]",
            "text/plain": [
              "<IPython.core.display.Image object>"
            ]
          },
          "metadata": {},
          "execution_count": 111
        }
      ]
    },
    {
      "cell_type": "code",
      "source": [
        "from keras.src.layers import Concatenate\n",
        "sequence_len=25\n",
        "embedding_dim=100\n",
        "input_shape=(sequence_len,)\n",
        "input_layer = Input(shape=input_shape)\n",
        "embedding_layer = Embedding(vocab_size,embedding_dim,weights=[embedding_matrix],trainable=False)(input_layer)\n",
        "\n",
        "BiGRU_layer = Bidirectional(GRU(64,return_sequences=True))(embedding_layer)\n",
        "attention_layer = Attention()([BiGRU_layer,BiGRU_layer])\n",
        "concatenated_layer = Concatenate(axis=-1)([attention_layer,BiGRU_layer])\n",
        "gmp_layer = GlobalMaxPool1D()(concatenated_layer)\n",
        "\n",
        "dense_layer1 = Dense(64,activation='relu')(gmp_layer)\n",
        "dense_layer2 = Dense(64,activation='relu')(gmp_layer)\n",
        "\n",
        "output_sarcasm = Dense(1,activation='sigmoid')(dense_layer1)\n",
        "concatenated_for_stress = Concatenate(axis=-1)([dense_layer2,output_sarcasm])\n",
        "output_stress = Dense(1,activation='sigmoid')(concatenated_for_stress)\n",
        "\n",
        "model = Model(inputs=input_layer,outputs=[output_sarcasm,output_stress])\n",
        "model.compile(loss='binary_crossentropy', optimizer='adam', metrics=['accuracy'])\n",
        "model.summary()"
      ],
      "metadata": {
        "id": "m2QCOmegTFzS",
        "colab": {
          "base_uri": "https://localhost:8080/"
        },
        "outputId": "907cc363-01d7-400c-e156-0595ca2da5a8"
      },
      "execution_count": 112,
      "outputs": [
        {
          "output_type": "stream",
          "name": "stdout",
          "text": [
            "Model: \"model_2\"\n",
            "__________________________________________________________________________________________________\n",
            " Layer (type)                Output Shape                 Param #   Connected to                  \n",
            "==================================================================================================\n",
            " input_3 (InputLayer)        [(None, 25)]                 0         []                            \n",
            "                                                                                                  \n",
            " embedding_2 (Embedding)     (None, 25, 100)              1090000   ['input_3[0][0]']             \n",
            "                                                                                                  \n",
            " bidirectional_3 (Bidirecti  (None, 25, 128)              63744     ['embedding_2[0][0]']         \n",
            " onal)                                                                                            \n",
            "                                                                                                  \n",
            " attention_2 (Attention)     (None, 25, 128)              0         ['bidirectional_3[0][0]',     \n",
            "                                                                     'bidirectional_3[0][0]']     \n",
            "                                                                                                  \n",
            " concatenate_4 (Concatenate  (None, 25, 256)              0         ['attention_2[0][0]',         \n",
            " )                                                                   'bidirectional_3[0][0]']     \n",
            "                                                                                                  \n",
            " global_max_pooling1d_4 (Gl  (None, 256)                  0         ['concatenate_4[0][0]']       \n",
            " obalMaxPooling1D)                                                                                \n",
            "                                                                                                  \n",
            " dense_3 (Dense)             (None, 64)                   16448     ['global_max_pooling1d_4[0][0]\n",
            "                                                                    ']                            \n",
            "                                                                                                  \n",
            " dense_5 (Dense)             (None, 1)                    65        ['dense_3[0][0]']             \n",
            "                                                                                                  \n",
            " dense_4 (Dense)             (None, 64)                   16448     ['global_max_pooling1d_4[0][0]\n",
            "                                                                    ']                            \n",
            "                                                                                                  \n",
            " concatenate_5 (Concatenate  (None, 65)                   0         ['dense_4[0][0]',             \n",
            " )                                                                   'dense_5[0][0]']             \n",
            "                                                                                                  \n",
            " dense_6 (Dense)             (None, 1)                    66        ['concatenate_5[0][0]']       \n",
            "                                                                                                  \n",
            "==================================================================================================\n",
            "Total params: 1186771 (4.53 MB)\n",
            "Trainable params: 96771 (378.01 KB)\n",
            "Non-trainable params: 1090000 (4.16 MB)\n",
            "__________________________________________________________________________________________________\n"
          ]
        }
      ]
    },
    {
      "cell_type": "code",
      "source": [
        "history = model.fit(X_train,[y_train_task1,y_train_task2],validation_data=(X_val,[y_val_task1,y_val_task2]),epochs=1,batch_size=32)"
      ],
      "metadata": {
        "colab": {
          "base_uri": "https://localhost:8080/"
        },
        "id": "r1ljrgMVylzZ",
        "outputId": "4853c544-103d-4054-af7c-c621d7a69e11"
      },
      "execution_count": 122,
      "outputs": [
        {
          "output_type": "stream",
          "name": "stdout",
          "text": [
            "596/596 [==============================] - 11s 18ms/step - loss: 0.2188 - dense_5_loss: 0.1690 - dense_6_loss: 0.0499 - dense_5_accuracy: 0.9337 - dense_6_accuracy: 0.9837 - val_loss: 0.1875 - val_dense_5_loss: 0.1516 - val_dense_6_loss: 0.0359 - val_dense_5_accuracy: 0.9402 - val_dense_6_accuracy: 0.9887\n"
          ]
        }
      ]
    },
    {
      "cell_type": "code",
      "source": [
        "print(history.history.keys())"
      ],
      "metadata": {
        "colab": {
          "base_uri": "https://localhost:8080/"
        },
        "id": "DazzSCEt_NnH",
        "outputId": "33d89954-bd76-4a24-b6b7-4e812a6a8d62"
      },
      "execution_count": 123,
      "outputs": [
        {
          "output_type": "stream",
          "name": "stdout",
          "text": [
            "dict_keys(['loss', 'dense_5_loss', 'dense_6_loss', 'dense_5_accuracy', 'dense_6_accuracy', 'val_loss', 'val_dense_5_loss', 'val_dense_6_loss', 'val_dense_5_accuracy', 'val_dense_6_accuracy'])\n"
          ]
        }
      ]
    },
    {
      "cell_type": "code",
      "source": [
        "# Extract validation accuracies for both tasks\n",
        "val_task1_accuracy = history.history['val_dense_5_accuracy']   # Replace with the correct task 1 validation accuracy key\n",
        "val_task2_accuracy = history.history['val_dense_6_accuracy']  # Replace with the correct task 2 validation accuracy key\n",
        "\n",
        "# Print the validation accuracies\n",
        "print('Validation Accuracy - Task 1_Sarcsam:', val_task1_accuracy)\n",
        "print('Validation Accuracy - Task 2_Stress:', val_task2_accuracy)"
      ],
      "metadata": {
        "colab": {
          "base_uri": "https://localhost:8080/"
        },
        "id": "IKHoX4Ai_bu2",
        "outputId": "e2f4742a-5756-453f-bd73-a5ad2779a142"
      },
      "execution_count": 129,
      "outputs": [
        {
          "output_type": "stream",
          "name": "stdout",
          "text": [
            "Validation Accuracy - Task 1_Sarcsam: [0.9401888847351074]\n",
            "Validation Accuracy - Task 2_Stress: [0.988667368888855]\n"
          ]
        }
      ]
    },
    {
      "cell_type": "code",
      "source": [
        "plot_model(model)"
      ],
      "metadata": {
        "colab": {
          "base_uri": "https://localhost:8080/",
          "height": 953
        },
        "id": "xBMDurR2zFw-",
        "outputId": "218a422f-330a-4e7d-b142-773229b9aa23"
      },
      "execution_count": 114,
      "outputs": [
        {
          "output_type": "execute_result",
          "data": {
            "image/png": "[encoded data removed]",
            "text/plain": [
              "<IPython.core.display.Image object>"
            ]
          },
          "metadata": {},
          "execution_count": 114
        }
      ]
    },
    {
      "cell_type": "code",
      "source": [
        "y_pred_task1,y_pred_task2 = model.predict(X_val)"
      ],
      "metadata": {
        "colab": {
          "base_uri": "https://localhost:8080/"
        },
        "id": "erfGCT80zG_o",
        "outputId": "8d2f613b-4918-4d16-eaba-1f968fd22a24"
      },
      "execution_count": 115,
      "outputs": [
        {
          "output_type": "stream",
          "name": "stdout",
          "text": [
            "149/149 [==============================] - 2s 5ms/step\n"
          ]
        }
      ]
    },
    {
      "cell_type": "code",
      "source": [
        "print(y_pred_task1)"
      ],
      "metadata": {
        "colab": {
          "base_uri": "https://localhost:8080/"
        },
        "id": "dbVoaYZ08MTr",
        "outputId": "340b6a38-6145-4fbf-d23e-0a3bf27f8cc3"
      },
      "execution_count": 116,
      "outputs": [
        {
          "output_type": "stream",
          "name": "stdout",
          "text": [
            "[[0.01449621]\n",
            " [0.14769581]\n",
            " [0.02947803]\n",
            " ...\n",
            " [0.01302757]\n",
            " [0.03250751]\n",
            " [0.04644303]]\n"
          ]
        }
      ]
    },
    {
      "cell_type": "code",
      "source": [
        "print(y_pred_task2)"
      ],
      "metadata": {
        "colab": {
          "base_uri": "https://localhost:8080/"
        },
        "id": "ZJufuuxo8PY7",
        "outputId": "19bb0e80-14b3-435f-c8ad-c19f06751c63"
      },
      "execution_count": 117,
      "outputs": [
        {
          "output_type": "stream",
          "name": "stdout",
          "text": [
            "[[0.99967027]\n",
            " [0.9975714 ]\n",
            " [0.1568505 ]\n",
            " ...\n",
            " [0.98473513]\n",
            " [0.99833506]\n",
            " [0.9995067 ]]\n"
          ]
        }
      ]
    },
    {
      "cell_type": "code",
      "source": [
        "threshold=0.5\n",
        "y_pred_binary1 = np.where(y_pred_task1>=threshold ,1,0)\n",
        "print(y_pred_binary1)"
      ],
      "metadata": {
        "colab": {
          "base_uri": "https://localhost:8080/"
        },
        "id": "POeEIseS8XZq",
        "outputId": "fd1bb762-3f1a-4194-8e1b-f696c8d3ec7b"
      },
      "execution_count": 118,
      "outputs": [
        {
          "output_type": "stream",
          "name": "stdout",
          "text": [
            "[[0]\n",
            " [0]\n",
            " [0]\n",
            " ...\n",
            " [0]\n",
            " [0]\n",
            " [0]]\n"
          ]
        }
      ]
    },
    {
      "cell_type": "code",
      "source": [
        "y_pred_binary2 = np.where(y_pred_task2>=threshold ,1,0)\n",
        "print(y_pred_binary2)"
      ],
      "metadata": {
        "colab": {
          "base_uri": "https://localhost:8080/"
        },
        "id": "J_Mriehq9pYx",
        "outputId": "fdc5f7d5-57f2-4441-fefa-7c8f5059a3db"
      },
      "execution_count": 119,
      "outputs": [
        {
          "output_type": "stream",
          "name": "stdout",
          "text": [
            "[[1]\n",
            " [1]\n",
            " [0]\n",
            " ...\n",
            " [1]\n",
            " [1]\n",
            " [1]]\n"
          ]
        }
      ]
    },
    {
      "cell_type": "code",
      "source": [
        "f1_score_Sarcasm = f1_score(y_val_task1,y_pred_binary1)\n",
        "print(f1_score_Sarcasm )"
      ],
      "metadata": {
        "colab": {
          "base_uri": "https://localhost:8080/"
        },
        "id": "nORN5YJB9yGR",
        "outputId": "ace2c329-0f37-480d-ecb0-d01fc976711b"
      },
      "execution_count": 120,
      "outputs": [
        {
          "output_type": "stream",
          "name": "stdout",
          "text": [
            "0.11976047904191618\n"
          ]
        }
      ]
    },
    {
      "cell_type": "code",
      "source": [
        "f1_score_Stress = f1_score(y_val_task1,y_pred_binary2)\n",
        "print(f1_score_Stress )"
      ],
      "metadata": {
        "colab": {
          "base_uri": "https://localhost:8080/"
        },
        "id": "_7FEtvvI-KpK",
        "outputId": "b3f39797-6fdf-4954-d227-f362f3377ed1"
      },
      "execution_count": 121,
      "outputs": [
        {
          "output_type": "stream",
          "name": "stdout",
          "text": [
            "0.11836337067705797\n"
          ]
        }
      ]
    },
    {
      "cell_type": "code",
      "source": [],
      "metadata": {
        "id": "iLk6o3n--RPS"
      },
      "execution_count": null,
      "outputs": []
    }
  ]
}